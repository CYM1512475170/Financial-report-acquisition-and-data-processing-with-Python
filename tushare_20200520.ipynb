{
 "cells": [
  {
   "cell_type": "markdown",
   "metadata": {},
   "source": [
    "沪深股票列表"
   ]
  },
  {
   "cell_type": "code",
   "execution_count": 2,
   "metadata": {},
   "outputs": [],
   "source": [
    "import tushare as ts"
   ]
  },
  {
   "cell_type": "code",
   "execution_count": 3,
   "metadata": {},
   "outputs": [
    {
     "output_type": "execute_result",
     "data": {
      "text/plain": "        name industry area       pe  outstanding  totals  totalAssets  \\\ncode                                                                    \n688365  光云科技     软件服务   浙江   344.04         0.32    4.01         8.59   \n688039  当虹科技     软件服务   浙江  1153.87         0.16    0.80        14.75   \n000732  泰禾集团     区域地产   福建     0.00        24.86   24.89      2234.25   \n300350   华鹏飞     仓储物流   深圳   543.48         3.08    4.77        14.47   \n600662  强生控股     公共交通   上海     0.00        10.53   10.53        67.74   \n...      ...      ...  ...      ...          ...     ...          ...   \n605001  威奥股份     运输设备   山东     0.00         0.00    0.00        29.90   \n603950  长源东谷     汽车配件   湖北     0.00         0.00    0.00        27.19   \n601827  三峰环境     环境保护   重庆     0.00         0.00    0.00       149.98   \n601778  晶科科技     新型电力   江西     0.00         0.00    0.00       296.11   \n600918  中泰证券       证券   山东     0.00         0.00    0.00      1505.07   \n\n        liquidAssets  fixedAssets  reserved  ...   bvps     pb  timeToMarket  \\\ncode                                         ...                               \n688365          7.51         0.05      1.31  ...   2.77  20.86      20200429   \n688039         13.97         0.04     11.30  ...  17.49   5.72      20191211   \n000732       1757.53        35.34     28.20  ...   7.82   0.60      19970704   \n300350         11.07         1.83      7.11  ...   0.94   4.06      20120821   \n600662         27.22        15.98      6.81  ...   2.97   1.54      19930614   \n...              ...          ...       ...  ...    ...    ...           ...   \n605001         19.70         4.58      6.63  ...   0.00   0.00             0   \n603950         11.26        10.86      2.52  ...   0.00   0.00             0   \n601827         37.08         4.93     18.24  ...   0.00   0.00             0   \n601778        102.35       166.20     37.12  ...   0.00   0.00             0   \n600918          0.00         9.27    108.55  ...   0.00   0.00             0   \n\n         undp  perundp    rev  profit    gpr     npr  holders  \ncode                                                           \n688365   2.37     0.59   0.00    0.00  64.61   16.24  23935.0  \n688039   1.70     2.13   0.00    0.00  33.30    5.34   6345.0  \n000732  88.55     3.56 -93.57 -157.99  32.85 -117.60  55558.0  \n300350  -7.84    -1.64 -44.37  -93.87  38.09    0.94  18542.0  \n600662   9.28     0.88 -30.06 -159.74   1.96  -13.80  80013.0  \n...       ...      ...    ...     ...    ...     ...      ...  \n605001   6.49     0.00   6.51   11.35  37.63   14.65      0.0  \n603950   5.85     0.00   8.30   48.10  30.61   23.27      0.0  \n601827  14.71     0.00   0.00    0.00  31.59   12.81      0.0  \n601778  21.07     0.00   0.00    0.00  43.17   14.48      0.0  \n600918  49.11     0.00   0.00    0.00   0.00   24.30      0.0  \n\n[3855 rows x 22 columns]",
      "text/html": "<div>\n<style scoped>\n    .dataframe tbody tr th:only-of-type {\n        vertical-align: middle;\n    }\n\n    .dataframe tbody tr th {\n        vertical-align: top;\n    }\n\n    .dataframe thead th {\n        text-align: right;\n    }\n</style>\n<table border=\"1\" class=\"dataframe\">\n  <thead>\n    <tr style=\"text-align: right;\">\n      <th></th>\n      <th>name</th>\n      <th>industry</th>\n      <th>area</th>\n      <th>pe</th>\n      <th>outstanding</th>\n      <th>totals</th>\n      <th>totalAssets</th>\n      <th>liquidAssets</th>\n      <th>fixedAssets</th>\n      <th>reserved</th>\n      <th>...</th>\n      <th>bvps</th>\n      <th>pb</th>\n      <th>timeToMarket</th>\n      <th>undp</th>\n      <th>perundp</th>\n      <th>rev</th>\n      <th>profit</th>\n      <th>gpr</th>\n      <th>npr</th>\n      <th>holders</th>\n    </tr>\n    <tr>\n      <th>code</th>\n      <th></th>\n      <th></th>\n      <th></th>\n      <th></th>\n      <th></th>\n      <th></th>\n      <th></th>\n      <th></th>\n      <th></th>\n      <th></th>\n      <th></th>\n      <th></th>\n      <th></th>\n      <th></th>\n      <th></th>\n      <th></th>\n      <th></th>\n      <th></th>\n      <th></th>\n      <th></th>\n      <th></th>\n    </tr>\n  </thead>\n  <tbody>\n    <tr>\n      <th>688365</th>\n      <td>光云科技</td>\n      <td>软件服务</td>\n      <td>浙江</td>\n      <td>344.04</td>\n      <td>0.32</td>\n      <td>4.01</td>\n      <td>8.59</td>\n      <td>7.51</td>\n      <td>0.05</td>\n      <td>1.31</td>\n      <td>...</td>\n      <td>2.77</td>\n      <td>20.86</td>\n      <td>20200429</td>\n      <td>2.37</td>\n      <td>0.59</td>\n      <td>0.00</td>\n      <td>0.00</td>\n      <td>64.61</td>\n      <td>16.24</td>\n      <td>23935.0</td>\n    </tr>\n    <tr>\n      <th>688039</th>\n      <td>当虹科技</td>\n      <td>软件服务</td>\n      <td>浙江</td>\n      <td>1153.87</td>\n      <td>0.16</td>\n      <td>0.80</td>\n      <td>14.75</td>\n      <td>13.97</td>\n      <td>0.04</td>\n      <td>11.30</td>\n      <td>...</td>\n      <td>17.49</td>\n      <td>5.72</td>\n      <td>20191211</td>\n      <td>1.70</td>\n      <td>2.13</td>\n      <td>0.00</td>\n      <td>0.00</td>\n      <td>33.30</td>\n      <td>5.34</td>\n      <td>6345.0</td>\n    </tr>\n    <tr>\n      <th>000732</th>\n      <td>泰禾集团</td>\n      <td>区域地产</td>\n      <td>福建</td>\n      <td>0.00</td>\n      <td>24.86</td>\n      <td>24.89</td>\n      <td>2234.25</td>\n      <td>1757.53</td>\n      <td>35.34</td>\n      <td>28.20</td>\n      <td>...</td>\n      <td>7.82</td>\n      <td>0.60</td>\n      <td>19970704</td>\n      <td>88.55</td>\n      <td>3.56</td>\n      <td>-93.57</td>\n      <td>-157.99</td>\n      <td>32.85</td>\n      <td>-117.60</td>\n      <td>55558.0</td>\n    </tr>\n    <tr>\n      <th>300350</th>\n      <td>华鹏飞</td>\n      <td>仓储物流</td>\n      <td>深圳</td>\n      <td>543.48</td>\n      <td>3.08</td>\n      <td>4.77</td>\n      <td>14.47</td>\n      <td>11.07</td>\n      <td>1.83</td>\n      <td>7.11</td>\n      <td>...</td>\n      <td>0.94</td>\n      <td>4.06</td>\n      <td>20120821</td>\n      <td>-7.84</td>\n      <td>-1.64</td>\n      <td>-44.37</td>\n      <td>-93.87</td>\n      <td>38.09</td>\n      <td>0.94</td>\n      <td>18542.0</td>\n    </tr>\n    <tr>\n      <th>600662</th>\n      <td>强生控股</td>\n      <td>公共交通</td>\n      <td>上海</td>\n      <td>0.00</td>\n      <td>10.53</td>\n      <td>10.53</td>\n      <td>67.74</td>\n      <td>27.22</td>\n      <td>15.98</td>\n      <td>6.81</td>\n      <td>...</td>\n      <td>2.97</td>\n      <td>1.54</td>\n      <td>19930614</td>\n      <td>9.28</td>\n      <td>0.88</td>\n      <td>-30.06</td>\n      <td>-159.74</td>\n      <td>1.96</td>\n      <td>-13.80</td>\n      <td>80013.0</td>\n    </tr>\n    <tr>\n      <th>...</th>\n      <td>...</td>\n      <td>...</td>\n      <td>...</td>\n      <td>...</td>\n      <td>...</td>\n      <td>...</td>\n      <td>...</td>\n      <td>...</td>\n      <td>...</td>\n      <td>...</td>\n      <td>...</td>\n      <td>...</td>\n      <td>...</td>\n      <td>...</td>\n      <td>...</td>\n      <td>...</td>\n      <td>...</td>\n      <td>...</td>\n      <td>...</td>\n      <td>...</td>\n      <td>...</td>\n    </tr>\n    <tr>\n      <th>605001</th>\n      <td>威奥股份</td>\n      <td>运输设备</td>\n      <td>山东</td>\n      <td>0.00</td>\n      <td>0.00</td>\n      <td>0.00</td>\n      <td>29.90</td>\n      <td>19.70</td>\n      <td>4.58</td>\n      <td>6.63</td>\n      <td>...</td>\n      <td>0.00</td>\n      <td>0.00</td>\n      <td>0</td>\n      <td>6.49</td>\n      <td>0.00</td>\n      <td>6.51</td>\n      <td>11.35</td>\n      <td>37.63</td>\n      <td>14.65</td>\n      <td>0.0</td>\n    </tr>\n    <tr>\n      <th>603950</th>\n      <td>长源东谷</td>\n      <td>汽车配件</td>\n      <td>湖北</td>\n      <td>0.00</td>\n      <td>0.00</td>\n      <td>0.00</td>\n      <td>27.19</td>\n      <td>11.26</td>\n      <td>10.86</td>\n      <td>2.52</td>\n      <td>...</td>\n      <td>0.00</td>\n      <td>0.00</td>\n      <td>0</td>\n      <td>5.85</td>\n      <td>0.00</td>\n      <td>8.30</td>\n      <td>48.10</td>\n      <td>30.61</td>\n      <td>23.27</td>\n      <td>0.0</td>\n    </tr>\n    <tr>\n      <th>601827</th>\n      <td>三峰环境</td>\n      <td>环境保护</td>\n      <td>重庆</td>\n      <td>0.00</td>\n      <td>0.00</td>\n      <td>0.00</td>\n      <td>149.98</td>\n      <td>37.08</td>\n      <td>4.93</td>\n      <td>18.24</td>\n      <td>...</td>\n      <td>0.00</td>\n      <td>0.00</td>\n      <td>0</td>\n      <td>14.71</td>\n      <td>0.00</td>\n      <td>0.00</td>\n      <td>0.00</td>\n      <td>31.59</td>\n      <td>12.81</td>\n      <td>0.0</td>\n    </tr>\n    <tr>\n      <th>601778</th>\n      <td>晶科科技</td>\n      <td>新型电力</td>\n      <td>江西</td>\n      <td>0.00</td>\n      <td>0.00</td>\n      <td>0.00</td>\n      <td>296.11</td>\n      <td>102.35</td>\n      <td>166.20</td>\n      <td>37.12</td>\n      <td>...</td>\n      <td>0.00</td>\n      <td>0.00</td>\n      <td>0</td>\n      <td>21.07</td>\n      <td>0.00</td>\n      <td>0.00</td>\n      <td>0.00</td>\n      <td>43.17</td>\n      <td>14.48</td>\n      <td>0.0</td>\n    </tr>\n    <tr>\n      <th>600918</th>\n      <td>中泰证券</td>\n      <td>证券</td>\n      <td>山东</td>\n      <td>0.00</td>\n      <td>0.00</td>\n      <td>0.00</td>\n      <td>1505.07</td>\n      <td>0.00</td>\n      <td>9.27</td>\n      <td>108.55</td>\n      <td>...</td>\n      <td>0.00</td>\n      <td>0.00</td>\n      <td>0</td>\n      <td>49.11</td>\n      <td>0.00</td>\n      <td>0.00</td>\n      <td>0.00</td>\n      <td>0.00</td>\n      <td>24.30</td>\n      <td>0.0</td>\n    </tr>\n  </tbody>\n</table>\n<p>3855 rows × 22 columns</p>\n</div>"
     },
     "metadata": {},
     "execution_count": 3
    }
   ],
   "source": [
    "ts.get_stock_basics()\n"
   ]
  },
  {
   "cell_type": "markdown",
   "metadata": {},
   "source": [
    "业绩报告主表"
   ]
  },
  {
   "cell_type": "code",
   "execution_count": 4,
   "metadata": {},
   "outputs": [
    {
     "output_type": "stream",
     "name": "stdout",
     "text": "[Getting data:]################################################################"
    },
    {
     "output_type": "execute_result",
     "data": {
      "text/plain": "        code  name   eps  eps_yoy  bvps    roe  epcf  net_profits  \\\n0     688233  神工股份  0.53      NaN   NaN  24.90   NaN      6267.87   \n1     601696  中银证券  0.27      NaN   NaN   5.66   NaN     66865.20   \n2     300819  聚杰微纤  0.69      NaN   NaN    NaN   NaN      5132.98   \n3     603949  雪龙集团  0.60      NaN   NaN  23.41   NaN      6780.83   \n4     300817  双飞股份   NaN      NaN   NaN    NaN   NaN          NaN   \n...      ...   ...   ...      ...   ...    ...   ...          ...   \n3801  601636  旗滨集团  0.36    14.06   NaN  13.16   NaN     95915.52   \n3802  300694  蠡湖股份  0.50    13.64  4.24  12.63  0.38      8133.29   \n3803  600728  佳都科技  0.07   108.93   NaN   3.48   NaN     11262.05   \n3804  600231  凌钢股份  0.46    15.00  2.72  18.29  0.61    127694.58   \n3805  000697  炼石航空 -0.38    11.06   NaN -15.35   NaN    -21307.29   \n\n      profits_yoy distrib report_date  \n0             NaN     NaN       01-31  \n1             NaN     NaN       01-31  \n2             NaN     NaN       01-31  \n3             NaN     NaN       01-21  \n4             NaN     NaN       01-20  \n...           ...     ...         ...  \n3801        16.27     NaN       10-12  \n3802        13.51     NaN       10-12  \n3803       110.43     NaN       10-11  \n3804        28.21     NaN       10-10  \n3805        11.07     NaN       10-09  \n\n[3806 rows x 11 columns]",
      "text/html": "<div>\n<style scoped>\n    .dataframe tbody tr th:only-of-type {\n        vertical-align: middle;\n    }\n\n    .dataframe tbody tr th {\n        vertical-align: top;\n    }\n\n    .dataframe thead th {\n        text-align: right;\n    }\n</style>\n<table border=\"1\" class=\"dataframe\">\n  <thead>\n    <tr style=\"text-align: right;\">\n      <th></th>\n      <th>code</th>\n      <th>name</th>\n      <th>eps</th>\n      <th>eps_yoy</th>\n      <th>bvps</th>\n      <th>roe</th>\n      <th>epcf</th>\n      <th>net_profits</th>\n      <th>profits_yoy</th>\n      <th>distrib</th>\n      <th>report_date</th>\n    </tr>\n  </thead>\n  <tbody>\n    <tr>\n      <th>0</th>\n      <td>688233</td>\n      <td>神工股份</td>\n      <td>0.53</td>\n      <td>NaN</td>\n      <td>NaN</td>\n      <td>24.90</td>\n      <td>NaN</td>\n      <td>6267.87</td>\n      <td>NaN</td>\n      <td>NaN</td>\n      <td>01-31</td>\n    </tr>\n    <tr>\n      <th>1</th>\n      <td>601696</td>\n      <td>中银证券</td>\n      <td>0.27</td>\n      <td>NaN</td>\n      <td>NaN</td>\n      <td>5.66</td>\n      <td>NaN</td>\n      <td>66865.20</td>\n      <td>NaN</td>\n      <td>NaN</td>\n      <td>01-31</td>\n    </tr>\n    <tr>\n      <th>2</th>\n      <td>300819</td>\n      <td>聚杰微纤</td>\n      <td>0.69</td>\n      <td>NaN</td>\n      <td>NaN</td>\n      <td>NaN</td>\n      <td>NaN</td>\n      <td>5132.98</td>\n      <td>NaN</td>\n      <td>NaN</td>\n      <td>01-31</td>\n    </tr>\n    <tr>\n      <th>3</th>\n      <td>603949</td>\n      <td>雪龙集团</td>\n      <td>0.60</td>\n      <td>NaN</td>\n      <td>NaN</td>\n      <td>23.41</td>\n      <td>NaN</td>\n      <td>6780.83</td>\n      <td>NaN</td>\n      <td>NaN</td>\n      <td>01-21</td>\n    </tr>\n    <tr>\n      <th>4</th>\n      <td>300817</td>\n      <td>双飞股份</td>\n      <td>NaN</td>\n      <td>NaN</td>\n      <td>NaN</td>\n      <td>NaN</td>\n      <td>NaN</td>\n      <td>NaN</td>\n      <td>NaN</td>\n      <td>NaN</td>\n      <td>01-20</td>\n    </tr>\n    <tr>\n      <th>...</th>\n      <td>...</td>\n      <td>...</td>\n      <td>...</td>\n      <td>...</td>\n      <td>...</td>\n      <td>...</td>\n      <td>...</td>\n      <td>...</td>\n      <td>...</td>\n      <td>...</td>\n      <td>...</td>\n    </tr>\n    <tr>\n      <th>3801</th>\n      <td>601636</td>\n      <td>旗滨集团</td>\n      <td>0.36</td>\n      <td>14.06</td>\n      <td>NaN</td>\n      <td>13.16</td>\n      <td>NaN</td>\n      <td>95915.52</td>\n      <td>16.27</td>\n      <td>NaN</td>\n      <td>10-12</td>\n    </tr>\n    <tr>\n      <th>3802</th>\n      <td>300694</td>\n      <td>蠡湖股份</td>\n      <td>0.50</td>\n      <td>13.64</td>\n      <td>4.24</td>\n      <td>12.63</td>\n      <td>0.38</td>\n      <td>8133.29</td>\n      <td>13.51</td>\n      <td>NaN</td>\n      <td>10-12</td>\n    </tr>\n    <tr>\n      <th>3803</th>\n      <td>600728</td>\n      <td>佳都科技</td>\n      <td>0.07</td>\n      <td>108.93</td>\n      <td>NaN</td>\n      <td>3.48</td>\n      <td>NaN</td>\n      <td>11262.05</td>\n      <td>110.43</td>\n      <td>NaN</td>\n      <td>10-11</td>\n    </tr>\n    <tr>\n      <th>3804</th>\n      <td>600231</td>\n      <td>凌钢股份</td>\n      <td>0.46</td>\n      <td>15.00</td>\n      <td>2.72</td>\n      <td>18.29</td>\n      <td>0.61</td>\n      <td>127694.58</td>\n      <td>28.21</td>\n      <td>NaN</td>\n      <td>10-10</td>\n    </tr>\n    <tr>\n      <th>3805</th>\n      <td>000697</td>\n      <td>炼石航空</td>\n      <td>-0.38</td>\n      <td>11.06</td>\n      <td>NaN</td>\n      <td>-15.35</td>\n      <td>NaN</td>\n      <td>-21307.29</td>\n      <td>11.07</td>\n      <td>NaN</td>\n      <td>10-09</td>\n    </tr>\n  </tbody>\n</table>\n<p>3806 rows × 11 columns</p>\n</div>"
     },
     "metadata": {},
     "execution_count": 4
    }
   ],
   "source": [
    "ts.get_report_data(2018,3)\n"
   ]
  },
  {
   "cell_type": "markdown",
   "metadata": {},
   "source": [
    " 盈利能力数据\n"
   ]
  },
  {
   "cell_type": "code",
   "execution_count": 5,
   "metadata": {},
   "outputs": [
    {
     "output_type": "stream",
     "name": "stdout",
     "text": "[Getting data:]################################################################"
    },
    {
     "output_type": "execute_result",
     "data": {
      "text/plain": "        code  name    roe  net_profit_ratio  gross_profit_rate  net_profits  \\\n0     000912   泸天化  98.84             11.50            22.1065     378.3298   \n1     600247  ST成城  79.87             52.69            26.0066      14.7962   \n2     000707  ST双环  67.47              4.24             2.1024     114.6149   \n3     600793  宜宾纸业  59.05             20.20            16.4711     210.1743   \n4     000526  紫光学大  49.72              2.91            29.0442      68.3027   \n...      ...   ...    ...               ...                ...          ...   \n3802  688159  有方科技    NaN              7.20            26.6782      23.6025   \n3803  688177   百奥泰    NaN               NaN                NaN    -362.6451   \n3804  688188  柏楚电子    NaN             63.20            81.3490     118.0568   \n3805  601298   青岛港    NaN             33.00            33.2461    2844.6213   \n3806  688218  江苏北人    NaN             12.09            26.7612      32.0677   \n\n         eps  business_income     bips  \n0     0.2412        3289.2687   2.0977  \n1     0.0439          28.0812   0.0834  \n2     0.2469        2700.7180   5.8186  \n3     1.9959        1040.0066   9.8766  \n4     0.7100        2344.1444  24.3686  \n...      ...              ...      ...  \n3802  0.4214         327.7041   5.8518  \n3803     NaN              NaN      NaN  \n3804  1.5740         186.7786   2.4903  \n3805  0.4712        8618.7798   1.4277  \n3806  0.3886         265.0314   3.2125  \n\n[3807 rows x 9 columns]",
      "text/html": "<div>\n<style scoped>\n    .dataframe tbody tr th:only-of-type {\n        vertical-align: middle;\n    }\n\n    .dataframe tbody tr th {\n        vertical-align: top;\n    }\n\n    .dataframe thead th {\n        text-align: right;\n    }\n</style>\n<table border=\"1\" class=\"dataframe\">\n  <thead>\n    <tr style=\"text-align: right;\">\n      <th></th>\n      <th>code</th>\n      <th>name</th>\n      <th>roe</th>\n      <th>net_profit_ratio</th>\n      <th>gross_profit_rate</th>\n      <th>net_profits</th>\n      <th>eps</th>\n      <th>business_income</th>\n      <th>bips</th>\n    </tr>\n  </thead>\n  <tbody>\n    <tr>\n      <th>0</th>\n      <td>000912</td>\n      <td>泸天化</td>\n      <td>98.84</td>\n      <td>11.50</td>\n      <td>22.1065</td>\n      <td>378.3298</td>\n      <td>0.2412</td>\n      <td>3289.2687</td>\n      <td>2.0977</td>\n    </tr>\n    <tr>\n      <th>1</th>\n      <td>600247</td>\n      <td>ST成城</td>\n      <td>79.87</td>\n      <td>52.69</td>\n      <td>26.0066</td>\n      <td>14.7962</td>\n      <td>0.0439</td>\n      <td>28.0812</td>\n      <td>0.0834</td>\n    </tr>\n    <tr>\n      <th>2</th>\n      <td>000707</td>\n      <td>ST双环</td>\n      <td>67.47</td>\n      <td>4.24</td>\n      <td>2.1024</td>\n      <td>114.6149</td>\n      <td>0.2469</td>\n      <td>2700.7180</td>\n      <td>5.8186</td>\n    </tr>\n    <tr>\n      <th>3</th>\n      <td>600793</td>\n      <td>宜宾纸业</td>\n      <td>59.05</td>\n      <td>20.20</td>\n      <td>16.4711</td>\n      <td>210.1743</td>\n      <td>1.9959</td>\n      <td>1040.0066</td>\n      <td>9.8766</td>\n    </tr>\n    <tr>\n      <th>4</th>\n      <td>000526</td>\n      <td>紫光学大</td>\n      <td>49.72</td>\n      <td>2.91</td>\n      <td>29.0442</td>\n      <td>68.3027</td>\n      <td>0.7100</td>\n      <td>2344.1444</td>\n      <td>24.3686</td>\n    </tr>\n    <tr>\n      <th>...</th>\n      <td>...</td>\n      <td>...</td>\n      <td>...</td>\n      <td>...</td>\n      <td>...</td>\n      <td>...</td>\n      <td>...</td>\n      <td>...</td>\n      <td>...</td>\n    </tr>\n    <tr>\n      <th>3802</th>\n      <td>688159</td>\n      <td>有方科技</td>\n      <td>NaN</td>\n      <td>7.20</td>\n      <td>26.6782</td>\n      <td>23.6025</td>\n      <td>0.4214</td>\n      <td>327.7041</td>\n      <td>5.8518</td>\n    </tr>\n    <tr>\n      <th>3803</th>\n      <td>688177</td>\n      <td>百奥泰</td>\n      <td>NaN</td>\n      <td>NaN</td>\n      <td>NaN</td>\n      <td>-362.6451</td>\n      <td>NaN</td>\n      <td>NaN</td>\n      <td>NaN</td>\n    </tr>\n    <tr>\n      <th>3804</th>\n      <td>688188</td>\n      <td>柏楚电子</td>\n      <td>NaN</td>\n      <td>63.20</td>\n      <td>81.3490</td>\n      <td>118.0568</td>\n      <td>1.5740</td>\n      <td>186.7786</td>\n      <td>2.4903</td>\n    </tr>\n    <tr>\n      <th>3805</th>\n      <td>601298</td>\n      <td>青岛港</td>\n      <td>NaN</td>\n      <td>33.00</td>\n      <td>33.2461</td>\n      <td>2844.6213</td>\n      <td>0.4712</td>\n      <td>8618.7798</td>\n      <td>1.4277</td>\n    </tr>\n    <tr>\n      <th>3806</th>\n      <td>688218</td>\n      <td>江苏北人</td>\n      <td>NaN</td>\n      <td>12.09</td>\n      <td>26.7612</td>\n      <td>32.0677</td>\n      <td>0.3886</td>\n      <td>265.0314</td>\n      <td>3.2125</td>\n    </tr>\n  </tbody>\n</table>\n<p>3807 rows × 9 columns</p>\n</div>"
     },
     "metadata": {},
     "execution_count": 5
    }
   ],
   "source": [
    "ts.get_profit_data(2018,3)\n"
   ]
  },
  {
   "cell_type": "markdown",
   "metadata": {},
   "source": [
    " 运营能力数据"
   ]
  },
  {
   "cell_type": "code",
   "execution_count": 10,
   "metadata": {},
   "outputs": [
    {
     "output_type": "stream",
     "name": "stdout",
     "text": "[Getting data:]###############################################"
    },
    {
     "output_type": "execute_result",
     "data": {
      "text/plain": "        code  name  arturnover  arturndays  inventory_turnover  \\\n0     600605  汇通能源      5.7747     46.7557         102298.4414   \n1     002649  博彦科技      3.0000     90.0000          37127.2743   \n2     002707  众信旅游     20.0313     13.4789           7704.9730   \n3     002039  黔源电力      7.8636     34.3354           6360.2514   \n4     300071  华谊嘉信      1.8090    149.2537           3002.9073   \n...      ...   ...         ...         ...                 ...   \n2812  300477  合纵科技         NaN         NaN                 NaN   \n2813  300481  濮阳惠成         NaN         NaN                 NaN   \n2814  300486  东杰智能         NaN         NaN                 NaN   \n2815  300490  华自科技         NaN         NaN                 NaN   \n2816  300494  盛天网络         NaN         NaN                 NaN   \n\n      inventory_days  currentasset_turnover  currentasset_days  \n0             0.0026                 3.9518            68.3233  \n1             0.0073                 1.0532           256.3616  \n2             0.0350                 3.7006            72.9611  \n3             0.0425                 2.0979           128.7001  \n4             0.0899                 1.4096           191.5437  \n...              ...                    ...                ...  \n2812             NaN                    NaN                NaN  \n2813             NaN                    NaN                NaN  \n2814             NaN                    NaN                NaN  \n2815             NaN                    NaN                NaN  \n2816             NaN                    NaN                NaN  \n\n[2817 rows x 8 columns]",
      "text/html": "<div>\n<style scoped>\n    .dataframe tbody tr th:only-of-type {\n        vertical-align: middle;\n    }\n\n    .dataframe tbody tr th {\n        vertical-align: top;\n    }\n\n    .dataframe thead th {\n        text-align: right;\n    }\n</style>\n<table border=\"1\" class=\"dataframe\">\n  <thead>\n    <tr style=\"text-align: right;\">\n      <th></th>\n      <th>code</th>\n      <th>name</th>\n      <th>arturnover</th>\n      <th>arturndays</th>\n      <th>inventory_turnover</th>\n      <th>inventory_days</th>\n      <th>currentasset_turnover</th>\n      <th>currentasset_days</th>\n    </tr>\n  </thead>\n  <tbody>\n    <tr>\n      <th>0</th>\n      <td>600605</td>\n      <td>汇通能源</td>\n      <td>5.7747</td>\n      <td>46.7557</td>\n      <td>102298.4414</td>\n      <td>0.0026</td>\n      <td>3.9518</td>\n      <td>68.3233</td>\n    </tr>\n    <tr>\n      <th>1</th>\n      <td>002649</td>\n      <td>博彦科技</td>\n      <td>3.0000</td>\n      <td>90.0000</td>\n      <td>37127.2743</td>\n      <td>0.0073</td>\n      <td>1.0532</td>\n      <td>256.3616</td>\n    </tr>\n    <tr>\n      <th>2</th>\n      <td>002707</td>\n      <td>众信旅游</td>\n      <td>20.0313</td>\n      <td>13.4789</td>\n      <td>7704.9730</td>\n      <td>0.0350</td>\n      <td>3.7006</td>\n      <td>72.9611</td>\n    </tr>\n    <tr>\n      <th>3</th>\n      <td>002039</td>\n      <td>黔源电力</td>\n      <td>7.8636</td>\n      <td>34.3354</td>\n      <td>6360.2514</td>\n      <td>0.0425</td>\n      <td>2.0979</td>\n      <td>128.7001</td>\n    </tr>\n    <tr>\n      <th>4</th>\n      <td>300071</td>\n      <td>华谊嘉信</td>\n      <td>1.8090</td>\n      <td>149.2537</td>\n      <td>3002.9073</td>\n      <td>0.0899</td>\n      <td>1.4096</td>\n      <td>191.5437</td>\n    </tr>\n    <tr>\n      <th>...</th>\n      <td>...</td>\n      <td>...</td>\n      <td>...</td>\n      <td>...</td>\n      <td>...</td>\n      <td>...</td>\n      <td>...</td>\n      <td>...</td>\n    </tr>\n    <tr>\n      <th>2812</th>\n      <td>300477</td>\n      <td>合纵科技</td>\n      <td>NaN</td>\n      <td>NaN</td>\n      <td>NaN</td>\n      <td>NaN</td>\n      <td>NaN</td>\n      <td>NaN</td>\n    </tr>\n    <tr>\n      <th>2813</th>\n      <td>300481</td>\n      <td>濮阳惠成</td>\n      <td>NaN</td>\n      <td>NaN</td>\n      <td>NaN</td>\n      <td>NaN</td>\n      <td>NaN</td>\n      <td>NaN</td>\n    </tr>\n    <tr>\n      <th>2814</th>\n      <td>300486</td>\n      <td>东杰智能</td>\n      <td>NaN</td>\n      <td>NaN</td>\n      <td>NaN</td>\n      <td>NaN</td>\n      <td>NaN</td>\n      <td>NaN</td>\n    </tr>\n    <tr>\n      <th>2815</th>\n      <td>300490</td>\n      <td>华自科技</td>\n      <td>NaN</td>\n      <td>NaN</td>\n      <td>NaN</td>\n      <td>NaN</td>\n      <td>NaN</td>\n      <td>NaN</td>\n    </tr>\n    <tr>\n      <th>2816</th>\n      <td>300494</td>\n      <td>盛天网络</td>\n      <td>NaN</td>\n      <td>NaN</td>\n      <td>NaN</td>\n      <td>NaN</td>\n      <td>NaN</td>\n      <td>NaN</td>\n    </tr>\n  </tbody>\n</table>\n<p>2817 rows × 8 columns</p>\n</div>"
     },
     "metadata": {},
     "execution_count": 10
    }
   ],
   "source": [
    "ts.get_operation_data(2014,3)\n"
   ]
  },
  {
   "cell_type": "markdown",
   "metadata": {},
   "source": [
    " 成长能力数据\n"
   ]
  },
  {
   "cell_type": "code",
   "execution_count": 8,
   "metadata": {},
   "outputs": [
    {
     "output_type": "stream",
     "name": "stdout",
     "text": "[Getting data:]#############################################################"
    },
    {
     "output_type": "execute_result",
     "data": {
      "text/plain": "        code   name       mbrg        nprg         nav       targ       epsg  \\\n0     600485  *ST信威  1255.8458  12813.6230   2224.1825  2269.7302   529.1589   \n1     002180    纳思达   250.4530   8827.8740     55.7067    58.7560  1866.6667   \n2     000908   景峰医药  1069.9568   7432.0596  18624.9539   468.2637  4483.3333   \n3     300049   福瑞股份    23.3120   4540.4789     22.2526    16.5899  1650.0000   \n4     600206   有研新材   393.6011   3504.8742    136.3639   115.6028   600.0000   \n...      ...    ...        ...         ...         ...        ...        ...   \n3615  600877   ST电能   -13.6873         NaN      4.7695   -13.1763  -104.7796   \n3616  002174   游族网络    -8.2919         NaN    235.1588   131.5731  -776.1134   \n3617  300627   华测导航    31.3928         NaN     66.9615    34.5991  -230.0000   \n3618  600966   博汇纸业    22.1486         NaN     31.2176   -15.4176  -122.0442   \n3619  600543   莫高股份   -10.8471         NaN      2.0776     3.6670  -119.2308   \n\n             seg  \n0      2138.2204  \n1        51.4794  \n2     19753.3168  \n3        16.9712  \n4       124.4197  \n...          ...  \n3615      4.4095  \n3616    312.3279  \n3617     65.9805  \n3618     34.1218  \n3619      1.6287  \n\n[3620 rows x 8 columns]",
      "text/html": "<div>\n<style scoped>\n    .dataframe tbody tr th:only-of-type {\n        vertical-align: middle;\n    }\n\n    .dataframe tbody tr th {\n        vertical-align: top;\n    }\n\n    .dataframe thead th {\n        text-align: right;\n    }\n</style>\n<table border=\"1\" class=\"dataframe\">\n  <thead>\n    <tr style=\"text-align: right;\">\n      <th></th>\n      <th>code</th>\n      <th>name</th>\n      <th>mbrg</th>\n      <th>nprg</th>\n      <th>nav</th>\n      <th>targ</th>\n      <th>epsg</th>\n      <th>seg</th>\n    </tr>\n  </thead>\n  <tbody>\n    <tr>\n      <th>0</th>\n      <td>600485</td>\n      <td>*ST信威</td>\n      <td>1255.8458</td>\n      <td>12813.6230</td>\n      <td>2224.1825</td>\n      <td>2269.7302</td>\n      <td>529.1589</td>\n      <td>2138.2204</td>\n    </tr>\n    <tr>\n      <th>1</th>\n      <td>002180</td>\n      <td>纳思达</td>\n      <td>250.4530</td>\n      <td>8827.8740</td>\n      <td>55.7067</td>\n      <td>58.7560</td>\n      <td>1866.6667</td>\n      <td>51.4794</td>\n    </tr>\n    <tr>\n      <th>2</th>\n      <td>000908</td>\n      <td>景峰医药</td>\n      <td>1069.9568</td>\n      <td>7432.0596</td>\n      <td>18624.9539</td>\n      <td>468.2637</td>\n      <td>4483.3333</td>\n      <td>19753.3168</td>\n    </tr>\n    <tr>\n      <th>3</th>\n      <td>300049</td>\n      <td>福瑞股份</td>\n      <td>23.3120</td>\n      <td>4540.4789</td>\n      <td>22.2526</td>\n      <td>16.5899</td>\n      <td>1650.0000</td>\n      <td>16.9712</td>\n    </tr>\n    <tr>\n      <th>4</th>\n      <td>600206</td>\n      <td>有研新材</td>\n      <td>393.6011</td>\n      <td>3504.8742</td>\n      <td>136.3639</td>\n      <td>115.6028</td>\n      <td>600.0000</td>\n      <td>124.4197</td>\n    </tr>\n    <tr>\n      <th>...</th>\n      <td>...</td>\n      <td>...</td>\n      <td>...</td>\n      <td>...</td>\n      <td>...</td>\n      <td>...</td>\n      <td>...</td>\n      <td>...</td>\n    </tr>\n    <tr>\n      <th>3615</th>\n      <td>600877</td>\n      <td>ST电能</td>\n      <td>-13.6873</td>\n      <td>NaN</td>\n      <td>4.7695</td>\n      <td>-13.1763</td>\n      <td>-104.7796</td>\n      <td>4.4095</td>\n    </tr>\n    <tr>\n      <th>3616</th>\n      <td>002174</td>\n      <td>游族网络</td>\n      <td>-8.2919</td>\n      <td>NaN</td>\n      <td>235.1588</td>\n      <td>131.5731</td>\n      <td>-776.1134</td>\n      <td>312.3279</td>\n    </tr>\n    <tr>\n      <th>3617</th>\n      <td>300627</td>\n      <td>华测导航</td>\n      <td>31.3928</td>\n      <td>NaN</td>\n      <td>66.9615</td>\n      <td>34.5991</td>\n      <td>-230.0000</td>\n      <td>65.9805</td>\n    </tr>\n    <tr>\n      <th>3618</th>\n      <td>600966</td>\n      <td>博汇纸业</td>\n      <td>22.1486</td>\n      <td>NaN</td>\n      <td>31.2176</td>\n      <td>-15.4176</td>\n      <td>-122.0442</td>\n      <td>34.1218</td>\n    </tr>\n    <tr>\n      <th>3619</th>\n      <td>600543</td>\n      <td>莫高股份</td>\n      <td>-10.8471</td>\n      <td>NaN</td>\n      <td>2.0776</td>\n      <td>3.6670</td>\n      <td>-119.2308</td>\n      <td>1.6287</td>\n    </tr>\n  </tbody>\n</table>\n<p>3620 rows × 8 columns</p>\n</div>"
     },
     "metadata": {},
     "execution_count": 8
    }
   ],
   "source": [
    "ts.get_growth_data(2014,4)\n"
   ]
  },
  {
   "cell_type": "markdown",
   "metadata": {},
   "source": [
    "偿债能力数据\n"
   ]
  },
  {
   "cell_type": "code",
   "execution_count": 14,
   "metadata": {},
   "outputs": [
    {
     "output_type": "stream",
     "name": "stdout",
     "text": "[Getting data:]###############################################################"
    },
    {
     "output_type": "execute_result",
     "data": {
      "text/plain": "        code   name currentratio quickratio cashratio    icratio sheqratio  \\\n0     002348   高乐股份      73.7949    62.7875   4126.82   -460.766   99.0937   \n1     300223   北京君正      76.4578    72.0846   7053.65    154.016    98.601   \n2     000831   五矿稀土      68.9655    28.1077   1160.26    743.843    98.439   \n3     300191   潜能恒信      78.4102    78.4102   6760.93   -63.9285   97.9164   \n4     002581   未名医药      32.0226     30.205   2537.98   -876.838   97.3901   \n...      ...    ...          ...        ...       ...        ...       ...   \n3719  600301   ST南化       0.2968     0.2729    9.7087  -679.9387  -15.2508   \n3720  600715   文投控股       0.3433     0.3433    8.1337   -1088.22  -22.6131   \n3721  000155   川能动力       0.2267     0.1885      9.42   -1071.21  -64.9887   \n3722  002015   协鑫能科       0.2268     0.1778    1.3036   -735.377    -139.4   \n3723  600145  *ST新亿       0.1094     0.0208    0.1684    -518289  -4515.94   \n\n        adratio  \n0        0.9063  \n1        1.3990  \n2        1.5610  \n3        2.0836  \n4        2.6099  \n...         ...  \n3719   115.2508  \n3720   122.6131  \n3721   164.9887  \n3722   239.4002  \n3723  4615.9358  \n\n[3724 rows x 8 columns]",
      "text/html": "<div>\n<style scoped>\n    .dataframe tbody tr th:only-of-type {\n        vertical-align: middle;\n    }\n\n    .dataframe tbody tr th {\n        vertical-align: top;\n    }\n\n    .dataframe thead th {\n        text-align: right;\n    }\n</style>\n<table border=\"1\" class=\"dataframe\">\n  <thead>\n    <tr style=\"text-align: right;\">\n      <th></th>\n      <th>code</th>\n      <th>name</th>\n      <th>currentratio</th>\n      <th>quickratio</th>\n      <th>cashratio</th>\n      <th>icratio</th>\n      <th>sheqratio</th>\n      <th>adratio</th>\n    </tr>\n  </thead>\n  <tbody>\n    <tr>\n      <th>0</th>\n      <td>002348</td>\n      <td>高乐股份</td>\n      <td>73.7949</td>\n      <td>62.7875</td>\n      <td>4126.82</td>\n      <td>-460.766</td>\n      <td>99.0937</td>\n      <td>0.9063</td>\n    </tr>\n    <tr>\n      <th>1</th>\n      <td>300223</td>\n      <td>北京君正</td>\n      <td>76.4578</td>\n      <td>72.0846</td>\n      <td>7053.65</td>\n      <td>154.016</td>\n      <td>98.601</td>\n      <td>1.3990</td>\n    </tr>\n    <tr>\n      <th>2</th>\n      <td>000831</td>\n      <td>五矿稀土</td>\n      <td>68.9655</td>\n      <td>28.1077</td>\n      <td>1160.26</td>\n      <td>743.843</td>\n      <td>98.439</td>\n      <td>1.5610</td>\n    </tr>\n    <tr>\n      <th>3</th>\n      <td>300191</td>\n      <td>潜能恒信</td>\n      <td>78.4102</td>\n      <td>78.4102</td>\n      <td>6760.93</td>\n      <td>-63.9285</td>\n      <td>97.9164</td>\n      <td>2.0836</td>\n    </tr>\n    <tr>\n      <th>4</th>\n      <td>002581</td>\n      <td>未名医药</td>\n      <td>32.0226</td>\n      <td>30.205</td>\n      <td>2537.98</td>\n      <td>-876.838</td>\n      <td>97.3901</td>\n      <td>2.6099</td>\n    </tr>\n    <tr>\n      <th>...</th>\n      <td>...</td>\n      <td>...</td>\n      <td>...</td>\n      <td>...</td>\n      <td>...</td>\n      <td>...</td>\n      <td>...</td>\n      <td>...</td>\n    </tr>\n    <tr>\n      <th>3719</th>\n      <td>600301</td>\n      <td>ST南化</td>\n      <td>0.2968</td>\n      <td>0.2729</td>\n      <td>9.7087</td>\n      <td>-679.9387</td>\n      <td>-15.2508</td>\n      <td>115.2508</td>\n    </tr>\n    <tr>\n      <th>3720</th>\n      <td>600715</td>\n      <td>文投控股</td>\n      <td>0.3433</td>\n      <td>0.3433</td>\n      <td>8.1337</td>\n      <td>-1088.22</td>\n      <td>-22.6131</td>\n      <td>122.6131</td>\n    </tr>\n    <tr>\n      <th>3721</th>\n      <td>000155</td>\n      <td>川能动力</td>\n      <td>0.2267</td>\n      <td>0.1885</td>\n      <td>9.42</td>\n      <td>-1071.21</td>\n      <td>-64.9887</td>\n      <td>164.9887</td>\n    </tr>\n    <tr>\n      <th>3722</th>\n      <td>002015</td>\n      <td>协鑫能科</td>\n      <td>0.2268</td>\n      <td>0.1778</td>\n      <td>1.3036</td>\n      <td>-735.377</td>\n      <td>-139.4</td>\n      <td>239.4002</td>\n    </tr>\n    <tr>\n      <th>3723</th>\n      <td>600145</td>\n      <td>*ST新亿</td>\n      <td>0.1094</td>\n      <td>0.0208</td>\n      <td>0.1684</td>\n      <td>-518289</td>\n      <td>-4515.94</td>\n      <td>4615.9358</td>\n    </tr>\n  </tbody>\n</table>\n<p>3724 rows × 8 columns</p>\n</div>"
     },
     "metadata": {},
     "execution_count": 14
    }
   ],
   "source": [
    "ts.get_debtpaying_data(2014,4)\n"
   ]
  },
  {
   "cell_type": "markdown",
   "metadata": {},
   "source": [
    "现金流量数据\n"
   ]
  },
  {
   "cell_type": "code",
   "execution_count": 7,
   "metadata": {},
   "outputs": [
    {
     "output_type": "stream",
     "name": "stdout",
     "text": "[Getting data:]###############################################################"
    },
    {
     "output_type": "execute_result",
     "data": {
      "text/plain": "        code  name  cf_sales  rateofreturn    cf_nm  cf_liabilities  \\\n0     600291  西水股份  505.8239        0.5227  61.8624          0.6362   \n1     000712  锦龙股份   38.3489        0.1014   3.2875          0.1374   \n2     000668  荣丰控股   14.8696        0.0954      NaN          0.1629   \n3     300059  东方财富    3.8609        0.3822  14.2629          0.5491   \n4     002961  瑞达期货    2.7908        0.2395   8.6145          0.2939   \n...      ...   ...       ...           ...      ...             ...   \n3719  601628  中国人寿       NaN        0.0348   2.4066          0.0399   \n3720  601628  中国人寿       NaN        0.0348   2.4066          0.0399   \n3721  601688  华泰证券       NaN        0.1117   6.6970          0.1320   \n3722  000750  国海证券       NaN        0.2075   7.6642          0.2847   \n3723  601998  中信银行       NaN        0.0083   0.8238          0.0088   \n\n      cashflowratio  \n0           67.1230  \n1           16.6167  \n2           61.0021  \n3           54.9710  \n4               NaN  \n...             ...  \n3719            NaN  \n3720            NaN  \n3721            NaN  \n3722            NaN  \n3723            NaN  \n\n[3724 rows x 7 columns]",
      "text/html": "<div>\n<style scoped>\n    .dataframe tbody tr th:only-of-type {\n        vertical-align: middle;\n    }\n\n    .dataframe tbody tr th {\n        vertical-align: top;\n    }\n\n    .dataframe thead th {\n        text-align: right;\n    }\n</style>\n<table border=\"1\" class=\"dataframe\">\n  <thead>\n    <tr style=\"text-align: right;\">\n      <th></th>\n      <th>code</th>\n      <th>name</th>\n      <th>cf_sales</th>\n      <th>rateofreturn</th>\n      <th>cf_nm</th>\n      <th>cf_liabilities</th>\n      <th>cashflowratio</th>\n    </tr>\n  </thead>\n  <tbody>\n    <tr>\n      <th>0</th>\n      <td>600291</td>\n      <td>西水股份</td>\n      <td>505.8239</td>\n      <td>0.5227</td>\n      <td>61.8624</td>\n      <td>0.6362</td>\n      <td>67.1230</td>\n    </tr>\n    <tr>\n      <th>1</th>\n      <td>000712</td>\n      <td>锦龙股份</td>\n      <td>38.3489</td>\n      <td>0.1014</td>\n      <td>3.2875</td>\n      <td>0.1374</td>\n      <td>16.6167</td>\n    </tr>\n    <tr>\n      <th>2</th>\n      <td>000668</td>\n      <td>荣丰控股</td>\n      <td>14.8696</td>\n      <td>0.0954</td>\n      <td>NaN</td>\n      <td>0.1629</td>\n      <td>61.0021</td>\n    </tr>\n    <tr>\n      <th>3</th>\n      <td>300059</td>\n      <td>东方财富</td>\n      <td>3.8609</td>\n      <td>0.3822</td>\n      <td>14.2629</td>\n      <td>0.5491</td>\n      <td>54.9710</td>\n    </tr>\n    <tr>\n      <th>4</th>\n      <td>002961</td>\n      <td>瑞达期货</td>\n      <td>2.7908</td>\n      <td>0.2395</td>\n      <td>8.6145</td>\n      <td>0.2939</td>\n      <td>NaN</td>\n    </tr>\n    <tr>\n      <th>...</th>\n      <td>...</td>\n      <td>...</td>\n      <td>...</td>\n      <td>...</td>\n      <td>...</td>\n      <td>...</td>\n      <td>...</td>\n    </tr>\n    <tr>\n      <th>3719</th>\n      <td>601628</td>\n      <td>中国人寿</td>\n      <td>NaN</td>\n      <td>0.0348</td>\n      <td>2.4066</td>\n      <td>0.0399</td>\n      <td>NaN</td>\n    </tr>\n    <tr>\n      <th>3720</th>\n      <td>601628</td>\n      <td>中国人寿</td>\n      <td>NaN</td>\n      <td>0.0348</td>\n      <td>2.4066</td>\n      <td>0.0399</td>\n      <td>NaN</td>\n    </tr>\n    <tr>\n      <th>3721</th>\n      <td>601688</td>\n      <td>华泰证券</td>\n      <td>NaN</td>\n      <td>0.1117</td>\n      <td>6.6970</td>\n      <td>0.1320</td>\n      <td>NaN</td>\n    </tr>\n    <tr>\n      <th>3722</th>\n      <td>000750</td>\n      <td>国海证券</td>\n      <td>NaN</td>\n      <td>0.2075</td>\n      <td>7.6642</td>\n      <td>0.2847</td>\n      <td>NaN</td>\n    </tr>\n    <tr>\n      <th>3723</th>\n      <td>601998</td>\n      <td>中信银行</td>\n      <td>NaN</td>\n      <td>0.0083</td>\n      <td>0.8238</td>\n      <td>0.0088</td>\n      <td>NaN</td>\n    </tr>\n  </tbody>\n</table>\n<p>3724 rows × 7 columns</p>\n</div>"
     },
     "metadata": {},
     "execution_count": 7
    }
   ],
   "source": [
    "ts.get_cashflow_data(2014,4)\n"
   ]
  }
 ],
 "metadata": {
  "language_info": {
   "codemirror_mode": {
    "name": "ipython",
    "version": 3
   },
   "file_extension": ".py",
   "mimetype": "text/x-python",
   "name": "python",
   "nbconvert_exporter": "python",
   "pygments_lexer": "ipython3",
   "version": "3.7.4-final"
  },
  "orig_nbformat": 2,
  "kernelspec": {
   "name": "python37432bit6a4013f1a8ec4766a4af9787f2730623",
   "display_name": "Python 3.7.4 32-bit"
  }
 },
 "nbformat": 4,
 "nbformat_minor": 2
}