{
 "nbformat": 4,
 "nbformat_minor": 2,
 "metadata": {
  "language_info": {
   "name": "python",
   "codemirror_mode": {
    "name": "ipython",
    "version": 3
   },
   "version": "3.7.4-final"
  },
  "orig_nbformat": 2,
  "file_extension": ".py",
  "mimetype": "text/x-python",
  "name": "python",
  "npconvert_exporter": "python",
  "pygments_lexer": "ipython3",
  "version": 3,
  "kernelspec": {
   "name": "python37432bit6a4013f1a8ec4766a4af9787f2730623",
   "display_name": "Python 3.7.4 32-bit"
  }
 },
 "cells": [
  {
   "cell_type": "markdown",
   "metadata": {},
   "source": [
    "本文为你展示，如何用Python把许多PDF文件的文本内容批量提取出来，并且整理存储到数据框中，以便于后续的数据分析。"
   ]
  },
  {
   "cell_type": "markdown",
   "metadata": {},
   "source": [
    "## 使用PyPDF2从pdf中提取简单文本，示例代码如下：\n"
   ]
  },
  {
   "cell_type": "code",
   "execution_count": 3,
   "metadata": {},
   "outputs": [
    {
     "output_type": "error",
     "ename": "FileNotFoundError",
     "evalue": "[Errno 2] No such file or directory: 'example.pdf'",
     "traceback": [
      "\u001b[1;31m---------------------------------------------------------------------------\u001b[0m",
      "\u001b[1;31mFileNotFoundError\u001b[0m                         Traceback (most recent call last)",
      "\u001b[1;32m<ipython-input-3-a415b0a770f2>\u001b[0m in \u001b[0;36m<module>\u001b[1;34m\u001b[0m\n\u001b[0;32m      1\u001b[0m \u001b[1;32mimport\u001b[0m \u001b[0mPyPDF2\u001b[0m\u001b[1;33m\u001b[0m\u001b[1;33m\u001b[0m\u001b[0m\n\u001b[1;32m----> 2\u001b[1;33m \u001b[0mpdfFileObj\u001b[0m \u001b[1;33m=\u001b[0m \u001b[0mopen\u001b[0m\u001b[1;33m(\u001b[0m\u001b[1;34m'example.pdf'\u001b[0m\u001b[1;33m,\u001b[0m \u001b[1;34m'rb'\u001b[0m\u001b[1;33m)\u001b[0m\u001b[1;33m\u001b[0m\u001b[1;33m\u001b[0m\u001b[0m\n\u001b[0m",
      "\u001b[1;31mFileNotFoundError\u001b[0m: [Errno 2] No such file or directory: 'example.pdf'"
     ]
    }
   ],
   "source": [
    "import PyPDF2\n",
    "pdfFileObj = open('example.pdf', 'rb')"
   ]
  },
  {
   "cell_type": "code",
   "execution_count": 6,
   "metadata": {},
   "outputs": [
    {
     "output_type": "stream",
     "name": "stdout",
     "text": "https://www.pwccn.com/zh/consulting/publications/industrial-infrastructure-digitalisation.pdf\n72\n"
    }
   ],
   "source": [
    "# pdf='https://www.pwccn.com/zh/consulting/publications/industrial-infrastructure-digitalisation.pdf'\n",
    "pdf='https://www.pwc.com/gx/en/world-2050/assets/pwc-the-world-in-2050-full-report-feb-2017.pdf'\n",
    "# pdf_file='industrial-infrastructure-digitalisation.pdf'\n",
    "pdf_file='pwc-the-world-in-2050-full-report-feb-2017.pdf'\n",
    "\n",
    "import PyPDF2\n",
    "pdfFileObj = open(pdf_file, 'rb')\n",
    "pdfReader = PyPDF2.PdfFileReader(pdfFileObj)\n",
    "print('total page number is',pdfReader.numPages)"
   ]
  },
  {
   "cell_type": "code",
   "execution_count": 3,
   "metadata": {},
   "outputs": [
    {
     "output_type": "stream",
     "name": "stdout",
     "text": "——————————————————第 0 页————————————————————\n www.pwc.com\n \nThe World in 2050\n \n \n \n \nThe Long View\n \nHow will the global \neconomic order change \n \nby\n \n2050\n?\n \n \n \n \nFebruary 2017\n \n\n——————————————————第 0 页————————————————————\n\n"
    }
   ],
   "source": [
    "pdf_file='pwc-the-world-in-2050-full-report-feb-2017.pdf'\n",
    "import PyPDF2\n",
    "i=0\n",
    "pdfFileObj = open(pdf_file, 'rb')\n",
    "pdfReader = PyPDF2.PdfFileReader(pdfFileObj)\n",
    "pageObj = pdfReader.getPage(i)\n",
    "print('——————————————————第',i,'页————————————————————\\n',pageObj.extractText())\n",
    "print('——————————————————第',i,'页————————————————————\\n')"
   ]
  },
  {
   "cell_type": "code",
   "execution_count": 2,
   "metadata": {},
   "outputs": [
    {
     "output_type": "stream",
     "name": "stdout",
     "text": "——————————————————第 63 页————————————————————\n The World in \n2050\n \n \n \nThe long view: how will the global economic order change by 2050?\n \nPwC\n \n \nPage \n64\n \nof \n72\n \n \nA.1.2 Education\n \nIn common with several past academic studies, we have based our estimates of the human capital stock on the \ndata on average \nyears of schooling for the population aged 25 and over from Barro and Lee (2001). We then \nfollow the approach of Hall and Jones (1998), which in turn was based on the survey of international estimates \nof the returns to schooling in countries at different l\nevels of economic development by Psacharopoulus (1994). \nSpecifically, for the first four years of education, we assume a rate of return of 13.4%, corresponding to average \nestimates for sub\n-\nSaharan Africa. For the next four years, we assume a return of 10.1\n%, corresponding to the \naverage for the world as a whole. For education beyond the 8\nth\n \nyear, we assume estimated OECD average \nreturns of 6.8%. This approach leads to estimates of the stock of human capital per worker as an index relative \nto the US.\n \nWe then\n \nassume that the average years of schooling of the over\n-\n25 population rises over time in each country at \nrates derived by extrapolating forward from trends over the past 5\n-\n20 years (the weight given to past averages \nover 5, 10 or 20 years varies across cou\nntries depending on what we consider to be the best indicator of \nunderlying trends in education levels in each country). In line with trends over this past period, average years of \nschooling are assumed to rise at the slowest rate in the US, reflecting the\nir higher starting point. This allows \nother countries to catch up with estimated average US levels of human capital per worker. \n \nThe fastest educational catch\n-\nup rates are assumed to be seen in Asian countries such as India and Indonesia, \nwhich is consiste\nnt with trends in recent periods and is an important factor in their relatively strong projected \ngrowth performance. Russia and Poland, with relatively high initial average education levels, make some \nfurther progress but have less scope for rapid catch\n-\nup\n \nin this area.\n \nA.1.3. Capital investment\n \nWe began with estimates from King and Levine (1994) of capital stock to output ratios in the mid\n-\n1980s. These \nratios are projected forward to our 2016 base year using data on investment as a % of GDP from the Penn W\norld \nTables (v. 8.0) database up to 2014, supplemented by IMF data for more recent years. We assume a uniform 5% \nannual depreciation rate of the existing capital stock both in this calculation and in the forward\n-\nlooking \nprojections, which is consistent wit\nh the 4\n-\n6% depreciation rates generally assumed in the academic literature. \nThe resulti\nng capital\n-\noutput ratios in 2016\n \nvary from around 1\n.2 in Nigeria to 3.7\n \nin Japan (the UK ratio is \na\nround\n \n2.6\n).\n \nLooking forward, we assume that initial average annual inv\nestment/GDP ratios, which vary from around \n6% in \nNigeria to around 37\n% in China, adjust gradually to long run investment levels after 2025 that vary more \nnarrowly from 8% in Nigeria to around 25\n-\n30% in some Asian emergi\nng economies (see Table A1\n \nbelow\n). \n \nT\nhese assumptions reflect the view that, with declining marginal returns on new investment over time, the very \nhigh investment/GDP ratios seen in China and other Asian emerging markets will tend to decline in the long \nrun as these economies mature (as has h\nappened with Japan since the early 1990s). \n \nIn line with similar past studies, we assume for simplicity that capital has a constant 1/3 share in national \noutput, with labour having a 2/3 share. While labour shares have declined in many advanced economies i\nn \nrecent years, it is not at all clear if this will continue in the long run, so we prefer to make this simpler \nassumption to avoid over\n-\ncomplicating the model.\n \n \n \n\n——————————————————第 63 页————————————————————\n\n"
    }
   ],
   "source": [
    "pdf_file='pwc-the-world-in-2050-full-report-feb-2017.pdf'\n",
    "import PyPDF2\n",
    "\n",
    "pdfFileObj = open(pdf_file, 'rb')\n",
    "pdfReader = PyPDF2.PdfFileReader(pdfFileObj)\n",
    "pages=pdfReader.numPages\n",
    "for i in range(pages-9,pages-8):\n",
    "    pageObj = pdfReader.getPage(i)\n",
    "    print('——————————————————第',i,'页————————————————————\\n',pageObj.extractText())\n",
    "    print('——————————————————第',i,'页————————————————————\\n')"
   ]
  },
  {
   "cell_type": "markdown",
   "metadata": {},
   "source": [
    "## 使用tabula从pdf中读取表格数据\n",
    "### 安装tabula\n",
    "pip install -i https://pypi.tuna.tsinghua.edu.cn/simple tabula-py\n",
    "### 安装java\n",
    "https://repo.huaweicloud.com/java/jdk/\n",
    "### 安装openpyxl\n",
    "pip install -i https://pypi.tuna.tsinghua.edu.cn/simple openpyxl\n"
   ]
  },
  {
   "cell_type": "code",
   "execution_count": 10,
   "metadata": {},
   "outputs": [
    {
     "output_type": "stream",
     "name": "stderr",
     "text": "Got stderr: Apr 01, 2020 10:10:31 AM org.apache.pdfbox.pdmodel.font.PDCIDFontType2 <init>\nINFO: OpenType Layout tables used in font ABCDEE+·????????ò?? are not implemented in PDFBox and will be ignored\nApr 01, 2020 10:10:31 AM org.apache.pdfbox.pdmodel.font.PDCIDFontType2 <init>\nINFO: OpenType Layout tables used in font ABCDEE+???? are not implemented in PDFBox and will be ignored\nApr 01, 2020 10:10:31 AM org.apache.pdfbox.pdmodel.font.PDCIDFontType2 <init>\nINFO: OpenType Layout tables used in font ABCDEE+·????????ò?? are not implemented in PDFBox and will be ignored\nApr 01, 2020 10:10:31 AM org.apache.pdfbox.pdmodel.font.PDCIDFontType2 <init>\nINFO: OpenType Layout tables used in font ABCDEE+???? are not implemented in PDFBox and will be ignored\nApr 01, 2020 10:10:32 AM org.apache.pdfbox.pdmodel.font.PDCIDFontType2 <init>\nINFO: OpenType Layout tables used in font ABCDEE+·????????ò?? are not implemented in PDFBox and will be ignored\nApr 01, 2020 10:10:32 AM org.apache.pdfbox.pdmodel.font.PDCIDFontType2 <init>\nINFO: OpenType Layout tables used in font ABCDEE+???? are not implemented in PDFBox and will be ignored\n\n[  Unnamed: 0     均值    中位数\n0         城镇  71546  27200\n1         农村  27606  10000\n2         合计  52087  17615,   Unnamed: 0 Unnamed: 1    所占比例\n0        总收入        NaN  56.96%\n1        NaN       经营收入  76.85%\n2        NaN       投资收入  67.21%\n3        NaN       工资收入  55.57%\n4        NaN       转移收入  43.15%\n5        NaN       农业收入  31.95%]\n"
    }
   ],
   "source": [
    "#中国家庭金融调查报告 - Sohu \n",
    "pdf=\"http://money.sohu.com/upload/chinajrdcbg0510.pdf\"\n",
    "pdf_file='pwc-the-world-in-2050-full-report-feb-2017.pdf'\n",
    "import tabula\n",
    "# df = tabula.read_pdf(pdf_file,encoding='gbk',,pages='10')\n",
    "df = tabula.read_pdf(pdf,encoding='gbk',pages='5')\n",
    "print(df)\n",
    "# df.head()"
   ]
  }
 ]
}