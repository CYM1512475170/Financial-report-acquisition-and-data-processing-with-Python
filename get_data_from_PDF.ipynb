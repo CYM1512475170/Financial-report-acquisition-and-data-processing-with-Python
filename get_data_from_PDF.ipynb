{
 "nbformat": 4,
 "nbformat_minor": 2,
 "metadata": {
  "language_info": {
   "name": "python",
   "codemirror_mode": {
    "name": "ipython",
    "version": 3
   },
   "version": "3.7.4-final"
  },
  "orig_nbformat": 2,
  "file_extension": ".py",
  "mimetype": "text/x-python",
  "name": "python",
  "npconvert_exporter": "python",
  "pygments_lexer": "ipython3",
  "version": 3,
  "kernelspec": {
   "name": "python37432bit6a4013f1a8ec4766a4af9787f2730623",
   "display_name": "Python 3.7.4 32-bit"
  }
 },
 "cells": [
  {
   "cell_type": "markdown",
   "metadata": {},
   "source": [
    "本文为你展示，如何用Python把许多PDF文件的文本内容批量提取出来，并且整理存储到数据框中，以便于后续的数据分析。"
   ]
  },
  {
   "cell_type": "markdown",
   "metadata": {},
   "source": [
    "## 使用PyPDF2从pdf中提取简单文本，示例代码如下：\n"
   ]
  },
  {
   "cell_type": "code",
   "execution_count": 1,
   "metadata": {},
   "outputs": [
    {
     "output_type": "stream",
     "name": "stdout",
     "text": "total page number is 72\n"
    }
   ],
   "source": [
    "# pdf='https://www.pwccn.com/zh/consulting/publications/industrial-infrastructure-digitalisation.pdf'\n",
    "pdf='https://www.pwc.com/gx/en/world-2050/assets/pwc-the-world-in-2050-full-report-feb-2017.pdf'\n",
    "# pdf_file='industrial-infrastructure-digitalisation.pdf'\n",
    "pdf_file='pwc-the-world-in-2050-full-report-feb-2017.pdf'\n",
    "\n",
    "import PyPDF2\n",
    "pdfFileObj = open(pdf_file, 'rb')\n",
    "pdfReader = PyPDF2.PdfFileReader(pdfFileObj)\n",
    "print('total page number is',pdfReader.numPages)"
   ]
  },
  {
   "cell_type": "code",
   "execution_count": 2,
   "metadata": {},
   "outputs": [],
   "source": [
    "pdf_file='pwc-the-world-in-2050-full-report-feb-2017.pdf'\n",
    "import PyPDF2\n",
    "\n",
    "pdfFileObj = open(pdf_file, 'rb')\n",
    "pdfReader = PyPDF2.PdfFileReader(pdfFileObj)\n",
    "pages=pdfReader.numPages\n",
    "for i in range(pages-72,pages-72):\n",
    "    pageObj = pdfReader.getPage(i)\n",
    "    print('——————————————————第',i,'页————————————————————\\n',pageObj.extractText())\n",
    "    print('——————————————————第',i,'页————————————————————\\n')"
   ]
  },
  {
   "cell_type": "code",
   "execution_count": null,
   "metadata": {},
   "outputs": [],
   "source": [
    "file_foler='C:/TEMP/Excel/'\n",
    "pdf1=file_folder+'华电福新：二零一八年年度报告.PDF'\n",
    "pdf2=file_folder+'中广核新能源：2018年年报.PDF'\n",
    "pdf3=file_folder+'京能清洁能源：年报2018.PDF'\n",
    "import PyPDF2\n",
    "pdfFileObj=open(pdf1,'rb')\n",
    "pdfReader=PyPDF2.PdfFileReader(pdfFileObj)\n",
    "pages=pdfReader.numPages\n",
    "for i in range(pages)\n",
    "    pageObj=pdfReader.getPage(i)\n",
    "    text=pageObj.extractText()   "
   ]
  },
  {
   "cell_type": "markdown",
   "metadata": {},
   "source": [
    "### 简体和繁体转换\n",
    "https://raw.githubusercontent.com/skydark/nstools/master/zhtools/langconv.py\n",
    "https://raw.githubusercontent.com/skydark/nstools/master/zhtools/zh_wiki.py"
   ]
  },
  {
   "cell_type": "code",
   "execution_count": 44,
   "metadata": {},
   "outputs": [],
   "source": [
    "from langconv import *\n",
    "def Traditional2Simplified(sentence):\n",
    "    '''\n",
    "    将sentence中的繁体字转为简体字\n",
    "    :param sentence: 待转换的句子\n",
    "    :return: 将句子中繁体字转换为简体字之后的句子\n",
    "    '''\n",
    "    sentence = Converter('zh-hans').convert(sentence)\n",
    "    return sentence\n",
    "# 将繁体字转换成简体字，并写入text中\n",
    "def time_now():\n",
    "    import time\n",
    "    time_now=time.strftime('%Y-%m-%d-%H%M%S',time.localtime(time.time()))\n",
    "    time_now=str(time_now)\n",
    "    return time_now\n",
    "with open('C:/TEMP/Excel/'+time_now()+'.txt','w') as f:\n",
    "    f.write('test')\n",
    "\n",
    ""
   ]
  },
  {
   "cell_type": "code",
   "execution_count": 18,
   "metadata": {
    "tags": [
     "outputPrepend",
     "outputPrepend",
     "outputPrepend",
     "outputPrepend",
     "outputPrepend",
     "outputPrepend",
     "outputPrepend",
     "outputPrepend"
    ]
   },
   "outputs": [
    {
     "output_type": "stream",
     "name": "stdout",
     "text": "180 - 0   忧郁的台湾乌龟\n180 - 1   忧郁的台湾乌龟\n180 - 2   忧郁的台湾乌龟\n180 - 3   忧郁的台湾乌龟\n180 - 4   忧郁的台湾乌龟\n180 - 5   忧郁的台湾乌龟\n180 - 6   忧郁的台湾乌龟\n180 - 7   忧郁的台湾乌龟\n180 - 8   忧郁的台湾乌龟\n180 - 9   忧郁的台湾乌龟\n180 - 10   忧郁的台湾乌龟\n180 - 11   忧郁的台湾乌龟\n180 - 12   忧郁的台湾乌龟\n180 - 13   忧郁的台湾乌龟\n180 - 14   忧郁的台湾乌龟\n180 - 15   忧郁的台湾乌龟\n"
    }
   ],
   "source": [
    "# -*-coding:gbk-*-\n",
    "file_folder='C:/TEMP/Excel/'\n",
    "pdf=file_folder+'麦肯锡中国银行业CEO季刊2018年夏季刊_精简版.pdf'\n",
    "pdf1=file_folder+'华电福新：二零一八年年度报告.PDF'\n",
    "pdf2=file_folder+'中广核新能源：2018年年报.PDF'\n",
    "pdf3=file_folder+'京能清洁能源：年报2018.PDF'\n",
    "import PyPDF2\n",
    "pdfFileObj=open(pdf,'rb')\n",
    "pdfReader=PyPDF2.PdfFileReader(pdfFileObj)\n",
    "pages=pdfReader.numPages\n",
    "content=''\n",
    "for i in range(int(pages/10)):\n",
    "    pageObj=pdfReader.getPage(i)\n",
    "    text=pageObj.extractText()\n",
    "    content+=content+'\\n'+str(i)+'\\n'+text\n",
    "    print(pages,'-',i,' ',Traditional2Simplified('憂郁的臺灣烏龜'))\n",
    "print(content)\n",
    "    # print(Traditional2Simplified(text))\n",
    ""
   ]
  },
  {
   "cell_type": "markdown",
   "metadata": {},
   "source": [
    "## 使用tabula从pdf中读取表格数据\n",
    "### 安装tabula\n",
    "pip install -i https://pypi.tuna.tsinghua.edu.cn/simple tabula-py\n",
    "### 安装java\n",
    "https://repo.huaweicloud.com/java/jdk/\n",
    "### 安装openpyxl\n",
    "pip install -i https://pypi.tuna.tsinghua.edu.cn/simple openpyxl\n"
   ]
  },
  {
   "cell_type": "code",
   "execution_count": null,
   "metadata": {},
   "outputs": [],
   "source": [
    "#中国家庭金融调查报告 - Sohu \n",
    "pdf=\"http://money.sohu.com/upload/chinajrdcbg0510.pdf\"\n",
    "pdf_file='pwc-the-world-in-2050-full-report-feb-2017.pdf'\n",
    "import tabula\n",
    "# df = tabula.read_pdf(pdf_file,encoding='gbk',,pages='10')\n",
    "df = tabula.read_pdf(pdf,encoding='gbk',multiple_tables = True,pages='5')\n",
    "print(df)\n",
    "#实现效果可以点击https://zhuanlan.zhihu.com/p/122214626"
   ]
  },
  {
   "cell_type": "markdown",
   "metadata": {},
   "source": [
    "### 将pdf中的表格导出到excel"
   ]
  },
  {
   "cell_type": "code",
   "execution_count": null,
   "metadata": {},
   "outputs": [],
   "source": [
    "import tabula\n",
    "pdf1='C:/TEMP/Excel/chicago.pdf'\n",
    "excel1='C:/TEMP/Excel/chicago.csv'\n",
    "# tabula.convert_into(pdf1,excel1,output_format =\"xlsx\")\n",
    "tabula.convert_into(pdf1,excel1,pages='all')"
   ]
  },
  {
   "cell_type": "markdown",
   "metadata": {},
   "source": [
    "实现效果可以参见https://zhuanlan.zhihu.com/p/122214626"
   ]
  }
 ]
}