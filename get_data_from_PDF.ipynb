{
 "nbformat": 4,
 "nbformat_minor": 2,
 "metadata": {
  "language_info": {
   "name": "python",
   "codemirror_mode": {
    "name": "ipython",
    "version": 3
   },
   "version": "3.7.4-final"
  },
  "orig_nbformat": 2,
  "file_extension": ".py",
  "mimetype": "text/x-python",
  "name": "python",
  "npconvert_exporter": "python",
  "pygments_lexer": "ipython3",
  "version": 3,
  "kernelspec": {
   "name": "python37432bit6a4013f1a8ec4766a4af9787f2730623",
   "display_name": "Python 3.7.4 32-bit"
  }
 },
 "cells": [
  {
   "cell_type": "markdown",
   "metadata": {},
   "source": [
    "本文为你展示，如何用Python把许多PDF文件的文本内容批量提取出来，并且整理存储到数据框中，以便于后续的数据分析。"
   ]
  },
  {
   "cell_type": "code",
   "execution_count": null,
   "metadata": {},
   "outputs": [],
   "source": [
    "import tabula\n"
   ]
  },
  {
   "cell_type": "markdown",
   "metadata": {},
   "source": [
    "## 使用PyPDF2从pdf中提取简单文本，示例代码如下：\n"
   ]
  },
  {
   "cell_type": "markdown",
   "metadata": {},
   "source": [
    "### 以普华永道“疫后工业基建行业数字化转型，顺势而为再升级”为例\n",
    "二零二零年三月\n",
    "在新冠疫情的战“疫”中，除了可歌可泣的医护人员，与时间赛跑的“火神山医院”和“雷神山医院”的建设工程无疑成为大家关注的焦点之一。网上实时播出的建造进程，让世界再次见证了中国基建的火雷速度！疫情期间，虽然全国民众同心宅家战“疫”，但民生能源供应不断、通讯网络保持畅通。这一切正是因为我国完善的工业、运输和通讯网络强大的基建能力才让我们在战“疫”中免除了后顾之忧。\n",
    "\n",
    "疫后，预计工业基建行业将受惠于国家加大投资的政策而加速增长，特别是能源基建、运输物流基建，以及城市公共医疗等市政基建在内的工业基建和相关工程与建筑行业。在疫后工业基建行业迎来的新一轮发展过程中，普华永道预计5G、物联网、大数据、机器人、人工智能、机器学习、数字孪生模型、虚拟和增强现实(VR/AR)等新兴技术将推动工业基建行业相关企业进入数字化转型和升级的“新基建”发展轨道，而重塑四大关键数字化能力，将帮助基建行业企业在“新基建”蓝图下迎来更多发展机遇。"
   ]
  },
  {
   "cell_type": "code",
   "execution_count": 2,
   "metadata": {},
   "outputs": [
    {
     "output_type": "stream",
     "name": "stdout",
     "text": "https://www.pwccn.com/zh/consulting/publications/industrial-infrastructure-digitalisation.pdf\n"
    }
   ],
   "source": [
    "pdf='https://www.pwccn.com/zh/consulting/publications/industrial-infrastructure-digitalisation.pdf'\n",
    "print(pdf)"
   ]
  },
  {
   "cell_type": "code",
   "execution_count": 3,
   "metadata": {},
   "outputs": [
    {
     "output_type": "error",
     "ename": "FileNotFoundError",
     "evalue": "[Errno 2] No such file or directory: 'example.pdf'",
     "traceback": [
      "\u001b[1;31m---------------------------------------------------------------------------\u001b[0m",
      "\u001b[1;31mFileNotFoundError\u001b[0m                         Traceback (most recent call last)",
      "\u001b[1;32m<ipython-input-3-a415b0a770f2>\u001b[0m in \u001b[0;36m<module>\u001b[1;34m\u001b[0m\n\u001b[0;32m      1\u001b[0m \u001b[1;32mimport\u001b[0m \u001b[0mPyPDF2\u001b[0m\u001b[1;33m\u001b[0m\u001b[1;33m\u001b[0m\u001b[0m\n\u001b[1;32m----> 2\u001b[1;33m \u001b[0mpdfFileObj\u001b[0m \u001b[1;33m=\u001b[0m \u001b[0mopen\u001b[0m\u001b[1;33m(\u001b[0m\u001b[1;34m'example.pdf'\u001b[0m\u001b[1;33m,\u001b[0m \u001b[1;34m'rb'\u001b[0m\u001b[1;33m)\u001b[0m\u001b[1;33m\u001b[0m\u001b[1;33m\u001b[0m\u001b[0m\n\u001b[0m",
      "\u001b[1;31mFileNotFoundError\u001b[0m: [Errno 2] No such file or directory: 'example.pdf'"
     ]
    }
   ],
   "source": [
    "import PyPDF2\n",
    "pdfFileObj = open('example.pdf', 'rb')"
   ]
  },
  {
   "cell_type": "code",
   "execution_count": null,
   "metadata": {},
   "outputs": [],
   "source": []
  },
  {
   "cell_type": "code",
   "execution_count": 6,
   "metadata": {},
   "outputs": [
    {
     "output_type": "stream",
     "name": "stdout",
     "text": "https://www.pwccn.com/zh/consulting/publications/industrial-infrastructure-digitalisation.pdf\n72\n"
    }
   ],
   "source": [
    "pdf='https://www.pwccn.com/zh/consulting/publications/industrial-infrastructure-digitalisation.pdf'\n",
    "pdf='https://www.pwc.com/gx/en/world-2050/assets/pwc-the-world-in-2050-full-report-feb-2017.pdf'\n",
    "# pdf_file='industrial-infrastructure-digitalisation.pdf'\n",
    "pdf_file='pwc-the-world-in-2050-full-report-feb-2017.pdf'\n",
    "\n",
    "import PyPDF2\n",
    "pdfFileObj = open(pdf_file, 'rb')\n",
    "pdfReader = PyPDF2.PdfFileReader(pdfFileObj)\n",
    "print('total page number is',pdfReader.numPages)"
   ]
  },
  {
   "cell_type": "code",
   "execution_count": 3,
   "metadata": {},
   "outputs": [
    {
     "output_type": "stream",
     "name": "stdout",
     "text": "第 0 页\n www.pwc.com\n \nThe World in 2050\n \n \n \n \nThe Long View\n \nHow will the global \neconomic order change \n \nby\n \n2050\n?\n \n \n \n \nFebruary 2017\n \n\n"
    }
   ],
   "source": [
    "pdf_file='pwc-the-world-in-2050-full-report-feb-2017.pdf'\n",
    "import PyPDF2\n",
    "i=0\n",
    "pdfFileObj = open(pdf_file, 'rb')\n",
    "pdfReader = PyPDF2.PdfFileReader(pdfFileObj)\n",
    "pageObj = pdfReader.getPage(i)\n",
    "print('第',i,'页\\n',pageObj.extractText())"
   ]
  },
  {
   "cell_type": "code",
   "execution_count": 4,
   "metadata": {},
   "outputs": [
    {
     "output_type": "stream",
     "name": "stdout",
     "text": "第 62 页\n The World in \n2050\n \n \n \nThe long view: how will the global economic order change by 2050?\n \nPwC\n \n \nPage \n63\n \nof \n72\n \n \nA.1.1. Demographics\n \nWe use the latest UN pro\njectio\nns for the population aged 15\n-\n64\n \nas a proxy for labour force growth (these include \nnet migration). Some economies might be able to achieve faster growth here if they can raise their employment \nrates, but any such effects are difficult to predict and \nwe have therefore not included them in our base \ncase\n \nestimates.\n \nIn all but seven of the countries considered in this study\n55\n, the working age (15\n-\n64)\n \nshare of total population is \nprojected to fall between 2016 and 2050. \nThis is the cou\nnterpart of the fact \nthat all 32 countries (including \nthose projected not to see a fall in their working age population share\n) are projected to see a rising sh\nare of their \npopulations aged 65\n \nor over. \nKorea, Spain, Thailand, China and Poland are \nexpected to see the largest dec\nlines \nin the share of the prime working age group over the period to 2050. Significant ageing effects are therefore by \nno means confined to the existing developed countries, but are also important for some of the major emerging \nmarket economies. \n \nIf we look inst\nead at expected growth in \nworking age\n \npopulations (\nsee\n \nFigure A1\n), then there are more countries \nwith positive growth rates due either to relatively high birth\n \nrates (e.g. Nigeria, Philippines, India) and/or \nimmigration rates (e.g. the US). But all of the OECD countries in Europe are facing declining working age \npopulations, except the UK and France where they are projected to be broadly static. This is also tru\ne of Japan, \nSouth Korea, Thailand, China and Russia. The impact of a declining, ageing population is particularly \n\nemerging economies. An ageing p\nopulation also acts as a drag on Chinese growth in the longer term relative to \nthat of India.\n \nSource: PwC analysis\n \n \n                                        \n                    \n \n55\n \nBangladesh, Egypt, India, Pakistan, Philippines, Nigeria, and South Africa are projected by the UN to see a small rise in \nthe share of those aged 15\n-\n64 of the total population, by an average of 3% points. \n \n-2.0%\n-1.0%\n0.0%\n1.0%\n2.0%\n3.0%\nProjected average working age populaiton growth p.a. (2016\n-\n2015)\nFigure A1\n: UN estimates of average working\n-\nage population growth to 2050 (% p.a.)\n \n\n第 63 页\n The World in \n2050\n \n \n \nThe long view: how will the global economic order change by 2050?\n \nPwC\n \n \nPage \n64\n \nof \n72\n \n \nA.1.2 Education\n \nIn common with several past academic studies, we have based our estimates of the human capital stock on the \ndata on average \nyears of schooling for the population aged 25 and over from Barro and Lee (2001). We then \nfollow the approach of Hall and Jones (1998), which in turn was based on the survey of international estimates \nof the returns to schooling in countries at different l\nevels of economic development by Psacharopoulus (1994). \nSpecifically, for the first four years of education, we assume a rate of return of 13.4%, corresponding to average \nestimates for sub\n-\nSaharan Africa. For the next four years, we assume a return of 10.1\n%, corresponding to the \naverage for the world as a whole. For education beyond the 8\nth\n \nyear, we assume estimated OECD average \nreturns of 6.8%. This approach leads to estimates of the stock of human capital per worker as an index relative \nto the US.\n \nWe then\n \nassume that the average years of schooling of the over\n-\n25 population rises over time in each country at \nrates derived by extrapolating forward from trends over the past 5\n-\n20 years (the weight given to past averages \nover 5, 10 or 20 years varies across cou\nntries depending on what we consider to be the best indicator of \nunderlying trends in education levels in each country). In line with trends over this past period, average years of \nschooling are assumed to rise at the slowest rate in the US, reflecting the\nir higher starting point. This allows \nother countries to catch up with estimated average US levels of human capital per worker. \n \nThe fastest educational catch\n-\nup rates are assumed to be seen in Asian countries such as India and Indonesia, \nwhich is consiste\nnt with trends in recent periods and is an important factor in their relatively strong projected \ngrowth performance. Russia and Poland, with relatively high initial average education levels, make some \nfurther progress but have less scope for rapid catch\n-\nup\n \nin this area.\n \nA.1.3. Capital investment\n \nWe began with estimates from King and Levine (1994) of capital stock to output ratios in the mid\n-\n1980s. These \nratios are projected forward to our 2016 base year using data on investment as a % of GDP from the Penn W\norld \nTables (v. 8.0) database up to 2014, supplemented by IMF data for more recent years. We assume a uniform 5% \nannual depreciation rate of the existing capital stock both in this calculation and in the forward\n-\nlooking \nprojections, which is consistent wit\nh the 4\n-\n6% depreciation rates generally assumed in the academic literature. \nThe resulti\nng capital\n-\noutput ratios in 2016\n \nvary from around 1\n.2 in Nigeria to 3.7\n \nin Japan (the UK ratio is \na\nround\n \n2.6\n).\n \nLooking forward, we assume that initial average annual inv\nestment/GDP ratios, which vary from around \n6% in \nNigeria to around 37\n% in China, adjust gradually to long run investment levels after 2025 that vary more \nnarrowly from 8% in Nigeria to around 25\n-\n30% in some Asian emergi\nng economies (see Table A1\n \nbelow\n). \n \nT\nhese assumptions reflect the view that, with declining marginal returns on new investment over time, the very \nhigh investment/GDP ratios seen in China and other Asian emerging markets will tend to decline in the long \nrun as these economies mature (as has h\nappened with Japan since the early 1990s). \n \nIn line with similar past studies, we assume for simplicity that capital has a constant 1/3 share in national \noutput, with labour having a 2/3 share. While labour shares have declined in many advanced economies i\nn \nrecent years, it is not at all clear if this will continue in the long run, so we prefer to make this simpler \nassumption to avoid over\n-\ncomplicating the model.\n \n \n \n\n"
    }
   ],
   "source": [
    "pdf_file='pwc-the-world-in-2050-full-report-feb-2017.pdf'\n",
    "import PyPDF2\n",
    "\n",
    "pdfFileObj = open(pdf_file, 'rb')\n",
    "pdfReader = PyPDF2.PdfFileReader(pdfFileObj)\n",
    "pages=pdfReader.numPages\n",
    "for i in range(pages-10,pages-8):\n",
    "    pageObj = pdfReader.getPage(i)\n",
    "    print('第',i,'页\\n',pageObj.extractText())"
   ]
  },
  {
   "cell_type": "markdown",
   "metadata": {},
   "source": [
    "## 使用tabula从pdf中读取表格数据\n",
    "### 安装tabula\n",
    "pip install -i https://pypi.tuna.tsinghua.edu.cn/simple tabula-py\n",
    "### 安装java\n",
    "https://repo.huaweicloud.com/java/jdk/\n",
    "### 安装openpyxl\n",
    "pip install -i https://pypi.tuna.tsinghua.edu.cn/simple openpyxl\n"
   ]
  },
  {
   "cell_type": "code",
   "execution_count": 1,
   "metadata": {},
   "outputs": [
    {
     "output_type": "stream",
     "name": "stderr",
     "text": "'pages' argument isn't specified.Will extract only from page 1 by default.\n"
    },
    {
     "output_type": "error",
     "ename": "JavaNotFoundError",
     "evalue": "`java` command is not found from this Python process.Please ensure Java is installed and PATH is set for `java`",
     "traceback": [
      "\u001b[1;31m---------------------------------------------------------------------------\u001b[0m",
      "\u001b[1;31mFileNotFoundError\u001b[0m                         Traceback (most recent call last)",
      "\u001b[1;32m~\\AppData\\Local\\Programs\\Python\\Python37-32\\lib\\site-packages\\tabula\\io.py\u001b[0m in \u001b[0;36m_run\u001b[1;34m(java_options, options, path, encoding)\u001b[0m\n\u001b[0;32m     84\u001b[0m             \u001b[0mstdin\u001b[0m\u001b[1;33m=\u001b[0m\u001b[0msubprocess\u001b[0m\u001b[1;33m.\u001b[0m\u001b[0mDEVNULL\u001b[0m\u001b[1;33m,\u001b[0m\u001b[1;33m\u001b[0m\u001b[1;33m\u001b[0m\u001b[0m\n\u001b[1;32m---> 85\u001b[1;33m             \u001b[0mcheck\u001b[0m\u001b[1;33m=\u001b[0m\u001b[1;32mTrue\u001b[0m\u001b[1;33m,\u001b[0m\u001b[1;33m\u001b[0m\u001b[1;33m\u001b[0m\u001b[0m\n\u001b[0m\u001b[0;32m     86\u001b[0m         )\n",
      "\u001b[1;32m~\\AppData\\Local\\Programs\\Python\\Python37-32\\lib\\subprocess.py\u001b[0m in \u001b[0;36mrun\u001b[1;34m(input, capture_output, timeout, check, *popenargs, **kwargs)\u001b[0m\n\u001b[0;32m    471\u001b[0m \u001b[1;33m\u001b[0m\u001b[0m\n\u001b[1;32m--> 472\u001b[1;33m     \u001b[1;32mwith\u001b[0m \u001b[0mPopen\u001b[0m\u001b[1;33m(\u001b[0m\u001b[1;33m*\u001b[0m\u001b[0mpopenargs\u001b[0m\u001b[1;33m,\u001b[0m \u001b[1;33m**\u001b[0m\u001b[0mkwargs\u001b[0m\u001b[1;33m)\u001b[0m \u001b[1;32mas\u001b[0m \u001b[0mprocess\u001b[0m\u001b[1;33m:\u001b[0m\u001b[1;33m\u001b[0m\u001b[1;33m\u001b[0m\u001b[0m\n\u001b[0m\u001b[0;32m    473\u001b[0m         \u001b[1;32mtry\u001b[0m\u001b[1;33m:\u001b[0m\u001b[1;33m\u001b[0m\u001b[1;33m\u001b[0m\u001b[0m\n",
      "\u001b[1;32m~\\AppData\\Local\\Programs\\Python\\Python37-32\\lib\\subprocess.py\u001b[0m in \u001b[0;36m__init__\u001b[1;34m(self, args, bufsize, executable, stdin, stdout, stderr, preexec_fn, close_fds, shell, cwd, env, universal_newlines, startupinfo, creationflags, restore_signals, start_new_session, pass_fds, encoding, errors, text)\u001b[0m\n\u001b[0;32m    774\u001b[0m                                 \u001b[0merrread\u001b[0m\u001b[1;33m,\u001b[0m \u001b[0merrwrite\u001b[0m\u001b[1;33m,\u001b[0m\u001b[1;33m\u001b[0m\u001b[1;33m\u001b[0m\u001b[0m\n\u001b[1;32m--> 775\u001b[1;33m                                 restore_signals, start_new_session)\n\u001b[0m\u001b[0;32m    776\u001b[0m         \u001b[1;32mexcept\u001b[0m\u001b[1;33m:\u001b[0m\u001b[1;33m\u001b[0m\u001b[1;33m\u001b[0m\u001b[0m\n",
      "\u001b[1;32m~\\AppData\\Local\\Programs\\Python\\Python37-32\\lib\\subprocess.py\u001b[0m in \u001b[0;36m_execute_child\u001b[1;34m(self, args, executable, preexec_fn, close_fds, pass_fds, cwd, env, startupinfo, creationflags, shell, p2cread, p2cwrite, c2pread, c2pwrite, errread, errwrite, unused_restore_signals, unused_start_new_session)\u001b[0m\n\u001b[0;32m   1177\u001b[0m                                          \u001b[0mos\u001b[0m\u001b[1;33m.\u001b[0m\u001b[0mfspath\u001b[0m\u001b[1;33m(\u001b[0m\u001b[0mcwd\u001b[0m\u001b[1;33m)\u001b[0m \u001b[1;32mif\u001b[0m \u001b[0mcwd\u001b[0m \u001b[1;32mis\u001b[0m \u001b[1;32mnot\u001b[0m \u001b[1;32mNone\u001b[0m \u001b[1;32melse\u001b[0m \u001b[1;32mNone\u001b[0m\u001b[1;33m,\u001b[0m\u001b[1;33m\u001b[0m\u001b[1;33m\u001b[0m\u001b[0m\n\u001b[1;32m-> 1178\u001b[1;33m                                          startupinfo)\n\u001b[0m\u001b[0;32m   1179\u001b[0m             \u001b[1;32mfinally\u001b[0m\u001b[1;33m:\u001b[0m\u001b[1;33m\u001b[0m\u001b[1;33m\u001b[0m\u001b[0m\n",
      "\u001b[1;31mFileNotFoundError\u001b[0m: [WinError 2] The system cannot find the file specified",
      "\nDuring handling of the above exception, another exception occurred:\n",
      "\u001b[1;31mJavaNotFoundError\u001b[0m                         Traceback (most recent call last)",
      "\u001b[1;32m<ipython-input-1-d37b2fa26e49>\u001b[0m in \u001b[0;36m<module>\u001b[1;34m\u001b[0m\n\u001b[0;32m      1\u001b[0m \u001b[0mpdf_file\u001b[0m\u001b[1;33m=\u001b[0m\u001b[1;34m'pwc-the-world-in-2050-full-report-feb-2017.pdf'\u001b[0m\u001b[1;33m\u001b[0m\u001b[1;33m\u001b[0m\u001b[0m\n\u001b[0;32m      2\u001b[0m \u001b[1;32mimport\u001b[0m \u001b[0mtabula\u001b[0m\u001b[1;33m\u001b[0m\u001b[1;33m\u001b[0m\u001b[0m\n\u001b[1;32m----> 3\u001b[1;33m \u001b[0mdf\u001b[0m \u001b[1;33m=\u001b[0m \u001b[0mtabula\u001b[0m\u001b[1;33m.\u001b[0m\u001b[0mread_pdf\u001b[0m\u001b[1;33m(\u001b[0m\u001b[0mpdf_file\u001b[0m\u001b[1;33m)\u001b[0m\u001b[1;33m\u001b[0m\u001b[1;33m\u001b[0m\u001b[0m\n\u001b[0m\u001b[0;32m      4\u001b[0m \u001b[0mdf\u001b[0m\u001b[1;33m.\u001b[0m\u001b[0mhead\u001b[0m\u001b[1;33m(\u001b[0m\u001b[1;33m)\u001b[0m\u001b[1;33m\u001b[0m\u001b[1;33m\u001b[0m\u001b[0m\n",
      "\u001b[1;32m~\\AppData\\Local\\Programs\\Python\\Python37-32\\lib\\site-packages\\tabula\\io.py\u001b[0m in \u001b[0;36mread_pdf\u001b[1;34m(input_path, output_format, encoding, java_options, pandas_options, multiple_tables, user_agent, **kwargs)\u001b[0m\n\u001b[0;32m    320\u001b[0m \u001b[1;33m\u001b[0m\u001b[0m\n\u001b[0;32m    321\u001b[0m     \u001b[1;32mtry\u001b[0m\u001b[1;33m:\u001b[0m\u001b[1;33m\u001b[0m\u001b[1;33m\u001b[0m\u001b[0m\n\u001b[1;32m--> 322\u001b[1;33m         \u001b[0moutput\u001b[0m \u001b[1;33m=\u001b[0m \u001b[0m_run\u001b[0m\u001b[1;33m(\u001b[0m\u001b[0mjava_options\u001b[0m\u001b[1;33m,\u001b[0m \u001b[0mkwargs\u001b[0m\u001b[1;33m,\u001b[0m \u001b[0mpath\u001b[0m\u001b[1;33m,\u001b[0m \u001b[0mencoding\u001b[0m\u001b[1;33m)\u001b[0m\u001b[1;33m\u001b[0m\u001b[1;33m\u001b[0m\u001b[0m\n\u001b[0m\u001b[0;32m    323\u001b[0m     \u001b[1;32mfinally\u001b[0m\u001b[1;33m:\u001b[0m\u001b[1;33m\u001b[0m\u001b[1;33m\u001b[0m\u001b[0m\n\u001b[0;32m    324\u001b[0m         \u001b[1;32mif\u001b[0m \u001b[0mtemporary\u001b[0m\u001b[1;33m:\u001b[0m\u001b[1;33m\u001b[0m\u001b[1;33m\u001b[0m\u001b[0m\n",
      "\u001b[1;32m~\\AppData\\Local\\Programs\\Python\\Python37-32\\lib\\site-packages\\tabula\\io.py\u001b[0m in \u001b[0;36m_run\u001b[1;34m(java_options, options, path, encoding)\u001b[0m\n\u001b[0;32m     89\u001b[0m         \u001b[1;32mreturn\u001b[0m \u001b[0mresult\u001b[0m\u001b[1;33m.\u001b[0m\u001b[0mstdout\u001b[0m\u001b[1;33m\u001b[0m\u001b[1;33m\u001b[0m\u001b[0m\n\u001b[0;32m     90\u001b[0m     \u001b[1;32mexcept\u001b[0m \u001b[0mFileNotFoundError\u001b[0m\u001b[1;33m:\u001b[0m\u001b[1;33m\u001b[0m\u001b[1;33m\u001b[0m\u001b[0m\n\u001b[1;32m---> 91\u001b[1;33m         \u001b[1;32mraise\u001b[0m \u001b[0mJavaNotFoundError\u001b[0m\u001b[1;33m(\u001b[0m\u001b[0mJAVA_NOT_FOUND_ERROR\u001b[0m\u001b[1;33m)\u001b[0m\u001b[1;33m\u001b[0m\u001b[1;33m\u001b[0m\u001b[0m\n\u001b[0m\u001b[0;32m     92\u001b[0m     \u001b[1;32mexcept\u001b[0m \u001b[0msubprocess\u001b[0m\u001b[1;33m.\u001b[0m\u001b[0mCalledProcessError\u001b[0m \u001b[1;32mas\u001b[0m \u001b[0me\u001b[0m\u001b[1;33m:\u001b[0m\u001b[1;33m\u001b[0m\u001b[1;33m\u001b[0m\u001b[0m\n\u001b[0;32m     93\u001b[0m         \u001b[0mlogger\u001b[0m\u001b[1;33m.\u001b[0m\u001b[0merror\u001b[0m\u001b[1;33m(\u001b[0m\u001b[1;34m\"Error from tabula-java:\\n{}\\n\"\u001b[0m\u001b[1;33m.\u001b[0m\u001b[0mformat\u001b[0m\u001b[1;33m(\u001b[0m\u001b[0me\u001b[0m\u001b[1;33m.\u001b[0m\u001b[0mstderr\u001b[0m\u001b[1;33m.\u001b[0m\u001b[0mdecode\u001b[0m\u001b[1;33m(\u001b[0m\u001b[0mencoding\u001b[0m\u001b[1;33m)\u001b[0m\u001b[1;33m)\u001b[0m\u001b[1;33m)\u001b[0m\u001b[1;33m\u001b[0m\u001b[1;33m\u001b[0m\u001b[0m\n",
      "\u001b[1;31mJavaNotFoundError\u001b[0m: `java` command is not found from this Python process.Please ensure Java is installed and PATH is set for `java`"
     ]
    }
   ],
   "source": [
    "pdf_file='pwc-the-world-in-2050-full-report-feb-2017.pdf'\n",
    "import tabula\n",
    "df = tabula.read_pdf(pdf_file)\n",
    "df.head()"
   ]
  },
  {
   "cell_type": "code",
   "execution_count": null,
   "metadata": {},
   "outputs": [],
   "source": []
  }
 ]
}