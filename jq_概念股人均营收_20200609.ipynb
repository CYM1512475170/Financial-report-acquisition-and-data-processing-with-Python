{
 "cells": [
  {
   "cell_type": "code",
   "execution_count": 20,
   "metadata": {},
   "outputs": [
    {
     "output_type": "stream",
     "name": "stdout",
     "text": "提示：当前环境pandas版本为0.25，get_price与get_fundamentals_continuously接口panel参数将固定为False\n注意：0.25以上版本pandas不支持panel，如使用该数据结构和相关函数请注意修改\nauth success \n"
    }
   ],
   "source": [
    "import jqdatasdk\n",
    "from jqdatasdk import *\n",
    "jqdatasdk.auth(\"13141315365\", \"315365\")"
   ]
  },
  {
   "cell_type": "code",
   "execution_count": 5,
   "metadata": {},
   "outputs": [
    {
     "output_type": "stream",
     "name": "stdout",
     "text": "001\n002\n003\n004\n005\n006\n007\n008\n009\n"
    }
   ],
   "source": [
    "#!/usr/bin/env python3\n",
    "#-*- coding:utf-8 -*-\n",
    "for i in range(1,10):\n",
    "    print (str(i).rjust(3,'0'))"
   ]
  },
  {
   "cell_type": "markdown",
   "metadata": {},
   "source": [
    "## 参股金融概念"
   ]
  },
  {
   "cell_type": "code",
   "execution_count": 43,
   "metadata": {
    "tags": [
     "outputPrepend",
     "outputPrepend",
     "outputPrepend",
     "outputPrepend",
     "outputPrepend",
     "outputPrepend",
     "outputPrepend",
     "outputPrepend",
     "outputPrepend",
     "outputPrepend",
     "outputPrepend",
     "outputPrepend",
     "outputPrepend",
     "outputPrepend",
     "outputPrepend",
     "outputPrepend",
     "outputPrepend",
     "outputPrepend",
     "outputPrepend",
     "outputPrepend",
     "outputPrepend",
     "outputPrepend",
     "outputPrepend",
     "outputPrepend"
    ]
   },
   "outputs": [
    {
     "output_type": "stream",
     "name": "stdout",
     "text": "******** GN001 ********\n   name         code  employee  total_operating_revenue  ratio\n0  深圳能源  000027.XSHE      6935             2.081700e+10    NaN\n   name         code  employee  total_operating_revenue  ratio\n0  国际实业  000159.XSHE       295              430842047.3    NaN\n   name         code  employee  total_operating_revenue  ratio\n0  粤高速A  000429.XSHE      2154             3.057936e+09    NaN\n   name         code  employee  total_operating_revenue  ratio\n0  冰山冷热  000530.XSHE      1582             1.831851e+09    NaN\n   name         code  employee  total_operating_revenue  ratio\n0  佛山照明  000541.XSHE      7541             3.337577e+09    NaN\n   name         code  employee  total_operating_revenue  ratio\n0  皖能电力  000543.XSHE      3498             1.609224e+10    NaN\n   name         code  employee  total_operating_revenue  ratio\n0  创元科技  000551.XSHE      2636             3.237263e+09    NaN\n   name         code  employee  total_operating_revenue  ratio\n0  苏常柴A  000570.XSHE      3010             2.040134e+09    NaN\n   name         code  employee  total_operating_revenue  ratio\n0  宝新能源  000690.XSHE      1370             5.626823e+09    NaN\n   name         code  employee  total_operating_revenue  ratio\n0  模塑科技  000700.XSHE      4239             5.489528e+09    NaN\n   name         code  employee  total_operating_revenue  ratio\n0  正虹科技  000702.XSHE      1047             1.123012e+09    NaN\n   name         code  employee  total_operating_revenue  ratio\n0  浙江震元  000705.XSHE      1904             3.243149e+09    NaN\n   name         code  employee  total_operating_revenue  ratio\n0  新华制药  000756.XSHE      6399             5.606021e+09    NaN\n   name         code  employee  total_operating_revenue  ratio\n0  华茂股份  000850.XSHE      5118             2.978917e+09    NaN\n   name         code  employee  total_operating_revenue  ratio\n0  金陵药业  000919.XSHE      4767             2.534921e+09    NaN\n   name         code  employee  total_operating_revenue  ratio\n0  华西股份  000936.XSHE       941             3.186875e+09    NaN\n   name         code  employee  total_operating_revenue  ratio\n0  浙能电力  600023.XSHG     10465             5.437055e+10    NaN\n   name         code  employee  total_operating_revenue  ratio\n0  黄山旅游  600054.XSHG      3605             1.606740e+09    NaN\n   name         code  employee  total_operating_revenue  ratio\n0  南京高科  600064.XSHG       811             2.930211e+09    NaN\n   name         code  employee  total_operating_revenue  ratio\n0  浙江东日  600113.XSHG       796             4.983711e+08    NaN\n   name         code  employee  total_operating_revenue  ratio\n0  上海建工  600170.XSHG     42762             2.054967e+11    NaN\n   name         code  employee  total_operating_revenue  ratio\n0  华资实业  600191.XSHG       490             1.110705e+08    NaN\n   name         code  employee  total_operating_revenue  ratio\n0  海航控股  600221.XSHG     34048             7.238941e+10    NaN\n  name         code  employee  total_operating_revenue  ratio\n0  两面针  600249.XSHG      2314             1.186674e+09    NaN\n   name         code  employee  total_operating_revenue  ratio\n0  中恒集团  600252.XSHG      2469             3.814056e+09    NaN\n   name         code  employee  total_operating_revenue  ratio\n0  阳光照明  600261.XSHG      8188             5.316197e+09    NaN\n   name         code  employee  total_operating_revenue  ratio\n0  城建发展  600266.XSHG      2757             1.643188e+10    NaN\n   name         code  employee  total_operating_revenue  ratio\n0  赣粤高速  600269.XSHG      3478             5.039442e+09    NaN\n   name         code  employee  total_operating_revenue  ratio\n0  东方创业  600278.XSHG      1647             1.769248e+10    NaN\n   name         code  employee  total_operating_revenue  ratio\n0  浦东建设  600284.XSHG       566             6.219611e+09    NaN\n   name         code  employee  total_operating_revenue  ratio\n0  江苏舜天  600287.XSHG      2130             4.621764e+09    NaN\n   name         code  employee  total_operating_revenue  ratio\n0  大恒科技  600288.XSHG      2440             3.305798e+09    NaN\n   name         code  employee  total_operating_revenue  ratio\n0  远达环保  600292.XSHG      2230             4.067544e+09    NaN\n   name         code  employee  total_operating_revenue  ratio\n0  小商品城  600415.XSHG      4604             4.042768e+09    NaN\n  name         code  employee  total_operating_revenue  ratio\n0  好当家  600467.XSHG      4298             1.226123e+09    NaN\n  name         code  employee  total_operating_revenue  ratio\n0  黑牡丹  600510.XSHG      3464             7.776961e+09    NaN\n   name         code  employee  total_operating_revenue  ratio\n0  龙溪股份  600592.XSHG      2544             9.460285e+08    NaN\n   name         code  employee  total_operating_revenue  ratio\n0  大众交通  600611.XSHG      9293             3.802490e+09    NaN\n  name         code  employee  total_operating_revenue  ratio\n0  新黄浦  600638.XSHG       740             1.316166e+09    NaN\n   name         code  employee  total_operating_revenue  ratio\n0  浦东金桥  600639.XSHG       218             3.352383e+09    NaN\n   name         code  employee  total_operating_revenue  ratio\n0  锦江投资  600650.XSHG      8014             2.541806e+09    NaN\n   name         code  employee  total_operating_revenue  ratio\n0  南京医药  600713.XSHG      4767             3.715574e+10    NaN\n  name         code  employee  total_operating_revenue  ratio\n0  天津港  600717.XSHG      7623             1.288467e+10    NaN\n   name         code  employee  total_operating_revenue  ratio\n0  兰州民百  600738.XSHG       701             1.882507e+09    NaN\n   name         code  employee  total_operating_revenue  ratio\n0  华域汽车  600741.XSHG     33389             1.440236e+11    NaN\n   name         code  employee  total_operating_revenue  ratio\n0  综艺股份  600770.XSHG       673             4.584265e+08    NaN\n   name         code  employee  total_operating_revenue  ratio\n0  友好集团  600778.XSHG      3236             5.238606e+09    NaN\n  name         code  employee  total_operating_revenue  ratio\n0  轻纺城  600790.XSHG      1082              981239467.1    NaN\n   name         code  employee  total_operating_revenue  ratio\n0  国电电力  600795.XSHG     36162             1.165993e+11    NaN\n   name         code  employee  total_operating_revenue  ratio\n0  福建水泥  600802.XSHG      1881             3.043783e+09    NaN\n   name         code  employee  total_operating_revenue  ratio\n0  百联股份  600827.XSHG     35971             5.045877e+10    NaN\n   name         code  employee  total_operating_revenue  ratio\n0  上海九百  600838.XSHG       190              74232786.59    NaN\n   name         code  employee  total_operating_revenue  ratio\n0  杉杉股份  600884.XSHG      4681             8.679911e+09    NaN\n   name         code  employee  total_operating_revenue  ratio\n0  国芳集团  601086.XSHG      1414             2.765901e+09    NaN\n   name         code  employee  total_operating_revenue  ratio\n0  重庆水务  601158.XSHG      5817             5.638549e+09    NaN\n   name         code  employee  total_operating_revenue  ratio\n0  中国交建  601800.XSHG    124457             5.547924e+11    NaN\n   name         code  employee  total_operating_revenue  ratio\n0  新华文轩  601811.XSHG      7728             8.842458e+09    NaN\n   name         code  employee  total_operating_revenue  ratio\n0  南方传媒  601900.XSHG      5639             6.525319e+09    NaN\n   name         code  employee  total_operating_revenue  ratio\n0  出版传媒  601999.XSHG      2374             2.710640e+09    NaN\n   name         code  employee  total_operating_revenue  ratio\n0  川仪股份  603100.XSHG      4696             3.968890e+09    NaN\n   name         code  employee  total_operating_revenue  ratio\n0  坤彩科技  603826.XSHG       521             6.170060e+08    NaN\n"
    }
   ],
   "source": [
    "\n",
    "for i in range(1,2):\n",
    "    conceptno='GN'+str(i).rjust(3,'0') # 加载概念股清单\n",
    "    print('********',conceptno,'********')\n",
    "    # print(conceptno)\n",
    "    try:    \n",
    "        # print('123')\n",
    "        stocks=get_concept_stocks(conceptno, date=None) # 员工人数\n",
    "        # print(stocks)\n",
    "        for code1 in stocks: \n",
    "            # print('123')\n",
    "            # print(code)\n",
    "            yuangong=finance.run_query(query(finance.STK_EMPLOYEE_INFO.name,finance.STK_EMPLOYEE_INFO.code,finance.STK_EMPLOYEE_INFO.employee).filter(finance.STK_EMPLOYEE_INFO.code==code1,finance.STK_EMPLOYEE_INFO.pub_date>='2019-12-01').limit(10))\n",
    "            # yuan_gong=finance.run_query(query(finance.STK_EMPLOYEE_INFO).filter(finance.STK_EMPLOYEE_INFO.code==code,finance.STK_EMPLOYEE_INFO.pub_date>='2019-12-01').limit(1000)) \n",
    "            # print(conceptno,yuangong) \n",
    "            yuan_gong=finance.run_query(query(finance.STK_INCOME_STATEMENT.code,finance.STK_INCOME_STATEMENT.total_operating_revenue).filter(finance.STK_INCOME_STATEMENT.code==code1,finance.STK_INCOME_STATEMENT.end_date=='2019-12-31').limit(1000))\n",
    "            \n",
    "            # print(yuan_gong.fillna(1))            \n",
    "            import pandas# 将两个表连接起来\n",
    "            # print(pandas.merge(yuangong,yuan_gong))\n",
    "            df=pandas.merge(yuangong,yuan_gong)\n",
    "            df['ratio'] = df['total_operating_revenue'].div(df.groupby('name')['total_operating_revenue'].shift(1))\n",
    "            print(df.head())\n",
    "            \n",
    "    except:\n",
    "        print(\"~~~~~\",conceptno)\n",
    "        pass"
   ]
  },
  {
   "cell_type": "code",
   "execution_count": 38,
   "metadata": {},
   "outputs": [
    {
     "output_type": "stream",
     "name": "stdout",
     "text": "employee  name         code    company_name  total_operating_revenue\n0       521  坤彩科技  603826.XSHG  福建坤彩材料科技股份有限公司             6.170060e+08\n"
    }
   ],
   "source": [
    "# 将两个表连接起来\n",
    "import pandas\n",
    "print(pandas.merge(yuangong,yuan_gong))"
   ]
  },
  {
   "cell_type": "markdown",
   "metadata": {},
   "source": [
    "## 人工智能概念\n",
    "GN201\t201\t人工智能"
   ]
  },
  {
   "cell_type": "code",
   "execution_count": 46,
   "metadata": {},
   "outputs": [
    {
     "output_type": "stream",
     "name": "stdout",
     "text": "******** GN201 ********\n   name         code  employee  total_operating_revenue  ratio\n0  浪潮信息  000977.XSHE      5469             5.165328e+10    NaN\n   name         code  employee  total_operating_revenue  ratio\n0  紫光国微  002049.XSHE      2192             3.430410e+09    NaN\n   name         code  employee  total_operating_revenue  ratio\n0  东华软件  002065.XSHE      8991             8.849013e+09    NaN\n   name         code  employee  total_operating_revenue  ratio\n0  软控股份  002073.XSHE      2626             2.865379e+09    NaN\n   name         code  employee  total_operating_revenue  ratio\n0  广电运通  002152.XSHE     26018             6.496265e+09    NaN\n   name         code  employee  total_operating_revenue  ratio\n0  海得控制  002184.XSHE       958             2.058412e+09    NaN\n   name         code  employee  total_operating_revenue  ratio\n0  江南化工  002226.XSHE      4044             3.633187e+09    NaN\n   name         code  employee  total_operating_revenue  ratio\n0  科大讯飞  002230.XSHE     10447             1.007869e+10    NaN\n   name         code  employee  total_operating_revenue  ratio\n0  川大智胜  002253.XSHE       716             3.425091e+08    NaN\n   name         code  employee  total_operating_revenue  ratio\n0  中电兴发  002298.XSHE      2840             2.755676e+09    NaN\n   name         code  employee  total_operating_revenue  ratio\n0  高乐股份  002348.XSHE      1156             7.124312e+08    NaN\n   name         code  employee  total_operating_revenue  ratio\n0  汉王科技  002362.XSHE      1771             1.104508e+09    NaN\n   name         code  employee  total_operating_revenue  ratio\n0  海康威视  002415.XSHE     40403             5.765811e+10    NaN\n  name         code  employee  total_operating_revenue  ratio\n0  机器人  300024.XSHE      4559             2.745485e+09    NaN\n   name         code  employee  total_operating_revenue  ratio\n0  赛为智能  300044.XSHE      1006             1.276630e+09    NaN\n   name         code  employee  total_operating_revenue  ratio\n0  思创医惠  300078.XSHE      2246             1.573994e+09    NaN\n   name         code  employee  total_operating_revenue  ratio\n0  美亚柏科  300188.XSHE      3318             2.067410e+09    NaN\nEmpty DataFrame\nColumns: [name, employee, code, total_operating_revenue, ratio]\nIndex: []\n   name         code  employee  total_operating_revenue  ratio\n0  科大智能  300222.XSHE      3257             2.313319e+09    NaN\n   name         code  employee  total_operating_revenue  ratio\n0  北京君正  300223.XSHE       263             3.393512e+08    NaN\n  name         code  employee  total_operating_revenue  ratio\n0  拓尔思  300229.XSHE      1761             9.673060e+08    NaN\n   name         code  employee  total_operating_revenue  ratio\n0  慈星股份  300307.XSHE      1650             1.521034e+09    NaN\n   name         code  employee  total_operating_revenue  ratio\n0  东方网力  300367.XSHE      1159             3.535022e+08    NaN\n   name         code  employee  total_operating_revenue  ratio\n0  劲拓股份  300400.XSHE      1161             4.953870e+08    NaN\n   name         code  employee  total_operating_revenue  ratio\n0  昆仑万维  300418.XSHE       717             3.687884e+09    NaN\n   name         code  employee  total_operating_revenue  ratio\n0  全志科技  300458.XSHE       615             1.463360e+09    NaN\n  name         code  employee  total_operating_revenue  ratio\n0  景嘉微  300474.XSHE       723             5.307872e+08    NaN\n   name         code  employee  total_operating_revenue  ratio\n0  神思电子  300479.XSHE       651              470389564.7    NaN\n  name         code  employee  total_operating_revenue  ratio\n0  富瀚微  300613.XSHE       241              522080228.2    NaN\n   name         code  employee  total_operating_revenue  ratio\n0  华胜天成  600410.XSHG      3980             4.575030e+09    NaN\n   name         code  employee  total_operating_revenue  ratio\n0  恒生电子  600570.XSHG      7357             3.871840e+09    NaN\n   name         code  employee  total_operating_revenue  ratio\n0  佳都科技  600728.XSHG      2336             5.011851e+09    NaN\n   name         code  employee  total_operating_revenue  ratio\n0  浪潮软件  600756.XSHG      1899             1.455590e+09    NaN\n   name         code  employee  total_operating_revenue  ratio\n0  浙大网新  600797.XSHG      4839             3.760815e+09    NaN\n  name         code  employee  total_operating_revenue  ratio\n0  三六零  601360.XSHG      5824             1.284110e+10    NaN\n   name         code  employee  total_operating_revenue  ratio\n0  中科曙光  603019.XSHG      3049             9.526470e+09    NaN\n"
    }
   ],
   "source": [
    "\n",
    "for i in range(201,202):\n",
    "    conceptno='GN'+str(i).rjust(3,'0') # 加载概念股清单\n",
    "    print('********',conceptno,'********')\n",
    "    # print(conceptno)\n",
    "    try:    \n",
    "        # print('123')\n",
    "        stocks=get_concept_stocks(conceptno, date=None) # 员工人数\n",
    "        # print(stocks)\n",
    "        for code1 in stocks: \n",
    "            # print('123')\n",
    "            # print(code)\n",
    "            yuangong=finance.run_query(query(finance.STK_EMPLOYEE_INFO.name,finance.STK_EMPLOYEE_INFO.code,finance.STK_EMPLOYEE_INFO.employee).filter(finance.STK_EMPLOYEE_INFO.code==code1,finance.STK_EMPLOYEE_INFO.pub_date>='2019-12-01').limit(10))\n",
    "            # yuan_gong=finance.run_query(query(finance.STK_EMPLOYEE_INFO).filter(finance.STK_EMPLOYEE_INFO.code==code,finance.STK_EMPLOYEE_INFO.pub_date>='2019-12-01').limit(1000)) \n",
    "            # print(conceptno,yuangong) \n",
    "            yuan_gong=finance.run_query(query(finance.STK_INCOME_STATEMENT.code,finance.STK_INCOME_STATEMENT.total_operating_revenue).filter(finance.STK_INCOME_STATEMENT.code==code1,finance.STK_INCOME_STATEMENT.end_date=='2019-12-31').limit(1000))\n",
    "            \n",
    "            # print(yuan_gong.fillna(1))            \n",
    "            import pandas# 将两个表连接起来\n",
    "            # print(pandas.merge(yuangong,yuan_gong))\n",
    "            df=pandas.merge(yuangong,yuan_gong)\n",
    "            df['ratio'] = df['total_operating_revenue'].div(df.groupby('name')['total_operating_revenue'].shift(1))\n",
    "            print(df.head())\n",
    "            \n",
    "    except:\n",
    "        print(\"~~~~~\",conceptno)\n",
    "        pass"
   ]
  },
  {
   "cell_type": "code",
   "execution_count": 45,
   "metadata": {},
   "outputs": [
    {
     "output_type": "stream",
     "name": "stdout",
     "text": "******** GN201 ********\nGN201\n~~~~~ GN201\n"
    }
   ],
   "source": [
    "# 尝试另一种方式不成功\n",
    "\n",
    "for i in range(201,202):\n",
    "    conceptno='GN'+str(i).rjust(3,'0') # 加载概念股清单\n",
    "    print('********',conceptno,'********')\n",
    "    print(conceptno)\n",
    "    try:    \n",
    "        # print('123')\n",
    "        stocks=get_concept_stocks(conceptno, date=None) # 员工人数\n",
    "        # print(stocks)\n",
    "        for code1 in stocks: \n",
    "            # print('123')\n",
    "            # print(code)\n",
    "            yuangong=finance.run_query(query(finance.STK_EMPLOYEE_INFO.employee,finance.STK_EMPLOYEE_INFO.name,finance.STK_EMPLOYEE_INFO.code,finance.STK_INCOME_STATEMENT.code,finance.STK_INCOME_STATEMENT.company_name,finance.STK_INCOME_STATEMENT.total_operating_revenue).filter(finance.STK_EMPLOYEE_INFO.code==code1,finance.STK_EMPLOYEE_INFO.pub_date>='2019-12-01',finance.STK_INCOME_STATEMENT.code==code1,finance.STK_INCOME_STATEMENT.end_date=='2019-12-31').limit(10))\n",
    "            # yuan_gong=finance.run_query(query(finance.STK_EMPLOYEE_INFO).filter(finance.STK_EMPLOYEE_INFO.code==code,finance.STK_EMPLOYEE_INFO.pub_date>='2019-12-01').limit(1000)) \n",
    "            print(conceptno,yuangong) \n",
    "            # yuan_gong=finance.run_query(query(finance.STK_INCOME_STATEMENT.code,finance.STK_INCOME_STATEMENT.company_name,finance.STK_INCOME_STATEMENT.total_operating_revenue).filter(finance.STK_INCOME_STATEMENT.code==code1,finance.STK_INCOME_STATEMENT.end_date=='2019-12-31').limit(1000))\n",
    "            \n",
    "            # print(yuan_gong.fillna(1))\n",
    "        # print(conceptno,yuan_gong['employee'].mean())\n",
    "        # ping_jun_shi_zhi=\n",
    "    except:\n",
    "        print(\"~~~~~\",conceptno)\n",
    "        pass"
   ]
  },
  {
   "cell_type": "code",
   "execution_count": null,
   "metadata": {},
   "outputs": [],
   "source": []
  }
 ],
 "metadata": {
  "language_info": {
   "codemirror_mode": {
    "name": "ipython",
    "version": 3
   },
   "file_extension": ".py",
   "mimetype": "text/x-python",
   "name": "python",
   "nbconvert_exporter": "python",
   "pygments_lexer": "ipython3",
   "version": "3.7.4-final"
  },
  "orig_nbformat": 2,
  "kernelspec": {
   "name": "python37432bit6a4013f1a8ec4766a4af9787f2730623",
   "display_name": "Python 3.7.4 32-bit"
  }
 },
 "nbformat": 4,
 "nbformat_minor": 2
}