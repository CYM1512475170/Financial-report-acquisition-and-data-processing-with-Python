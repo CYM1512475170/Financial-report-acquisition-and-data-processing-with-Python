{
 "nbformat": 4,
 "nbformat_minor": 2,
 "metadata": {
  "language_info": {
   "name": "python",
   "codemirror_mode": {
    "name": "ipython",
    "version": 3
   },
   "version": "3.7.4-final"
  },
  "orig_nbformat": 2,
  "file_extension": ".py",
  "mimetype": "text/x-python",
  "name": "python",
  "npconvert_exporter": "python",
  "pygments_lexer": "ipython3",
  "version": 3,
  "kernelspec": {
   "name": "python37432bit6a4013f1a8ec4766a4af9787f2730623",
   "display_name": "Python 3.7.4 32-bit"
  }
 },
 "cells": [
  {
   "cell_type": "markdown",
   "metadata": {},
   "source": [
    "## python + pandas爬取网页表格数据"
   ]
  },
  {
   "cell_type": "markdown",
   "metadata": {},
   "source": [
    "这里以工标网标准数据为例  http://www.csres.com/notice/50655.html "
   ]
  },
  {
   "cell_type": "code",
   "execution_count": 13,
   "metadata": {
    "tags": [
     "outputPrepend"
    ]
   },
   "outputs": [],
   "source": [
    "url='http://www.csres.com/notice/50655.html'\n",
    "import requests\n",
    "import lxml.etree\n",
    "respond=requests.get(url)\n",
    "# print(respond.text)\n",
    "text=lxml.etree.HTML(respond.text)\n",
    "# print(text)"
   ]
  },
  {
   "cell_type": "code",
   "execution_count": 15,
   "metadata": {},
   "outputs": [
    {
     "output_type": "stream",
     "name": "stdout",
     "text": "<Element table at 0x13abceb8>\n"
    }
   ],
   "source": [
    "table = text.xpath('//table[@id=\"table1\"]')\n",
    "print(table[0])\n",
    "table = lxml.etree.tostring(table[0], encoding='utf-8').decode()"
   ]
  },
  {
   "cell_type": "code",
   "execution_count": 16,
   "metadata": {},
   "outputs": [
    {
     "output_type": "stream",
     "name": "stdout",
     "text": "序号               标准编号                      标准名称 代替标准号        发布日期  \\\n0      1    JB/T 13517-2018                      V型球阀   NaN  2018-07-04   \n1      2    JB/T 13518-2018                 高压加热器用三通阀   NaN  2018-07-04   \n2      3    JB/T 13519-2018               气动摩擦片浮动式制动器   NaN  2018-07-04   \n3      4    JB/T 13520-2018               气动摩擦片浮动式离合器   NaN  2018-07-04   \n4      5    JB/T 13521-2018             热连轧地下卷取机 技术条件   NaN  2018-07-04   \n..   ...                ...                       ...   ...         ...   \n178  179  SJ/T 11445.5-2018   信息技术服务 外包第5部分：发包方项目管理规范   NaN  2018-07-04   \n179  180    SJ/T 11684-2018         信息技术服务 信息系统服务监理规范   NaN  2018-07-04   \n180  181    SJ/T 11720-2018  高性能计算机 刀片式服务器 计算刀片机械技术要求   NaN  2018-07-04   \n181  182    SJ/T 11723-2018                 锂离子电池用电解液   NaN  2018-07-04   \n182  183    SJ/T 11724-2018                  锂原电池用电解液   NaN  2018-07-04   \n\n           实施日期  \n0    2019-05-01  \n1    2019-05-01  \n2    2019-05-01  \n3    2019-05-01  \n4    2019-05-01  \n..          ...  \n178  2018-10-01  \n179  2018-10-01  \n180  2018-10-01  \n181  2018-10-01  \n182  2018-10-01  \n\n[183 rows x 6 columns]\n"
    }
   ],
   "source": [
    "import pandas\n",
    "df = pandas.read_html(table, encoding='utf-8', header=0)[0]\n",
    "print(df)\n",
    "results = list(df.T.to_dict().values())  # 转换成列表嵌套字典的格式"
   ]
  },
  {
   "cell_type": "markdown",
   "metadata": {},
   "source": [
    "这就是从网页提取表格的过程了，感谢https://blog.csdn.net/zhang862520682/article/details/86701078"
   ]
  }
 ]
}