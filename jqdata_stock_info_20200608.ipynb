{
 "cells": [
  {
   "cell_type": "markdown",
   "metadata": {},
   "source": [
    "## 以下针对公用事业公司查询股东、行业、营收情况"
   ]
  },
  {
   "cell_type": "code",
   "execution_count": 20,
   "metadata": {},
   "outputs": [
    {
     "output_type": "error",
     "ename": "AttributeError",
     "evalue": "type object 'pandas._libs.tslibs.conversion._TSObject' has no attribute '__reduce_cython__'",
     "traceback": [
      "\u001b[1;31m---------------------------------------------------------------------------\u001b[0m",
      "\u001b[1;31mAttributeError\u001b[0m                            Traceback (most recent call last)",
      "\u001b[1;32m<ipython-input-20-0d573e6a9152>\u001b[0m in \u001b[0;36m<module>\u001b[1;34m\u001b[0m\n\u001b[1;32m----> 1\u001b[1;33m \u001b[1;32mimport\u001b[0m \u001b[0mjqdatasdk\u001b[0m\u001b[1;33m\u001b[0m\u001b[1;33m\u001b[0m\u001b[0m\n\u001b[0m",
      "\u001b[1;32m~\\AppData\\Local\\Programs\\Python\\Python37-32\\lib\\site-packages\\jqdatasdk\\__init__.py\u001b[0m in \u001b[0;36m<module>\u001b[1;34m\u001b[0m\n\u001b[0;32m      4\u001b[0m \u001b[0msys\u001b[0m\u001b[1;33m.\u001b[0m\u001b[0mmodules\u001b[0m\u001b[1;33m[\u001b[0m\u001b[1;34m\"ROOT_DIR\"\u001b[0m\u001b[1;33m]\u001b[0m \u001b[1;33m=\u001b[0m \u001b[0mos\u001b[0m\u001b[1;33m.\u001b[0m\u001b[0mpath\u001b[0m\u001b[1;33m.\u001b[0m\u001b[0mabspath\u001b[0m\u001b[1;33m(\u001b[0m\u001b[0mos\u001b[0m\u001b[1;33m.\u001b[0m\u001b[0mpath\u001b[0m\u001b[1;33m.\u001b[0m\u001b[0mdirname\u001b[0m\u001b[1;33m(\u001b[0m\u001b[0m__file__\u001b[0m\u001b[1;33m)\u001b[0m\u001b[1;33m)\u001b[0m\u001b[1;33m\u001b[0m\u001b[1;33m\u001b[0m\u001b[0m\n\u001b[0;32m      5\u001b[0m \u001b[1;33m\u001b[0m\u001b[0m\n\u001b[1;32m----> 6\u001b[1;33m \u001b[1;32mfrom\u001b[0m \u001b[1;33m.\u001b[0m\u001b[0mapi\u001b[0m \u001b[1;32mimport\u001b[0m \u001b[1;33m*\u001b[0m\u001b[1;33m\u001b[0m\u001b[1;33m\u001b[0m\u001b[0m\n\u001b[0m\u001b[0;32m      7\u001b[0m \u001b[1;32mfrom\u001b[0m \u001b[1;33m.\u001b[0m\u001b[0mfinance_service\u001b[0m \u001b[1;32mimport\u001b[0m \u001b[1;33m*\u001b[0m\u001b[1;33m\u001b[0m\u001b[1;33m\u001b[0m\u001b[0m\n\u001b[0;32m      8\u001b[0m \u001b[1;32mfrom\u001b[0m \u001b[1;33m.\u001b[0m \u001b[1;32mimport\u001b[0m \u001b[0malpha101\u001b[0m\u001b[1;33m\u001b[0m\u001b[1;33m\u001b[0m\u001b[0m\n",
      "\u001b[1;32m~\\AppData\\Local\\Programs\\Python\\Python37-32\\lib\\site-packages\\jqdatasdk\\api.py\u001b[0m in \u001b[0;36m<module>\u001b[1;34m\u001b[0m\n\u001b[0;32m      3\u001b[0m \u001b[1;32mfrom\u001b[0m \u001b[0mio\u001b[0m \u001b[1;32mimport\u001b[0m \u001b[0mStringIO\u001b[0m\u001b[1;33m\u001b[0m\u001b[1;33m\u001b[0m\u001b[0m\n\u001b[0;32m      4\u001b[0m \u001b[1;32mimport\u001b[0m \u001b[0mrequests\u001b[0m\u001b[1;33m\u001b[0m\u001b[1;33m\u001b[0m\u001b[0m\n\u001b[1;32m----> 5\u001b[1;33m \u001b[1;32mfrom\u001b[0m \u001b[1;33m.\u001b[0m\u001b[0mutils\u001b[0m \u001b[1;32mimport\u001b[0m \u001b[1;33m*\u001b[0m\u001b[1;33m\u001b[0m\u001b[1;33m\u001b[0m\u001b[0m\n\u001b[0m\u001b[0;32m      6\u001b[0m \u001b[1;32mfrom\u001b[0m \u001b[1;33m.\u001b[0m\u001b[0mclient\u001b[0m \u001b[1;32mimport\u001b[0m \u001b[0mJQDataClient\u001b[0m\u001b[1;33m\u001b[0m\u001b[1;33m\u001b[0m\u001b[0m\n\u001b[0;32m      7\u001b[0m \u001b[1;33m\u001b[0m\u001b[0m\n",
      "\u001b[1;32m~\\AppData\\Local\\Programs\\Python\\Python37-32\\lib\\site-packages\\jqdatasdk\\utils.py\u001b[0m in \u001b[0;36m<module>\u001b[1;34m\u001b[0m\n\u001b[0;32m      7\u001b[0m \u001b[1;32mfrom\u001b[0m \u001b[0mcollections\u001b[0m \u001b[1;32mimport\u001b[0m \u001b[0mnamedtuple\u001b[0m\u001b[1;33m\u001b[0m\u001b[1;33m\u001b[0m\u001b[0m\n\u001b[0;32m      8\u001b[0m \u001b[1;32mimport\u001b[0m \u001b[0mre\u001b[0m\u001b[1;33m\u001b[0m\u001b[1;33m\u001b[0m\u001b[0m\n\u001b[1;32m----> 9\u001b[1;33m \u001b[1;32mimport\u001b[0m \u001b[0mpandas\u001b[0m \u001b[1;32mas\u001b[0m \u001b[0mpd\u001b[0m\u001b[1;33m\u001b[0m\u001b[1;33m\u001b[0m\u001b[0m\n\u001b[0m\u001b[0;32m     10\u001b[0m \u001b[1;32mif\u001b[0m \u001b[0msix\u001b[0m\u001b[1;33m.\u001b[0m\u001b[0mPY2\u001b[0m\u001b[1;33m:\u001b[0m\u001b[1;33m\u001b[0m\u001b[1;33m\u001b[0m\u001b[0m\n\u001b[0;32m     11\u001b[0m     \u001b[1;32mimport\u001b[0m \u001b[0mcPickle\u001b[0m \u001b[1;32mas\u001b[0m \u001b[0mpickle\u001b[0m\u001b[1;33m\u001b[0m\u001b[1;33m\u001b[0m\u001b[0m\n",
      "\u001b[1;32m~\\AppData\\Local\\Programs\\Python\\Python37-32\\lib\\site-packages\\pandas\\__init__.py\u001b[0m in \u001b[0;36m<module>\u001b[1;34m\u001b[0m\n\u001b[0;32m     28\u001b[0m \u001b[1;33m\u001b[0m\u001b[0m\n\u001b[0;32m     29\u001b[0m \u001b[1;32mtry\u001b[0m\u001b[1;33m:\u001b[0m\u001b[1;33m\u001b[0m\u001b[1;33m\u001b[0m\u001b[0m\n\u001b[1;32m---> 30\u001b[1;33m     \u001b[1;32mfrom\u001b[0m \u001b[0mpandas\u001b[0m\u001b[1;33m.\u001b[0m\u001b[0m_libs\u001b[0m \u001b[1;32mimport\u001b[0m \u001b[0mhashtable\u001b[0m \u001b[1;32mas\u001b[0m \u001b[0m_hashtable\u001b[0m\u001b[1;33m,\u001b[0m \u001b[0mlib\u001b[0m \u001b[1;32mas\u001b[0m \u001b[0m_lib\u001b[0m\u001b[1;33m,\u001b[0m \u001b[0mtslib\u001b[0m \u001b[1;32mas\u001b[0m \u001b[0m_tslib\u001b[0m\u001b[1;33m\u001b[0m\u001b[1;33m\u001b[0m\u001b[0m\n\u001b[0m\u001b[0;32m     31\u001b[0m \u001b[1;32mexcept\u001b[0m \u001b[0mImportError\u001b[0m \u001b[1;32mas\u001b[0m \u001b[0me\u001b[0m\u001b[1;33m:\u001b[0m  \u001b[1;31m# pragma: no cover\u001b[0m\u001b[1;33m\u001b[0m\u001b[1;33m\u001b[0m\u001b[0m\n\u001b[0;32m     32\u001b[0m     \u001b[1;31m# hack but overkill to use re\u001b[0m\u001b[1;33m\u001b[0m\u001b[1;33m\u001b[0m\u001b[1;33m\u001b[0m\u001b[0m\n",
      "\u001b[1;32m~\\AppData\\Local\\Programs\\Python\\Python37-32\\lib\\site-packages\\pandas\\_libs\\__init__.py\u001b[0m in \u001b[0;36m<module>\u001b[1;34m\u001b[0m\n\u001b[0;32m      1\u001b[0m \u001b[1;31m# flake8: noqa\u001b[0m\u001b[1;33m\u001b[0m\u001b[1;33m\u001b[0m\u001b[1;33m\u001b[0m\u001b[0m\n\u001b[0;32m      2\u001b[0m \u001b[1;33m\u001b[0m\u001b[0m\n\u001b[1;32m----> 3\u001b[1;33m from .tslibs import (\n\u001b[0m\u001b[0;32m      4\u001b[0m     \u001b[0mNaT\u001b[0m\u001b[1;33m,\u001b[0m\u001b[1;33m\u001b[0m\u001b[1;33m\u001b[0m\u001b[0m\n\u001b[0;32m      5\u001b[0m     \u001b[0mNaTType\u001b[0m\u001b[1;33m,\u001b[0m\u001b[1;33m\u001b[0m\u001b[1;33m\u001b[0m\u001b[0m\n",
      "\u001b[1;32m~\\AppData\\Local\\Programs\\Python\\Python37-32\\lib\\site-packages\\pandas\\_libs\\tslibs\\__init__.py\u001b[0m in \u001b[0;36m<module>\u001b[1;34m\u001b[0m\n\u001b[0;32m      1\u001b[0m \u001b[1;31m# flake8: noqa\u001b[0m\u001b[1;33m\u001b[0m\u001b[1;33m\u001b[0m\u001b[1;33m\u001b[0m\u001b[0m\n\u001b[0;32m      2\u001b[0m \u001b[1;33m\u001b[0m\u001b[0m\n\u001b[1;32m----> 3\u001b[1;33m \u001b[1;32mfrom\u001b[0m \u001b[1;33m.\u001b[0m\u001b[0mconversion\u001b[0m \u001b[1;32mimport\u001b[0m \u001b[0mlocalize_pydatetime\u001b[0m\u001b[1;33m,\u001b[0m \u001b[0mnormalize_date\u001b[0m\u001b[1;33m\u001b[0m\u001b[1;33m\u001b[0m\u001b[0m\n\u001b[0m\u001b[0;32m      4\u001b[0m \u001b[1;32mfrom\u001b[0m \u001b[1;33m.\u001b[0m\u001b[0mnattype\u001b[0m \u001b[1;32mimport\u001b[0m \u001b[0mNaT\u001b[0m\u001b[1;33m,\u001b[0m \u001b[0mNaTType\u001b[0m\u001b[1;33m,\u001b[0m \u001b[0miNaT\u001b[0m\u001b[1;33m,\u001b[0m \u001b[0mis_null_datetimelike\u001b[0m\u001b[1;33m\u001b[0m\u001b[1;33m\u001b[0m\u001b[0m\n\u001b[0;32m      5\u001b[0m \u001b[1;32mfrom\u001b[0m \u001b[1;33m.\u001b[0m\u001b[0mnp_datetime\u001b[0m \u001b[1;32mimport\u001b[0m \u001b[0mOutOfBoundsDatetime\u001b[0m\u001b[1;33m\u001b[0m\u001b[1;33m\u001b[0m\u001b[0m\n",
      "\u001b[1;32mpandas/_libs/tslibs/conversion.pyx\u001b[0m in \u001b[0;36minit pandas._libs.tslibs.conversion\u001b[1;34m()\u001b[0m\n",
      "\u001b[1;31mAttributeError\u001b[0m: type object 'pandas._libs.tslibs.conversion._TSObject' has no attribute '__reduce_cython__'"
     ]
    }
   ],
   "source": [
    "import jqdatasdk"
   ]
  },
  {
   "cell_type": "code",
   "execution_count": 9,
   "metadata": {},
   "outputs": [
    {
     "output_type": "error",
     "ename": "NameError",
     "evalue": "name 'jqdatasdk' is not defined",
     "traceback": [
      "\u001b[1;31m---------------------------------------------------------------------------\u001b[0m",
      "\u001b[1;31mNameError\u001b[0m                                 Traceback (most recent call last)",
      "\u001b[1;32m<ipython-input-9-7f55e49a6e98>\u001b[0m in \u001b[0;36m<module>\u001b[1;34m\u001b[0m\n\u001b[1;32m----> 1\u001b[1;33m \u001b[0mjqdatasdk\u001b[0m\u001b[1;33m.\u001b[0m\u001b[0mauth\u001b[0m\u001b[1;33m(\u001b[0m\u001b[1;34m\"13141315365\"\u001b[0m\u001b[1;33m,\u001b[0m \u001b[1;34m\"315365\"\u001b[0m\u001b[1;33m)\u001b[0m\u001b[1;33m\u001b[0m\u001b[1;33m\u001b[0m\u001b[0m\n\u001b[0m",
      "\u001b[1;31mNameError\u001b[0m: name 'jqdatasdk' is not defined"
     ]
    }
   ],
   "source": [
    "jqdatasdk.auth(\"13141315365\", \"315365\")"
   ]
  },
  {
   "cell_type": "markdown",
   "metadata": {},
   "source": [
    "## 查询股票所属行业"
   ]
  },
  {
   "cell_type": "markdown",
   "metadata": {},
   "source": [
    "查询中持股份所属的行业"
   ]
  },
  {
   "cell_type": "code",
   "execution_count": 5,
   "metadata": {},
   "outputs": [
    {
     "output_type": "execute_result",
     "data": {
      "text/plain": "{'603903.XSHG': {'sw_l1': {'industry_code': '801160',\n   'industry_name': '公用事业I'},\n  'sw_l2': {'industry_code': '801164', 'industry_name': '水务II'},\n  'sw_l3': {'industry_code': '851621', 'industry_name': '水务III'},\n  'zjw': {'industry_code': 'N77', 'industry_name': '生态保护和环境治理业'},\n  'jq_l2': {'industry_code': 'HY432', 'industry_name': '环境与设施服务指数'},\n  'jq_l1': {'industry_code': 'HY003', 'industry_name': '工业指数'}}}"
     },
     "metadata": {},
     "execution_count": 5
    }
   ],
   "source": [
    "from jqdatasdk import *\n",
    "security=normalize_code(\"603903\")#中持股份\n",
    "get_industry(security, date=None)"
   ]
  },
  {
   "cell_type": "markdown",
   "metadata": {},
   "source": [
    "只看证监会行业"
   ]
  },
  {
   "cell_type": "code",
   "execution_count": 8,
   "metadata": {},
   "outputs": [
    {
     "output_type": "execute_result",
     "data": {
      "text/plain": "{'sw_l1': {'industry_code': '801160', 'industry_name': '公用事业I'},\n 'sw_l2': {'industry_code': '801164', 'industry_name': '水务II'},\n 'sw_l3': {'industry_code': '851621', 'industry_name': '水务III'},\n 'zjw': {'industry_code': 'N77', 'industry_name': '生态保护和环境治理业'},\n 'jq_l2': {'industry_code': 'HY432', 'industry_name': '环境与设施服务指数'},\n 'jq_l1': {'industry_code': 'HY003', 'industry_name': '工业指数'}}"
     },
     "metadata": {},
     "execution_count": 8
    }
   ],
   "source": [
    "get_industry(security, date=None)['603903.XSHG']"
   ]
  },
  {
   "cell_type": "code",
   "execution_count": 9,
   "metadata": {},
   "outputs": [
    {
     "output_type": "execute_result",
     "data": {
      "text/plain": "{'industry_code': 'N77', 'industry_name': '生态保护和环境治理业'}"
     },
     "metadata": {},
     "execution_count": 9
    }
   ],
   "source": [
    "get_industry(security, date=None)['603903.XSHG']['zjw']"
   ]
  },
  {
   "cell_type": "code",
   "execution_count": 10,
   "metadata": {},
   "outputs": [
    {
     "output_type": "execute_result",
     "data": {
      "text/plain": "'生态保护和环境治理业'"
     },
     "metadata": {},
     "execution_count": 10
    }
   ],
   "source": [
    "get_industry(security, date=None)['603903.XSHG']['zjw']['industry_name']"
   ]
  },
  {
   "cell_type": "markdown",
   "metadata": {},
   "source": [
    "得到了证监会行业为生态保护和环境治理业"
   ]
  },
  {
   "cell_type": "code",
   "execution_count": 5,
   "metadata": {},
   "outputs": [
    {
     "output_type": "error",
     "ename": "NameError",
     "evalue": "name 'normalize_code' is not defined",
     "traceback": [
      "\u001b[1;31m---------------------------------------------------------------------------\u001b[0m",
      "\u001b[1;31mNameError\u001b[0m                                 Traceback (most recent call last)",
      "\u001b[1;32m<ipython-input-5-1f3338c6899f>\u001b[0m in \u001b[0;36m<module>\u001b[1;34m\u001b[0m\n\u001b[1;32m----> 1\u001b[1;33m \u001b[0mstocks\u001b[0m\u001b[1;33m=\u001b[0m\u001b[0mnormalize_code\u001b[0m\u001b[1;33m(\u001b[0m\u001b[1;33m[\u001b[0m\u001b[1;34m'sh603903'\u001b[0m\u001b[1;33m,\u001b[0m\u001b[1;34m'sh600635'\u001b[0m\u001b[1;33m,\u001b[0m\u001b[1;34m'sh600681'\u001b[0m\u001b[1;33m,\u001b[0m\u001b[1;34m'sh600617'\u001b[0m\u001b[1;33m,\u001b[0m\u001b[1;34m'sz000669'\u001b[0m\u001b[1;33m,\u001b[0m\u001b[1;34m'sh600856'\u001b[0m\u001b[1;33m,\u001b[0m\u001b[1;34m'sh600874'\u001b[0m\u001b[1;33m,\u001b[0m\u001b[1;34m'sz300388'\u001b[0m\u001b[1;33m,\u001b[0m\u001b[1;34m'sh601368'\u001b[0m\u001b[1;33m,\u001b[0m\u001b[1;34m'sz000593'\u001b[0m\u001b[1;33m,\u001b[0m\u001b[1;34m'sz002259'\u001b[0m\u001b[1;33m,\u001b[0m\u001b[1;34m'sz000421'\u001b[0m\u001b[1;33m,\u001b[0m\u001b[1;34m'sh600283'\u001b[0m\u001b[1;33m,\u001b[0m\u001b[1;34m'sh601158'\u001b[0m\u001b[1;33m,\u001b[0m\u001b[1;34m'sz002267'\u001b[0m\u001b[1;33m,\u001b[0m\u001b[1;34m'sh600917'\u001b[0m\u001b[1;33m,\u001b[0m\u001b[1;34m'sz000598'\u001b[0m\u001b[1;33m,\u001b[0m\u001b[1;34m'sh603817'\u001b[0m\u001b[1;33m,\u001b[0m\u001b[1;34m'sh600008'\u001b[0m\u001b[1;33m,\u001b[0m\u001b[1;34m'sz000605'\u001b[0m\u001b[1;33m,\u001b[0m\u001b[1;34m'sh603393'\u001b[0m\u001b[1;33m,\u001b[0m\u001b[1;34m'sh600168'\u001b[0m\u001b[1;33m,\u001b[0m\u001b[1;34m'sz300664'\u001b[0m\u001b[1;33m,\u001b[0m\u001b[1;34m'sh600167'\u001b[0m\u001b[1;33m,\u001b[0m\u001b[1;34m'sh600719'\u001b[0m\u001b[1;33m,\u001b[0m\u001b[1;34m'sh600187'\u001b[0m\u001b[1;33m,\u001b[0m\u001b[1;33m]\u001b[0m\u001b[1;33m)\u001b[0m\u001b[1;33m\u001b[0m\u001b[1;33m\u001b[0m\u001b[0m\n\u001b[0m",
      "\u001b[1;31mNameError\u001b[0m: name 'normalize_code' is not defined"
     ]
    }
   ],
   "source": [
    "stocks=normalize_code(['sh603903','sh600635','sh600681','sh600617','sz000669','sh600856','sh600874','sz300388','sh601368','sz000593','sz002259','sz000421','sh600283','sh601158','sz002267','sh600917','sz000598','sh603817','sh600008','sz000605','sh603393','sh600168','sz300664','sh600167','sh600719','sh600187',])"
   ]
  },
  {
   "cell_type": "code",
   "execution_count": 26,
   "metadata": {},
   "outputs": [
    {
     "output_type": "execute_result",
     "data": {
      "text/plain": "{'603903.XSHG': {'sw_l1': {'industry_code': '801160',\n   'industry_name': '公用事业I'},\n  'sw_l2': {'industry_code': '801164', 'industry_name': '水务II'},\n  'sw_l3': {'industry_code': '851621', 'industry_name': '水务III'},\n  'zjw': {'industry_code': 'N77', 'industry_name': '生态保护和环境治理业'},\n  'jq_l2': {'industry_code': 'HY432', 'industry_name': '环境与设施服务指数'},\n  'jq_l1': {'industry_code': 'HY003', 'industry_name': '工业指数'}},\n '000421.XSHE': {'sw_l1': {'industry_code': '801160',\n   'industry_name': '公用事业I'},\n  'sw_l2': {'industry_code': '801163', 'industry_name': '燃气II'},\n  'sw_l3': {'industry_code': '851631', 'industry_name': '燃气III'},\n  'zjw': {'industry_code': 'D45', 'industry_name': '燃气生产和供应业'},\n  'jq_l2': {'industry_code': 'HY529', 'industry_name': '燃气指数'},\n  'jq_l1': {'industry_code': 'HY010', 'industry_name': '公用事业指数'}},\n '600856.XSHG': {'sw_l1': {'industry_code': '801160',\n   'industry_name': '公用事业I'},\n  'sw_l2': {'industry_code': '801163', 'industry_name': '燃气II'},\n  'sw_l3': {'industry_code': '851631', 'industry_name': '燃气III'},\n  'zjw': {'industry_code': 'D45', 'industry_name': '燃气生产和供应业'},\n  'jq_l2': {'industry_code': 'HY573', 'industry_name': '石油与天然气的储存和运输指数'},\n  'jq_l1': {'industry_code': 'HY001', 'industry_name': '能源指数'}},\n '002259.XSHE': {'sw_l1': {'industry_code': '801160',\n   'industry_name': '公用事业I'},\n  'sw_l2': {'industry_code': '801163', 'industry_name': '燃气II'},\n  'sw_l3': {'industry_code': '851631', 'industry_name': '燃气III'},\n  'zjw': {'industry_code': 'D45', 'industry_name': '燃气生产和供应业'},\n  'jq_l2': {'industry_code': 'HY529', 'industry_name': '燃气指数'},\n  'jq_l1': {'industry_code': 'HY010', 'industry_name': '公用事业指数'}},\n '600635.XSHG': {'sw_l1': {'industry_code': '801160',\n   'industry_name': '公用事业I'},\n  'sw_l2': {'industry_code': '801163', 'industry_name': '燃气II'},\n  'sw_l3': {'industry_code': '851631', 'industry_name': '燃气III'},\n  'zjw': {'industry_code': 'D45', 'industry_name': '燃气生产和供应业'},\n  'jq_l2': {'industry_code': 'HY529', 'industry_name': '燃气指数'},\n  'jq_l1': {'industry_code': 'HY010', 'industry_name': '公用事业指数'}},\n '600874.XSHG': {'sw_l1': {'industry_code': '801160',\n   'industry_name': '公用事业I'},\n  'sw_l2': {'industry_code': '801164', 'industry_name': '水务II'},\n  'sw_l3': {'industry_code': '851621', 'industry_name': '水务III'},\n  'zjw': {'industry_code': 'D46', 'industry_name': '水的生产和供应业'},\n  'jq_l2': {'industry_code': 'HY531', 'industry_name': '水务指数'},\n  'jq_l1': {'industry_code': 'HY010', 'industry_name': '公用事业指数'}},\n '600167.XSHG': {'sw_l1': {'industry_code': '801160',\n   'industry_name': '公用事业I'},\n  'sw_l2': {'industry_code': '801161', 'industry_name': '电力II'},\n  'sw_l3': {'industry_code': '851614', 'industry_name': '热电III'},\n  'zjw': {'industry_code': 'D44', 'industry_name': '电力、热力生产和供应业'},\n  'jq_l2': {'industry_code': 'HY530', 'industry_name': '复合型公用事业指数'},\n  'jq_l1': {'industry_code': 'HY010', 'industry_name': '公用事业指数'}},\n '000593.XSHE': {'sw_l1': {'industry_code': '801160',\n   'industry_name': '公用事业I'},\n  'sw_l2': {'industry_code': '801163', 'industry_name': '燃气II'},\n  'sw_l3': {'industry_code': '851631', 'industry_name': '燃气III'},\n  'zjw': {'industry_code': 'D45', 'industry_name': '燃气生产和供应业'},\n  'jq_l2': {'industry_code': 'HY529', 'industry_name': '燃气指数'},\n  'jq_l1': {'industry_code': 'HY010', 'industry_name': '公用事业指数'}},\n '600617.XSHG': {'sw_l1': {'industry_code': '801160',\n   'industry_name': '公用事业I'},\n  'sw_l2': {'industry_code': '801163', 'industry_name': '燃气II'},\n  'sw_l3': {'industry_code': '851631', 'industry_name': '燃气III'},\n  'zjw': {'industry_code': 'D45', 'industry_name': '燃气生产和供应业'},\n  'jq_l2': {'industry_code': 'HY529', 'industry_name': '燃气指数'},\n  'jq_l1': {'industry_code': 'HY010', 'industry_name': '公用事业指数'}},\n '600719.XSHG': {'sw_l1': {'industry_code': '801160',\n   'industry_name': '公用事业I'},\n  'sw_l2': {'industry_code': '801161', 'industry_name': '电力II'},\n  'sw_l3': {'industry_code': '851614', 'industry_name': '热电III'},\n  'zjw': {'industry_code': 'D44', 'industry_name': '电力、热力生产和供应业'},\n  'jq_l2': {'industry_code': 'HY530', 'industry_name': '复合型公用事业指数'},\n  'jq_l1': {'industry_code': 'HY010', 'industry_name': '公用事业指数'}},\n '000598.XSHE': {'sw_l1': {'industry_code': '801160',\n   'industry_name': '公用事业I'},\n  'sw_l2': {'industry_code': '801164', 'industry_name': '水务II'},\n  'sw_l3': {'industry_code': '851621', 'industry_name': '水务III'},\n  'zjw': {'industry_code': 'D46', 'industry_name': '水的生产和供应业'},\n  'jq_l2': {'industry_code': 'HY531', 'industry_name': '水务指数'},\n  'jq_l1': {'industry_code': 'HY010', 'industry_name': '公用事业指数'}},\n '600917.XSHG': {'sw_l1': {'industry_code': '801160',\n   'industry_name': '公用事业I'},\n  'sw_l2': {'industry_code': '801163', 'industry_name': '燃气II'},\n  'sw_l3': {'industry_code': '851631', 'industry_name': '燃气III'},\n  'zjw': {'industry_code': 'D45', 'industry_name': '燃气生产和供应业'},\n  'jq_l2': {'industry_code': 'HY529', 'industry_name': '燃气指数'},\n  'jq_l1': {'industry_code': 'HY010', 'industry_name': '公用事业指数'}},\n '000605.XSHE': {'sw_l1': {'industry_code': '801160',\n   'industry_name': '公用事业I'},\n  'sw_l2': {'industry_code': '801164', 'industry_name': '水务II'},\n  'sw_l3': {'industry_code': '851621', 'industry_name': '水务III'},\n  'zjw': {'industry_code': 'D46', 'industry_name': '水的生产和供应业'},\n  'jq_l2': {'industry_code': 'HY531', 'industry_name': '水务指数'},\n  'jq_l1': {'industry_code': 'HY010', 'industry_name': '公用事业指数'}},\n '603393.XSHG': {'sw_l1': {'industry_code': '801160',\n   'industry_name': '公用事业I'},\n  'sw_l2': {'industry_code': '801163', 'industry_name': '燃气II'},\n  'sw_l3': {'industry_code': '851631', 'industry_name': '燃气III'},\n  'zjw': {'industry_code': 'D45', 'industry_name': '燃气生产和供应业'},\n  'jq_l2': {'industry_code': 'HY529', 'industry_name': '燃气指数'},\n  'jq_l1': {'industry_code': 'HY010', 'industry_name': '公用事业指数'}},\n '600008.XSHG': {'sw_l1': {'industry_code': '801160',\n   'industry_name': '公用事业I'},\n  'sw_l2': {'industry_code': '801164', 'industry_name': '水务II'},\n  'sw_l3': {'industry_code': '851621', 'industry_name': '水务III'},\n  'zjw': {'industry_code': 'D46', 'industry_name': '水的生产和供应业'},\n  'jq_l2': {'industry_code': 'HY531', 'industry_name': '水务指数'},\n  'jq_l1': {'industry_code': 'HY010', 'industry_name': '公用事业指数'}},\n '603817.XSHG': {'sw_l1': {'industry_code': '801160',\n   'industry_name': '公用事业I'},\n  'sw_l2': {'industry_code': '801164', 'industry_name': '水务II'},\n  'sw_l3': {'industry_code': '851621', 'industry_name': '水务III'},\n  'zjw': {'industry_code': 'D46', 'industry_name': '水的生产和供应业'},\n  'jq_l2': {'industry_code': 'HY531', 'industry_name': '水务指数'},\n  'jq_l1': {'industry_code': 'HY010', 'industry_name': '公用事业指数'}},\n '600187.XSHG': {'sw_l1': {'industry_code': '801160',\n   'industry_name': '公用事业I'},\n  'sw_l2': {'industry_code': '801164', 'industry_name': '水务II'},\n  'sw_l3': {'industry_code': '851621', 'industry_name': '水务III'},\n  'zjw': {'industry_code': 'D46', 'industry_name': '水的生产和供应业'},\n  'jq_l2': {'industry_code': 'HY531', 'industry_name': '水务指数'},\n  'jq_l1': {'industry_code': 'HY010', 'industry_name': '公用事业指数'}},\n '600681.XSHG': {'sw_l1': {'industry_code': '801160',\n   'industry_name': '公用事业I'},\n  'sw_l2': {'industry_code': '801163', 'industry_name': '燃气II'},\n  'sw_l3': {'industry_code': '851631', 'industry_name': '燃气III'},\n  'zjw': {'industry_code': 'D45', 'industry_name': '燃气生产和供应业'},\n  'jq_l2': {'industry_code': 'HY529', 'industry_name': '燃气指数'},\n  'jq_l1': {'industry_code': 'HY010', 'industry_name': '公用事业指数'}},\n '601158.XSHG': {'sw_l1': {'industry_code': '801160',\n   'industry_name': '公用事业I'},\n  'sw_l2': {'industry_code': '801164', 'industry_name': '水务II'},\n  'sw_l3': {'industry_code': '851621', 'industry_name': '水务III'},\n  'zjw': {'industry_code': 'D46', 'industry_name': '水的生产和供应业'},\n  'jq_l2': {'industry_code': 'HY531', 'industry_name': '水务指数'},\n  'jq_l1': {'industry_code': 'HY010', 'industry_name': '公用事业指数'}},\n '601368.XSHG': {'sw_l1': {'industry_code': '801160',\n   'industry_name': '公用事业I'},\n  'sw_l2': {'industry_code': '801164', 'industry_name': '水务II'},\n  'sw_l3': {'industry_code': '851621', 'industry_name': '水务III'},\n  'zjw': {'industry_code': 'D46', 'industry_name': '水的生产和供应业'},\n  'jq_l2': {'industry_code': 'HY531', 'industry_name': '水务指数'},\n  'jq_l1': {'industry_code': 'HY010', 'industry_name': '公用事业指数'}},\n '600168.XSHG': {'sw_l1': {'industry_code': '801160',\n   'industry_name': '公用事业I'},\n  'sw_l2': {'industry_code': '801164', 'industry_name': '水务II'},\n  'sw_l3': {'industry_code': '851621', 'industry_name': '水务III'},\n  'zjw': {'industry_code': 'D46', 'industry_name': '水的生产和供应业'},\n  'jq_l2': {'industry_code': 'HY531', 'industry_name': '水务指数'},\n  'jq_l1': {'industry_code': 'HY010', 'industry_name': '公用事业指数'}},\n '300388.XSHE': {'sw_l1': {'industry_code': '801160',\n   'industry_name': '公用事业I'},\n  'sw_l2': {'industry_code': '801164', 'industry_name': '水务II'},\n  'sw_l3': {'industry_code': '851621', 'industry_name': '水务III'},\n  'zjw': {'industry_code': 'N77', 'industry_name': '生态保护和环境治理业'},\n  'jq_l2': {'industry_code': 'HY432', 'industry_name': '环境与设施服务指数'},\n  'jq_l1': {'industry_code': 'HY003', 'industry_name': '工业指数'}},\n '002267.XSHE': {'sw_l1': {'industry_code': '801160',\n   'industry_name': '公用事业I'},\n  'sw_l2': {'industry_code': '801163', 'industry_name': '燃气II'},\n  'sw_l3': {'industry_code': '851631', 'industry_name': '燃气III'},\n  'zjw': {'industry_code': 'D45', 'industry_name': '燃气生产和供应业'},\n  'jq_l2': {'industry_code': 'HY573', 'industry_name': '石油与天然气的储存和运输指数'},\n  'jq_l1': {'industry_code': 'HY001', 'industry_name': '能源指数'}},\n '000669.XSHE': {'sw_l1': {'industry_code': '801160',\n   'industry_name': '公用事业I'},\n  'sw_l2': {'industry_code': '801163', 'industry_name': '燃气II'},\n  'sw_l3': {'industry_code': '851631', 'industry_name': '燃气III'},\n  'zjw': {'industry_code': 'D45', 'industry_name': '燃气生产和供应业'},\n  'jq_l2': {'industry_code': 'HY529', 'industry_name': '燃气指数'},\n  'jq_l1': {'industry_code': 'HY010', 'industry_name': '公用事业指数'}},\n '600283.XSHG': {'sw_l1': {'industry_code': '801160',\n   'industry_name': '公用事业I'},\n  'sw_l2': {'industry_code': '801164', 'industry_name': '水务II'},\n  'sw_l3': {'industry_code': '851621', 'industry_name': '水务III'},\n  'zjw': {'industry_code': 'D46', 'industry_name': '水的生产和供应业'},\n  'jq_l2': {'industry_code': 'HY531', 'industry_name': '水务指数'},\n  'jq_l1': {'industry_code': 'HY010', 'industry_name': '公用事业指数'}},\n '300664.XSHE': {'sw_l1': {'industry_code': '801160',\n   'industry_name': '公用事业I'},\n  'sw_l2': {'industry_code': '801164', 'industry_name': '水务II'},\n  'sw_l3': {'industry_code': '851621', 'industry_name': '水务III'},\n  'zjw': {'industry_code': 'N77', 'industry_name': '生态保护和环境治理业'},\n  'jq_l2': {'industry_code': 'HY432', 'industry_name': '环境与设施服务指数'},\n  'jq_l1': {'industry_code': 'HY003', 'industry_name': '工业指数'}}}"
     },
     "metadata": {},
     "execution_count": 26
    }
   ],
   "source": [
    "get_industry(stocks, date=None)"
   ]
  },
  {
   "cell_type": "code",
   "execution_count": 17,
   "metadata": {},
   "outputs": [
    {
     "output_type": "error",
     "ename": "NameError",
     "evalue": "name 'stocks' is not defined",
     "traceback": [
      "\u001b[1;31m---------------------------------------------------------------------------\u001b[0m",
      "\u001b[1;31mNameError\u001b[0m                                 Traceback (most recent call last)",
      "\u001b[1;32m<ipython-input-17-0c64f6fca237>\u001b[0m in \u001b[0;36m<module>\u001b[1;34m\u001b[0m\n\u001b[1;32m----> 1\u001b[1;33m \u001b[1;32mfor\u001b[0m \u001b[0mstock\u001b[0m \u001b[1;32min\u001b[0m \u001b[0mstocks\u001b[0m\u001b[1;33m:\u001b[0m\u001b[1;33m\u001b[0m\u001b[1;33m\u001b[0m\u001b[0m\n\u001b[0m\u001b[0;32m      2\u001b[0m     \u001b[0mprint\u001b[0m\u001b[1;33m(\u001b[0m\u001b[0mstock\u001b[0m\u001b[1;33m)\u001b[0m\u001b[1;33m\u001b[0m\u001b[1;33m\u001b[0m\u001b[0m\n\u001b[0;32m      3\u001b[0m     \u001b[0mget_industry\u001b[0m\u001b[1;33m(\u001b[0m\u001b[0mstocks\u001b[0m\u001b[1;33m,\u001b[0m \u001b[0mdate\u001b[0m\u001b[1;33m=\u001b[0m\u001b[1;32mNone\u001b[0m\u001b[1;33m)\u001b[0m\u001b[1;33m[\u001b[0m\u001b[0mstock\u001b[0m\u001b[1;33m]\u001b[0m\u001b[1;33m\u001b[0m\u001b[1;33m\u001b[0m\u001b[0m\n",
      "\u001b[1;31mNameError\u001b[0m: name 'stocks' is not defined"
     ]
    }
   ],
   "source": [
    "for stock in stocks:\n",
    "    print(stock)\n",
    "    get_industry(stocks, date=None)[stock]"
   ]
  },
  {
   "cell_type": "code",
   "execution_count": 19,
   "metadata": {},
   "outputs": [
    {
     "output_type": "error",
     "ename": "AttributeError",
     "evalue": "type object 'pandas._libs.tslibs.conversion._TSObject' has no attribute '__reduce_cython__'",
     "traceback": [
      "\u001b[1;31m---------------------------------------------------------------------------\u001b[0m",
      "\u001b[1;31mAttributeError\u001b[0m                            Traceback (most recent call last)",
      "\u001b[1;32m<ipython-input-19-41624f6a800d>\u001b[0m in \u001b[0;36m<module>\u001b[1;34m\u001b[0m\n\u001b[1;32m----> 1\u001b[1;33m \u001b[1;32mfrom\u001b[0m \u001b[0mjqdatasdk\u001b[0m \u001b[1;32mimport\u001b[0m \u001b[1;33m*\u001b[0m\u001b[1;33m\u001b[0m\u001b[1;33m\u001b[0m\u001b[0m\n\u001b[0m\u001b[0;32m      2\u001b[0m \u001b[1;31m# 查询平安银行2019年的年报\u001b[0m\u001b[1;33m\u001b[0m\u001b[1;33m\u001b[0m\u001b[1;33m\u001b[0m\u001b[0m\n\u001b[0;32m      3\u001b[0m q = query(\n\u001b[0;32m      4\u001b[0m         \u001b[0mincome\u001b[0m\u001b[1;33m.\u001b[0m\u001b[0mstatDate\u001b[0m\u001b[1;33m,\u001b[0m\u001b[1;33m\u001b[0m\u001b[1;33m\u001b[0m\u001b[0m\n\u001b[0;32m      5\u001b[0m         \u001b[0mincome\u001b[0m\u001b[1;33m.\u001b[0m\u001b[0mcode\u001b[0m\u001b[1;33m,\u001b[0m\u001b[1;33m\u001b[0m\u001b[1;33m\u001b[0m\u001b[0m\n",
      "\u001b[1;32m~\\AppData\\Local\\Programs\\Python\\Python37-32\\lib\\site-packages\\jqdatasdk\\__init__.py\u001b[0m in \u001b[0;36m<module>\u001b[1;34m\u001b[0m\n\u001b[0;32m      4\u001b[0m \u001b[0msys\u001b[0m\u001b[1;33m.\u001b[0m\u001b[0mmodules\u001b[0m\u001b[1;33m[\u001b[0m\u001b[1;34m\"ROOT_DIR\"\u001b[0m\u001b[1;33m]\u001b[0m \u001b[1;33m=\u001b[0m \u001b[0mos\u001b[0m\u001b[1;33m.\u001b[0m\u001b[0mpath\u001b[0m\u001b[1;33m.\u001b[0m\u001b[0mabspath\u001b[0m\u001b[1;33m(\u001b[0m\u001b[0mos\u001b[0m\u001b[1;33m.\u001b[0m\u001b[0mpath\u001b[0m\u001b[1;33m.\u001b[0m\u001b[0mdirname\u001b[0m\u001b[1;33m(\u001b[0m\u001b[0m__file__\u001b[0m\u001b[1;33m)\u001b[0m\u001b[1;33m)\u001b[0m\u001b[1;33m\u001b[0m\u001b[1;33m\u001b[0m\u001b[0m\n\u001b[0;32m      5\u001b[0m \u001b[1;33m\u001b[0m\u001b[0m\n\u001b[1;32m----> 6\u001b[1;33m \u001b[1;32mfrom\u001b[0m \u001b[1;33m.\u001b[0m\u001b[0mapi\u001b[0m \u001b[1;32mimport\u001b[0m \u001b[1;33m*\u001b[0m\u001b[1;33m\u001b[0m\u001b[1;33m\u001b[0m\u001b[0m\n\u001b[0m\u001b[0;32m      7\u001b[0m \u001b[1;32mfrom\u001b[0m \u001b[1;33m.\u001b[0m\u001b[0mfinance_service\u001b[0m \u001b[1;32mimport\u001b[0m \u001b[1;33m*\u001b[0m\u001b[1;33m\u001b[0m\u001b[1;33m\u001b[0m\u001b[0m\n\u001b[0;32m      8\u001b[0m \u001b[1;32mfrom\u001b[0m \u001b[1;33m.\u001b[0m \u001b[1;32mimport\u001b[0m \u001b[0malpha101\u001b[0m\u001b[1;33m\u001b[0m\u001b[1;33m\u001b[0m\u001b[0m\n",
      "\u001b[1;32m~\\AppData\\Local\\Programs\\Python\\Python37-32\\lib\\site-packages\\jqdatasdk\\api.py\u001b[0m in \u001b[0;36m<module>\u001b[1;34m\u001b[0m\n\u001b[0;32m      3\u001b[0m \u001b[1;32mfrom\u001b[0m \u001b[0mio\u001b[0m \u001b[1;32mimport\u001b[0m \u001b[0mStringIO\u001b[0m\u001b[1;33m\u001b[0m\u001b[1;33m\u001b[0m\u001b[0m\n\u001b[0;32m      4\u001b[0m \u001b[1;32mimport\u001b[0m \u001b[0mrequests\u001b[0m\u001b[1;33m\u001b[0m\u001b[1;33m\u001b[0m\u001b[0m\n\u001b[1;32m----> 5\u001b[1;33m \u001b[1;32mfrom\u001b[0m \u001b[1;33m.\u001b[0m\u001b[0mutils\u001b[0m \u001b[1;32mimport\u001b[0m \u001b[1;33m*\u001b[0m\u001b[1;33m\u001b[0m\u001b[1;33m\u001b[0m\u001b[0m\n\u001b[0m\u001b[0;32m      6\u001b[0m \u001b[1;32mfrom\u001b[0m \u001b[1;33m.\u001b[0m\u001b[0mclient\u001b[0m \u001b[1;32mimport\u001b[0m \u001b[0mJQDataClient\u001b[0m\u001b[1;33m\u001b[0m\u001b[1;33m\u001b[0m\u001b[0m\n\u001b[0;32m      7\u001b[0m \u001b[1;33m\u001b[0m\u001b[0m\n",
      "\u001b[1;32m~\\AppData\\Local\\Programs\\Python\\Python37-32\\lib\\site-packages\\jqdatasdk\\utils.py\u001b[0m in \u001b[0;36m<module>\u001b[1;34m\u001b[0m\n\u001b[0;32m      7\u001b[0m \u001b[1;32mfrom\u001b[0m \u001b[0mcollections\u001b[0m \u001b[1;32mimport\u001b[0m \u001b[0mnamedtuple\u001b[0m\u001b[1;33m\u001b[0m\u001b[1;33m\u001b[0m\u001b[0m\n\u001b[0;32m      8\u001b[0m \u001b[1;32mimport\u001b[0m \u001b[0mre\u001b[0m\u001b[1;33m\u001b[0m\u001b[1;33m\u001b[0m\u001b[0m\n\u001b[1;32m----> 9\u001b[1;33m \u001b[1;32mimport\u001b[0m \u001b[0mpandas\u001b[0m \u001b[1;32mas\u001b[0m \u001b[0mpd\u001b[0m\u001b[1;33m\u001b[0m\u001b[1;33m\u001b[0m\u001b[0m\n\u001b[0m\u001b[0;32m     10\u001b[0m \u001b[1;32mif\u001b[0m \u001b[0msix\u001b[0m\u001b[1;33m.\u001b[0m\u001b[0mPY2\u001b[0m\u001b[1;33m:\u001b[0m\u001b[1;33m\u001b[0m\u001b[1;33m\u001b[0m\u001b[0m\n\u001b[0;32m     11\u001b[0m     \u001b[1;32mimport\u001b[0m \u001b[0mcPickle\u001b[0m \u001b[1;32mas\u001b[0m \u001b[0mpickle\u001b[0m\u001b[1;33m\u001b[0m\u001b[1;33m\u001b[0m\u001b[0m\n",
      "\u001b[1;32m~\\AppData\\Local\\Programs\\Python\\Python37-32\\lib\\site-packages\\pandas\\__init__.py\u001b[0m in \u001b[0;36m<module>\u001b[1;34m\u001b[0m\n\u001b[0;32m     28\u001b[0m \u001b[1;33m\u001b[0m\u001b[0m\n\u001b[0;32m     29\u001b[0m \u001b[1;32mtry\u001b[0m\u001b[1;33m:\u001b[0m\u001b[1;33m\u001b[0m\u001b[1;33m\u001b[0m\u001b[0m\n\u001b[1;32m---> 30\u001b[1;33m     \u001b[1;32mfrom\u001b[0m \u001b[0mpandas\u001b[0m\u001b[1;33m.\u001b[0m\u001b[0m_libs\u001b[0m \u001b[1;32mimport\u001b[0m \u001b[0mhashtable\u001b[0m \u001b[1;32mas\u001b[0m \u001b[0m_hashtable\u001b[0m\u001b[1;33m,\u001b[0m \u001b[0mlib\u001b[0m \u001b[1;32mas\u001b[0m \u001b[0m_lib\u001b[0m\u001b[1;33m,\u001b[0m \u001b[0mtslib\u001b[0m \u001b[1;32mas\u001b[0m \u001b[0m_tslib\u001b[0m\u001b[1;33m\u001b[0m\u001b[1;33m\u001b[0m\u001b[0m\n\u001b[0m\u001b[0;32m     31\u001b[0m \u001b[1;32mexcept\u001b[0m \u001b[0mImportError\u001b[0m \u001b[1;32mas\u001b[0m \u001b[0me\u001b[0m\u001b[1;33m:\u001b[0m  \u001b[1;31m# pragma: no cover\u001b[0m\u001b[1;33m\u001b[0m\u001b[1;33m\u001b[0m\u001b[0m\n\u001b[0;32m     32\u001b[0m     \u001b[1;31m# hack but overkill to use re\u001b[0m\u001b[1;33m\u001b[0m\u001b[1;33m\u001b[0m\u001b[1;33m\u001b[0m\u001b[0m\n",
      "\u001b[1;32m~\\AppData\\Local\\Programs\\Python\\Python37-32\\lib\\site-packages\\pandas\\_libs\\__init__.py\u001b[0m in \u001b[0;36m<module>\u001b[1;34m\u001b[0m\n\u001b[0;32m      1\u001b[0m \u001b[1;31m# flake8: noqa\u001b[0m\u001b[1;33m\u001b[0m\u001b[1;33m\u001b[0m\u001b[1;33m\u001b[0m\u001b[0m\n\u001b[0;32m      2\u001b[0m \u001b[1;33m\u001b[0m\u001b[0m\n\u001b[1;32m----> 3\u001b[1;33m from .tslibs import (\n\u001b[0m\u001b[0;32m      4\u001b[0m     \u001b[0mNaT\u001b[0m\u001b[1;33m,\u001b[0m\u001b[1;33m\u001b[0m\u001b[1;33m\u001b[0m\u001b[0m\n\u001b[0;32m      5\u001b[0m     \u001b[0mNaTType\u001b[0m\u001b[1;33m,\u001b[0m\u001b[1;33m\u001b[0m\u001b[1;33m\u001b[0m\u001b[0m\n",
      "\u001b[1;32m~\\AppData\\Local\\Programs\\Python\\Python37-32\\lib\\site-packages\\pandas\\_libs\\tslibs\\__init__.py\u001b[0m in \u001b[0;36m<module>\u001b[1;34m\u001b[0m\n\u001b[0;32m      1\u001b[0m \u001b[1;31m# flake8: noqa\u001b[0m\u001b[1;33m\u001b[0m\u001b[1;33m\u001b[0m\u001b[1;33m\u001b[0m\u001b[0m\n\u001b[0;32m      2\u001b[0m \u001b[1;33m\u001b[0m\u001b[0m\n\u001b[1;32m----> 3\u001b[1;33m \u001b[1;32mfrom\u001b[0m \u001b[1;33m.\u001b[0m\u001b[0mconversion\u001b[0m \u001b[1;32mimport\u001b[0m \u001b[0mlocalize_pydatetime\u001b[0m\u001b[1;33m,\u001b[0m \u001b[0mnormalize_date\u001b[0m\u001b[1;33m\u001b[0m\u001b[1;33m\u001b[0m\u001b[0m\n\u001b[0m\u001b[0;32m      4\u001b[0m \u001b[1;32mfrom\u001b[0m \u001b[1;33m.\u001b[0m\u001b[0mnattype\u001b[0m \u001b[1;32mimport\u001b[0m \u001b[0mNaT\u001b[0m\u001b[1;33m,\u001b[0m \u001b[0mNaTType\u001b[0m\u001b[1;33m,\u001b[0m \u001b[0miNaT\u001b[0m\u001b[1;33m,\u001b[0m \u001b[0mis_null_datetimelike\u001b[0m\u001b[1;33m\u001b[0m\u001b[1;33m\u001b[0m\u001b[0m\n\u001b[0;32m      5\u001b[0m \u001b[1;32mfrom\u001b[0m \u001b[1;33m.\u001b[0m\u001b[0mnp_datetime\u001b[0m \u001b[1;32mimport\u001b[0m \u001b[0mOutOfBoundsDatetime\u001b[0m\u001b[1;33m\u001b[0m\u001b[1;33m\u001b[0m\u001b[0m\n",
      "\u001b[1;32mpandas/_libs/tslibs/conversion.pyx\u001b[0m in \u001b[0;36minit pandas._libs.tslibs.conversion\u001b[1;34m()\u001b[0m\n",
      "\u001b[1;31mAttributeError\u001b[0m: type object 'pandas._libs.tslibs.conversion._TSObject' has no attribute '__reduce_cython__'"
     ]
    }
   ],
   "source": [
    "from jqdatasdk import *\n",
    "# 查询平安银行2019年的年报\n",
    "q = query(\n",
    "        income.statDate,\n",
    "        income.code,\n",
    "        income.basic_eps,\n",
    "        cash_flow.goods_sale_and_service_render_cash\n",
    "    ).filter(\n",
    "        income.code == '000001.XSHE',\n",
    "    )\n",
    "\n",
    "ret = get_fundamentals(q, statDate='2019')\n",
    "print(ret)"
   ]
  },
  {
   "cell_type": "code",
   "execution_count": null,
   "metadata": {},
   "outputs": [],
   "source": []
  }
 ],
 "metadata": {
  "language_info": {
   "codemirror_mode": {
    "name": "ipython",
    "version": 3
   },
   "file_extension": ".py",
   "mimetype": "text/x-python",
   "name": "python",
   "nbconvert_exporter": "python",
   "pygments_lexer": "ipython3",
   "version": "3.7.4-final"
  },
  "orig_nbformat": 2,
  "kernelspec": {
   "name": "python37432bit6a4013f1a8ec4766a4af9787f2730623",
   "display_name": "Python 3.7.4 32-bit"
  }
 },
 "nbformat": 4,
 "nbformat_minor": 2
}