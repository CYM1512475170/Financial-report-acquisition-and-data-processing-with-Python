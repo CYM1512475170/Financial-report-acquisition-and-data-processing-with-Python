{
 "cells": [
  {
   "cell_type": "code",
   "execution_count": 1,
   "metadata": {},
   "outputs": [
    {
     "output_type": "stream",
     "name": "stdout",
     "text": "提示：当前环境pandas版本为0.25，get_price与get_fundamentals_continuously接口panel参数将固定为False\n注意：0.25以上版本pandas不支持panel，如使用该数据结构和相关函数请注意修改\nauth success \n"
    }
   ],
   "source": [
    "import jqdatasdk\n",
    "from jqdatasdk import *\n",
    "jqdatasdk.auth(\"13141315365\", \"315365\")"
   ]
  },
  {
   "cell_type": "code",
   "execution_count": 3,
   "metadata": {},
   "outputs": [
    {
     "output_type": "stream",
     "name": "stdout",
     "text": "['000016.XSHE', '000020.XSHE', '000021.XSHE', '000045.XSHE', '000050.XSHE', '000063.XSHE', '000066.XSHE', '000068.XSHE', '000100.XSHE', '000413.XSHE']\n"
    }
   ],
   "source": [
    "# 计算机、通信和其他电子设备制造业\n",
    "print(get_industry_stocks(\"C39\", date=None)[:10])"
   ]
  },
  {
   "cell_type": "markdown",
   "metadata": {},
   "source": [
    "### 业绩预告示例"
   ]
  },
  {
   "cell_type": "code",
   "execution_count": 5,
   "metadata": {},
   "outputs": [
    {
     "output_type": "stream",
     "name": "stdout",
     "text": "id  company_id         code        name    end_date  report_type_id  \\\n0  295753   430000016  000016.XSHE  康佳集团股份有限公司  2015-06-30          304002   \n1  295754   430000016  000016.XSHE  康佳集团股份有限公司  2015-09-30          304003   \n\n  report_type    pub_date  type_id  type   profit_min   profit_max  \\\n0        中报预告  2015-07-11   305007  业绩预亏 -300000000.0 -240000000.0   \n1       三季度预告  2015-10-15   305007  业绩预亏 -880000000.0 -830000000.0   \n\n   profit_last  profit_ratio_min  profit_ratio_max  \\\n0  45360110.62         -761.3740         -629.0992   \n1  47579255.05        -1949.5456        -1844.4577   \n\n                                        content  \n0  预计2015年1-6月归属于上市公司股东的净利润亏损:24,000万元–30,000万元  \n1  预计2015年1-9月归属于上市公司股东的净利润亏损:83,000万元–88,000万元  \n"
    }
   ],
   "source": [
    "stock_electrical=get_industry_stocks(\"C39\", date=None)\n",
    "from jqdatasdk import finance\n",
    "for code in stock_electrical[:1]:\n",
    "    q=query(finance.STK_FIN_FORCAST).filter(finance.STK_FIN_FORCAST.code==code,finance.STK_FIN_FORCAST.pub_date>='2015-01-01').limit(2)\n",
    "    df=finance.run_query(q)\n",
    "    print(df)   "
   ]
  },
  {
   "cell_type": "markdown",
   "metadata": {},
   "source": [
    "### 合并利润表"
   ]
  },
  {
   "cell_type": "markdown",
   "metadata": {},
   "source": [
    "**营业收入**  \n",
    "total_operating_revenue\t营业总收入\tdecimal(20,4)  \n",
    "operating_revenue\t营业收入\tdecimal(20,4)\t"
   ]
  },
  {
   "cell_type": "code",
   "execution_count": 11,
   "metadata": {},
   "outputs": [
    {
     "output_type": "stream",
     "name": "stdout",
     "text": "total_operating_revenue  operating_revenue company_name         code  \\\n0             1.942349e+10       1.942349e+10   康佳集团股份有限公司  000016.XSHE   \n1             4.569152e+09       4.569152e+09   康佳集团股份有限公司  000016.XSHE   \n\n     pub_date  start_date    end_date report_date  report_type  \n0  2015-04-03  2014-01-01  2014-12-31  2014-12-31            0  \n1  2015-04-29  2015-01-01  2015-03-31  2015-03-31            0  \n"
    }
   ],
   "source": [
    "for code in stock_electrical[:1]:\n",
    "    q=query(finance.STK_INCOME_STATEMENT.total_operating_revenue,finance.STK_INCOME_STATEMENT.operating_revenue,finance.STK_INCOME_STATEMENT.company_name,                           finance.STK_INCOME_STATEMENT.code,                         finance.STK_INCOME_STATEMENT.pub_date,                finance.STK_INCOME_STATEMENT.start_date,                finance.STK_INCOME_STATEMENT.end_date,        finance.STK_INCOME_STATEMENT.report_date,                        finance.STK_INCOME_STATEMENT.report_type).filter(finance.STK_INCOME_STATEMENT.code==code,finance.STK_INCOME_STATEMENT.pub_date>='2015-01-01',finance.STK_INCOME_STATEMENT.report_type==0).limit(2)\n",
    "    df=finance.run_query(q)\n",
    "    print(df)"
   ]
  },
  {
   "cell_type": "markdown",
   "metadata": {},
   "source": [
    "**营业税金及附加**  \n",
    "operating_tax_surcharges\t营业税金及附加\tdecimal(20,4)\t"
   ]
  },
  {
   "cell_type": "code",
   "execution_count": 12,
   "metadata": {},
   "outputs": [
    {
     "output_type": "stream",
     "name": "stdout",
     "text": "operating_tax_surcharges company_name         code    pub_date  start_date  \\\n0               60527648.50   康佳集团股份有限公司  000016.XSHE  2015-04-03  2014-01-01   \n1               13913541.44   康佳集团股份有限公司  000016.XSHE  2015-04-29  2015-01-01   \n\n     end_date report_date  report_type  \n0  2014-12-31  2014-12-31            0  \n1  2015-03-31  2015-03-31            0  \n"
    }
   ],
   "source": [
    "for code in stock_electrical[:1]:\n",
    "    q=query(finance.STK_INCOME_STATEMENT.operating_tax_surcharges,finance.STK_INCOME_STATEMENT.company_name,                           finance.STK_INCOME_STATEMENT.code,                         finance.STK_INCOME_STATEMENT.pub_date,                finance.STK_INCOME_STATEMENT.start_date,                finance.STK_INCOME_STATEMENT.end_date,        finance.STK_INCOME_STATEMENT.report_date,                        finance.STK_INCOME_STATEMENT.report_type).filter(finance.STK_INCOME_STATEMENT.code==code,finance.STK_INCOME_STATEMENT.pub_date>='2015-01-01',finance.STK_INCOME_STATEMENT.report_type==0).limit(2)\n",
    "    df=finance.run_query(q)\n",
    "    print(df)"
   ]
  },
  {
   "cell_type": "markdown",
   "metadata": {},
   "source": [
    "**营业成本**  \n",
    "total_operating_cost\t营业总成本\tdecimal(20,4)  \n",
    "operating_cost\t营业成本\tdecimal(20,4)\t"
   ]
  },
  {
   "cell_type": "code",
   "execution_count": 10,
   "metadata": {},
   "outputs": [
    {
     "output_type": "stream",
     "name": "stdout",
     "text": "total_operating_cost  operating_cost company_name         code    pub_date  \\\n0          2.016998e+10    1.673375e+10   康佳集团股份有限公司  000016.XSHE  2015-04-03   \n1          4.578328e+09    3.861909e+09   康佳集团股份有限公司  000016.XSHE  2015-04-29   \n\n   start_date    end_date report_date  report_type  \n0  2014-01-01  2014-12-31  2014-12-31            0  \n1  2015-01-01  2015-03-31  2015-03-31            0  \n"
    }
   ],
   "source": [
    "for code in stock_electrical[:1]:\n",
    "    q=query(finance.STK_INCOME_STATEMENT.total_operating_cost,finance.STK_INCOME_STATEMENT.operating_cost,                           finance.STK_INCOME_STATEMENT.company_name,                           finance.STK_INCOME_STATEMENT.code,                         finance.STK_INCOME_STATEMENT.pub_date,                finance.STK_INCOME_STATEMENT.start_date,                finance.STK_INCOME_STATEMENT.end_date,        finance.STK_INCOME_STATEMENT.report_date,                        finance.STK_INCOME_STATEMENT.report_type).filter(finance.STK_INCOME_STATEMENT.code==code,finance.STK_INCOME_STATEMENT.pub_date>='2015-01-01',finance.STK_INCOME_STATEMENT.report_type==0).limit(2)\n",
    "    df=finance.run_query(q)\n",
    "    print(df)"
   ]
  },
  {
   "cell_type": "markdown",
   "metadata": {},
   "source": [
    "**费用**  \n",
    "- sale_expense\t销售费用\tdecimal(20,4)  \t  \n",
    "- administration_expense\t管理费用\tdecimal(20,4)\t  \n",
    "- exploration_expense\t堪探费用\tdecimal(20,4)\t勘探费用用于核算企业（石油天然气开采）核算的油气勘探过程中发生的地质调查、物理化学勘探各项支出和非成功探井等支出。   \n",
    "- financial_expense\t财务费用\tdecimal(20,4)\t\t"
   ]
  },
  {
   "cell_type": "code",
   "execution_count": 13,
   "metadata": {},
   "outputs": [
    {
     "output_type": "stream",
     "name": "stdout",
     "text": "sale_expense  administration_expense exploration_expense  \\\n0  2.414468e+09            6.869304e+08                None   \n1  4.797445e+08            1.462263e+08                None   \n\n   financial_expense company_name         code    pub_date  start_date  \\\n0       1.327638e+08   康佳集团股份有限公司  000016.XSHE  2015-04-03  2014-01-01   \n1       7.655130e+07   康佳集团股份有限公司  000016.XSHE  2015-04-29  2015-01-01   \n\n     end_date report_date  report_type  \n0  2014-12-31  2014-12-31            0  \n1  2015-03-31  2015-03-31            0  \n"
    }
   ],
   "source": [
    "for code in stock_electrical[:1]:\n",
    "    q=query(finance.STK_INCOME_STATEMENT.sale_expense,finance.STK_INCOME_STATEMENT.administration_expense,finance.STK_INCOME_STATEMENT.exploration_expense,finance.STK_INCOME_STATEMENT.financial_expense,finance.STK_INCOME_STATEMENT.company_name,                           finance.STK_INCOME_STATEMENT.code,                         finance.STK_INCOME_STATEMENT.pub_date,                finance.STK_INCOME_STATEMENT.start_date,                finance.STK_INCOME_STATEMENT.end_date,        finance.STK_INCOME_STATEMENT.report_date,                        finance.STK_INCOME_STATEMENT.report_type).filter(finance.STK_INCOME_STATEMENT.code==code,finance.STK_INCOME_STATEMENT.pub_date>='2015-01-01',finance.STK_INCOME_STATEMENT.report_type==0).limit(2)\n",
    "    df=finance.run_query(q)\n",
    "    print(df)"
   ]
  },
  {
   "cell_type": "code",
   "execution_count": null,
   "metadata": {},
   "outputs": [],
   "source": [
    "****  \n"
   ]
  },
  {
   "cell_type": "code",
   "execution_count": null,
   "metadata": {},
   "outputs": [],
   "source": [
    "for code in stock_electrical[:1]:\n",
    "    q=query(finance.STK_INCOME_STATEMENT.total_operating_revenue,finance.STK_INCOME_STATEMENT.company_name,                           finance.STK_INCOME_STATEMENT.code,                         finance.STK_INCOME_STATEMENT.pub_date,                finance.STK_INCOME_STATEMENT.start_date,                finance.STK_INCOME_STATEMENT.end_date,        finance.STK_INCOME_STATEMENT.report_date,                        finance.STK_INCOME_STATEMENT.report_type).filter(finance.STK_INCOME_STATEMENT.code==code,finance.STK_INCOME_STATEMENT.pub_date>='2015-01-01',finance.STK_INCOME_STATEMENT.report_type==0).limit(2)\n",
    "    df=finance.run_query(q)\n",
    "    print(df)"
   ]
  },
  {
   "cell_type": "code",
   "execution_count": null,
   "metadata": {},
   "outputs": [],
   "source": [
    "# 字段名称\t中文名称\t字段类型\t含义\n",
    "# company_id\t公司ID\tint\t\n",
    "# company_name\t公司名称\tvarchar(100)\t\n",
    "# code\t股票代码\tvarchar(12)\t\n",
    "# a_code\tA股代码\tvarchar(12)\t\n",
    "# b_code\tB股代码\tvarchar(12)\t\n",
    "# h_code\tH股代码\tvarchar(12)\t\n",
    "# pub_date\t公告日期\tdate\t\n",
    "# start_date\t开始日期\tdate\t\n",
    "# end_date\t截止日期\tdate\t\n",
    "# report_date\t报告期\tdate\t\n",
    "# report_type\t报告期类型\tint\t0：本期，1：上期\n",
    "# source_id\t报表来源编码\tint\t如下 报表来源编码\n",
    "# source\t报表来源\tvarchar(60)\t选择时程序自动填入"
   ]
  }
 ],
 "metadata": {
  "language_info": {
   "codemirror_mode": {
    "name": "ipython",
    "version": 3
   },
   "file_extension": ".py",
   "mimetype": "text/x-python",
   "name": "python",
   "nbconvert_exporter": "python",
   "pygments_lexer": "ipython3",
   "version": "3.7.4-final"
  },
  "orig_nbformat": 2,
  "kernelspec": {
   "name": "python37432bit6a4013f1a8ec4766a4af9787f2730623",
   "display_name": "Python 3.7.4 32-bit"
  }
 },
 "nbformat": 4,
 "nbformat_minor": 2
}