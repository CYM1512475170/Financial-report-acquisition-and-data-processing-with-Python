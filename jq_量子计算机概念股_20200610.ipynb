{
 "cells": [
  {
   "cell_type": "markdown",
   "metadata": {},
   "source": [
    "# 量子计算机概念股"
   ]
  },
  {
   "cell_type": "code",
   "execution_count": 2,
   "metadata": {},
   "outputs": [
    {
     "output_type": "stream",
     "name": "stdout",
     "text": "提示：当前环境pandas版本为0.25，get_price与get_fundamentals_continuously接口panel参数将固定为False\n注意：0.25以上版本pandas不支持panel，如使用该数据结构和相关函数请注意修改\nauth success \n"
    }
   ],
   "source": [
    "import jqdatasdk\n",
    "from jqdatasdk import *\n",
    "jqdatasdk.auth(\"13141315365\", \"315365\")"
   ]
  },
  {
   "cell_type": "code",
   "execution_count": 3,
   "metadata": {},
   "outputs": [
    {
     "output_type": "execute_result",
     "data": {
      "text/plain": "['000007.XSHE', '000555.XSHE', '000839.XSHE']"
     },
     "metadata": {},
     "execution_count": 3
    }
   ],
   "source": [
    "stocks=get_concept_stocks('GN1025', date=None)\n",
    "stocks[:3]"
   ]
  },
  {
   "cell_type": "code",
   "execution_count": 4,
   "metadata": {},
   "outputs": [
    {
     "output_type": "execute_result",
     "data": {
      "text/plain": "            time         code  open  close  high   low      volume  \\\n0     2015-01-05  002224.XSHE  8.46   8.35  8.49  8.20   6610618.0   \n1     2015-01-06  002224.XSHE  8.35   8.35  8.42  8.19  12292378.0   \n2     2015-01-07  002224.XSHE  8.27   8.27  8.41  8.11  14447042.0   \n3     2015-01-08  002224.XSHE  8.28   8.17  8.30  8.08  13979402.0   \n4     2015-01-09  002224.XSHE  8.18   8.18  8.22  8.07   7845372.0   \n...          ...          ...   ...    ...   ...   ...         ...   \n21925 2020-12-25  000007.XSHE  8.03   8.03  8.03  8.03         0.0   \n21926 2020-12-28  000007.XSHE  8.03   8.03  8.03  8.03         0.0   \n21927 2020-12-29  000007.XSHE  8.03   8.03  8.03  8.03         0.0   \n21928 2020-12-30  000007.XSHE  8.03   8.03  8.03  8.03         0.0   \n21929 2020-12-31  000007.XSHE  8.03   8.03  8.03  8.03         0.0   \n\n             money  \n0       54943500.0  \n1      101817672.0  \n2      118780040.0  \n3      114492936.0  \n4       64075584.0  \n...            ...  \n21925          0.0  \n21926          0.0  \n21927          0.0  \n21928          0.0  \n21929          0.0  \n\n[21930 rows x 8 columns]",
      "text/html": "<div>\n<style scoped>\n    .dataframe tbody tr th:only-of-type {\n        vertical-align: middle;\n    }\n\n    .dataframe tbody tr th {\n        vertical-align: top;\n    }\n\n    .dataframe thead th {\n        text-align: right;\n    }\n</style>\n<table border=\"1\" class=\"dataframe\">\n  <thead>\n    <tr style=\"text-align: right;\">\n      <th></th>\n      <th>time</th>\n      <th>code</th>\n      <th>open</th>\n      <th>close</th>\n      <th>high</th>\n      <th>low</th>\n      <th>volume</th>\n      <th>money</th>\n    </tr>\n  </thead>\n  <tbody>\n    <tr>\n      <th>0</th>\n      <td>2015-01-05</td>\n      <td>002224.XSHE</td>\n      <td>8.46</td>\n      <td>8.35</td>\n      <td>8.49</td>\n      <td>8.20</td>\n      <td>6610618.0</td>\n      <td>54943500.0</td>\n    </tr>\n    <tr>\n      <th>1</th>\n      <td>2015-01-06</td>\n      <td>002224.XSHE</td>\n      <td>8.35</td>\n      <td>8.35</td>\n      <td>8.42</td>\n      <td>8.19</td>\n      <td>12292378.0</td>\n      <td>101817672.0</td>\n    </tr>\n    <tr>\n      <th>2</th>\n      <td>2015-01-07</td>\n      <td>002224.XSHE</td>\n      <td>8.27</td>\n      <td>8.27</td>\n      <td>8.41</td>\n      <td>8.11</td>\n      <td>14447042.0</td>\n      <td>118780040.0</td>\n    </tr>\n    <tr>\n      <th>3</th>\n      <td>2015-01-08</td>\n      <td>002224.XSHE</td>\n      <td>8.28</td>\n      <td>8.17</td>\n      <td>8.30</td>\n      <td>8.08</td>\n      <td>13979402.0</td>\n      <td>114492936.0</td>\n    </tr>\n    <tr>\n      <th>4</th>\n      <td>2015-01-09</td>\n      <td>002224.XSHE</td>\n      <td>8.18</td>\n      <td>8.18</td>\n      <td>8.22</td>\n      <td>8.07</td>\n      <td>7845372.0</td>\n      <td>64075584.0</td>\n    </tr>\n    <tr>\n      <th>...</th>\n      <td>...</td>\n      <td>...</td>\n      <td>...</td>\n      <td>...</td>\n      <td>...</td>\n      <td>...</td>\n      <td>...</td>\n      <td>...</td>\n    </tr>\n    <tr>\n      <th>21925</th>\n      <td>2020-12-25</td>\n      <td>000007.XSHE</td>\n      <td>8.03</td>\n      <td>8.03</td>\n      <td>8.03</td>\n      <td>8.03</td>\n      <td>0.0</td>\n      <td>0.0</td>\n    </tr>\n    <tr>\n      <th>21926</th>\n      <td>2020-12-28</td>\n      <td>000007.XSHE</td>\n      <td>8.03</td>\n      <td>8.03</td>\n      <td>8.03</td>\n      <td>8.03</td>\n      <td>0.0</td>\n      <td>0.0</td>\n    </tr>\n    <tr>\n      <th>21927</th>\n      <td>2020-12-29</td>\n      <td>000007.XSHE</td>\n      <td>8.03</td>\n      <td>8.03</td>\n      <td>8.03</td>\n      <td>8.03</td>\n      <td>0.0</td>\n      <td>0.0</td>\n    </tr>\n    <tr>\n      <th>21928</th>\n      <td>2020-12-30</td>\n      <td>000007.XSHE</td>\n      <td>8.03</td>\n      <td>8.03</td>\n      <td>8.03</td>\n      <td>8.03</td>\n      <td>0.0</td>\n      <td>0.0</td>\n    </tr>\n    <tr>\n      <th>21929</th>\n      <td>2020-12-31</td>\n      <td>000007.XSHE</td>\n      <td>8.03</td>\n      <td>8.03</td>\n      <td>8.03</td>\n      <td>8.03</td>\n      <td>0.0</td>\n      <td>0.0</td>\n    </tr>\n  </tbody>\n</table>\n<p>21930 rows × 8 columns</p>\n</div>"
     },
     "metadata": {},
     "execution_count": 4
    }
   ],
   "source": [
    "# 历史行情\n",
    "get_price(stocks, start_date='2015-01-01', end_date='2020-12-31', frequency='daily', fields=None, skip_paused=False, fq='pre', panel=True)"
   ]
  },
  {
   "cell_type": "code",
   "execution_count": 5,
   "metadata": {},
   "outputs": [
    {
     "output_type": "execute_result",
     "data": {
      "text/plain": "      id  company_id         code  name    end_date    pub_date  employee  \\\n0  26839   430000007  000007.XSHE   全新好  2005-12-31        None       769   \n1  26840   430000007  000007.XSHE  ST达声  2007-12-31  2008-04-22       911   \n2  26841   430000007  000007.XSHE  ST达声  2008-12-31  2009-04-24       849   \n3  26842   430000007  000007.XSHE  ST零七  2010-12-31  2011-04-23       751   \n4  26843   430000007  000007.XSHE  ST零七  2011-12-31  2012-02-23       675   \n\n  retirement graduate_rate  college_rate  middle_rate  \n0       None          None           NaN          NaN  \n1       None          None           NaN          NaN  \n2       None          None           NaN          NaN  \n3       None          None           NaN          NaN  \n4       None          None       25.7778      74.2222  ",
      "text/html": "<div>\n<style scoped>\n    .dataframe tbody tr th:only-of-type {\n        vertical-align: middle;\n    }\n\n    .dataframe tbody tr th {\n        vertical-align: top;\n    }\n\n    .dataframe thead th {\n        text-align: right;\n    }\n</style>\n<table border=\"1\" class=\"dataframe\">\n  <thead>\n    <tr style=\"text-align: right;\">\n      <th></th>\n      <th>id</th>\n      <th>company_id</th>\n      <th>code</th>\n      <th>name</th>\n      <th>end_date</th>\n      <th>pub_date</th>\n      <th>employee</th>\n      <th>retirement</th>\n      <th>graduate_rate</th>\n      <th>college_rate</th>\n      <th>middle_rate</th>\n    </tr>\n  </thead>\n  <tbody>\n    <tr>\n      <th>0</th>\n      <td>26839</td>\n      <td>430000007</td>\n      <td>000007.XSHE</td>\n      <td>全新好</td>\n      <td>2005-12-31</td>\n      <td>None</td>\n      <td>769</td>\n      <td>None</td>\n      <td>None</td>\n      <td>NaN</td>\n      <td>NaN</td>\n    </tr>\n    <tr>\n      <th>1</th>\n      <td>26840</td>\n      <td>430000007</td>\n      <td>000007.XSHE</td>\n      <td>ST达声</td>\n      <td>2007-12-31</td>\n      <td>2008-04-22</td>\n      <td>911</td>\n      <td>None</td>\n      <td>None</td>\n      <td>NaN</td>\n      <td>NaN</td>\n    </tr>\n    <tr>\n      <th>2</th>\n      <td>26841</td>\n      <td>430000007</td>\n      <td>000007.XSHE</td>\n      <td>ST达声</td>\n      <td>2008-12-31</td>\n      <td>2009-04-24</td>\n      <td>849</td>\n      <td>None</td>\n      <td>None</td>\n      <td>NaN</td>\n      <td>NaN</td>\n    </tr>\n    <tr>\n      <th>3</th>\n      <td>26842</td>\n      <td>430000007</td>\n      <td>000007.XSHE</td>\n      <td>ST零七</td>\n      <td>2010-12-31</td>\n      <td>2011-04-23</td>\n      <td>751</td>\n      <td>None</td>\n      <td>None</td>\n      <td>NaN</td>\n      <td>NaN</td>\n    </tr>\n    <tr>\n      <th>4</th>\n      <td>26843</td>\n      <td>430000007</td>\n      <td>000007.XSHE</td>\n      <td>ST零七</td>\n      <td>2011-12-31</td>\n      <td>2012-02-23</td>\n      <td>675</td>\n      <td>None</td>\n      <td>None</td>\n      <td>25.7778</td>\n      <td>74.2222</td>\n    </tr>\n  </tbody>\n</table>\n</div>"
     },
     "metadata": {},
     "execution_count": 5
    }
   ],
   "source": [
    "# from jqdata import finance\n",
    "# finance.run_query(query(finance.STK_EMPLOYEE_INFO).filter(finance.STK_EMPLOYEE_INFO.code==code).limit(10))\n",
    "finance.run_query(query(finance.STK_EMPLOYEE_INFO).filter(finance.STK_EMPLOYEE_INFO.code.in_(stocks)).limit(5))"
   ]
  },
  {
   "cell_type": "code",
   "execution_count": 6,
   "metadata": {},
   "outputs": [
    {
     "output_type": "execute_result",
     "data": {
      "text/plain": "     id  company_id         code     full_name short_name  a_code b_code  \\\n0  3088   430000007  000007.XSHE  深圳市全新好股份有限公司        全新好  000007   None   \n\n  h_code                    fullname_en shortname_en  ... province city_id  \\\n0   None  Shenzhen Quanxinhao Co., Ltd.   Quanxinhao  ...       广东  440300   \n\n  city industry_id  industry_1  industry_2              cpafirm    lawfirm  \\\n0  深圳市         K70        房地产业        房地产业  中兴财光华会计师事务所(特殊普通合伙)  广东华商律师事务所   \n\n  ceo                                           comments  \n0  陆波  公司主要的经营范围包括：投资兴办实业（具体项目另外申报）；国内商业、物资供销业（不含专营、专...  \n\n[1 rows x 45 columns]",
      "text/html": "<div>\n<style scoped>\n    .dataframe tbody tr th:only-of-type {\n        vertical-align: middle;\n    }\n\n    .dataframe tbody tr th {\n        vertical-align: top;\n    }\n\n    .dataframe thead th {\n        text-align: right;\n    }\n</style>\n<table border=\"1\" class=\"dataframe\">\n  <thead>\n    <tr style=\"text-align: right;\">\n      <th></th>\n      <th>id</th>\n      <th>company_id</th>\n      <th>code</th>\n      <th>full_name</th>\n      <th>short_name</th>\n      <th>a_code</th>\n      <th>b_code</th>\n      <th>h_code</th>\n      <th>fullname_en</th>\n      <th>shortname_en</th>\n      <th>...</th>\n      <th>province</th>\n      <th>city_id</th>\n      <th>city</th>\n      <th>industry_id</th>\n      <th>industry_1</th>\n      <th>industry_2</th>\n      <th>cpafirm</th>\n      <th>lawfirm</th>\n      <th>ceo</th>\n      <th>comments</th>\n    </tr>\n  </thead>\n  <tbody>\n    <tr>\n      <th>0</th>\n      <td>3088</td>\n      <td>430000007</td>\n      <td>000007.XSHE</td>\n      <td>深圳市全新好股份有限公司</td>\n      <td>全新好</td>\n      <td>000007</td>\n      <td>None</td>\n      <td>None</td>\n      <td>Shenzhen Quanxinhao Co., Ltd.</td>\n      <td>Quanxinhao</td>\n      <td>...</td>\n      <td>广东</td>\n      <td>440300</td>\n      <td>深圳市</td>\n      <td>K70</td>\n      <td>房地产业</td>\n      <td>房地产业</td>\n      <td>中兴财光华会计师事务所(特殊普通合伙)</td>\n      <td>广东华商律师事务所</td>\n      <td>陆波</td>\n      <td>公司主要的经营范围包括：投资兴办实业（具体项目另外申报）；国内商业、物资供销业（不含专营、专...</td>\n    </tr>\n  </tbody>\n</table>\n<p>1 rows × 45 columns</p>\n</div>"
     },
     "metadata": {},
     "execution_count": 6
    }
   ],
   "source": [
    "# 上市公司基本信息\n",
    "finance.run_query(query(finance.STK_COMPANY_INFO).filter(finance.STK_COMPANY_INFO.code.in_(stocks)).limit(1))"
   ]
  },
  {
   "cell_type": "code",
   "execution_count": 7,
   "metadata": {},
   "outputs": [
    {
     "output_type": "execute_result",
     "data": {
      "text/plain": "       id  company_id company_name         code    pub_date  person_id name  \\\n0  271150   420600105   江苏永鼎股份有限公司  600105.XSHG  2007-05-19  201514333   许劲   \n\n   title_class_id title_class title  ... highest_degree_id highest_degree  \\\n0          314001       董事会成员    董事  ...            316003             本科   \n\n  title_level_id title_level profession_certificate_id profession_certificate  \\\n0         317003          高级                      None                   None   \n\n   nationality_id nationality  security_career_start_year  \\\n0            None        None                        None   \n\n                                         resume  \n0  许劲先生，中国国籍，43岁，大学，高级工程师，本公司董事，现任天津市电话器材公司总经理。  \n\n[1 rows x 26 columns]",
      "text/html": "<div>\n<style scoped>\n    .dataframe tbody tr th:only-of-type {\n        vertical-align: middle;\n    }\n\n    .dataframe tbody tr th {\n        vertical-align: top;\n    }\n\n    .dataframe thead th {\n        text-align: right;\n    }\n</style>\n<table border=\"1\" class=\"dataframe\">\n  <thead>\n    <tr style=\"text-align: right;\">\n      <th></th>\n      <th>id</th>\n      <th>company_id</th>\n      <th>company_name</th>\n      <th>code</th>\n      <th>pub_date</th>\n      <th>person_id</th>\n      <th>name</th>\n      <th>title_class_id</th>\n      <th>title_class</th>\n      <th>title</th>\n      <th>...</th>\n      <th>highest_degree_id</th>\n      <th>highest_degree</th>\n      <th>title_level_id</th>\n      <th>title_level</th>\n      <th>profession_certificate_id</th>\n      <th>profession_certificate</th>\n      <th>nationality_id</th>\n      <th>nationality</th>\n      <th>security_career_start_year</th>\n      <th>resume</th>\n    </tr>\n  </thead>\n  <tbody>\n    <tr>\n      <th>0</th>\n      <td>271150</td>\n      <td>420600105</td>\n      <td>江苏永鼎股份有限公司</td>\n      <td>600105.XSHG</td>\n      <td>2007-05-19</td>\n      <td>201514333</td>\n      <td>许劲</td>\n      <td>314001</td>\n      <td>董事会成员</td>\n      <td>董事</td>\n      <td>...</td>\n      <td>316003</td>\n      <td>本科</td>\n      <td>317003</td>\n      <td>高级</td>\n      <td>None</td>\n      <td>None</td>\n      <td>None</td>\n      <td>None</td>\n      <td>None</td>\n      <td>许劲先生，中国国籍，43岁，大学，高级工程师，本公司董事，现任天津市电话器材公司总经理。</td>\n    </tr>\n  </tbody>\n</table>\n<p>1 rows × 26 columns</p>\n</div>"
     },
     "metadata": {},
     "execution_count": 7
    }
   ],
   "source": [
    "# 公司管理人员任职情况\n",
    "finance.run_query(query(finance.STK_MANAGEMENT_INFO).filter(finance.STK_MANAGEMENT_INFO.code.in_(stocks)).order_by(finance.STK_MANAGEMENT_INFO.pub_date).limit(1))"
   ]
  },
  {
   "cell_type": "code",
   "execution_count": 8,
   "metadata": {},
   "outputs": [
    {
     "output_type": "execute_result",
     "data": {
      "text/plain": "         id         code  pe_ratio  turnover_ratio  pb_ratio  ps_ratio  \\\n0  55574868  000007.XSHE -296.9299          0.8325   14.9689   67.2106   \n\n   pcf_ratio  capitalization  market_cap  circulating_cap  \\\n0   766.2815      34644.8047     27.9237       30894.8047   \n\n   circulating_market_cap         day  pe_ratio_lyr  \n0                 24.9012  2020-06-09      125.2886  ",
      "text/html": "<div>\n<style scoped>\n    .dataframe tbody tr th:only-of-type {\n        vertical-align: middle;\n    }\n\n    .dataframe tbody tr th {\n        vertical-align: top;\n    }\n\n    .dataframe thead th {\n        text-align: right;\n    }\n</style>\n<table border=\"1\" class=\"dataframe\">\n  <thead>\n    <tr style=\"text-align: right;\">\n      <th></th>\n      <th>id</th>\n      <th>code</th>\n      <th>pe_ratio</th>\n      <th>turnover_ratio</th>\n      <th>pb_ratio</th>\n      <th>ps_ratio</th>\n      <th>pcf_ratio</th>\n      <th>capitalization</th>\n      <th>market_cap</th>\n      <th>circulating_cap</th>\n      <th>circulating_market_cap</th>\n      <th>day</th>\n      <th>pe_ratio_lyr</th>\n    </tr>\n  </thead>\n  <tbody>\n    <tr>\n      <th>0</th>\n      <td>55574868</td>\n      <td>000007.XSHE</td>\n      <td>-296.9299</td>\n      <td>0.8325</td>\n      <td>14.9689</td>\n      <td>67.2106</td>\n      <td>766.2815</td>\n      <td>34644.8047</td>\n      <td>27.9237</td>\n      <td>30894.8047</td>\n      <td>24.9012</td>\n      <td>2020-06-09</td>\n      <td>125.2886</td>\n    </tr>\n  </tbody>\n</table>\n</div>"
     },
     "metadata": {},
     "execution_count": 8
    }
   ],
   "source": [
    "# 市值数据\n",
    "query_object=query(valuation).filter(valuation.code.in_(stocks[:1]))\n",
    "get_fundamentals(query_object, date='2020-6-9')"
   ]
  },
  {
   "cell_type": "code",
   "execution_count": 9,
   "metadata": {},
   "outputs": [
    {
     "output_type": "execute_result",
     "data": {
      "text/plain": "         id         code         day     pubDate    statDate  \\\n0  27268537  600105.XSHG  2020-06-09  2020-04-30  2020-03-31   \n\n   total_operating_revenue  operating_revenue  interest_income  \\\n0              483730528.0        483730528.0              NaN   \n\n   premiums_earned  commission_income  ...  income_tax_expense   net_profit  \\\n0              NaN                NaN  ...         108785.3516 -118158960.0   \n\n   np_parent_company_owners  minority_profit  basic_eps  diluted_eps  \\\n0              -116607120.0       -1551839.0    -0.0936      -0.0936   \n\n   other_composite_income  total_composite_income  ci_parent_company_owners  \\\n0             1110923.125            -117048032.0              -116035056.0   \n\n   ci_minority_owners  \n0        -1012978.875  \n\n[1 rows x 43 columns]",
      "text/html": "<div>\n<style scoped>\n    .dataframe tbody tr th:only-of-type {\n        vertical-align: middle;\n    }\n\n    .dataframe tbody tr th {\n        vertical-align: top;\n    }\n\n    .dataframe thead th {\n        text-align: right;\n    }\n</style>\n<table border=\"1\" class=\"dataframe\">\n  <thead>\n    <tr style=\"text-align: right;\">\n      <th></th>\n      <th>id</th>\n      <th>code</th>\n      <th>day</th>\n      <th>pubDate</th>\n      <th>statDate</th>\n      <th>total_operating_revenue</th>\n      <th>operating_revenue</th>\n      <th>interest_income</th>\n      <th>premiums_earned</th>\n      <th>commission_income</th>\n      <th>...</th>\n      <th>income_tax_expense</th>\n      <th>net_profit</th>\n      <th>np_parent_company_owners</th>\n      <th>minority_profit</th>\n      <th>basic_eps</th>\n      <th>diluted_eps</th>\n      <th>other_composite_income</th>\n      <th>total_composite_income</th>\n      <th>ci_parent_company_owners</th>\n      <th>ci_minority_owners</th>\n    </tr>\n  </thead>\n  <tbody>\n    <tr>\n      <th>0</th>\n      <td>27268537</td>\n      <td>600105.XSHG</td>\n      <td>2020-06-09</td>\n      <td>2020-04-30</td>\n      <td>2020-03-31</td>\n      <td>483730528.0</td>\n      <td>483730528.0</td>\n      <td>NaN</td>\n      <td>NaN</td>\n      <td>NaN</td>\n      <td>...</td>\n      <td>108785.3516</td>\n      <td>-118158960.0</td>\n      <td>-116607120.0</td>\n      <td>-1551839.0</td>\n      <td>-0.0936</td>\n      <td>-0.0936</td>\n      <td>1110923.125</td>\n      <td>-117048032.0</td>\n      <td>-116035056.0</td>\n      <td>-1012978.875</td>\n    </tr>\n  </tbody>\n</table>\n<p>1 rows × 43 columns</p>\n</div>"
     },
     "metadata": {},
     "execution_count": 9
    }
   ],
   "source": [
    "\n",
    "query_object=query(income).filter(income.code.in_(stocks[10:11]))\n",
    "get_fundamentals(query_object, date='2020-6-9')"
   ]
  },
  {
   "cell_type": "code",
   "execution_count": 10,
   "metadata": {},
   "outputs": [
    {
     "output_type": "execute_result",
     "data": {
      "text/plain": "         id         code         day     pubDate    statDate     eps  \\\n0  40003987  600522.XSHG  2020-06-09  2020-04-30  2020-03-31  0.1159   \n\n   adjusted_profit  operating_profit  value_change_profit   roe  ...  \\\n0      305452544.0       426765216.0          -25260182.0  1.67  ...   \n\n   inc_total_revenue_year_on_year  inc_total_revenue_annual  \\\n0                          -17.81                     -7.23   \n\n   inc_revenue_year_on_year  inc_revenue_annual  \\\n0                    -17.81               -7.23   \n\n   inc_operation_profit_year_on_year  inc_operation_profit_annual  \\\n0                             -32.03                       -28.46   \n\n   inc_net_profit_year_on_year  inc_net_profit_annual  \\\n0                       -33.39                 -35.29   \n\n   inc_net_profit_to_shareholders_year_on_year  \\\n0                                       -30.98   \n\n   inc_net_profit_to_shareholders_annual  \n0                                 -34.33  \n\n[1 rows x 36 columns]",
      "text/html": "<div>\n<style scoped>\n    .dataframe tbody tr th:only-of-type {\n        vertical-align: middle;\n    }\n\n    .dataframe tbody tr th {\n        vertical-align: top;\n    }\n\n    .dataframe thead th {\n        text-align: right;\n    }\n</style>\n<table border=\"1\" class=\"dataframe\">\n  <thead>\n    <tr style=\"text-align: right;\">\n      <th></th>\n      <th>id</th>\n      <th>code</th>\n      <th>day</th>\n      <th>pubDate</th>\n      <th>statDate</th>\n      <th>eps</th>\n      <th>adjusted_profit</th>\n      <th>operating_profit</th>\n      <th>value_change_profit</th>\n      <th>roe</th>\n      <th>...</th>\n      <th>inc_total_revenue_year_on_year</th>\n      <th>inc_total_revenue_annual</th>\n      <th>inc_revenue_year_on_year</th>\n      <th>inc_revenue_annual</th>\n      <th>inc_operation_profit_year_on_year</th>\n      <th>inc_operation_profit_annual</th>\n      <th>inc_net_profit_year_on_year</th>\n      <th>inc_net_profit_annual</th>\n      <th>inc_net_profit_to_shareholders_year_on_year</th>\n      <th>inc_net_profit_to_shareholders_annual</th>\n    </tr>\n  </thead>\n  <tbody>\n    <tr>\n      <th>0</th>\n      <td>40003987</td>\n      <td>600522.XSHG</td>\n      <td>2020-06-09</td>\n      <td>2020-04-30</td>\n      <td>2020-03-31</td>\n      <td>0.1159</td>\n      <td>305452544.0</td>\n      <td>426765216.0</td>\n      <td>-25260182.0</td>\n      <td>1.67</td>\n      <td>...</td>\n      <td>-17.81</td>\n      <td>-7.23</td>\n      <td>-17.81</td>\n      <td>-7.23</td>\n      <td>-32.03</td>\n      <td>-28.46</td>\n      <td>-33.39</td>\n      <td>-35.29</td>\n      <td>-30.98</td>\n      <td>-34.33</td>\n    </tr>\n  </tbody>\n</table>\n<p>1 rows × 36 columns</p>\n</div>"
     },
     "metadata": {},
     "execution_count": 10
    }
   ],
   "source": [
    "query_object=query(indicator).filter(indicator.code.in_(stocks[-2:-1]))\n",
    "get_fundamentals(query_object, date='2020-6-9')\n"
   ]
  }
 ],
 "metadata": {
  "language_info": {
   "codemirror_mode": {
    "name": "ipython",
    "version": 3
   },
   "file_extension": ".py",
   "mimetype": "text/x-python",
   "name": "python",
   "nbconvert_exporter": "python",
   "pygments_lexer": "ipython3",
   "version": "3.7.4-final"
  },
  "orig_nbformat": 2,
  "kernelspec": {
   "name": "python37432bit6a4013f1a8ec4766a4af9787f2730623",
   "display_name": "Python 3.7.4 32-bit"
  }
 },
 "nbformat": 4,
 "nbformat_minor": 2
}