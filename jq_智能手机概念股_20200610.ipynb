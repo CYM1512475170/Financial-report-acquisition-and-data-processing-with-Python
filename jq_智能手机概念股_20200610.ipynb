{
 "cells": [
  {
   "cell_type": "code",
   "execution_count": 1,
   "metadata": {},
   "outputs": [
    {
     "output_type": "stream",
     "name": "stdout",
     "text": "提示：当前环境pandas版本为0.25，get_price与get_fundamentals_continuously接口panel参数将固定为False\n注意：0.25以上版本pandas不支持panel，如使用该数据结构和相关函数请注意修改\nauth success \n"
    }
   ],
   "source": [
    "import jqdatasdk\n",
    "from jqdatasdk import *\n",
    "jqdatasdk.auth(\"13141315365\", \"315365\")"
   ]
  },
  {
   "cell_type": "markdown",
   "metadata": {},
   "source": [
    "# 智能手机"
   ]
  },
  {
   "cell_type": "code",
   "execution_count": 3,
   "metadata": {},
   "outputs": [
    {
     "output_type": "execute_result",
     "data": {
      "text/plain": "['000063.XSHE', '000100.XSHE', '000823.XSHE']"
     },
     "metadata": {},
     "execution_count": 3
    }
   ],
   "source": [
    "stocks=get_concept_stocks('GN973', date=None)\n",
    "stocks[:3]"
   ]
  },
  {
   "cell_type": "code",
   "execution_count": 4,
   "metadata": {},
   "outputs": [
    {
     "output_type": "execute_result",
     "data": {
      "text/plain": "            time         code   open  close   high    low      volume  \\\n0     2015-01-05  300303.XSHE   4.09   4.11   4.12   4.02  10847045.0   \n1     2015-01-06  300303.XSHE   4.09   4.33   4.34   4.07  21933644.0   \n2     2015-01-07  300303.XSHE   4.31   4.17   4.35   4.16  26948808.0   \n3     2015-01-08  300303.XSHE   4.16   4.18   4.26   4.14  11367376.0   \n4     2015-01-09  300303.XSHE   4.15   4.17   4.28   4.15  15202441.0   \n...          ...          ...    ...    ...    ...    ...         ...   \n35083 2020-12-25  300285.XSHE  25.95  25.95  25.95  25.95         0.0   \n35084 2020-12-28  300285.XSHE  25.95  25.95  25.95  25.95         0.0   \n35085 2020-12-29  300285.XSHE  25.95  25.95  25.95  25.95         0.0   \n35086 2020-12-30  300285.XSHE  25.95  25.95  25.95  25.95         0.0   \n35087 2020-12-31  300285.XSHE  25.95  25.95  25.95  25.95         0.0   \n\n             money  \n0       44094928.0  \n1       92036184.0  \n2      114288792.0  \n3       47923392.0  \n4       64015320.0  \n...            ...  \n35083          0.0  \n35084          0.0  \n35085          0.0  \n35086          0.0  \n35087          0.0  \n\n[35088 rows x 8 columns]",
      "text/html": "<div>\n<style scoped>\n    .dataframe tbody tr th:only-of-type {\n        vertical-align: middle;\n    }\n\n    .dataframe tbody tr th {\n        vertical-align: top;\n    }\n\n    .dataframe thead th {\n        text-align: right;\n    }\n</style>\n<table border=\"1\" class=\"dataframe\">\n  <thead>\n    <tr style=\"text-align: right;\">\n      <th></th>\n      <th>time</th>\n      <th>code</th>\n      <th>open</th>\n      <th>close</th>\n      <th>high</th>\n      <th>low</th>\n      <th>volume</th>\n      <th>money</th>\n    </tr>\n  </thead>\n  <tbody>\n    <tr>\n      <th>0</th>\n      <td>2015-01-05</td>\n      <td>300303.XSHE</td>\n      <td>4.09</td>\n      <td>4.11</td>\n      <td>4.12</td>\n      <td>4.02</td>\n      <td>10847045.0</td>\n      <td>44094928.0</td>\n    </tr>\n    <tr>\n      <th>1</th>\n      <td>2015-01-06</td>\n      <td>300303.XSHE</td>\n      <td>4.09</td>\n      <td>4.33</td>\n      <td>4.34</td>\n      <td>4.07</td>\n      <td>21933644.0</td>\n      <td>92036184.0</td>\n    </tr>\n    <tr>\n      <th>2</th>\n      <td>2015-01-07</td>\n      <td>300303.XSHE</td>\n      <td>4.31</td>\n      <td>4.17</td>\n      <td>4.35</td>\n      <td>4.16</td>\n      <td>26948808.0</td>\n      <td>114288792.0</td>\n    </tr>\n    <tr>\n      <th>3</th>\n      <td>2015-01-08</td>\n      <td>300303.XSHE</td>\n      <td>4.16</td>\n      <td>4.18</td>\n      <td>4.26</td>\n      <td>4.14</td>\n      <td>11367376.0</td>\n      <td>47923392.0</td>\n    </tr>\n    <tr>\n      <th>4</th>\n      <td>2015-01-09</td>\n      <td>300303.XSHE</td>\n      <td>4.15</td>\n      <td>4.17</td>\n      <td>4.28</td>\n      <td>4.15</td>\n      <td>15202441.0</td>\n      <td>64015320.0</td>\n    </tr>\n    <tr>\n      <th>...</th>\n      <td>...</td>\n      <td>...</td>\n      <td>...</td>\n      <td>...</td>\n      <td>...</td>\n      <td>...</td>\n      <td>...</td>\n      <td>...</td>\n    </tr>\n    <tr>\n      <th>35083</th>\n      <td>2020-12-25</td>\n      <td>300285.XSHE</td>\n      <td>25.95</td>\n      <td>25.95</td>\n      <td>25.95</td>\n      <td>25.95</td>\n      <td>0.0</td>\n      <td>0.0</td>\n    </tr>\n    <tr>\n      <th>35084</th>\n      <td>2020-12-28</td>\n      <td>300285.XSHE</td>\n      <td>25.95</td>\n      <td>25.95</td>\n      <td>25.95</td>\n      <td>25.95</td>\n      <td>0.0</td>\n      <td>0.0</td>\n    </tr>\n    <tr>\n      <th>35085</th>\n      <td>2020-12-29</td>\n      <td>300285.XSHE</td>\n      <td>25.95</td>\n      <td>25.95</td>\n      <td>25.95</td>\n      <td>25.95</td>\n      <td>0.0</td>\n      <td>0.0</td>\n    </tr>\n    <tr>\n      <th>35086</th>\n      <td>2020-12-30</td>\n      <td>300285.XSHE</td>\n      <td>25.95</td>\n      <td>25.95</td>\n      <td>25.95</td>\n      <td>25.95</td>\n      <td>0.0</td>\n      <td>0.0</td>\n    </tr>\n    <tr>\n      <th>35087</th>\n      <td>2020-12-31</td>\n      <td>300285.XSHE</td>\n      <td>25.95</td>\n      <td>25.95</td>\n      <td>25.95</td>\n      <td>25.95</td>\n      <td>0.0</td>\n      <td>0.0</td>\n    </tr>\n  </tbody>\n</table>\n<p>35088 rows × 8 columns</p>\n</div>"
     },
     "metadata": {},
     "execution_count": 4
    }
   ],
   "source": [
    "# 历史行情数据\n",
    "get_price(stocks, start_date='2015-01-01', end_date='2020-12-31', frequency='daily', fields=None, skip_paused=False, fq='pre', panel=True)"
   ]
  },
  {
   "cell_type": "code",
   "execution_count": 5,
   "metadata": {},
   "outputs": [
    {
     "output_type": "execute_result",
     "data": {
      "text/plain": "      id  company_id         code  name    end_date    pub_date  employee  \\\n0  27337   430000063  000063.XSHE  中兴通讯  2005-12-31        None     16609   \n1  27338   430000063  000063.XSHE  中兴通讯  2007-12-31  2008-03-20     48261   \n2  27339   430000063  000063.XSHE  中兴通讯  2008-12-31  2009-03-20     61350   \n3  27340   430000063  000063.XSHE  中兴通讯  2010-12-31  2011-03-18     85232   \n4  27341   430000063  000063.XSHE  中兴通讯  2011-12-31  2012-03-29     89786   \n\n   retirement graduate_rate college_rate  middle_rate  \n0         NaN          None         None          NaN  \n1         NaN          None         None          NaN  \n2        20.0          None         None          NaN  \n3         NaN          None         None          NaN  \n4         NaN          None         None      34.8183  ",
      "text/html": "<div>\n<style scoped>\n    .dataframe tbody tr th:only-of-type {\n        vertical-align: middle;\n    }\n\n    .dataframe tbody tr th {\n        vertical-align: top;\n    }\n\n    .dataframe thead th {\n        text-align: right;\n    }\n</style>\n<table border=\"1\" class=\"dataframe\">\n  <thead>\n    <tr style=\"text-align: right;\">\n      <th></th>\n      <th>id</th>\n      <th>company_id</th>\n      <th>code</th>\n      <th>name</th>\n      <th>end_date</th>\n      <th>pub_date</th>\n      <th>employee</th>\n      <th>retirement</th>\n      <th>graduate_rate</th>\n      <th>college_rate</th>\n      <th>middle_rate</th>\n    </tr>\n  </thead>\n  <tbody>\n    <tr>\n      <th>0</th>\n      <td>27337</td>\n      <td>430000063</td>\n      <td>000063.XSHE</td>\n      <td>中兴通讯</td>\n      <td>2005-12-31</td>\n      <td>None</td>\n      <td>16609</td>\n      <td>NaN</td>\n      <td>None</td>\n      <td>None</td>\n      <td>NaN</td>\n    </tr>\n    <tr>\n      <th>1</th>\n      <td>27338</td>\n      <td>430000063</td>\n      <td>000063.XSHE</td>\n      <td>中兴通讯</td>\n      <td>2007-12-31</td>\n      <td>2008-03-20</td>\n      <td>48261</td>\n      <td>NaN</td>\n      <td>None</td>\n      <td>None</td>\n      <td>NaN</td>\n    </tr>\n    <tr>\n      <th>2</th>\n      <td>27339</td>\n      <td>430000063</td>\n      <td>000063.XSHE</td>\n      <td>中兴通讯</td>\n      <td>2008-12-31</td>\n      <td>2009-03-20</td>\n      <td>61350</td>\n      <td>20.0</td>\n      <td>None</td>\n      <td>None</td>\n      <td>NaN</td>\n    </tr>\n    <tr>\n      <th>3</th>\n      <td>27340</td>\n      <td>430000063</td>\n      <td>000063.XSHE</td>\n      <td>中兴通讯</td>\n      <td>2010-12-31</td>\n      <td>2011-03-18</td>\n      <td>85232</td>\n      <td>NaN</td>\n      <td>None</td>\n      <td>None</td>\n      <td>NaN</td>\n    </tr>\n    <tr>\n      <th>4</th>\n      <td>27341</td>\n      <td>430000063</td>\n      <td>000063.XSHE</td>\n      <td>中兴通讯</td>\n      <td>2011-12-31</td>\n      <td>2012-03-29</td>\n      <td>89786</td>\n      <td>NaN</td>\n      <td>None</td>\n      <td>None</td>\n      <td>34.8183</td>\n    </tr>\n  </tbody>\n</table>\n</div>"
     },
     "metadata": {},
     "execution_count": 5
    }
   ],
   "source": [
    "#上市公司员工情况\n",
    "# from jqdata import finance\n",
    "# finance.run_query(query(finance.STK_EMPLOYEE_INFO).filter(finance.STK_EMPLOYEE_INFO.code==code).limit(10))\n",
    "finance.run_query(query(finance.STK_EMPLOYEE_INFO).filter(finance.STK_EMPLOYEE_INFO.code.in_(stocks)).limit(5))"
   ]
  },
  {
   "cell_type": "code",
   "execution_count": 7,
   "metadata": {},
   "outputs": [
    {
     "output_type": "execute_result",
     "data": {
      "text/plain": "     id  company_id         code   full_name short_name  a_code b_code h_code  \\\n0  3137   430000063  000063.XSHE  中兴通讯股份有限公司       中兴通讯  000063   None   None   \n\n       fullname_en shortname_en  ... province city_id city industry_id  \\\n0  ZTE Corporation          ZTE  ...       广东  440300  深圳市         C39   \n\n   industry_1        industry_2             cpafirm lawfirm  ceo  \\\n0         制造业  计算机、通信和其他电子设备制造业  安永华明会计师事务所(特殊普通合伙)    None  徐子阳   \n\n                                            comments  \n0  公司是国内三G电信设备的供应商，市场占有率高，并入选“中国IT业最具影响力十佳品牌”。CDM...  \n\n[1 rows x 45 columns]",
      "text/html": "<div>\n<style scoped>\n    .dataframe tbody tr th:only-of-type {\n        vertical-align: middle;\n    }\n\n    .dataframe tbody tr th {\n        vertical-align: top;\n    }\n\n    .dataframe thead th {\n        text-align: right;\n    }\n</style>\n<table border=\"1\" class=\"dataframe\">\n  <thead>\n    <tr style=\"text-align: right;\">\n      <th></th>\n      <th>id</th>\n      <th>company_id</th>\n      <th>code</th>\n      <th>full_name</th>\n      <th>short_name</th>\n      <th>a_code</th>\n      <th>b_code</th>\n      <th>h_code</th>\n      <th>fullname_en</th>\n      <th>shortname_en</th>\n      <th>...</th>\n      <th>province</th>\n      <th>city_id</th>\n      <th>city</th>\n      <th>industry_id</th>\n      <th>industry_1</th>\n      <th>industry_2</th>\n      <th>cpafirm</th>\n      <th>lawfirm</th>\n      <th>ceo</th>\n      <th>comments</th>\n    </tr>\n  </thead>\n  <tbody>\n    <tr>\n      <th>0</th>\n      <td>3137</td>\n      <td>430000063</td>\n      <td>000063.XSHE</td>\n      <td>中兴通讯股份有限公司</td>\n      <td>中兴通讯</td>\n      <td>000063</td>\n      <td>None</td>\n      <td>None</td>\n      <td>ZTE Corporation</td>\n      <td>ZTE</td>\n      <td>...</td>\n      <td>广东</td>\n      <td>440300</td>\n      <td>深圳市</td>\n      <td>C39</td>\n      <td>制造业</td>\n      <td>计算机、通信和其他电子设备制造业</td>\n      <td>安永华明会计师事务所(特殊普通合伙)</td>\n      <td>None</td>\n      <td>徐子阳</td>\n      <td>公司是国内三G电信设备的供应商，市场占有率高，并入选“中国IT业最具影响力十佳品牌”。CDM...</td>\n    </tr>\n  </tbody>\n</table>\n<p>1 rows × 45 columns</p>\n</div>"
     },
     "metadata": {},
     "execution_count": 7
    }
   ],
   "source": [
    "# 上市公司基本信息\n",
    "finance.run_query(query(finance.STK_COMPANY_INFO).filter(finance.STK_COMPANY_INFO.code.in_(stocks)).limit(1))"
   ]
  },
  {
   "cell_type": "code",
   "execution_count": 8,
   "metadata": {},
   "outputs": [
    {
     "output_type": "execute_result",
     "data": {
      "text/plain": "       id  company_id    company_name         code    pub_date  person_id  \\\n0  167007   430000823  广东汕头超声电子股份有限公司  000823.XSHE  2007-05-12  201483129   \n\n  name  title_class_id title_class title  ... highest_degree_id  \\\n0  刘永锴          314001       董事会成员    董事  ...            316004   \n\n  highest_degree title_level_id title_level profession_certificate_id  \\\n0          大专及其他         317002          中级                      None   \n\n  profession_certificate  nationality_id nationality  \\\n0                   None            None        None   \n\n   security_career_start_year  \\\n0                        None   \n\n                                              resume  \n0  刘永锴先生1947年出生，大学专科毕业，经济师。历任车间主任、生产科长、厂长、副总经理，汕头...  \n\n[1 rows x 26 columns]",
      "text/html": "<div>\n<style scoped>\n    .dataframe tbody tr th:only-of-type {\n        vertical-align: middle;\n    }\n\n    .dataframe tbody tr th {\n        vertical-align: top;\n    }\n\n    .dataframe thead th {\n        text-align: right;\n    }\n</style>\n<table border=\"1\" class=\"dataframe\">\n  <thead>\n    <tr style=\"text-align: right;\">\n      <th></th>\n      <th>id</th>\n      <th>company_id</th>\n      <th>company_name</th>\n      <th>code</th>\n      <th>pub_date</th>\n      <th>person_id</th>\n      <th>name</th>\n      <th>title_class_id</th>\n      <th>title_class</th>\n      <th>title</th>\n      <th>...</th>\n      <th>highest_degree_id</th>\n      <th>highest_degree</th>\n      <th>title_level_id</th>\n      <th>title_level</th>\n      <th>profession_certificate_id</th>\n      <th>profession_certificate</th>\n      <th>nationality_id</th>\n      <th>nationality</th>\n      <th>security_career_start_year</th>\n      <th>resume</th>\n    </tr>\n  </thead>\n  <tbody>\n    <tr>\n      <th>0</th>\n      <td>167007</td>\n      <td>430000823</td>\n      <td>广东汕头超声电子股份有限公司</td>\n      <td>000823.XSHE</td>\n      <td>2007-05-12</td>\n      <td>201483129</td>\n      <td>刘永锴</td>\n      <td>314001</td>\n      <td>董事会成员</td>\n      <td>董事</td>\n      <td>...</td>\n      <td>316004</td>\n      <td>大专及其他</td>\n      <td>317002</td>\n      <td>中级</td>\n      <td>None</td>\n      <td>None</td>\n      <td>None</td>\n      <td>None</td>\n      <td>None</td>\n      <td>刘永锴先生1947年出生，大学专科毕业，经济师。历任车间主任、生产科长、厂长、副总经理，汕头...</td>\n    </tr>\n  </tbody>\n</table>\n<p>1 rows × 26 columns</p>\n</div>"
     },
     "metadata": {},
     "execution_count": 8
    }
   ],
   "source": [
    "\n",
    "# 公司管理人员任职情况\n",
    "finance.run_query(query(finance.STK_MANAGEMENT_INFO).filter(finance.STK_MANAGEMENT_INFO.code.in_(stocks)).order_by(finance.STK_MANAGEMENT_INFO.pub_date).limit(1))"
   ]
  },
  {
   "cell_type": "code",
   "execution_count": 9,
   "metadata": {},
   "outputs": [
    {
     "output_type": "execute_result",
     "data": {
      "text/plain": "         id         code  pe_ratio  turnover_ratio  pb_ratio  ps_ratio  \\\n0  55576964  000063.XSHE   35.2896          1.3345    4.3317    1.9857   \n\n   pcf_ratio  capitalization  market_cap  circulating_cap  \\\n0    29.6105     461292.7188   1787.5093      347583.2188   \n\n   circulating_market_cap         day  pe_ratio_lyr  \n0                1346.885  2020-06-09       34.7232  ",
      "text/html": "<div>\n<style scoped>\n    .dataframe tbody tr th:only-of-type {\n        vertical-align: middle;\n    }\n\n    .dataframe tbody tr th {\n        vertical-align: top;\n    }\n\n    .dataframe thead th {\n        text-align: right;\n    }\n</style>\n<table border=\"1\" class=\"dataframe\">\n  <thead>\n    <tr style=\"text-align: right;\">\n      <th></th>\n      <th>id</th>\n      <th>code</th>\n      <th>pe_ratio</th>\n      <th>turnover_ratio</th>\n      <th>pb_ratio</th>\n      <th>ps_ratio</th>\n      <th>pcf_ratio</th>\n      <th>capitalization</th>\n      <th>market_cap</th>\n      <th>circulating_cap</th>\n      <th>circulating_market_cap</th>\n      <th>day</th>\n      <th>pe_ratio_lyr</th>\n    </tr>\n  </thead>\n  <tbody>\n    <tr>\n      <th>0</th>\n      <td>55576964</td>\n      <td>000063.XSHE</td>\n      <td>35.2896</td>\n      <td>1.3345</td>\n      <td>4.3317</td>\n      <td>1.9857</td>\n      <td>29.6105</td>\n      <td>461292.7188</td>\n      <td>1787.5093</td>\n      <td>347583.2188</td>\n      <td>1346.885</td>\n      <td>2020-06-09</td>\n      <td>34.7232</td>\n    </tr>\n  </tbody>\n</table>\n</div>"
     },
     "metadata": {},
     "execution_count": 9
    }
   ],
   "source": [
    "# 市值数据\n",
    "query_object=query(valuation).filter(valuation.code.in_(stocks[:1]))\n",
    "get_fundamentals(query_object, date='2020-6-9')"
   ]
  },
  {
   "cell_type": "code",
   "execution_count": 11,
   "metadata": {},
   "outputs": [
    {
     "output_type": "execute_result",
     "data": {
      "text/plain": "         id         code         day     pubDate    statDate  \\\n0  26853955  002416.XSHE  2020-06-09  2020-04-28  2020-03-31   \n\n   total_operating_revenue  operating_revenue  interest_income  \\\n0             1.184654e+10       1.180301e+10       43529916.0   \n\n   premiums_earned  commission_income  ...  income_tax_expense   net_profit  \\\n0              NaN                NaN  ...          49917752.0  143731184.0   \n\n   np_parent_company_owners  minority_profit  basic_eps  diluted_eps  \\\n0               129726784.0       14004397.0     0.1047       0.1047   \n\n   other_composite_income  total_composite_income  ci_parent_company_owners  \\\n0              -4746638.5             138984544.0               124777688.0   \n\n   ci_minority_owners  \n0          14206848.0  \n\n[1 rows x 43 columns]",
      "text/html": "<div>\n<style scoped>\n    .dataframe tbody tr th:only-of-type {\n        vertical-align: middle;\n    }\n\n    .dataframe tbody tr th {\n        vertical-align: top;\n    }\n\n    .dataframe thead th {\n        text-align: right;\n    }\n</style>\n<table border=\"1\" class=\"dataframe\">\n  <thead>\n    <tr style=\"text-align: right;\">\n      <th></th>\n      <th>id</th>\n      <th>code</th>\n      <th>day</th>\n      <th>pubDate</th>\n      <th>statDate</th>\n      <th>total_operating_revenue</th>\n      <th>operating_revenue</th>\n      <th>interest_income</th>\n      <th>premiums_earned</th>\n      <th>commission_income</th>\n      <th>...</th>\n      <th>income_tax_expense</th>\n      <th>net_profit</th>\n      <th>np_parent_company_owners</th>\n      <th>minority_profit</th>\n      <th>basic_eps</th>\n      <th>diluted_eps</th>\n      <th>other_composite_income</th>\n      <th>total_composite_income</th>\n      <th>ci_parent_company_owners</th>\n      <th>ci_minority_owners</th>\n    </tr>\n  </thead>\n  <tbody>\n    <tr>\n      <th>0</th>\n      <td>26853955</td>\n      <td>002416.XSHE</td>\n      <td>2020-06-09</td>\n      <td>2020-04-28</td>\n      <td>2020-03-31</td>\n      <td>1.184654e+10</td>\n      <td>1.180301e+10</td>\n      <td>43529916.0</td>\n      <td>NaN</td>\n      <td>NaN</td>\n      <td>...</td>\n      <td>49917752.0</td>\n      <td>143731184.0</td>\n      <td>129726784.0</td>\n      <td>14004397.0</td>\n      <td>0.1047</td>\n      <td>0.1047</td>\n      <td>-4746638.5</td>\n      <td>138984544.0</td>\n      <td>124777688.0</td>\n      <td>14206848.0</td>\n    </tr>\n  </tbody>\n</table>\n<p>1 rows × 43 columns</p>\n</div>"
     },
     "metadata": {},
     "execution_count": 11
    }
   ],
   "source": [
    "query_object=query(income).filter(income.code.in_(stocks[10:11]))\n",
    "get_fundamentals(query_object, date='2020-6-9')"
   ]
  },
  {
   "cell_type": "code",
   "execution_count": 13,
   "metadata": {},
   "outputs": [
    {
     "output_type": "execute_result",
     "data": {
      "text/plain": "         id         code         day     pubDate    statDate     eps  \\\n0  37299019  600130.XSHG  2020-06-09  2020-04-30  2020-03-31 -0.0047   \n\n   adjusted_profit  operating_profit  value_change_profit  roe  ...  \\\n0      -11332141.0        -4330014.0            5470923.0 -0.4  ...   \n\n   inc_total_revenue_year_on_year  inc_total_revenue_annual  \\\n0                          -71.64                    -70.76   \n\n   inc_revenue_year_on_year  inc_revenue_annual  \\\n0                    -71.64              -70.76   \n\n   inc_operation_profit_year_on_year  inc_operation_profit_annual  \\\n0                               6.09                      -120.35   \n\n   inc_net_profit_year_on_year  inc_net_profit_annual  \\\n0                        -4.27                -126.04   \n\n   inc_net_profit_to_shareholders_year_on_year  \\\n0                                        -4.27   \n\n   inc_net_profit_to_shareholders_annual  \n0                                -126.04  \n\n[1 rows x 36 columns]",
      "text/html": "<div>\n<style scoped>\n    .dataframe tbody tr th:only-of-type {\n        vertical-align: middle;\n    }\n\n    .dataframe tbody tr th {\n        vertical-align: top;\n    }\n\n    .dataframe thead th {\n        text-align: right;\n    }\n</style>\n<table border=\"1\" class=\"dataframe\">\n  <thead>\n    <tr style=\"text-align: right;\">\n      <th></th>\n      <th>id</th>\n      <th>code</th>\n      <th>day</th>\n      <th>pubDate</th>\n      <th>statDate</th>\n      <th>eps</th>\n      <th>adjusted_profit</th>\n      <th>operating_profit</th>\n      <th>value_change_profit</th>\n      <th>roe</th>\n      <th>...</th>\n      <th>inc_total_revenue_year_on_year</th>\n      <th>inc_total_revenue_annual</th>\n      <th>inc_revenue_year_on_year</th>\n      <th>inc_revenue_annual</th>\n      <th>inc_operation_profit_year_on_year</th>\n      <th>inc_operation_profit_annual</th>\n      <th>inc_net_profit_year_on_year</th>\n      <th>inc_net_profit_annual</th>\n      <th>inc_net_profit_to_shareholders_year_on_year</th>\n      <th>inc_net_profit_to_shareholders_annual</th>\n    </tr>\n  </thead>\n  <tbody>\n    <tr>\n      <th>0</th>\n      <td>37299019</td>\n      <td>600130.XSHG</td>\n      <td>2020-06-09</td>\n      <td>2020-04-30</td>\n      <td>2020-03-31</td>\n      <td>-0.0047</td>\n      <td>-11332141.0</td>\n      <td>-4330014.0</td>\n      <td>5470923.0</td>\n      <td>-0.4</td>\n      <td>...</td>\n      <td>-71.64</td>\n      <td>-70.76</td>\n      <td>-71.64</td>\n      <td>-70.76</td>\n      <td>6.09</td>\n      <td>-120.35</td>\n      <td>-4.27</td>\n      <td>-126.04</td>\n      <td>-4.27</td>\n      <td>-126.04</td>\n    </tr>\n  </tbody>\n</table>\n<p>1 rows × 36 columns</p>\n</div>"
     },
     "metadata": {},
     "execution_count": 13
    }
   ],
   "source": [
    "query_object=query(indicator).filter(indicator.code.in_(stocks[-2:-1]))\n",
    "get_fundamentals(query_object, date='2020-6-9')"
   ]
  }
 ],
 "metadata": {
  "language_info": {
   "codemirror_mode": {
    "name": "ipython",
    "version": 3
   },
   "file_extension": ".py",
   "mimetype": "text/x-python",
   "name": "python",
   "nbconvert_exporter": "python",
   "pygments_lexer": "ipython3",
   "version": "3.7.4-final"
  },
  "orig_nbformat": 2,
  "kernelspec": {
   "name": "python37432bit6a4013f1a8ec4766a4af9787f2730623",
   "display_name": "Python 3.7.4 32-bit"
  }
 },
 "nbformat": 4,
 "nbformat_minor": 2
}