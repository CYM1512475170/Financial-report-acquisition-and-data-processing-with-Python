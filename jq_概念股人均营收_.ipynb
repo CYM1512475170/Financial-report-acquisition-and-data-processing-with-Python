{
 "cells": [
  {
   "cell_type": "code",
   "execution_count": 1,
   "metadata": {},
   "outputs": [
    {
     "output_type": "stream",
     "name": "stdout",
     "text": "提示：当前环境pandas版本为0.25，get_price与get_fundamentals_continuously接口panel参数将固定为False\n注意：0.25以上版本pandas不支持panel，如使用该数据结构和相关函数请注意修改\nauth success \n"
    }
   ],
   "source": [
    "import jqdatasdk\n",
    "from jqdatasdk import *\n",
    "jqdatasdk.auth(\"13141315365\", \"315365\")"
   ]
  },
  {
   "cell_type": "markdown",
   "metadata": {},
   "source": [
    "# 火电概念\n",
    "GN874\t874\t火电"
   ]
  },
  {
   "cell_type": "code",
   "execution_count": 2,
   "metadata": {},
   "outputs": [
    {
     "output_type": "stream",
     "name": "stdout",
     "text": "******** GN874 ********\n   name         code  employee  total_operating_revenue  ratio\n0  深圳能源  000027.XSHE      6935             2.081700e+10    NaN\n   name         code  employee  total_operating_revenue  ratio\n0  穗恒运A  000531.XSHE      1185             3.228594e+09    NaN\n   name         code  employee  total_operating_revenue  ratio\n0  粤电力A  000539.XSHE      6688             2.936016e+10    NaN\n   name         code  employee  total_operating_revenue  ratio\n0  皖能电力  000543.XSHE      3498             1.609224e+10    NaN\n   name         code  employee  total_operating_revenue  ratio\n0  建投能源  000600.XSHE      4540             1.396372e+10    NaN\n   name         code  employee  total_operating_revenue  ratio\n0  宝新能源  000690.XSHE      1370             5.626823e+09    NaN\n   name         code  employee  total_operating_revenue  ratio\n0  新能泰山  000720.XSHE       889             3.580388e+09    NaN\n   name         code  employee  total_operating_revenue  ratio\n0  漳泽电力  000767.XSHE      8157             1.202500e+10    NaN\n   name         code  employee  total_operating_revenue  ratio\n0  吉电股份  000875.XSHE      2788             8.454148e+09    NaN\n   name         code  employee  total_operating_revenue  ratio\n0  赣能股份  000899.XSHE       746             2.670328e+09    NaN\n   name         code  employee  total_operating_revenue  ratio\n0  东方能源  000958.XSHE      2816             1.150051e+10    NaN\n   name         code  employee  total_operating_revenue  ratio\n0  长源电力  000966.XSHE      3109             7.366107e+09    NaN\n   name         code  employee  total_operating_revenue  ratio\n0  豫能控股  001896.XSHE      2834             8.089293e+09    NaN\n   name         code  employee  total_operating_revenue  ratio\n0  龙源技术  300105.XSHE       572             5.133364e+08    NaN\n   name         code  employee  total_operating_revenue  ratio\n0  华能国际  600011.XSHG     58263             1.734848e+11    NaN\n   name         code  employee  total_operating_revenue  ratio\n0  上海电力  600021.XSHG      6329             2.369003e+10    NaN\n   name         code  employee  total_operating_revenue  ratio\n0  浙能电力  600023.XSHG     10465             5.437055e+10    NaN\n   name         code  employee  total_operating_revenue  ratio\n0  华电国际  600027.XSHG     27287             9.365443e+10    NaN\n   name         code  employee  total_operating_revenue  ratio\n0  广州发展  600098.XSHG      5316             2.964307e+10    NaN\n   name         code  employee  total_operating_revenue  ratio\n0  桂冠电力  600236.XSHG      3593             9.043440e+09    NaN\n   name         code  employee  total_operating_revenue  ratio\n0  远达环保  600292.XSHG      2230             4.067544e+09    NaN\n   name         code  employee  total_operating_revenue  ratio\n0  涪陵电力  600452.XSHG       782             2.621898e+09    NaN\n   name         code  employee  total_operating_revenue  ratio\n0  福能股份  600483.XSHG      2983             9.945408e+09    NaN\n   name         code  employee  total_operating_revenue  ratio\n0  天富能源  600509.XSHG      2535             4.894292e+09    NaN\n   name         code  employee  total_operating_revenue  ratio\n0  京能电力  600578.XSHG      5736             1.843836e+10    NaN\n   name         code  employee  total_operating_revenue  ratio\n0  申能股份  600642.XSHG      2645             3.884130e+10    NaN\n   name         code  employee  total_operating_revenue  ratio\n0  川投能源  600674.XSHG       611             8.383316e+08    NaN\n   name         code  employee  total_operating_revenue  ratio\n0  华银电力  600744.XSHG      5891             8.993163e+09    NaN\n   name         code  employee  total_operating_revenue  ratio\n0  通宝能源  600780.XSHG      4799             6.614815e+09    NaN\n   name         code  employee  total_operating_revenue  ratio\n0  国电电力  600795.XSHG     36162             1.165993e+11    NaN\n   name         code  employee  total_operating_revenue  ratio\n0  内蒙华电  600863.XSHG      6834             1.447716e+10    NaN\n   name         code  employee  total_operating_revenue  ratio\n0  东方电气  600875.XSHG     17360             3.284032e+10    NaN\n   name         code  employee  total_operating_revenue  ratio\n0  国投电力  600886.XSHG      9374             4.243346e+10    NaN\n   name         code  employee  total_operating_revenue  ratio\n0  大唐发电  601991.XSHG     32976             9.545306e+10    NaN\n"
    }
   ],
   "source": [
    "for i in range(874,875):\n",
    "    conceptno='GN'+str(i).rjust(3,'0') # 加载概念股清单\n",
    "    print('********',conceptno,'********')\n",
    "    # print(conceptno)\n",
    "    try:    \n",
    "        # print('123')\n",
    "        stocks=get_concept_stocks(conceptno, date=None) # 员工人数\n",
    "        # print(stocks)\n",
    "        for code1 in stocks: \n",
    "            # print('123')\n",
    "            # print(code)\n",
    "            yuangong=finance.run_query(query(finance.STK_EMPLOYEE_INFO.name,finance.STK_EMPLOYEE_INFO.code,finance.STK_EMPLOYEE_INFO.employee).filter(finance.STK_EMPLOYEE_INFO.code==code1,finance.STK_EMPLOYEE_INFO.pub_date>='2019-12-01').limit(10))\n",
    "            # yuan_gong=finance.run_query(query(finance.STK_EMPLOYEE_INFO).filter(finance.STK_EMPLOYEE_INFO.code==code,finance.STK_EMPLOYEE_INFO.pub_date>='2019-12-01').limit(1000)) \n",
    "            # print(conceptno,yuangong) \n",
    "            yuan_gong=finance.run_query(query(finance.STK_INCOME_STATEMENT.code,finance.STK_INCOME_STATEMENT.total_operating_revenue).filter(finance.STK_INCOME_STATEMENT.code==code1,finance.STK_INCOME_STATEMENT.end_date=='2019-12-31').limit(1000))\n",
    "            \n",
    "            # print(yuan_gong.fillna(1))            \n",
    "            import pandas# 将两个表连接起来\n",
    "            # print(pandas.merge(yuangong,yuan_gong))\n",
    "            df=pandas.merge(yuangong,yuan_gong)\n",
    "            df['ratio'] = df['total_operating_revenue'].div(df.groupby('name')['total_operating_revenue'].shift(1))\n",
    "            print(df.head())\n",
    "            \n",
    "    except:\n",
    "        print(\"~~~~~\",conceptno)\n",
    "        pass"
   ]
  },
  {
   "cell_type": "code",
   "execution_count": null,
   "metadata": {},
   "outputs": [],
   "source": []
  }
 ],
 "metadata": {
  "language_info": {
   "codemirror_mode": {
    "name": "ipython",
    "version": 3
   },
   "file_extension": ".py",
   "mimetype": "text/x-python",
   "name": "python",
   "nbconvert_exporter": "python",
   "pygments_lexer": "ipython3",
   "version": "3.7.4-final"
  },
  "orig_nbformat": 2,
  "kernelspec": {
   "name": "python37432bit6a4013f1a8ec4766a4af9787f2730623",
   "display_name": "Python 3.7.4 32-bit"
  }
 },
 "nbformat": 4,
 "nbformat_minor": 2
}