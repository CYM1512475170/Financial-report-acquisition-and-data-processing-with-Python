{
 "cells": [
  {
   "cell_type": "markdown",
   "metadata": {},
   "source": [
    "## 使用JQData获取企业的营收、资产、所在行业"
   ]
  },
  {
   "cell_type": "code",
   "execution_count": 1,
   "metadata": {},
   "outputs": [
    {
     "output_type": "stream",
     "name": "stdout",
     "text": "提示：当前环境pandas版本为0.25，get_price与get_fundamentals_continuously接口panel参数将固定为False\n注意：0.25以上版本pandas不支持panel，如使用该数据结构和相关函数请注意修改\nauth success \n"
    }
   ],
   "source": [
    "import jqdatasdk\n",
    "from jqdatasdk import *\n",
    "jqdatasdk.auth(\"13141315365\", \"315365\")"
   ]
  },
  {
   "cell_type": "markdown",
   "metadata": {},
   "source": [
    "## 电力"
   ]
  },
  {
   "cell_type": "code",
   "execution_count": 9,
   "metadata": {},
   "outputs": [
    {
     "output_type": "stream",
     "name": "stdout",
     "text": "http://f10.eastmoney.com/f10_v2/ShareholderResearch.aspx?code=sh600900#sdgd-0\nhttp://f10.eastmoney.com/f10_v2/ShareholderResearch.aspx?code=sz001896#sdgd-0\n"
    }
   ],
   "source": [
    "dian_li_stocks0=['sh600900','sz001896','sh600995','sz000939','sh600780','sz000720','sh600310','sh600163','sh600868','sh600098','sh600483','sh600886','sz000531','sz000591','sz000966','sh600452','sh600972','sz000791','sh600101','sz000875','sh600642','sh600982','sz002608','sh603693','sz000155','sz000722','sh601985','sz002499','sz002039','sz000543','sh600969','sh600724','sh600396','sh600509','sh600578','sh600674','sz000883','sh600236','sh601619','sz000958','sh600505','sh600744','sz300125','sz000993','sh601016','sh600644','sz000767','sz002616']\n",
    "for stock0 in dian_li_stocks0[:2]:\n",
    "    url='http://f10.eastmoney.com/f10_v2/ShareholderResearch.aspx?code='+stock0+'#sdgd-0'\n",
    "    print(url)"
   ]
  },
  {
   "cell_type": "code",
   "execution_count": 13,
   "metadata": {},
   "outputs": [
    {
     "output_type": "stream",
     "name": "stdout",
     "text": "{'industry_code': 'D44', 'industry_name': '电力、热力生产和供应业'}\n{'industry_code': 'D44', 'industry_name': '电力、热力生产和供应业'}\n{'industry_code': 'D44', 'industry_name': '电力、热力生产和供应业'}\n{'industry_code': 'D44', 'industry_name': '电力、热力生产和供应业'}\n{'industry_code': 'D44', 'industry_name': '电力、热力生产和供应业'}\n"
    }
   ],
   "source": [
    "dian_li_stocks=normalize_code(dian_li_stocks0)\n",
    "for stock in dian_li_stocks[:5]:\n",
    "    print(get_industry(stock, date=None)[stock]['zjw'])"
   ]
  },
  {
   "cell_type": "code",
   "execution_count": 15,
   "metadata": {},
   "outputs": [
    {
     "output_type": "stream",
     "name": "stdout",
     "text": "operating_revenue  total_assets         code\n0       4.243346e+10  2.247215e+11  600886.XSHG\n   operating_revenue  total_assets         code\n0       3.228594e+09  1.162818e+10  000531.XSHE\n   operating_revenue  total_assets         code\n0       5.011085e+09  3.744986e+10  000591.XSHE\n   operating_revenue  total_assets         code\n0       7.366107e+09  9.743659e+09  000966.XSHE\n"
    }
   ],
   "source": [
    "for stock in dian_li_stocks[11:15]:\n",
    "    q = query(\n",
    "        income.operating_revenue,\n",
    "        balance.total_assets,\n",
    "        income.code,\n",
    "    ).filter(\n",
    "        income.code == stock,\n",
    "    )\n",
    "    ret = get_fundamentals(q, statDate='2019')\n",
    "    print(ret)"
   ]
  },
  {
   "cell_type": "markdown",
   "metadata": {},
   "source": [
    "## 公用事业"
   ]
  },
  {
   "cell_type": "code",
   "execution_count": 2,
   "metadata": {},
   "outputs": [],
   "source": [
    "gong_yong_stocks0=['sh603903','sh600635','sh600681','sh600617','sz000669','sh600856','sh600874','sz300388','sh601368','sz000593','sz002259','sz000421','sh600283','sh601158','sz002267','sh600917','sz000598','sh603817','sh600008','sz000605','sh603393','sh600168','sz300664','sh600167','sh600719','sh600187',]\n",
    "gong_yong_stocks=normalize_code(gong_yong_stocks0)"
   ]
  },
  {
   "cell_type": "code",
   "execution_count": 12,
   "metadata": {},
   "outputs": [
    {
     "output_type": "stream",
     "name": "stdout",
     "text": "{'industry_code': 'N77', 'industry_name': '生态保护和环境治理业'}\n{'industry_code': 'D45', 'industry_name': '燃气生产和供应业'}\n{'industry_code': 'D45', 'industry_name': '燃气生产和供应业'}\n{'industry_code': 'D45', 'industry_name': '燃气生产和供应业'}\n{'industry_code': 'D45', 'industry_name': '燃气生产和供应业'}\n"
    }
   ],
   "source": [
    "for stock in gong_yong_stocks[:5]:\n",
    "    print(get_industry(stock, date=None)[stock]['zjw'])"
   ]
  },
  {
   "cell_type": "code",
   "execution_count": 17,
   "metadata": {},
   "outputs": [
    {
     "output_type": "stream",
     "name": "stdout",
     "text": "operating_revenue  total_assets         code\n0       1.336815e+09  2.924176e+09  603903.XSHG\n   operating_revenue  total_assets         code\n0       5.459800e+09  2.256540e+10  600635.XSHG\n   operating_revenue  total_assets         code\n0       4.881559e+09  9.147336e+09  600681.XSHG\n   operating_revenue  total_assets         code\n0       1.090126e+10  2.951050e+10  600617.XSHG\n   operating_revenue  total_assets         code\n0       3.727926e+09  9.234693e+09  000669.XSHE\n"
    }
   ],
   "source": [
    "for stock in gong_yong_stocks[:5]:\n",
    "    q = query(\n",
    "        income.operating_revenue,\n",
    "        balance.total_assets,\n",
    "        income.code,\n",
    "    ).filter(\n",
    "        income.code == stock,\n",
    "    )\n",
    "    print(get_fundamentals(q, statDate='2019'))"
   ]
  }
 ],
 "metadata": {
  "language_info": {
   "codemirror_mode": {
    "name": "ipython",
    "version": 3
   },
   "file_extension": ".py",
   "mimetype": "text/x-python",
   "name": "python",
   "nbconvert_exporter": "python",
   "pygments_lexer": "ipython3",
   "version": "3.7.4-final"
  },
  "orig_nbformat": 2,
  "kernelspec": {
   "name": "python37432bit6a4013f1a8ec4766a4af9787f2730623",
   "display_name": "Python 3.7.4 32-bit"
  }
 },
 "nbformat": 4,
 "nbformat_minor": 2
}