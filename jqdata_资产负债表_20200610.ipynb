{
 "cells": [
  {
   "cell_type": "code",
   "execution_count": 2,
   "metadata": {},
   "outputs": [
    {
     "output_type": "stream",
     "name": "stdout",
     "text": "提示：当前环境pandas版本为0.25，get_price与get_fundamentals_continuously接口panel参数将固定为False\n注意：0.25以上版本pandas不支持panel，如使用该数据结构和相关函数请注意修改\nauth success \n"
    }
   ],
   "source": [
    "import jqdatasdk\n",
    "from jqdatasdk import *\n",
    "jqdatasdk.auth(\"13141315365\", \"315365\")"
   ]
  },
  {
   "cell_type": "markdown",
   "metadata": {},
   "source": [
    "## 获取企业年报中资产情况（资产负债表balance）"
   ]
  },
  {
   "cell_type": "markdown",
   "metadata": {},
   "source": [
    "### 总资产  \n",
    "total_assets\t资产总计(元)\t资产总计是指企业拥有或可控制的能以货币计量的经济资源，包括各种财产、债权和其他权利。企业的资产按其流动性划分为：流动资产、长期投资、固定资产、无形资产及递延资产、其他资产等，即为企业资产负债表的资产总计项。所谓流动性是指企业资产的变现能力和支付能力。该指标根据会计“资产负债表”中“资产总计”项的年末数填列。资产总计=流动资产+长期投资+固定资产+无形及递延资产+其他资产。"
   ]
  },
  {
   "cell_type": "code",
   "execution_count": 19,
   "metadata": {},
   "outputs": [
    {
     "output_type": "execute_result",
     "data": {
      "text/plain": "     statDate         code  total_assets\n0  2019-12-31  600025.XSHG  1.674595e+11",
      "text/html": "<div>\n<style scoped>\n    .dataframe tbody tr th:only-of-type {\n        vertical-align: middle;\n    }\n\n    .dataframe tbody tr th {\n        vertical-align: top;\n    }\n\n    .dataframe thead th {\n        text-align: right;\n    }\n</style>\n<table border=\"1\" class=\"dataframe\">\n  <thead>\n    <tr style=\"text-align: right;\">\n      <th></th>\n      <th>statDate</th>\n      <th>code</th>\n      <th>total_assets</th>\n    </tr>\n  </thead>\n  <tbody>\n    <tr>\n      <th>0</th>\n      <td>2019-12-31</td>\n      <td>600025.XSHG</td>\n      <td>1.674595e+11</td>\n    </tr>\n  </tbody>\n</table>\n</div>"
     },
     "metadata": {},
     "execution_count": 19
    }
   ],
   "source": [
    "stock_hydro=['sh600900','sh600025','sh600886','sh600236','sh600674','sz000722','sz000883']### 水电企业列表\n",
    "stock_hydro=normalize_code(stock_hydro)\n",
    "for stock in stock_hydro[:2]:\n",
    "    q = query(\n",
    "        income.statDate,\n",
    "        income.code,\n",
    "        balance.total_assets\n",
    "    ).filter(\n",
    "        income.code == stock,\n",
    "    )\n",
    "\n",
    "ret = get_fundamentals(q, statDate='2019')\n",
    "ret\n"
   ]
  },
  {
   "cell_type": "code",
   "execution_count": 20,
   "metadata": {},
   "outputs": [
    {
     "output_type": "execute_result",
     "data": {
      "text/plain": "     statDate         code  total_assets\n0  2019-12-31  600795.XSHG  3.648479e+11",
      "text/html": "<div>\n<style scoped>\n    .dataframe tbody tr th:only-of-type {\n        vertical-align: middle;\n    }\n\n    .dataframe tbody tr th {\n        vertical-align: top;\n    }\n\n    .dataframe thead th {\n        text-align: right;\n    }\n</style>\n<table border=\"1\" class=\"dataframe\">\n  <thead>\n    <tr style=\"text-align: right;\">\n      <th></th>\n      <th>statDate</th>\n      <th>code</th>\n      <th>total_assets</th>\n    </tr>\n  </thead>\n  <tbody>\n    <tr>\n      <th>0</th>\n      <td>2019-12-31</td>\n      <td>600795.XSHG</td>\n      <td>3.648479e+11</td>\n    </tr>\n  </tbody>\n</table>\n</div>"
     },
     "metadata": {},
     "execution_count": 20
    }
   ],
   "source": [
    "stock_huo_dian=['sh600027','sh600795','sh601991','sh600021','sh600863','sz000539','sh600023','sz000690']#火电企业列表\n",
    "stock_huo_dian=normalize_code(stock_huo_dian)\n",
    "for stock in stock_huo_dian[:2]:\n",
    "    q = query(\n",
    "        income.statDate,\n",
    "        income.code,\n",
    "        balance.total_assets\n",
    "    ).filter(\n",
    "        income.code == stock,\n",
    "    )\n",
    "\n",
    "ret = get_fundamentals(q, statDate='2019')\n",
    "ret"
   ]
  },
  {
   "cell_type": "code",
   "execution_count": 22,
   "metadata": {},
   "outputs": [
    {
     "output_type": "execute_result",
     "data": {
      "text/plain": "     statDate         code  total_assets\n0  2019-12-31  600458.XSHG  1.502461e+10",
      "text/html": "<div>\n<style scoped>\n    .dataframe tbody tr th:only-of-type {\n        vertical-align: middle;\n    }\n\n    .dataframe tbody tr th {\n        vertical-align: top;\n    }\n\n    .dataframe thead th {\n        text-align: right;\n    }\n</style>\n<table border=\"1\" class=\"dataframe\">\n  <thead>\n    <tr style=\"text-align: right;\">\n      <th></th>\n      <th>statDate</th>\n      <th>code</th>\n      <th>total_assets</th>\n    </tr>\n  </thead>\n  <tbody>\n    <tr>\n      <th>0</th>\n      <td>2019-12-31</td>\n      <td>600458.XSHG</td>\n      <td>1.502461e+10</td>\n    </tr>\n  </tbody>\n</table>\n</div>"
     },
     "metadata": {},
     "execution_count": 22
    }
   ],
   "source": [
    "stock_wind=['SZ002080','SH600458','SZ002531','SZ300129','SZ002204','SH601615','SH601016','SZ000791','SH601558','SH601727','SH600875','SZ000862','SH600031','SZ002202','SH600416']#风电企业列表\n",
    "stock_wind=normalize_code(stock_wind)\n",
    "for stock in stock_wind[:2]:\n",
    "    q = query(\n",
    "        income.statDate,\n",
    "        income.code,\n",
    "        balance.total_assets\n",
    "    ).filter(\n",
    "        income.code == stock,\n",
    "    )\n",
    "\n",
    "ret = get_fundamentals(q, statDate='2019')\n",
    "ret"
   ]
  },
  {
   "cell_type": "markdown",
   "metadata": {},
   "source": [
    "### 固定资产"
   ]
  },
  {
   "cell_type": "code",
   "execution_count": 21,
   "metadata": {},
   "outputs": [
    {
     "output_type": "execute_result",
     "data": {
      "text/plain": "     statDate         code  fixed_assets\n0  2019-12-31  600025.XSHG  1.395770e+11",
      "text/html": "<div>\n<style scoped>\n    .dataframe tbody tr th:only-of-type {\n        vertical-align: middle;\n    }\n\n    .dataframe tbody tr th {\n        vertical-align: top;\n    }\n\n    .dataframe thead th {\n        text-align: right;\n    }\n</style>\n<table border=\"1\" class=\"dataframe\">\n  <thead>\n    <tr style=\"text-align: right;\">\n      <th></th>\n      <th>statDate</th>\n      <th>code</th>\n      <th>fixed_assets</th>\n    </tr>\n  </thead>\n  <tbody>\n    <tr>\n      <th>0</th>\n      <td>2019-12-31</td>\n      <td>600025.XSHG</td>\n      <td>1.395770e+11</td>\n    </tr>\n  </tbody>\n</table>\n</div>"
     },
     "metadata": {},
     "execution_count": 21
    }
   ],
   "source": [
    "stock_hydro=['sh600900','sh600025','sh600886','sh600236','sh600674','sz000722','sz000883']### 水电企业列表\n",
    "stock_hydro=normalize_code(stock_hydro)\n",
    "for stock in stock_hydro[:2]:\n",
    "    q = query(\n",
    "        income.statDate,\n",
    "        income.code,\n",
    "        balance.fixed_assets\n",
    "    ).filter(\n",
    "        income.code == stock,\n",
    "    )\n",
    "\n",
    "ret = get_fundamentals(q, statDate='2019')\n",
    "ret\n"
   ]
  },
  {
   "cell_type": "code",
   "execution_count": 17,
   "metadata": {},
   "outputs": [
    {
     "output_type": "execute_result",
     "data": {
      "text/plain": "     statDate         code  fixed_assets\n0  2019-12-31  600795.XSHG  2.731380e+11",
      "text/html": "<div>\n<style scoped>\n    .dataframe tbody tr th:only-of-type {\n        vertical-align: middle;\n    }\n\n    .dataframe tbody tr th {\n        vertical-align: top;\n    }\n\n    .dataframe thead th {\n        text-align: right;\n    }\n</style>\n<table border=\"1\" class=\"dataframe\">\n  <thead>\n    <tr style=\"text-align: right;\">\n      <th></th>\n      <th>statDate</th>\n      <th>code</th>\n      <th>fixed_assets</th>\n    </tr>\n  </thead>\n  <tbody>\n    <tr>\n      <th>0</th>\n      <td>2019-12-31</td>\n      <td>600795.XSHG</td>\n      <td>2.731380e+11</td>\n    </tr>\n  </tbody>\n</table>\n</div>"
     },
     "metadata": {},
     "execution_count": 17
    }
   ],
   "source": [
    "stock_huo_dian=['sh600027','sh600795','sh601991','sh600021','sh600863','sz000539','sh600023','sz000690']#火电企业列表\n",
    "stock_huo_dian=normalize_code(stock_huo_dian)\n",
    "for stock in stock_huo_dian[:2]:\n",
    "    q = query(\n",
    "        income.statDate,\n",
    "        income.code,\n",
    "        balance.fixed_assets).filter(\n",
    "        income.code == stock,\n",
    "    )\n",
    "\n",
    "ret = get_fundamentals(q, statDate='2019')\n",
    "ret"
   ]
  },
  {
   "cell_type": "code",
   "execution_count": 16,
   "metadata": {},
   "outputs": [
    {
     "output_type": "execute_result",
     "data": {
      "text/plain": "     statDate         code  fixed_assets\n0  2019-12-31  600458.XSHG  2.831608e+09",
      "text/html": "<div>\n<style scoped>\n    .dataframe tbody tr th:only-of-type {\n        vertical-align: middle;\n    }\n\n    .dataframe tbody tr th {\n        vertical-align: top;\n    }\n\n    .dataframe thead th {\n        text-align: right;\n    }\n</style>\n<table border=\"1\" class=\"dataframe\">\n  <thead>\n    <tr style=\"text-align: right;\">\n      <th></th>\n      <th>statDate</th>\n      <th>code</th>\n      <th>fixed_assets</th>\n    </tr>\n  </thead>\n  <tbody>\n    <tr>\n      <th>0</th>\n      <td>2019-12-31</td>\n      <td>600458.XSHG</td>\n      <td>2.831608e+09</td>\n    </tr>\n  </tbody>\n</table>\n</div>"
     },
     "metadata": {},
     "execution_count": 16
    }
   ],
   "source": [
    "stock_wind=['SZ002080','SH600458','SZ002531','SZ300129','SZ002204','SH601615','SH601016','SZ000791','SH601558','SH601727','SH600875','SZ000862','SH600031','SZ002202','SH600416']#风电企业列表\n",
    "stock_wind=normalize_code(stock_wind)\n",
    "for stock in stock_wind[:2]:\n",
    "    q = query(\n",
    "        income.statDate,\n",
    "        income.code,\n",
    "        balance.fixed_assets).filter(\n",
    "        income.code == stock,\n",
    "    )\n",
    "\n",
    "ret = get_fundamentals(q, statDate='2019')\n",
    "ret"
   ]
  },
  {
   "cell_type": "markdown",
   "metadata": {},
   "source": [
    "### 总负债"
   ]
  },
  {
   "cell_type": "code",
   "execution_count": 3,
   "metadata": {},
   "outputs": [
    {
     "output_type": "execute_result",
     "data": {
      "text/plain": "     statDate         code  total_liability\n0  2019-12-31  600025.XSHG     1.107069e+11",
      "text/html": "<div>\n<style scoped>\n    .dataframe tbody tr th:only-of-type {\n        vertical-align: middle;\n    }\n\n    .dataframe tbody tr th {\n        vertical-align: top;\n    }\n\n    .dataframe thead th {\n        text-align: right;\n    }\n</style>\n<table border=\"1\" class=\"dataframe\">\n  <thead>\n    <tr style=\"text-align: right;\">\n      <th></th>\n      <th>statDate</th>\n      <th>code</th>\n      <th>total_liability</th>\n    </tr>\n  </thead>\n  <tbody>\n    <tr>\n      <th>0</th>\n      <td>2019-12-31</td>\n      <td>600025.XSHG</td>\n      <td>1.107069e+11</td>\n    </tr>\n  </tbody>\n</table>\n</div>"
     },
     "metadata": {},
     "execution_count": 3
    }
   ],
   "source": [
    "stock_hydro=['sh600900','sh600025','sh600886','sh600236','sh600674','sz000722','sz000883']### 水电企业列表\n",
    "stock_hydro=normalize_code(stock_hydro)\n",
    "for stock in stock_hydro[:2]:\n",
    "    q = query(\n",
    "        income.statDate,\n",
    "        income.code,\n",
    "        balance.total_liability\n",
    "    ).filter(\n",
    "        income.code == stock,\n",
    "    )\n",
    "\n",
    "ret = get_fundamentals(q, statDate='2019')\n",
    "ret\n"
   ]
  },
  {
   "cell_type": "code",
   "execution_count": 5,
   "metadata": {},
   "outputs": [
    {
     "output_type": "execute_result",
     "data": {
      "text/plain": "     statDate         code  total_liability\n0  2019-12-31  600795.XSHG     2.481993e+11",
      "text/html": "<div>\n<style scoped>\n    .dataframe tbody tr th:only-of-type {\n        vertical-align: middle;\n    }\n\n    .dataframe tbody tr th {\n        vertical-align: top;\n    }\n\n    .dataframe thead th {\n        text-align: right;\n    }\n</style>\n<table border=\"1\" class=\"dataframe\">\n  <thead>\n    <tr style=\"text-align: right;\">\n      <th></th>\n      <th>statDate</th>\n      <th>code</th>\n      <th>total_liability</th>\n    </tr>\n  </thead>\n  <tbody>\n    <tr>\n      <th>0</th>\n      <td>2019-12-31</td>\n      <td>600795.XSHG</td>\n      <td>2.481993e+11</td>\n    </tr>\n  </tbody>\n</table>\n</div>"
     },
     "metadata": {},
     "execution_count": 5
    }
   ],
   "source": [
    "stock_huo_dian=['sh600027','sh600795','sh601991','sh600021','sh600863','sz000539','sh600023','sz000690']#火电企业列表\n",
    "stock_huo_dian=normalize_code(stock_huo_dian)\n",
    "for stock in stock_huo_dian[:2]:\n",
    "    q = query(\n",
    "        income.statDate,\n",
    "        income.code,\n",
    "        balance.total_liability).filter(\n",
    "        income.code == stock,\n",
    "    )\n",
    "\n",
    "ret = get_fundamentals(q, statDate='2019')\n",
    "ret"
   ]
  },
  {
   "cell_type": "code",
   "execution_count": 4,
   "metadata": {},
   "outputs": [
    {
     "output_type": "execute_result",
     "data": {
      "text/plain": "     statDate         code  total_liability\n0  2019-12-31  600458.XSHG     1.047992e+10",
      "text/html": "<div>\n<style scoped>\n    .dataframe tbody tr th:only-of-type {\n        vertical-align: middle;\n    }\n\n    .dataframe tbody tr th {\n        vertical-align: top;\n    }\n\n    .dataframe thead th {\n        text-align: right;\n    }\n</style>\n<table border=\"1\" class=\"dataframe\">\n  <thead>\n    <tr style=\"text-align: right;\">\n      <th></th>\n      <th>statDate</th>\n      <th>code</th>\n      <th>total_liability</th>\n    </tr>\n  </thead>\n  <tbody>\n    <tr>\n      <th>0</th>\n      <td>2019-12-31</td>\n      <td>600458.XSHG</td>\n      <td>1.047992e+10</td>\n    </tr>\n  </tbody>\n</table>\n</div>"
     },
     "metadata": {},
     "execution_count": 4
    }
   ],
   "source": [
    "stock_wind=['SZ002080','SH600458','SZ002531','SZ300129','SZ002204','SH601615','SH601016','SZ000791','SH601558','SH601727','SH600875','SZ000862','SH600031','SZ002202','SH600416']#风电企业列表\n",
    "stock_wind=normalize_code(stock_wind)\n",
    "for stock in stock_wind[:2]:\n",
    "    q = query(\n",
    "        income.statDate,\n",
    "        income.code,\n",
    "        balance.total_liability).filter(\n",
    "        income.code == stock,\n",
    "    )\n",
    "\n",
    "ret = get_fundamentals(q, statDate='2019')\n",
    "ret"
   ]
  },
  {
   "cell_type": "markdown",
   "metadata": {},
   "source": [
    "### shortterm_loan\t短期借款(元)"
   ]
  },
  {
   "cell_type": "code",
   "execution_count": 6,
   "metadata": {},
   "outputs": [
    {
     "output_type": "execute_result",
     "data": {
      "text/plain": "     statDate         code  shortterm_loan\n0  2019-12-31  600025.XSHG    4.749314e+09",
      "text/html": "<div>\n<style scoped>\n    .dataframe tbody tr th:only-of-type {\n        vertical-align: middle;\n    }\n\n    .dataframe tbody tr th {\n        vertical-align: top;\n    }\n\n    .dataframe thead th {\n        text-align: right;\n    }\n</style>\n<table border=\"1\" class=\"dataframe\">\n  <thead>\n    <tr style=\"text-align: right;\">\n      <th></th>\n      <th>statDate</th>\n      <th>code</th>\n      <th>shortterm_loan</th>\n    </tr>\n  </thead>\n  <tbody>\n    <tr>\n      <th>0</th>\n      <td>2019-12-31</td>\n      <td>600025.XSHG</td>\n      <td>4.749314e+09</td>\n    </tr>\n  </tbody>\n</table>\n</div>"
     },
     "metadata": {},
     "execution_count": 6
    }
   ],
   "source": [
    "stock_hydro=['sh600900','sh600025','sh600886','sh600236','sh600674','sz000722','sz000883']### 水电企业列表\n",
    "stock_hydro=normalize_code(stock_hydro)\n",
    "for stock in stock_hydro[:2]:\n",
    "    q = query(\n",
    "        income.statDate,\n",
    "        income.code,\n",
    "        balance.shortterm_loan\n",
    "    ).filter(\n",
    "        income.code == stock,\n",
    "    )\n",
    "\n",
    "ret = get_fundamentals(q, statDate='2019')\n",
    "ret\n"
   ]
  },
  {
   "cell_type": "code",
   "execution_count": 7,
   "metadata": {},
   "outputs": [
    {
     "output_type": "execute_result",
     "data": {
      "text/plain": "     statDate         code  shortterm_loan\n0  2019-12-31  600795.XSHG    3.484673e+10",
      "text/html": "<div>\n<style scoped>\n    .dataframe tbody tr th:only-of-type {\n        vertical-align: middle;\n    }\n\n    .dataframe tbody tr th {\n        vertical-align: top;\n    }\n\n    .dataframe thead th {\n        text-align: right;\n    }\n</style>\n<table border=\"1\" class=\"dataframe\">\n  <thead>\n    <tr style=\"text-align: right;\">\n      <th></th>\n      <th>statDate</th>\n      <th>code</th>\n      <th>shortterm_loan</th>\n    </tr>\n  </thead>\n  <tbody>\n    <tr>\n      <th>0</th>\n      <td>2019-12-31</td>\n      <td>600795.XSHG</td>\n      <td>3.484673e+10</td>\n    </tr>\n  </tbody>\n</table>\n</div>"
     },
     "metadata": {},
     "execution_count": 7
    }
   ],
   "source": [
    "stock_huo_dian=['sh600027','sh600795','sh601991','sh600021','sh600863','sz000539','sh600023','sz000690']#火电企业列表\n",
    "stock_huo_dian=normalize_code(stock_huo_dian)\n",
    "for stock in stock_huo_dian[:2]:\n",
    "    q = query(\n",
    "        income.statDate,\n",
    "        income.code,\n",
    "        balance.shortterm_loan).filter(\n",
    "        income.code == stock,\n",
    "    )\n",
    "\n",
    "ret = get_fundamentals(q, statDate='2019')\n",
    "ret"
   ]
  },
  {
   "cell_type": "code",
   "execution_count": 8,
   "metadata": {},
   "outputs": [
    {
     "output_type": "execute_result",
     "data": {
      "text/plain": "     statDate         code  shortterm_loan\n0  2019-12-31  600458.XSHG    7.568211e+08",
      "text/html": "<div>\n<style scoped>\n    .dataframe tbody tr th:only-of-type {\n        vertical-align: middle;\n    }\n\n    .dataframe tbody tr th {\n        vertical-align: top;\n    }\n\n    .dataframe thead th {\n        text-align: right;\n    }\n</style>\n<table border=\"1\" class=\"dataframe\">\n  <thead>\n    <tr style=\"text-align: right;\">\n      <th></th>\n      <th>statDate</th>\n      <th>code</th>\n      <th>shortterm_loan</th>\n    </tr>\n  </thead>\n  <tbody>\n    <tr>\n      <th>0</th>\n      <td>2019-12-31</td>\n      <td>600458.XSHG</td>\n      <td>7.568211e+08</td>\n    </tr>\n  </tbody>\n</table>\n</div>"
     },
     "metadata": {},
     "execution_count": 8
    }
   ],
   "source": [
    "stock_wind=['SZ002080','SH600458','SZ002531','SZ300129','SZ002204','SH601615','SH601016','SZ000791','SH601558','SH601727','SH600875','SZ000862','SH600031','SZ002202','SH600416']#风电企业列表\n",
    "stock_wind=normalize_code(stock_wind)\n",
    "for stock in stock_wind[:2]:\n",
    "    q = query(\n",
    "        income.statDate,\n",
    "        income.code,\n",
    "        balance.shortterm_loan).filter(\n",
    "        income.code == stock,\n",
    "    )\n",
    "\n",
    "ret = get_fundamentals(q, statDate='2019')\n",
    "ret"
   ]
  },
  {
   "cell_type": "markdown",
   "metadata": {},
   "source": [
    "## 一年内到期的非流动负债(元)  \n",
    "non_current_liability_in_one_year\t一年内到期的非流动负债(元)\t是反映企业各种非流动负债在一年之内到期的金额，包括一年内到期的长期借款、长期应付款和应付债券。本项目应根据上述账户分析计算后填列。计入(收录)流动负债中。"
   ]
  },
  {
   "cell_type": "code",
   "execution_count": 12,
   "metadata": {},
   "outputs": [
    {
     "output_type": "stream",
     "name": "stdout",
     "text": "——————————————水电——————————————————\n——————————————火电——————————————————\n——————————————风电——————————————————\n"
    },
    {
     "output_type": "execute_result",
     "data": {
      "text/plain": "     statDate         code  shortterm_loan\n0  2019-12-31  600458.XSHG    7.568211e+08",
      "text/html": "<div>\n<style scoped>\n    .dataframe tbody tr th:only-of-type {\n        vertical-align: middle;\n    }\n\n    .dataframe tbody tr th {\n        vertical-align: top;\n    }\n\n    .dataframe thead th {\n        text-align: right;\n    }\n</style>\n<table border=\"1\" class=\"dataframe\">\n  <thead>\n    <tr style=\"text-align: right;\">\n      <th></th>\n      <th>statDate</th>\n      <th>code</th>\n      <th>shortterm_loan</th>\n    </tr>\n  </thead>\n  <tbody>\n    <tr>\n      <th>0</th>\n      <td>2019-12-31</td>\n      <td>600458.XSHG</td>\n      <td>7.568211e+08</td>\n    </tr>\n  </tbody>\n</table>\n</div>"
     },
     "metadata": {},
     "execution_count": 12
    }
   ],
   "source": [
    "print(\"——————————————水电——————————————————\")\n",
    "stock_hydro=['sh600900','sh600025','sh600886','sh600236','sh600674','sz000722','sz000883']### 水电企业列表\n",
    "stock_hydro=normalize_code(stock_hydro)\n",
    "for stock in stock_hydro[:2]:\n",
    "    q = query(\n",
    "        income.statDate,\n",
    "        income.code,\n",
    "        balance.shortterm_loan\n",
    "    ).filter(\n",
    "        income.code == stock,\n",
    "    )\n",
    "ret = get_fundamentals(q, statDate='2019')\n",
    "ret\n",
    "\n",
    "print(\"——————————————火电——————————————————\")\n",
    "stock_huo_dian=['sh600027','sh600795','sh601991','sh600021','sh600863','sz000539','sh600023','sz000690']#火电企业列表\n",
    "stock_huo_dian=normalize_code(stock_huo_dian)\n",
    "for stock in stock_huo_dian[:2]:\n",
    "    q = query(\n",
    "        income.statDate,\n",
    "        income.code,\n",
    "        balance.shortterm_loan).filter(\n",
    "        income.code == stock,\n",
    "    )\n",
    "ret = get_fundamentals(q, statDate='2019')\n",
    "ret\n",
    "\n",
    "print(\"——————————————风电——————————————————\")\n",
    "stock_wind=['SZ002080','SH600458','SZ002531','SZ300129','SZ002204','SH601615','SH601016','SZ000791','SH601558','SH601727','SH600875','SZ000862','SH600031','SZ002202','SH600416']#风电企业列表\n",
    "stock_wind=normalize_code(stock_wind)\n",
    "for stock in stock_wind[:2]:\n",
    "    q = query(\n",
    "        income.statDate,\n",
    "        income.code,\n",
    "        balance.shortterm_loan).filter(\n",
    "        income.code == stock,\n",
    "    )\n",
    "ret = get_fundamentals(q, statDate='2019')\n",
    "ret\n"
   ]
  },
  {
   "cell_type": "markdown",
   "metadata": {},
   "source": [
    "## 长期借款(元)  \n",
    "longterm_loan\t长期借款(元)\t长期借款是指企业从银行或其他金融机构借入的期限在一年以上(不含一年)的借款。我国股份制企业的长期借款主要是向金融机构借人的各项长期性借款，如从各专业银行、商业银行取得的贷款；除此之外，还包括向财务公司、投资公司等金融企业借人的款项。"
   ]
  },
  {
   "cell_type": "code",
   "execution_count": 3,
   "metadata": {},
   "outputs": [
    {
     "output_type": "stream",
     "name": "stdout",
     "text": "——————————————水电——————————————————\n——————————————火电——————————————————\n——————————————风电——————————————————\n"
    },
    {
     "output_type": "execute_result",
     "data": {
      "text/plain": "     statDate         code  shortterm_loan\n0  2019-12-31  600458.XSHG    7.568211e+08",
      "text/html": "<div>\n<style scoped>\n    .dataframe tbody tr th:only-of-type {\n        vertical-align: middle;\n    }\n\n    .dataframe tbody tr th {\n        vertical-align: top;\n    }\n\n    .dataframe thead th {\n        text-align: right;\n    }\n</style>\n<table border=\"1\" class=\"dataframe\">\n  <thead>\n    <tr style=\"text-align: right;\">\n      <th></th>\n      <th>statDate</th>\n      <th>code</th>\n      <th>shortterm_loan</th>\n    </tr>\n  </thead>\n  <tbody>\n    <tr>\n      <th>0</th>\n      <td>2019-12-31</td>\n      <td>600458.XSHG</td>\n      <td>7.568211e+08</td>\n    </tr>\n  </tbody>\n</table>\n</div>"
     },
     "metadata": {},
     "execution_count": 3
    }
   ],
   "source": [
    "print(\"——————————————水电——————————————————\")\n",
    "stock_hydro=['sh600900','sh600025','sh600886','sh600236','sh600674','sz000722','sz000883']### 水电企业列表\n",
    "stock_hydro=normalize_code(stock_hydro)\n",
    "for stock in stock_hydro[:2]:\n",
    "    q = query(\n",
    "        income.statDate,\n",
    "        income.code,\n",
    "        balance.shortterm_loan\n",
    "    ).filter(\n",
    "        income.code == stock,\n",
    "    )\n",
    "ret = get_fundamentals(q, statDate='2019')\n",
    "ret\n",
    "\n",
    "print(\"——————————————火电——————————————————\")\n",
    "stock_huo_dian=['sh600027','sh600795','sh601991','sh600021','sh600863','sz000539','sh600023','sz000690']#火电企业列表\n",
    "stock_huo_dian=normalize_code(stock_huo_dian)\n",
    "for stock in stock_huo_dian[:2]:\n",
    "    q = query(\n",
    "        income.statDate,\n",
    "        income.code,\n",
    "        balance.shortterm_loan).filter(\n",
    "        income.code == stock,\n",
    "    )\n",
    "ret = get_fundamentals(q, statDate='2019')\n",
    "ret\n",
    "\n",
    "print(\"——————————————风电——————————————————\")\n",
    "stock_wind=['SZ002080','SH600458','SZ002531','SZ300129','SZ002204','SH601615','SH601016','SZ000791','SH601558','SH601727','SH600875','SZ000862','SH600031','SZ002202','SH600416']#风电企业列表\n",
    "stock_wind=normalize_code(stock_wind)\n",
    "for stock in stock_wind[:2]:\n",
    "    q = query(\n",
    "        income.statDate,\n",
    "        income.code,\n",
    "        balance.shortterm_loan).filter(\n",
    "        income.code == stock,\n",
    "    )\n",
    "ret = get_fundamentals(q, statDate='2019')\n",
    "ret\n"
   ]
  },
  {
   "cell_type": "markdown",
   "metadata": {},
   "source": [
    "## 应付债券(元)\n",
    "bonds_payable\t应付债券(元)\t应付债券是指企业为筹集资金而对外发行的期限在一年以上的长期借款性质的书面证明，约定在一定期限内还本付息的一种书面承诺。"
   ]
  },
  {
   "cell_type": "code",
   "execution_count": 36,
   "metadata": {},
   "outputs": [
    {
     "output_type": "stream",
     "name": "stdout",
     "text": "——————————————水电——————————————————\n     statDate         code  bonds_payable\n0  2019-12-31  600025.XSHG            NaN\n——————————————火电——————————————————\n     statDate         code  bonds_payable\n0  2019-12-31  600795.XSHG   7.593665e+09\n——————————————风电——————————————————\n     statDate         code  bonds_payable\n0  2019-12-31  600458.XSHG            NaN\n"
    }
   ],
   "source": [
    "print(\"——————————————水电——————————————————\")\n",
    "stock_hydro=['sh600900','sh600025','sh600886','sh600236','sh600674','sz000722','sz000883']### 水电企业列表\n",
    "stock_hydro=normalize_code(stock_hydro)\n",
    "for stock in stock_hydro[:2]:\n",
    "    q = query(\n",
    "        income.statDate,\n",
    "        income.code,\n",
    "        balance.bonds_payable).filter(\n",
    "        income.code == stock,\n",
    "    )\n",
    "ret_shui = get_fundamentals(q, statDate='2019')\n",
    "ret_shui.fillna(0)\n",
    "print(ret_shui)\n",
    "\n",
    "print(\"——————————————火电——————————————————\")\n",
    "stock_huo_dian=['sh600027','sh600795','sh601991','sh600021','sh600863','sz000539','sh600023','sz000690']#火电企业列表\n",
    "stock_huo_dian=normalize_code(stock_huo_dian)\n",
    "for stock in stock_huo_dian[:2]:\n",
    "    q = query(\n",
    "        income.statDate,\n",
    "        income.code,\n",
    "        balance.bonds_payable).filter(\n",
    "        income.code == stock,\n",
    "    )\n",
    "ret_huo = get_fundamentals(q, statDate='2019')\n",
    "ret_huo.fillna(0)\n",
    "print(ret_huo)\n",
    "\n",
    "print(\"——————————————风电——————————————————\")\n",
    "stock_wind=['SZ002080','SH600458','SZ002531','SZ300129','SZ002204','SH601615','SH601016','SZ000791','SH601558','SH601727','SH600875','SZ000862','SH600031','SZ002202','SH600416']#风电企业列表\n",
    "stock_wind=normalize_code(stock_wind)\n",
    "for stock in stock_wind[:2]:\n",
    "    q = query(\n",
    "        income.statDate,\n",
    "        income.code,\n",
    "        balance.bonds_payable).filter(\n",
    "        income.code == stock,\n",
    "    )\n",
    "ret_feng = get_fundamentals(q, statDate='2019')\n",
    "ret_feng.fillna(0)\n",
    "print(ret_feng)"
   ]
  },
  {
   "cell_type": "markdown",
   "metadata": {},
   "source": [
    "写入文件中"
   ]
  },
  {
   "cell_type": "code",
   "execution_count": 35,
   "metadata": {},
   "outputs": [
    {
     "output_type": "stream",
     "name": "stdout",
     "text": "——————————————水电——————————————————\n——————————————火电——————————————————\n——————————————风电——————————————————\nSuccess\n"
    }
   ],
   "source": [
    "print(\"——————————————水电——————————————————\")\n",
    "stock_hydro=['sh600900','sh600025','sh600886','sh600236','sh600674','sz000722','sz000883']### 水电企业列表\n",
    "stock_hydro1=normalize_code(stock_hydro)\n",
    "q = query(\n",
    "    income.statDate,\n",
    "    income.code,\n",
    "    balance.bonds_payable,\t#应付债券(元)\n",
    "    balance.longterm_loan,\t#长期借款(元)\n",
    "    balance.non_current_liability_in_one_year,\t#一年内到期的非流动负债(元)\t\n",
    "    balance.shortterm_loan,\t#短期借款(元)\n",
    "    balance.fixed_assets,\n",
    "    balance.total_assets).filter(\n",
    "    income.code.in_(stock_hydro1),\n",
    ")\n",
    "ret_shui = get_fundamentals(q, statDate='2019')\n",
    "ret_shui.fillna(0)\n",
    "# print(ret_shui)\n",
    "import pandas\n",
    "excel_writer='C:/TEMP/'+'水电火电风电负债资产数据20200610-1.xlsx'\n",
    "writer=pandas.ExcelWriter(excel_writer)\n",
    "ret_shui.to_excel(writer,\"水电\")\n",
    "# writer.save()\n",
    "\n",
    "print(\"——————————————火电——————————————————\")\n",
    "stock_huo_dian=['sh600027','sh600795','sh601991','sh600021','sh600863','sz000539','sh600023','sz000690']#火电企业列表\n",
    "stock_huo_dian1=normalize_code(stock_huo_dian)\n",
    "q = query(\n",
    "    income.statDate,\n",
    "    income.code,\n",
    "    balance.bonds_payable,\t#应付债券(元)\n",
    "    balance.longterm_loan,\t#长期借款(元)\n",
    "    balance.non_current_liability_in_one_year,\t#一年内到期的非流动负债(元)\t\n",
    "    balance.shortterm_loan,\t#短期借款(元)\n",
    "    balance.fixed_assets,\n",
    "    balance.total_assets).filter(\n",
    "    income.code.in_(stock_huo_dian1)\n",
    ")\n",
    "ret_huo = get_fundamentals(q, statDate='2019')\n",
    "ret_huo.fillna(0)\n",
    "# print(ret_huo.head())\n",
    "# import pandas\n",
    "# excel_writer='C:/TEMP/'+'水电火电风电负债资产数据20200610-1.xlsx'\n",
    "# writer=pandas.ExcelWriter(excel_writer)\n",
    "ret_huo.to_excel(writer,\"火电\")\n",
    "# writer.save()   \n",
    "\n",
    "print(\"——————————————风电——————————————————\")\n",
    "stock_wind=['SZ002080','SH600458','SZ002531','SZ300129','SZ002204','SH601615','SH601016','SZ000791','SH601558','SH601727','SH600875','SZ000862','SH600031','SZ002202','SH600416']#风电企业列表\n",
    "stock_wind1=normalize_code(stock_wind)\n",
    "q = query(\n",
    "    income.statDate,\n",
    "    income.code,\n",
    "    balance.bonds_payable,\t#应付债券(元)\n",
    "    balance.longterm_loan,\t#长期借款(元)\n",
    "    balance.non_current_liability_in_one_year,\t#一年内到期的非流动负债(元)\t\n",
    "    balance.shortterm_loan,\t#短期借款(元)\n",
    "    balance.fixed_assets,\n",
    "    balance.total_assets).filter(\n",
    "    income.code.in_(stock_wind1)\n",
    ")\n",
    "ret_feng = get_fundamentals(q, statDate='2019')\n",
    "ret_feng.fillna(0)\n",
    "# print(ret_feng)\n",
    "# import pandas\n",
    "# excel_writer='C:/TEMP/'+'水电火电风电负债资产数据20200610-1.xlsx'\n",
    "# writer=pandas.ExcelWriter(excel_writer)\n",
    "ret_feng.to_excel(writer,\"风电\")\n",
    "writer.save()\n",
    "# excel_writer='C:/TEMP/'+'水电火电风电负债资产数据20200610-3.xlsx'\n",
    "# writer=pandas.ExcelWriter(excel_writer)\n",
    "# ret_feng.to_excel(writer,\"风电\",startrow=i)\n",
    "print(\"Success\")"
   ]
  }
 ],
 "metadata": {
  "language_info": {
   "codemirror_mode": {
    "name": "ipython",
    "version": 3
   },
   "file_extension": ".py",
   "mimetype": "text/x-python",
   "name": "python",
   "nbconvert_exporter": "python",
   "pygments_lexer": "ipython3",
   "version": "3.7.4-final"
  },
  "orig_nbformat": 2,
  "kernelspec": {
   "name": "python37432bit6a4013f1a8ec4766a4af9787f2730623",
   "display_name": "Python 3.7.4 32-bit"
  }
 },
 "nbformat": 4,
 "nbformat_minor": 2
}