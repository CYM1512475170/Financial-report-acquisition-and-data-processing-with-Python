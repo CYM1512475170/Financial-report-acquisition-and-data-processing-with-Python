{
 "cells": [
  {
   "cell_type": "markdown",
   "metadata": {},
   "source": [
    "## 使用Python获取行业的信息"
   ]
  },
  {
   "cell_type": "markdown",
   "metadata": {},
   "source": [
    "证监会行业"
   ]
  },
  {
   "cell_type": "code",
   "execution_count": 2,
   "metadata": {},
   "outputs": [
    {
     "output_type": "stream",
     "name": "stdout",
     "text": "auth success \n"
    }
   ],
   "source": [
    "import jqdatasdk\n",
    "from jqdatasdk import *\n",
    "jqdatasdk.auth(\"13141315365\", \"315365\")"
   ]
  },
  {
   "cell_type": "markdown",
   "metadata": {},
   "source": [
    "### 计算机、通信和其他电子设备制造业"
   ]
  },
  {
   "cell_type": "markdown",
   "metadata": {},
   "source": [
    "企业列表    "
   ]
  },
  {
   "cell_type": "code",
   "execution_count": 3,
   "metadata": {},
   "outputs": [
    {
     "output_type": "stream",
     "name": "stdout",
     "text": "['000016.XSHE', '000020.XSHE', '000021.XSHE', '000045.XSHE', '000050.XSHE', '000063.XSHE', '000066.XSHE', '000068.XSHE', '000100.XSHE', '000413.XSHE', '000536.XSHE', '000547.XSHE', '000561.XSHE', '000586.XSHE', '000636.XSHE', '000670.XSHE', '000687.XSHE', '000725.XSHE', '000727.XSHE', '000733.XSHE', '000748.XSHE', '000801.XSHE', '000810.XSHE', '000823.XSHE', '000938.XSHE', '000970.XSHE', '000977.XSHE', '000988.XSHE', '002017.XSHE', '002025.XSHE', '002036.XSHE', '002045.XSHE', '002049.XSHE', '002052.XSHE', '002055.XSHE', '002079.XSHE', '002089.XSHE', '002104.XSHE', '002106.XSHE', '002115.XSHE', '002119.XSHE', '002130.XSHE', '002134.XSHE', '002137.XSHE', '002138.XSHE', '002151.XSHE', '002156.XSHE', '002161.XSHE', '002179.XSHE', '002180.XSHE', '002185.XSHE', '002189.XSHE', '002192.XSHE', '002194.XSHE', '002199.XSHE', '002214.XSHE', '002217.XSHE', '002222.XSHE', '002231.XSHE', '002236.XSHE', '002241.XSHE', '002273.XSHE', '002281.XSHE', '002288.XSHE', '002289.XSHE', '002296.XSHE', '002308.XSHE', '002313.XSHE', '002351.XSHE', '002362.XSHE', '002369.XSHE', '002376.XSHE', '002383.XSHE', '002384.XSHE', '002387.XSHE', '002388.XSHE', '002389.XSHE', '002396.XSHE', '002402.XSHE', '002413.XSHE', '002414.XSHE', '002415.XSHE', '002426.XSHE', '002429.XSHE', '002436.XSHE', '002446.XSHE', '002449.XSHE', '002456.XSHE', '002463.XSHE', '002465.XSHE', '002475.XSHE', '002484.XSHE', '002506.XSHE', '002512.XSHE', '002519.XSHE', '002528.XSHE', '002577.XSHE', '002579.XSHE', '002583.XSHE', '002587.XSHE', '002600.XSHE', '002618.XSHE', '002635.XSHE', '002636.XSHE', '002655.XSHE', '002660.XSHE', '002681.XSHE', '002729.XSHE', '002745.XSHE', '002766.XSHE', '002782.XSHE', '002792.XSHE', '002806.XSHE', '002813.XSHE', '002815.XSHE', '002829.XSHE', '002835.XSHE', '002841.XSHE', '002845.XSHE', '002848.XSHE', '002855.XSHE', '002859.XSHE', '002861.XSHE', '002866.XSHE', '002869.XSHE', '002876.XSHE', '002881.XSHE', '002885.XSHE', '002888.XSHE', '002897.XSHE', '002902.XSHE', '002906.XSHE', '002913.XSHE', '002916.XSHE', '002925.XSHE', '002935.XSHE', '002937.XSHE', '002938.XSHE', '002947.XSHE', '002952.XSHE', '002955.XSHE', '002960.XSHE', '002962.XSHE', '002970.XSHE', '002972.XSHE', '002977.XSHE', '002981.XSHE', '002983.XSHE', '300028.XSHE', '300042.XSHE', '300046.XSHE', '300053.XSHE', '300065.XSHE', '300076.XSHE', '300077.XSHE', '300078.XSHE', '300079.XSHE', '300083.XSHE', '300088.XSHE', '300101.XSHE', '300102.XSHE', '300114.XSHE', '300115.XSHE', '300120.XSHE', '300127.XSHE', '300128.XSHE', '300134.XSHE', '300136.XSHE', '300139.XSHE', '300155.XSHE', '300162.XSHE', '300177.XSHE', '300205.XSHE', '300211.XSHE', '300213.XSHE', '300219.XSHE', '300220.XSHE', '300223.XSHE', '300227.XSHE', '300232.XSHE', '300241.XSHE', '300256.XSHE', '300270.XSHE', '300282.XSHE', '300296.XSHE', '300301.XSHE', '300303.XSHE', '300308.XSHE', '300319.XSHE', '300322.XSHE', '300323.XSHE', '300327.XSHE', '300331.XSHE', '300346.XSHE', '300351.XSHE', '300353.XSHE', '300367.XSHE', '300373.XSHE', '300389.XSHE', '300390.XSHE', '300393.XSHE', '300394.XSHE', '300397.XSHE', '300408.XSHE', '300414.XSHE', '300433.XSHE', '300449.XSHE', '300455.XSHE', '300456.XSHE', '300458.XSHE', '300460.XSHE', '300474.XSHE', '300476.XSHE', '300479.XSHE', '300502.XSHE', '300504.XSHE', '300514.XSHE', '300516.XSHE', '300531.XSHE', '300543.XSHE', '300546.XSHE', '300548.XSHE', '300555.XSHE', '300563.XSHE', '300565.XSHE', '300566.XSHE', '300570.XSHE', '300581.XSHE', '300582.XSHE', '300590.XSHE', '300602.XSHE', '300615.XSHE', '300620.XSHE', '300623.XSHE', '300627.XSHE', '300628.XSHE', '300632.XSHE', '300638.XSHE', '300647.XSHE', '300656.XSHE', '300657.XSHE', '300661.XSHE', '300666.XSHE', '300672.XSHE', '300679.XSHE', '300686.XSHE', '300689.XSHE', '300691.XSHE', '300698.XSHE', '300701.XSHE', '300708.XSHE', '300709.XSHE', '300710.XSHE', '300711.XSHE', '300726.XSHE', '300735.XSHE', '300739.XSHE', '300743.XSHE', '300747.XSHE', '300748.XSHE', '300752.XSHE', '300762.XSHE', '300782.XSHE', '300787.XSHE', '300790.XSHE', '300793.XSHE', '300802.XSHE', '300807.XSHE', '300811.XSHE', '300822.XSHE', '300831.XSHE', '300835.XSHE', '600060.XSHG', '600074.XSHG', '600100.XSHG', '600118.XSHG', '600130.XSHG', '600151.XSHG', '600171.XSHG', '600183.XSHG', '600198.XSHG', '600234.XSHG', '600237.XSHG', '600260.XSHG', '600271.XSHG', '600288.XSHG', '600330.XSHG', '600345.XSHG', '600353.XSHG', '600355.XSHG', '600360.XSHG', '600363.XSHG', '600366.XSHG', '600401.XSHG', '600405.XSHG', '600435.XSHG', '600460.XSHG', '600485.XSHG', '600498.XSHG', '600525.XSHG', '600552.XSHG', '600562.XSHG', '600563.XSHG', '600584.XSHG', '600601.XSHG', '600666.XSHG', '600667.XSHG', '600680.XSHG', '600703.XSHG', '600707.XSHG', '600734.XSHG', '600745.XSHG', '600764.XSHG', '600775.XSHG', '600776.XSHG', '600839.XSHG', '600870.XSHG', '600888.XSHG', '600898.XSHG', '600980.XSHG', '600990.XSHG', '601138.XSHG', '601231.XSHG', '601869.XSHG', '603005.XSHG', '603019.XSHG', '603023.XSHG', '603025.XSHG', '603042.XSHG', '603068.XSHG', '603083.XSHG', '603106.XSHG', '603115.XSHG', '603118.XSHG', '603133.XSHG', '603160.XSHG', '603186.XSHG', '603228.XSHG', '603236.XSHG', '603267.XSHG', '603290.XSHG', '603327.XSHG', '603328.XSHG', '603380.XSHG', '603386.XSHG', '603390.XSHG', '603496.XSHG', '603501.XSHG', '603516.XSHG', '603528.XSHG', '603595.XSHG', '603633.XSHG', '603660.XSHG', '603678.XSHG', '603712.XSHG', '603773.XSHG', '603803.XSHG', '603890.XSHG', '603893.XSHG', '603920.XSHG', '603933.XSHG', '603936.XSHG', '603986.XSHG', '603989.XSHG', '603996.XSHG', '688002.XSHG', '688005.XSHG', '688007.XSHG', '688008.XSHG', '688011.XSHG', '688019.XSHG', '688020.XSHG', '688025.XSHG', '688036.XSHG', '688080.XSHG', '688081.XSHG', '688086.XSHG', '688100.XSHG', '688123.XSHG', '688126.XSHG', '688138.XSHG', '688159.XSHG', '688181.XSHG', '688208.XSHG', '688288.XSHG', '688388.XSHG', '688396.XSHG']\n"
    }
   ],
   "source": [
    "print(get_industry_stocks(\"C39\", date=None))"
   ]
  },
  {
   "cell_type": "markdown",
   "metadata": {},
   "source": [
    "公司数量很多，我们来看一下业绩怎么样"
   ]
  },
  {
   "cell_type": "markdown",
   "metadata": {},
   "source": [
    "使用的维度是流动性、盈利能力、杠杆率和效率四大比率，指标选取来自财务报告\n",
    "https://zhuanlan.zhihu.com/p/145851100"
   ]
  },
  {
   "cell_type": "markdown",
   "metadata": {},
   "source": [
    "获取方式来自JQData\n",
    "https://www.joinquant.com/help/api/help?name=JQData#%E8%B4%A2%E5%8A%A1%E6%8C%87%E6%A0%87%E6%95%B0%E6%8D%AE"
   ]
  },
  {
   "cell_type": "code",
   "execution_count": 3,
   "metadata": {},
   "outputs": [],
   "source": [
    "stock_electrical=get_industry_stocks(\"C39\", date=None)"
   ]
  },
  {
   "cell_type": "markdown",
   "metadata": {},
   "source": [
    "- inc_return\t净资产收益率(扣除非经常损益)(%)\n",
    "- roa\t总资产净利率ROA(%)\n",
    "- net_profit_margin\t销售净利率(%)\n",
    "- gross_profit_margin\t销售毛利率(%)\n"
   ]
  },
  {
   "cell_type": "markdown",
   "metadata": {},
   "source": [
    "1. 财务指标"
   ]
  },
  {
   "cell_type": "code",
   "execution_count": 4,
   "metadata": {
    "tags": [
     "outputPrepend",
     "outputPrepend",
     "outputPrepend",
     "outputPrepend",
     "outputPrepend",
     "outputPrepend",
     "outputPrepend",
     "outputPrepend",
     "outputPrepend",
     "outputPrepend",
     "outputPrepend",
     "outputPrepend",
     "outputPrepend",
     "outputPrepend",
     "outputPrepend",
     "outputPrepend",
     "outputPrepend",
     "outputPrepend",
     "outputPrepend",
     "outputPrepend",
     "outputPrepend",
     "outputPrepend",
     "outputPrepend",
     "outputPrepend",
     "outputPrepend",
     "outputPrepend",
     "outputPrepend",
     "outputPrepend",
     "outputPrepend",
     "outputPrepend",
     "outputPrepend",
     "outputPrepend",
     "outputPrepend",
     "outputPrepend",
     "outputPrepend",
     "outputPrepend",
     "outputPrepend",
     "outputPrepend",
     "outputPrepend",
     "outputPrepend",
     "outputPrepend",
     "outputPrepend",
     "outputPrepend",
     "outputPrepend",
     "outputPrepend",
     "outputPrepend",
     "outputPrepend",
     "outputPrepend",
     "outputPrepend",
     "outputPrepend",
     "outputPrepend",
     "outputPrepend",
     "outputPrepend",
     "outputPrepend",
     "outputPrepend",
     "outputPrepend",
     "outputPrepend",
     "outputPrepend",
     "outputPrepend",
     "outputPrepend",
     "outputPrepend",
     "outputPrepend",
     "outputPrepend",
     "outputPrepend",
     "outputPrepend",
     "outputPrepend",
     "outputPrepend",
     "outputPrepend",
     "outputPrepend",
     "outputPrepend",
     "outputPrepend",
     "outputPrepend",
     "outputPrepend",
     "outputPrepend",
     "outputPrepend",
     "outputPrepend",
     "outputPrepend",
     "outputPrepend",
     "outputPrepend",
     "outputPrepend",
     "outputPrepend",
     "outputPrepend",
     "outputPrepend",
     "outputPrepend",
     "outputPrepend",
     "outputPrepend",
     "outputPrepend",
     "outputPrepend",
     "outputPrepend",
     "outputPrepend",
     "outputPrepend",
     "outputPrepend",
     "outputPrepend",
     "outputPrepend",
     "outputPrepend",
     "outputPrepend",
     "outputPrepend",
     "outputPrepend",
     "outputPrepend",
     "outputPrepend",
     "outputPrepend",
     "outputPrepend",
     "outputPrepend",
     "outputPrepend",
     "outputPrepend",
     "outputPrepend",
     "outputPrepend",
     "outputPrepend",
     "outputPrepend",
     "outputPrepend",
     "outputPrepend",
     "outputPrepend",
     "outputPrepend",
     "outputPrepend",
     "outputPrepend",
     "outputPrepend",
     "outputPrepend",
     "outputPrepend",
     "outputPrepend",
     "outputPrepend",
     "outputPrepend",
     "outputPrepend",
     "outputPrepend",
     "outputPrepend",
     "outputPrepend",
     "outputPrepend",
     "outputPrepend",
     "outputPrepend",
     "outputPrepend",
     "outputPrepend",
     "outputPrepend",
     "outputPrepend",
     "outputPrepend",
     "outputPrepend",
     "outputPrepend",
     "outputPrepend",
     "outputPrepend",
     "outputPrepend",
     "outputPrepend",
     "outputPrepend",
     "outputPrepend",
     "outputPrepend",
     "outputPrepend",
     "outputPrepend",
     "outputPrepend",
     "outputPrepend",
     "outputPrepend",
     "outputPrepend",
     "outputPrepend",
     "outputPrepend",
     "outputPrepend",
     "outputPrepend",
     "outputPrepend",
     "outputPrepend",
     "outputPrepend",
     "outputPrepend",
     "outputPrepend",
     "outputPrepend",
     "outputPrepend",
     "outputPrepend",
     "outputPrepend",
     "outputPrepend",
     "outputPrepend",
     "outputPrepend",
     "outputPrepend",
     "outputPrepend",
     "outputPrepend",
     "outputPrepend",
     "outputPrepend",
     "outputPrepend",
     "outputPrepend",
     "outputPrepend",
     "outputPrepend",
     "outputPrepend",
     "outputPrepend",
     "outputPrepend",
     "outputPrepend",
     "outputPrepend",
     "outputPrepend",
     "outputPrepend",
     "outputPrepend",
     "outputPrepend",
     "outputPrepend",
     "outputPrepend",
     "outputPrepend",
     "outputPrepend",
     "outputPrepend",
     "outputPrepend",
     "outputPrepend",
     "outputPrepend",
     "outputPrepend",
     "outputPrepend",
     "outputPrepend",
     "outputPrepend",
     "outputPrepend",
     "outputPrepend",
     "outputPrepend",
     "outputPrepend",
     "outputPrepend",
     "outputPrepend",
     "outputPrepend",
     "outputPrepend",
     "outputPrepend",
     "outputPrepend",
     "outputPrepend",
     "outputPrepend",
     "outputPrepend",
     "outputPrepend",
     "outputPrepend",
     "outputPrepend",
     "outputPrepend",
     "outputPrepend",
     "outputPrepend",
     "outputPrepend",
     "outputPrepend",
     "outputPrepend",
     "outputPrepend",
     "outputPrepend",
     "outputPrepend",
     "outputPrepend",
     "outputPrepend",
     "outputPrepend",
     "outputPrepend",
     "outputPrepend",
     "outputPrepend",
     "outputPrepend",
     "outputPrepend",
     "outputPrepend",
     "outputPrepend",
     "outputPrepend",
     "outputPrepend",
     "outputPrepend",
     "outputPrepend",
     "outputPrepend",
     "outputPrepend",
     "outputPrepend"
    ]
   },
   "outputs": [
    {
     "output_type": "stream",
     "name": "stdout",
     "text": "inc_return   roa  net_profit_margin  gross_profit_margin    statDate\n0       -2.48  0.86                2.1                 4.89  2019-06-30\n"
    }
   ],
   "source": [
    "from jqdatasdk import finance\n",
    "for code in stock_electrical[:1]:\n",
    "    # finance.run_query(query(finance.STK_FIN_FORCAST).filter(finance.STK_FIN_FORCAST.code==code).limit(10))\n",
    "    # q=query(name,valuation).filter(valuation.code ==code)\n",
    "    # q=query(code,inc_return,roa,net_profit_margin,gross_profit_margin)\n",
    "    q = query(indicator.inc_return,\n",
    "    indicator.roa,\n",
    "    indicator.net_profit_margin,\n",
    "    indicator.gross_profit_margin,\n",
    "    indicator.statDate).filter(valuation.code == code)\n",
    "    df = get_fundamentals(q, '2019-10-15')\n",
    "    print(df)"
   ]
  },
  {
   "cell_type": "markdown",
   "metadata": {},
   "source": [
    "**股票代码**  \n",
    "code\t股票代码\t带后缀.XSHE/.XSHG"
   ]
  },
  {
   "cell_type": "code",
   "execution_count": 5,
   "metadata": {},
   "outputs": [
    {
     "output_type": "stream",
     "name": "stdout",
     "text": "code\n0  000016.XSHE\n"
    }
   ],
   "source": [
    "from jqdatasdk import finance\n",
    "for code in stock_electrical[:1]:\n",
    "    q = query(indicator.code).filter(valuation.code == code)\n",
    "    df = get_fundamentals(q, '2019-10-15')\n",
    "    print(df)"
   ]
  },
  {
   "cell_type": "markdown",
   "metadata": {},
   "source": [
    "**公司发布财报日期**  \n",
    "pubDate\t日期\t公司发布财报日期"
   ]
  },
  {
   "cell_type": "code",
   "execution_count": 6,
   "metadata": {},
   "outputs": [
    {
     "output_type": "stream",
     "name": "stdout",
     "text": "pubDate\n0  2019-08-07\n"
    }
   ],
   "source": [
    "for code in stock_electrical[:1]:\n",
    "    q = query(indicator.pubDate).filter(valuation.code == code)\n",
    "    df = get_fundamentals(q, '2019-10-15')\n",
    "    print(df)"
   ]
  },
  {
   "cell_type": "markdown",
   "metadata": {},
   "source": [
    "**财报统计的季度的最后一天**  \n",
    "statDate\t日期\t财报统计的季度的最后一天, 比如2015-03-31, 2015-06-30"
   ]
  },
  {
   "cell_type": "code",
   "execution_count": 7,
   "metadata": {},
   "outputs": [
    {
     "output_type": "stream",
     "name": "stdout",
     "text": "statDate\n0  2019-06-30\n"
    }
   ],
   "source": [
    "for code in stock_electrical[:1]:\n",
    "    q = query(indicator.statDate).filter(valuation.code == code)\n",
    "    df = get_fundamentals(q, '2019-10-15')\n",
    "    print(df)"
   ]
  },
  {
   "cell_type": "markdown",
   "metadata": {},
   "source": [
    "**每股收益EPS(元)**  \n",
    "eps\t每股收益EPS(元)\t每股收益(摊薄)＝净利润/期末股本；分子从单季利润表取值，分母取季度末报告期股本值。"
   ]
  },
  {
   "cell_type": "code",
   "execution_count": 8,
   "metadata": {},
   "outputs": [
    {
     "output_type": "stream",
     "name": "stdout",
     "text": "eps\n0  0.111\n"
    }
   ],
   "source": [
    "for code in stock_electrical[:1]:\n",
    "    q = query(indicator.eps).filter(valuation.code == code)\n",
    "    df = get_fundamentals(q, '2019-10-15')\n",
    "    print(df)"
   ]
  },
  {
   "cell_type": "markdown",
   "metadata": {},
   "source": [
    "**扣除非经常损益后的净利润(元)**  \n",
    "adjusted_profit\t扣除非经常损益后的净利润(元)\t非经常性损益这一概念是证监会在1999年首次提出的，当时将其定义为：公司正常经营损益之外的一次性或偶发性损益。《问答第1号》则指出：非经常性损益是公司发生的与经营业务无直接关系的收支；以及虽与经营业务相关，但由于其性质、金额或发生频率等方面的原因，影响了真实公允地反映公司正常盈利能力的各项收入。"
   ]
  },
  {
   "cell_type": "code",
   "execution_count": null,
   "metadata": {},
   "outputs": [],
   "source": [
    "for code in stock_electrical[:1]:\n",
    "    q = query(indicator.eps).filter(valuation.code == code)\n",
    "    df = get_fundamentals(q, '2019-10-15')\n",
    "    print(df)"
   ]
  },
  {
   "cell_type": "markdown",
   "metadata": {},
   "source": [
    "**经营活动净收益(元)**  \n",
    "operating_profit\t经营活动净收益(元)\t营业总收入-营业总成本"
   ]
  },
  {
   "cell_type": "code",
   "execution_count": 9,
   "metadata": {},
   "outputs": [
    {
     "output_type": "stream",
     "name": "stdout",
     "text": "operating_profit\n0      -293177664.0\n"
    }
   ],
   "source": [
    "for code in stock_electrical[:1]:\n",
    "    q = query(indicator.operating_profit).filter(valuation.code == code)\n",
    "    df = get_fundamentals(q, '2019-10-15')\n",
    "    print(df)"
   ]
  },
  {
   "cell_type": "markdown",
   "metadata": {},
   "source": [
    "**价值变动净收益(元)**  \n",
    "value_change_profit\t价值变动净收益(元)\t公允价值变动净收益+投资净收益+汇兑净收益"
   ]
  },
  {
   "cell_type": "code",
   "execution_count": 10,
   "metadata": {},
   "outputs": [
    {
     "output_type": "stream",
     "name": "stdout",
     "text": "value_change_profit\n0          292271904.0\n"
    }
   ],
   "source": [
    "for code in stock_electrical[:1]:\n",
    "    q = query(indicator.value_change_profit).filter(valuation.code == code)\n",
    "    df = get_fundamentals(q, '2019-10-15')\n",
    "    print(df)"
   ]
  },
  {
   "cell_type": "markdown",
   "metadata": {},
   "source": [
    "**净资产收益率ROE(%)**  \n",
    "roe\t净资产收益率ROE(%)\t归属于母公司股东的净利润*2/（期初归属于母公司股东的净资产+期末归属于母公司股东的净资产）"
   ]
  },
  {
   "cell_type": "code",
   "execution_count": 11,
   "metadata": {},
   "outputs": [
    {
     "output_type": "stream",
     "name": "stdout",
     "text": "roe\n0  3.25\n"
    }
   ],
   "source": [
    "for code in stock_electrical[:1]:\n",
    "    q = query(indicator.roe).filter(valuation.code == code)\n",
    "    df = get_fundamentals(q, '2019-10-15')\n",
    "    print(df)"
   ]
  },
  {
   "cell_type": "markdown",
   "metadata": {},
   "source": [
    "**净资产收益率(扣除非经常损益)(%)**  \n",
    "inc_return\t净资产收益率(扣除非经常损益)(%)\t扣除非经常损益后的净利润（不含少数股东损益）*2/（期初归属于母公司股东的净资产+期末归属于母公司股东的净资产）"
   ]
  },
  {
   "cell_type": "code",
   "execution_count": 12,
   "metadata": {},
   "outputs": [
    {
     "output_type": "stream",
     "name": "stdout",
     "text": "inc_return\n0       -2.48\n"
    }
   ],
   "source": [
    "for code in stock_electrical[:1]:\n",
    "    q = query(indicator.inc_return).filter(valuation.code == code)\n",
    "    df = get_fundamentals(q, '2019-10-15')\n",
    "    print(df)"
   ]
  },
  {
   "cell_type": "code",
   "execution_count": null,
   "metadata": {},
   "outputs": [],
   "source": [
    "****  \n"
   ]
  },
  {
   "cell_type": "code",
   "execution_count": null,
   "metadata": {},
   "outputs": [],
   "source": [
    "for code in stock_electrical[:1]:\n",
    "    q = query(indicator.eps).filter(valuation.code == code)\n",
    "    df = get_fundamentals(q, '2019-10-15')\n",
    "    print(df)"
   ]
  },
  {
   "cell_type": "markdown",
   "metadata": {},
   "source": [
    "**销售净利率(%)**  \n",
    "net_profit_margin\t销售净利率(%)\t净利润/营业收入"
   ]
  },
  {
   "cell_type": "code",
   "execution_count": 13,
   "metadata": {},
   "outputs": [
    {
     "output_type": "stream",
     "name": "stdout",
     "text": "net_profit_margin\n0                2.1\n"
    }
   ],
   "source": [
    "for code in stock_electrical[:1]:\n",
    "    q = query(indicator.net_profit_margin).filter(valuation.code == code)\n",
    "    df = get_fundamentals(q, '2019-10-15')\n",
    "    print(df)"
   ]
  },
  {
   "cell_type": "markdown",
   "metadata": {},
   "source": [
    "**销售毛利率(%)**  \n",
    "gross_profit_margin\t销售毛利率(%)\t毛利/营业收入"
   ]
  },
  {
   "cell_type": "code",
   "execution_count": null,
   "metadata": {},
   "outputs": [],
   "source": [
    "for code in stock_electrical[:1]:\n",
    "    q = query(indicator.eps).filter(valuation.code == code)\n",
    "    df = get_fundamentals(q, '2019-10-15')\n",
    "    print(df)"
   ]
  },
  {
   "cell_type": "markdown",
   "metadata": {},
   "source": [
    "**营业总成本/营业总收入(%)**  \n",
    "expense_to_total_revenue\t营业总成本/营业总收入(%)\t营业总成本/营业总收入(%)"
   ]
  },
  {
   "cell_type": "code",
   "execution_count": 14,
   "metadata": {},
   "outputs": [
    {
     "output_type": "stream",
     "name": "stdout",
     "text": "expense_to_total_revenue\n0                    101.92\n"
    }
   ],
   "source": [
    "for code in stock_electrical[:1]:\n",
    "    q = query(indicator.expense_to_total_revenue).filter(valuation.code == code)\n",
    "    df = get_fundamentals(q, '2019-10-15')\n",
    "    print(df)"
   ]
  },
  {
   "cell_type": "markdown",
   "metadata": {},
   "source": [
    "**营业利润/营业总收入(%)**  \n",
    "operation_profit_to_total_revenue\t营业利润/营业总收入(%)\t营业利润/营业总收入(%)"
   ]
  },
  {
   "cell_type": "code",
   "execution_count": 15,
   "metadata": {},
   "outputs": [
    {
     "output_type": "stream",
     "name": "stdout",
     "text": "operation_profit_to_total_revenue\n0                               2.02\n"
    }
   ],
   "source": [
    "for code in stock_electrical[:1]:\n",
    "    q = query(indicator.operation_profit_to_total_revenue).filter(valuation.code == code)\n",
    "    df = get_fundamentals(q, '2019-10-15')\n",
    "    print(df)"
   ]
  },
  {
   "cell_type": "markdown",
   "metadata": {},
   "source": [
    "**净利润/营业总收入(%)**  \n",
    "net_profit_to_total_revenue\t净利润/营业总收入(%)\t净利润/营业总收入(%)"
   ]
  },
  {
   "cell_type": "code",
   "execution_count": 16,
   "metadata": {},
   "outputs": [
    {
     "output_type": "stream",
     "name": "stdout",
     "text": "net_profit_to_total_revenue\n0                          2.1\n"
    }
   ],
   "source": [
    "for code in stock_electrical[:1]:\n",
    "    q = query(indicator.net_profit_to_total_revenue).filter(valuation.code == code)\n",
    "    df = get_fundamentals(q, '2019-10-15')\n",
    "    print(df)"
   ]
  },
  {
   "cell_type": "markdown",
   "metadata": {},
   "source": [
    "**营业费用/营业总收入(%)**  \n",
    "operating_expense_to_total_revenue\t营业费用/营业总收入(%)\t营业费用/营业总收入(%)"
   ]
  },
  {
   "cell_type": "code",
   "execution_count": 17,
   "metadata": {},
   "outputs": [
    {
     "output_type": "stream",
     "name": "stdout",
     "text": "operating_expense_to_total_revenue\n0                                3.54\n"
    }
   ],
   "source": [
    "for code in stock_electrical[:1]:\n",
    "    q = query(indicator.operating_expense_to_total_revenue).filter(valuation.code == code)\n",
    "    df = get_fundamentals(q, '2019-10-15')\n",
    "    print(df)"
   ]
  },
  {
   "cell_type": "markdown",
   "metadata": {},
   "source": [
    "**管理费用/营业总收入(%)**  \n",
    "ga_expense_to_total_revenue\t管理费用/营业总收入(%)\t管理费用/营业总收入(%)"
   ]
  },
  {
   "cell_type": "code",
   "execution_count": 18,
   "metadata": {},
   "outputs": [
    {
     "output_type": "stream",
     "name": "stdout",
     "text": "ga_expense_to_total_revenue\n0                         1.19\n"
    }
   ],
   "source": [
    "for code in stock_electrical[:1]:\n",
    "    q = query(indicator.ga_expense_to_total_revenue).filter(valuation.code == code)\n",
    "    df = get_fundamentals(q, '2019-10-15')\n",
    "    print(df)"
   ]
  },
  {
   "cell_type": "markdown",
   "metadata": {},
   "source": [
    "**财务费用/营业总收入(%)**  \n",
    "financing_expense_to_total_revenue\t财务费用/营业总收入(%)\t财务费用/营业总收入(%)"
   ]
  },
  {
   "cell_type": "code",
   "execution_count": 20,
   "metadata": {},
   "outputs": [
    {
     "output_type": "stream",
     "name": "stdout",
     "text": "financing_expense_to_total_revenue\n0                                0.89\n"
    }
   ],
   "source": [
    "for code in stock_electrical[:1]:\n",
    "    q = query(indicator.financing_expense_to_total_revenue).filter(valuation.code == code)\n",
    "    df = get_fundamentals(q, '2019-10-15')\n",
    "    print(df)"
   ]
  },
  {
   "cell_type": "markdown",
   "metadata": {},
   "source": [
    "**经营活动净收益/利润总额(%)**  \n",
    "operating_profit_to_profit\t经营活动净收益/利润总额(%)\t经营活动净收益/利润总额(%)"
   ]
  },
  {
   "cell_type": "code",
   "execution_count": 21,
   "metadata": {},
   "outputs": [
    {
     "output_type": "stream",
     "name": "stdout",
     "text": "operating_profit_to_profit\n0                      -96.44\n"
    }
   ],
   "source": [
    "for code in stock_electrical[:1]:\n",
    "    q = query(indicator.operating_profit_to_profit).filter(valuation.code == code)\n",
    "    df = get_fundamentals(q, '2019-10-15')\n",
    "    print(df)"
   ]
  },
  {
   "cell_type": "markdown",
   "metadata": {},
   "source": [
    "**价值变动净收益/利润总额(%)**  \n",
    "invesment_profit_to_profit\t价值变动净收益/利润总额(%)\t价值变动净收益/利润总额(%)"
   ]
  },
  {
   "cell_type": "code",
   "execution_count": 22,
   "metadata": {},
   "outputs": [
    {
     "output_type": "stream",
     "name": "stdout",
     "text": "invesment_profit_to_profit\n0                       96.14\n"
    }
   ],
   "source": [
    "for code in stock_electrical[:1]:\n",
    "    q = query(indicator.invesment_profit_to_profit).filter(valuation.code == code)\n",
    "    df = get_fundamentals(q, '2019-10-15')\n",
    "    print(df)"
   ]
  },
  {
   "cell_type": "markdown",
   "metadata": {},
   "source": [
    "**扣除非经常损益后的净利润/归属于母公司所有者的净利润(%)**  \n",
    "adjusted_profit_to_profit\t扣除非经常损益后的净利润/归属于母公司所有者的净利润(%)\t扣除非经常损益后的净利润/归属于母公司所有者的净利润(%)"
   ]
  },
  {
   "cell_type": "code",
   "execution_count": 23,
   "metadata": {},
   "outputs": [
    {
     "output_type": "stream",
     "name": "stdout",
     "text": "adjusted_profit_to_profit\n0                     -76.43\n"
    }
   ],
   "source": [
    "for code in stock_electrical[:1]:\n",
    "    q = query(indicator.adjusted_profit_to_profit).filter(valuation.code == code)\n",
    "    df = get_fundamentals(q, '2019-10-15')\n",
    "    print(df)"
   ]
  },
  {
   "cell_type": "markdown",
   "metadata": {},
   "source": [
    "**销售商品提供劳务收到的现金/营业收入(%)**  \n",
    "goods_sale_and_service_to_revenue\t销售商品提供劳务收到的现金/营业收入(%)\t销售商品提供劳务收到的现金/营业收入(%)"
   ]
  },
  {
   "cell_type": "code",
   "execution_count": 24,
   "metadata": {},
   "outputs": [
    {
     "output_type": "stream",
     "name": "stdout",
     "text": "goods_sale_and_service_to_revenue\n0                              90.69\n"
    }
   ],
   "source": [
    "for code in stock_electrical[:1]:\n",
    "    q = query(indicator.goods_sale_and_service_to_revenue).filter(valuation.code == code)\n",
    "    df = get_fundamentals(q, '2019-10-15')\n",
    "    print(df)"
   ]
  },
  {
   "cell_type": "markdown",
   "metadata": {},
   "source": [
    "**经营活动产生的现金流量净额/营业收入(%)**  \n",
    "ocf_to_revenue\t经营活动产生的现金流量净额/营业收入(%)\t经营活动产生的现金流量净额/营业收入(%)"
   ]
  },
  {
   "cell_type": "code",
   "execution_count": 25,
   "metadata": {},
   "outputs": [
    {
     "output_type": "stream",
     "name": "stdout",
     "text": "ocf_to_revenue\n0           -9.84\n"
    }
   ],
   "source": [
    "for code in stock_electrical[:1]:\n",
    "    q = query(indicator.ocf_to_revenue).filter(valuation.code == code)\n",
    "    df = get_fundamentals(q, '2019-10-15')\n",
    "    print(df)"
   ]
  },
  {
   "cell_type": "markdown",
   "metadata": {},
   "source": [
    "**经营活动产生的现金流量净额/经营活动净收益(%)**  \n",
    "ocf_to_operating_profit\t经营活动产生的现金流量净额/经营活动净收益(%)\t经营活动产生的现金流量净额/经营活动净收益(%)"
   ]
  },
  {
   "cell_type": "code",
   "execution_count": 26,
   "metadata": {},
   "outputs": [
    {
     "output_type": "stream",
     "name": "stdout",
     "text": "ocf_to_operating_profit\n0                   512.39\n"
    }
   ],
   "source": [
    "for code in stock_electrical[:1]:\n",
    "    q = query(indicator.ocf_to_operating_profit).filter(valuation.code == code)\n",
    "    df = get_fundamentals(q, '2019-10-15')\n",
    "    print(df)"
   ]
  },
  {
   "cell_type": "markdown",
   "metadata": {},
   "source": [
    "**营业总收入同比增长率(%)**  \n",
    "inc_total_revenue_year_on_year\t营业总收入同比增长率(%)\t营业总收入同比增长率是企业在一定期间内取得的营业总收入与其上年同期营业总收入的增长的百分比，以反映企业在此期间内营业总收入的增长或下降等情况。"
   ]
  },
  {
   "cell_type": "code",
   "execution_count": 27,
   "metadata": {},
   "outputs": [
    {
     "output_type": "stream",
     "name": "stdout",
     "text": "inc_total_revenue_year_on_year\n0                           54.93\n"
    }
   ],
   "source": [
    "for code in stock_electrical[:1]:\n",
    "    q = query(indicator.inc_total_revenue_year_on_year).filter(valuation.code == code)\n",
    "    df = get_fundamentals(q, '2019-10-15')\n",
    "    print(df)"
   ]
  },
  {
   "cell_type": "markdown",
   "metadata": {},
   "source": [
    "**营业总收入环比增长率(%)**  \n",
    "inc_total_revenue_annual\t营业总收入环比增长率(%)\t营业收入是指企业在从事销售商品，提供劳务和让渡资产使用权等日常经营业务过程中所形成的经济利益的总流入。环比增长率=（本期的某个指标的值-上一期这个指标的值）/上一期这个指标的值"
   ]
  },
  {
   "cell_type": "code",
   "execution_count": 28,
   "metadata": {},
   "outputs": [
    {
     "output_type": "stream",
     "name": "stdout",
     "text": "inc_total_revenue_annual\n0                      41.7\n"
    }
   ],
   "source": [
    "for code in stock_electrical[:1]:\n",
    "    q = query(indicator.inc_total_revenue_annual).filter(valuation.code == code)\n",
    "    df = get_fundamentals(q, '2019-10-15')\n",
    "    print(df)"
   ]
  },
  {
   "cell_type": "markdown",
   "metadata": {},
   "source": [
    "**营业收入同比增长率(%)**  \n",
    "inc_revenue_year_on_year\t营业收入同比增长率(%)\t营业收入,是指公司在从事销售商品、提供劳务和让渡资产使用权等日常经营业务过程中所形成的经济利益的总流入，而营业收入同比增长率，则是检验上市公司去年一年挣钱能力是否提高的标准，营业收入同比增长,说明公司在上一年度挣钱的能力加强了，营业收入同比下降，则说明公司的挣钱能力稍逊于往年。"
   ]
  },
  {
   "cell_type": "code",
   "execution_count": 29,
   "metadata": {},
   "outputs": [
    {
     "output_type": "stream",
     "name": "stdout",
     "text": "inc_revenue_year_on_year\n0                     54.93\n"
    }
   ],
   "source": [
    "for code in stock_electrical[:1]:\n",
    "    q = query(indicator.inc_revenue_year_on_year).filter(valuation.code == code)\n",
    "    df = get_fundamentals(q, '2019-10-15')\n",
    "    print(df)"
   ]
  },
  {
   "cell_type": "markdown",
   "metadata": {},
   "source": [
    "2. 收入"
   ]
  },
  {
   "cell_type": "code",
   "execution_count": 8,
   "metadata": {},
   "outputs": [
    {
     "output_type": "stream",
     "name": "stdout",
     "text": "id         code         day     pubDate    statDate  \\\n0  23497251  000016.XSHE  2019-10-15  2019-08-07  2019-06-30   \n\n   total_operating_revenue  operating_revenue  interest_income  \\\n0             1.526432e+10       1.526432e+10              NaN   \n\n   premiums_earned  commission_income  ...  income_tax_expense   net_profit  \\\n0              NaN                NaN  ...         -16253184.0  320257344.0   \n\n   np_parent_company_owners  minority_profit  basic_eps  diluted_eps  \\\n0               267200304.0       53057052.0      0.111        0.111   \n\n   other_composite_income  total_composite_income  ci_parent_company_owners  \\\n0             -26270772.0             293986592.0               239525632.0   \n\n   ci_minority_owners  \n0          54460944.0  \n\n[1 rows x 43 columns]\n"
    }
   ],
   "source": [
    "from jqdatasdk import finance\n",
    "for code in stock_electrical[:1]:\n",
    "    # finance.run_query(query(finance.STK_FIN_FORCAST).filter(finance.STK_FIN_FORCAST.code==code).limit(10))\n",
    "    # q=query(name,valuation).filter(valuation.code ==code)\n",
    "    # q=query(code,inc_return,roa,net_profit_margin,gross_profit_margin)\n",
    "    q = query(income).filter(valuation.code == code)\n",
    "    df = get_fundamentals(q, '2019-10-15')\n",
    "    print(df)"
   ]
  },
  {
   "cell_type": "markdown",
   "metadata": {},
   "source": [
    "## 电力与公用事业"
   ]
  },
  {
   "cell_type": "code",
   "execution_count": null,
   "metadata": {},
   "outputs": [],
   "source": [
    "from jqdatasdk import finance\n",
    "finance.run_query(query(finance.STK_FIN_FORCAST).filter(finance.STK_FIN_FORCAST.code==code).limit(n))"
   ]
  },
  {
   "cell_type": "code",
   "execution_count": 2,
   "metadata": {},
   "outputs": [
    {
     "output_type": "stream",
     "name": "stdout",
     "text": "['000027.XSHE', '000037.XSHE', '000040.XSHE', '000155.XSHE', '000531.XSHE', '000539.XSHE', '000543.XSHE', '000591.XSHE', '000600.XSHE', '000601.XSHE', '000602.XSHE', '000690.XSHE', '000692.XSHE', '000720.XSHE', '000722.XSHE', '000767.XSHE', '000791.XSHE', '000862.XSHE', '000875.XSHE', '000883.XSHE', '000899.XSHE', '000939.XSHE', '000966.XSHE', '000993.XSHE', '001896.XSHE', '002015.XSHE', '002039.XSHE', '002479.XSHE', '002499.XSHE', '002608.XSHE', '002893.XSHE', '003816.XSHE', '300335.XSHE', '600011.XSHG', '600021.XSHG', '600023.XSHG', '600025.XSHG', '600027.XSHG', '600098.XSHG', '600101.XSHG', '600116.XSHG', '600131.XSHG', '600157.XSHG', '600163.XSHG', '600167.XSHG', '600236.XSHG', '600310.XSHG', '600396.XSHG', '600452.XSHG', '600483.XSHG', '600505.XSHG', '600509.XSHG', '600578.XSHG', '600644.XSHG', '600674.XSHG', '600719.XSHG', '600726.XSHG', '600744.XSHG', '600780.XSHG', '600795.XSHG', '600863.XSHG', '600868.XSHG', '600886.XSHG', '600900.XSHG', '600969.XSHG', '600979.XSHG', '600982.XSHG', '600995.XSHG', '601016.XSHG', '601619.XSHG', '601778.XSHG', '601985.XSHG', '601991.XSHG', '603693.XSHG']\n"
    }
   ],
   "source": [
    "print(get_industry_stocks(\"D44\", date=None))# D44\t电力、热力生产和供应业\t1993-04-16"
   ]
  },
  {
   "cell_type": "code",
   "execution_count": 3,
   "metadata": {},
   "outputs": [
    {
     "output_type": "stream",
     "name": "stdout",
     "text": "['000407.XSHE', '000421.XSHE', '000593.XSHE', '000669.XSHE', '002259.XSHE', '002267.XSHE', '002700.XSHE', '002911.XSHE', '300332.XSHE', '300435.XSHE', '600207.XSHG', '600333.XSHG', '600617.XSHG', '600635.XSHG', '600642.XSHG', '600681.XSHG', '600856.XSHG', '600903.XSHG', '600917.XSHG', '601139.XSHG', '603053.XSHG', '603080.XSHG', '603393.XSHG', '603689.XSHG', '603706.XSHG']\n"
    }
   ],
   "source": [
    "print(get_industry_stocks(\"D45\", date=None))# D45\t燃气生产和供应业\t2000-12-11"
   ]
  },
  {
   "cell_type": "code",
   "execution_count": 4,
   "metadata": {},
   "outputs": [
    {
     "output_type": "stream",
     "name": "stdout",
     "text": "['000544.XSHE', '000598.XSHE', '000605.XSHE', '000685.XSHE', '600008.XSHG', '600168.XSHG', '600187.XSHG', '600283.XSHG', '600461.XSHG', '600874.XSHG', '601158.XSHG', '601199.XSHG', '601368.XSHG', '603817.XSHG']\n"
    }
   ],
   "source": [
    "print(get_industry_stocks(\"D46\", date=None))# D46\t水的生产和供应业\t1994-02-24"
   ]
  },
  {
   "cell_type": "markdown",
   "metadata": {},
   "source": [
    "详见https://www.joinquant.com/help/api/help?name=plateData"
   ]
  },
  {
   "cell_type": "markdown",
   "metadata": {},
   "source": [
    "## 获取相应行业的财务数据"
   ]
  },
  {
   "cell_type": "markdown",
   "metadata": {},
   "source": [
    "电力、热力生产和供应业"
   ]
  },
  {
   "cell_type": "code",
   "execution_count": 6,
   "metadata": {},
   "outputs": [],
   "source": [
    "stock_electr=get_industry_stocks(\"D44\", date=None)"
   ]
  },
  {
   "cell_type": "code",
   "execution_count": 7,
   "metadata": {
    "tags": [
     "outputPrepend",
     "outputPrepend",
     "outputPrepend",
     "outputPrepend",
     "outputPrepend",
     "outputPrepend",
     "outputPrepend",
     "outputPrepend",
     "outputPrepend",
     "outputPrepend",
     "outputPrepend",
     "outputPrepend",
     "outputPrepend",
     "outputPrepend",
     "outputPrepend",
     "outputPrepend",
     "outputPrepend",
     "outputPrepend",
     "outputPrepend",
     "outputPrepend",
     "outputPrepend",
     "outputPrepend",
     "outputPrepend",
     "outputPrepend",
     "outputPrepend",
     "outputPrepend",
     "outputPrepend",
     "outputPrepend",
     "outputPrepend",
     "outputPrepend",
     "outputPrepend",
     "outputPrepend"
    ]
   },
   "outputs": [
    {
     "output_type": "stream",
     "name": "stdout",
     "text": "ense  \\\n0       6.548965e+10    5.330334e+10  7.103483e+07            8.961704e+08   \n1       2.858651e+10    2.236559e+10  1.003400e+08            7.214468e+08   \n2       5.549039e+10    4.350642e+10  1.397319e+08            1.556341e+09   \n3       8.569927e+10    6.782268e+10  1.245549e+08            2.402532e+09   \n4       1.165993e+11    9.618797e+10  1.516539e+08            1.063940e+09   \n5       2.524463e+10    1.939609e+10  5.324050e+07            6.449013e+08   \n\n   financial_expense  np_parent_company_owners  \n0       7.613071e+09              1.369264e+09  \n1       2.315535e+09              1.418105e+09  \n2       4.645326e+09              2.331404e+09  \n3       7.127446e+09              3.084283e+09  \n4       9.415128e+09              1.868693e+09  \n5       2.279719e+09             -7.306165e+08  \n      company_name         code    pub_date  start_date    end_date  \\\n0  内蒙古蒙电华能热电股份有限公司  600863.XSHG  2019-04-18  2018-01-01  2018-12-31   \n1  内蒙古蒙电华能热电股份有限公司  600863.XSHG  2019-04-30  2019-01-01  2019-03-31   \n2  内蒙古蒙电华能热电股份有限公司  600863.XSHG  2019-08-22  2019-01-01  2019-06-30   \n3  内蒙古蒙电华能热电股份有限公司  600863.XSHG  2019-10-29  2019-01-01  2019-09-30   \n4  内蒙古蒙电华能热电股份有限公司  600863.XSHG  2020-04-29  2020-01-01  2020-03-31   \n5  内蒙古蒙电华能热电股份有限公司  600863.XSHG  2020-04-29  2019-01-01  2019-12-31   \n\n   operating_revenue  operating_cost sale_expense  administration_expense  \\\n0       1.374306e+10    1.079798e+10         None             26021328.66   \n1       3.143183e+09    2.573886e+09         None              5578737.29   \n2       6.756204e+09    5.383069e+09         None             10171463.12   \n3       1.047245e+10    8.356476e+09         None             15077808.68   \n4       3.337628e+09    2.891470e+09         None              5208771.41   \n5       1.447716e+10    1.172942e+10         None             26412433.94   \n\n   financial_expense  np_parent_company_owners  \n0       1.029923e+09              7.826590e+08  \n1       1.969202e+08              1.765875e+08  \n2       4.070662e+08              7.395849e+08  \n3       6.409239e+08              1.010616e+09  \n4       2.381526e+08              1.280072e+08  \n5       8.786076e+08              1.104059e+09  \n     company_name         code    pub_date  start_date    end_date  \\\n0  广东梅雁吉祥水电股份有限公司  600868.XSHG  2019-04-09  2018-01-01  2018-12-31   \n1  广东梅雁吉祥水电股份有限公司  600868.XSHG  2019-04-30  2019-01-01  2019-03-31   \n2  广东梅雁吉祥水电股份有限公司  600868.XSHG  2019-08-13  2019-01-01  2019-06-30   \n3  广东梅雁吉祥水电股份有限公司  600868.XSHG  2019-10-29  2019-01-01  2019-09-30   \n4  广东梅雁吉祥水电股份有限公司  600868.XSHG  2020-02-28  2019-01-01  2019-12-31   \n5  广东梅雁吉祥水电股份有限公司  600868.XSHG  2020-04-23  2020-01-01  2020-03-31   \n\n   operating_revenue  operating_cost sale_expense  administration_expense  \\\n0       2.228059e+08    1.494979e+08         None             38281957.18   \n1       4.378285e+07    3.001555e+07         None             10559896.91   \n2       1.523318e+08    9.179562e+07         None             20900467.23   \n3       2.495271e+08    1.435425e+08         None             30078880.57   \n4       2.882617e+08    1.728106e+08         None             34548859.51   \n5       3.586585e+07    2.297491e+07         None              7237104.05   \n\n   financial_expense  np_parent_company_owners  \n0        -2433082.70               21893144.12  \n1         -523187.48                1642410.28  \n2        -1071600.04               27840853.64  \n3        -1997519.06               53363764.84  \n4        -2734746.16               56665666.62  \n5         -592320.81                2526930.05  \n   company_name         code    pub_date  start_date    end_date  \\\n0  国投电力控股股份有限公司  600886.XSHG  2019-03-29  2018-01-01  2018-12-31   \n1  国投电力控股股份有限公司  600886.XSHG  2019-04-30  2019-01-01  2019-03-31   \n2  国投电力控股股份有限公司  600886.XSHG  2019-08-26  2019-01-01  2019-06-30   \n3  国投电力控股股份有限公司  600886.XSHG  2019-10-31  2019-01-01  2019-09-30   \n4  国投电力控股股份有限公司  600886.XSHG  2020-04-18  2019-01-01  2019-12-31   \n5  国投电力控股股份有限公司  600886.XSHG  2020-04-30  2020-01-01  2020-03-31   \n\n   operating_revenue  operating_cost  sale_expense  administration_expense  \\\n0       4.101137e+10    2.444025e+10    6632344.34            1.205078e+09   \n1       1.011514e+10    6.078583e+09     751820.24            3.127667e+08   \n2       1.960948e+10    1.183969e+10    1820246.93            5.366787e+08   \n3       3.224606e+10    1.829861e+10    4483737.53            8.509858e+08   \n4       4.243346e+10    2.585170e+10   31107612.63            1.366994e+09   \n5       7.584832e+09    4.295042e+09    6494202.83            2.655953e+08   \n\n   financial_expense  np_parent_company_owners  \n0       5.071105e+09              4.364098e+09  \n1       1.184217e+09              1.049957e+09  \n2       2.361239e+09              2.276029e+09  \n3       3.580714e+09              4.332673e+09  \n4       4.779201e+09              4.755461e+09  \n5       1.081605e+09              1.477729e+09  \n   company_name         code    pub_date  start_date    end_date  \\\n0  中国长江电力股份有限公司  600900.XSHG  2019-04-30  2018-01-01  2018-12-31   \n1  中国长江电力股份有限公司  600900.XSHG  2019-04-30  2019-01-01  2019-03-31   \n2  中国长江电力股份有限公司  600900.XSHG  2019-08-31  2019-01-01  2019-06-30   \n3  中国长江电力股份有限公司  600900.XSHG  2019-10-31  2019-01-01  2019-09-30   \n4  中国长江电力股份有限公司  600900.XSHG  2020-04-30  2019-01-01  2019-12-31   \n5  中国长江电力股份有限公司  600900.XSHG  2020-04-30  2020-01-01  2020-03-31   \n\n   operating_revenue  operating_cost  sale_expense  administration_expense  \\\n0       5.121397e+10    1.900516e+10   25031690.50            8.006459e+08   \n1       8.607561e+09    4.177456e+09    3857253.91            1.174515e+08   \n2       2.036276e+10    8.756811e+09    8866361.93            2.609325e+08   \n3       3.808413e+10    1.348161e+10   14652089.07            4.371823e+08   \n4       4.987409e+10    1.869729e+10   27792136.69            8.136297e+08   \n5       8.384405e+09    4.027779e+09    3493200.25            1.122950e+08   \n\n   financial_expense  np_parent_company_owners  \n0       5.853946e+09              2.261094e+10  \n1       1.344625e+09              2.916021e+09  \n2       2.657705e+09              8.572420e+09  \n3       3.990003e+09              1.783268e+10  \n4       5.210951e+09              2.154349e+10  \n5       1.192914e+09              2.290520e+09  \n     company_name         code    pub_date  start_date    end_date  \\\n0  湖南郴电国际发展股份有限公司  600969.XSHG  2019-04-19  2018-01-01  2018-12-31   \n1  湖南郴电国际发展股份有限公司  600969.XSHG  2019-04-27  2019-01-01  2019-03-31   \n2  湖南郴电国际发展股份有限公司  600969.XSHG  2019-08-28  2019-01-01  2019-06-30   \n3  湖南郴电国际发展股份有限公司  600969.XSHG  2019-10-29  2019-01-01  2019-09-30   \n4  湖南郴电国际发展股份有限公司  600969.XSHG  2020-04-21  2019-01-01  2019-12-31   \n5  湖南郴电国际发展股份有限公司  600969.XSHG  2020-04-29  2020-01-01  2020-03-31   \n\n   operating_revenue  operating_cost  sale_expense  administration_expense  \\\n0       2.743828e+09    2.317665e+09    7129621.32            1.556092e+08   \n1       7.720846e+08    6.709920e+08    2525752.75            4.054058e+07   \n2       1.512081e+09    1.289585e+09    4076391.63            7.493373e+07   \n3       2.315878e+09    1.972872e+09    6207394.69            1.196636e+08   \n4       3.013518e+09    2.575900e+09    8273855.47            1.618293e+08   \n5       7.081038e+08    6.124016e+08    2526326.28            3.248235e+07   \n\n   financial_expense  np_parent_company_owners  \n0        69498627.66               38442843.92  \n1        21583745.55               18454763.17  \n2        43387574.32               57299792.01  \n3        69182171.36               79455492.23  \n4        94875399.05               55226723.10  \n5        22994608.07                9677930.96  \n   company_name         code    pub_date  start_date    end_date  \\\n0  四川广安爱众股份有限公司  600979.XSHG  2019-04-25  2018-01-01  2018-12-31   \n1  四川广安爱众股份有限公司  600979.XSHG  2019-04-25  2019-01-01  2019-03-31   \n2  四川广安爱众股份有限公司  600979.XSHG  2019-08-28  2019-01-01  2019-06-30   \n3  四川广安爱众股份有限公司  600979.XSHG  2019-10-29  2019-01-01  2019-09-30   \n4  四川广安爱众股份有限公司  600979.XSHG  2020-04-30  2019-01-01  2019-12-31   \n5  四川广安爱众股份有限公司  600979.XSHG  2020-04-30  2020-01-01  2020-03-31   \n\n   operating_revenue  operating_cost  sale_expense  administration_expense  \\\n0       2.178406e+09    1.498202e+09   94111171.33            1.966125e+08   \n1       5.521970e+08    4.161030e+08   12411737.51            4.227033e+07   \n2       1.107004e+09    7.582820e+08   30725481.86            1.067299e+08   \n3       1.728980e+09    1.212342e+09   47917836.85            1.523507e+08   \n4       2.218931e+09    1.481879e+09   80016321.16            2.431086e+08   \n5       5.095519e+08    3.892978e+08   13347359.61            3.981217e+07   \n\n   financial_expense  np_parent_company_owners  \n0       8.342397e+07              2.516980e+08  \n1       2.054465e+07              5.276794e+07  \n2       4.129992e+07              1.344354e+08  \n3       6.805532e+07              2.085038e+08  \n4       1.028190e+08              2.454117e+08  \n5       3.263714e+07              1.720354e+07  \n  company_name         code    pub_date  start_date    end_date  \\\n0   宁波热电股份有限公司  600982.XSHG  2019-02-20  2018-01-01  2018-12-31   \n1   宁波热电股份有限公司  600982.XSHG  2019-04-30  2019-01-01  2019-03-31   \n2   宁波热电股份有限公司  600982.XSHG  2019-08-20  2019-01-01  2019-06-30   \n3   宁波热电股份有限公司  600982.XSHG  2019-10-22  2019-01-01  2019-09-30   \n4   宁波热电股份有限公司  600982.XSHG  2020-03-17  2019-01-01  2019-12-31   \n5   宁波热电股份有限公司  600982.XSHG  2020-04-29  2020-01-01  2020-03-31   \n\n   operating_revenue  operating_cost  sale_expense  administration_expense  \\\n0       1.741001e+09    1.514891e+09  5.610833e+07            7.099356e+07   \n1       6.571716e+08    6.021581e+08  1.519924e+07            1.649229e+07   \n2       1.637088e+09    1.403908e+09  5.138132e+07            7.030377e+07   \n3       2.576520e+09    2.245415e+09  8.005526e+07            1.059984e+08   \n4       3.411653e+09    2.983534e+09  1.025708e+08            1.535694e+08   \n5       6.179523e+08    5.561593e+08  2.281771e+07            3.135110e+07   \n\n   financial_expense  np_parent_company_owners  \n0        19230536.40              1.544568e+08  \n1         3713514.57              2.262057e+07  \n2        27406141.04              7.205598e+07  \n3        33855041.84              1.102615e+08  \n4        42798881.69              1.191546e+08  \n5         9589137.82              2.448839e+07  \n   company_name         code    pub_date  start_date    end_date  \\\n0  云南文山电力股份有限公司  600995.XSHG  2019-03-26  2018-01-01  2018-12-31   \n1  云南文山电力股份有限公司  600995.XSHG  2019-04-26  2019-01-01  2019-03-31   \n2  云南文山电力股份有限公司  600995.XSHG  2019-08-27  2019-01-01  2019-06-30   \n3  云南文山电力股份有限公司  600995.XSHG  2019-10-30  2019-01-01  2019-09-30   \n4  云南文山电力股份有限公司  600995.XSHG  2020-04-21  2019-01-01  2019-12-31   \n5  云南文山电力股份有限公司  600995.XSHG  2020-04-29  2020-01-01  2020-03-31   \n\n   operating_revenue  operating_cost  sale_expense  administration_expense  \\\n0       2.025333e+09    1.420161e+09   82578207.29            1.495163e+08   \n1       5.602487e+08    3.354063e+08    1890421.96            2.648526e+07   \n2       1.149662e+09    7.401543e+08    3298054.45            5.844177e+07   \n3       1.624602e+09    1.098789e+09    4722530.16            8.084702e+07   \n4       2.319224e+09    1.663478e+09   49823276.10            1.462344e+08   \n5       4.522618e+08    3.291491e+08     994984.96            1.989790e+07   \n\n   financial_expense  np_parent_company_owners  \n0        18015237.76              2.961464e+08  \n1         3665557.26              1.738756e+08  \n2         7543407.03              3.019188e+08  \n3        10860678.48              3.821536e+08  \n4        12882952.19              3.321182e+08  \n5         1246649.57              9.398953e+07  \n    company_name         code    pub_date  start_date    end_date  \\\n0  中节能风力发电股份有限公司  601016.XSHG  2019-03-29  2018-01-01  2018-12-31   \n1  中节能风力发电股份有限公司  601016.XSHG  2019-04-26  2019-01-01  2019-03-31   \n2  中节能风力发电股份有限公司  601016.XSHG  2019-08-28  2019-01-01  2019-06-30   \n3  中节能风力发电股份有限公司  601016.XSHG  2019-10-29  2019-01-01  2019-09-30   \n4  中节能风力发电股份有限公司  601016.XSHG  2020-03-31  2019-01-01  2019-12-31   \n5  中节能风力发电股份有限公司  601016.XSHG  2020-04-29  2020-01-01  2020-03-31   \n\n   operating_revenue  operating_cost sale_expense  administration_expense  \\\n0       2.376067e+09    1.108625e+09         None            1.002135e+08   \n1       5.515188e+08    2.804922e+08         None            2.260698e+07   \n2       1.226732e+09    5.728096e+08         None            5.509119e+07   \n3       1.794969e+09    8.676248e+08         None            7.786969e+07   \n4       2.487371e+09    1.183891e+09         None            1.103816e+08   \n5       6.204844e+08    2.946665e+08         None            2.753595e+07   \n\n   financial_expense  np_parent_company_owners  \n0       4.543995e+08              5.151874e+08  \n1       1.106254e+08              1.134780e+08  \n2       2.215212e+08              3.092887e+08  \n3       3.478103e+08              4.244974e+08  \n4       4.731842e+08              5.841071e+08  \n5       1.275611e+08              1.367708e+08  \n    company_name         code    pub_date  start_date    end_date  \\\n0  宁夏嘉泽新能源股份有限公司  601619.XSHG  2019-01-29  2018-01-01  2018-12-31   \n1  宁夏嘉泽新能源股份有限公司  601619.XSHG  2019-04-26  2019-01-01  2019-03-31   \n2  宁夏嘉泽新能源股份有限公司  601619.XSHG  2019-08-30  2019-01-01  2019-06-30   \n3  宁夏嘉泽新能源股份有限公司  601619.XSHG  2019-10-30  2019-01-01  2019-09-30   \n4  宁夏嘉泽新能源股份有限公司  601619.XSHG  2020-03-10  2019-01-01  2019-12-31   \n5  宁夏嘉泽新能源股份有限公司  601619.XSHG  2020-04-25  2020-01-01  2020-03-31   \n\n   operating_revenue  operating_cost  sale_expense  administration_expense  \\\n0       1.069088e+09    4.485957e+08           0.0             40068648.96   \n1       2.414709e+08    1.147184e+08           NaN              5244671.77   \n2       5.616839e+08    2.332038e+08           0.0             12398379.89   \n3       8.390624e+08    3.496598e+08           NaN             18492493.48   \n4       1.115527e+09    4.784514e+08           NaN             34380960.01   \n5       2.462007e+08    1.190502e+08           NaN              4662509.50   \n\n   financial_expense  np_parent_company_owners  \n0       2.943067e+08              2.693125e+08  \n1       7.335649e+07              4.540147e+07  \n2       1.479862e+08              1.546004e+08  \n3       2.207617e+08              2.346841e+08  \n4       2.919444e+08              2.932096e+08  \n5       6.902923e+07              4.823998e+07  \n   company_name         code    pub_date  start_date    end_date  \\\n0  晶科电力科技股份有限公司  601778.XSHG  2020-04-23  2016-01-01  2016-12-31   \n1  晶科电力科技股份有限公司  601778.XSHG  2020-04-23  2017-01-01  2017-12-31   \n2  晶科电力科技股份有限公司  601778.XSHG  2020-04-23  2018-01-01  2018-12-31   \n3  晶科电力科技股份有限公司  601778.XSHG  2020-04-23  2019-01-01  2019-09-30   \n4  晶科电力科技股份有限公司  601778.XSHG  2020-05-18  2019-01-01  2019-12-31   \n5  晶科电力科技股份有限公司  601778.XSHG  2020-05-18  2020-01-01  2020-03-31   \n\n   operating_revenue  operating_cost  sale_expense  administration_expense  \\\n0       1.858063e+09    1.151426e+09    1799718.56            2.103558e+08   \n1       4.053109e+09    2.475849e+09   12797568.14            2.559701e+08   \n2       7.066147e+09    4.746116e+09   29795103.78            2.631229e+08   \n3       3.437480e+09    1.953480e+09   33030791.89            2.076398e+08   \n4       5.339805e+09    3.393743e+09   41853928.43            2.917014e+08   \n5       7.076906e+08    4.561549e+08    9741923.14            6.334188e+07   \n\n   financial_expense  np_parent_company_owners  \n0       4.196747e+08              9.697332e+07  \n1       5.776069e+08              6.715569e+08  \n2       9.464279e+08              9.020585e+08  \n3       7.099548e+08              4.978842e+08  \n4       9.556618e+08              7.287002e+08  \n5       2.305720e+08             -2.430285e+07  \n   company_name         code    pub_date  start_date    end_date  \\\n0  中国核能电力股份有限公司  601985.XSHG  2019-04-26  2019-01-01  2019-03-31   \n1  中国核能电力股份有限公司  601985.XSHG  2019-04-26  2018-01-01  2018-12-31   \n2  中国核能电力股份有限公司  601985.XSHG  2019-08-24  2019-01-01  2019-06-30   \n3  中国核能电力股份有限公司  601985.XSHG  2019-10-30  2019-01-01  2019-09-30   \n4  中国核能电力股份有限公司  601985.XSHG  2020-04-24  2019-01-01  2019-12-31   \n5  中国核能电力股份有限公司  601985.XSHG  2020-04-24  2020-01-01  2020-03-31   \n\n   operating_revenue  operating_cost  sale_expense  administration_expense  \\\n0       1.073912e+10    6.118414e+09    9907082.62            2.608705e+08   \n1       3.930540e+10    2.289328e+10   45895157.03            1.387842e+09   \n2       2.198811e+10    1.240527e+10   24593901.47            5.776813e+08   \n3       3.388573e+10    1.931974e+10   36178083.03            1.297992e+09   \n4       4.606716e+10    2.678937e+10   55582313.01            2.025494e+09   \n5       1.062608e+10    5.757348e+09   16529037.85            3.234309e+08   \n\n   financial_expense  np_parent_company_owners  \n0       1.292565e+09              1.387595e+09  \n1       5.266586e+09              4.736863e+09  \n2       3.527034e+09              2.598129e+09  \n3       5.494732e+09              3.683912e+09  \n4       7.129656e+09              4.612559e+09  \n5       1.896767e+09              1.036297e+09  \n   company_name         code    pub_date  start_date    end_date  \\\n0  大唐国际发电股份有限公司  601991.XSHG  2019-03-29  2018-01-01  2018-12-31   \n1  大唐国际发电股份有限公司  601991.XSHG  2019-04-30  2019-01-01  2019-03-31   \n2  大唐国际发电股份有限公司  601991.XSHG  2019-08-31  2019-01-01  2019-06-30   \n3  大唐国际发电股份有限公司  601991.XSHG  2019-10-31  2019-01-01  2019-09-30   \n4  大唐国际发电股份有限公司  601991.XSHG  2020-03-31  2019-01-01  2019-12-31   \n5  大唐国际发电股份有限公司  601991.XSHG  2020-04-30  2020-01-01  2020-03-31   \n\n   operating_revenue  operating_cost  sale_expense  administration_expense  \\\n0       9.338962e+10    7.875595e+10    57429000.0            3.079938e+09   \n1       2.266618e+10    1.903666e+10     9030000.0            4.638040e+08   \n2       4.504046e+10    3.740270e+10    19174000.0            1.109242e+09   \n3       6.904377e+10    5.759067e+10    30853000.0            1.709869e+09   \n4       9.545306e+10    7.916246e+10    50645000.0            3.493347e+09   \n5       2.213694e+10    1.853405e+10    10664000.0            4.815850e+08   \n\n   financial_expense  np_parent_company_owners  \n0       7.544766e+09              1.234709e+09  \n1       1.858889e+09              4.297800e+08  \n2       3.651561e+09              8.602590e+08  \n3       5.380029e+09              1.472279e+09  \n4       7.118246e+09              1.065806e+09  \n5       1.728538e+09              7.059690e+08  \n     company_name         code    pub_date  start_date    end_date  \\\n0  江苏省新能源开发股份有限公司  603693.XSHG  2019-04-10  2018-01-01  2018-12-31   \n1  江苏省新能源开发股份有限公司  603693.XSHG  2019-04-30  2019-01-01  2019-03-31   \n2  江苏省新能源开发股份有限公司  603693.XSHG  2019-08-13  2019-01-01  2019-06-30   \n3  江苏省新能源开发股份有限公司  603693.XSHG  2019-10-30  2019-01-01  2019-09-30   \n4  江苏省新能源开发股份有限公司  603693.XSHG  2020-04-28  2019-01-01  2019-12-31   \n5  江苏省新能源开发股份有限公司  603693.XSHG  2020-04-28  2020-01-01  2020-03-31   \n\n   operating_revenue  operating_cost sale_expense  administration_expense  \\\n0       1.472814e+09    8.653521e+08         None             82839376.98   \n1       3.538920e+08    2.201484e+08         None             18096646.63   \n2       7.403089e+08    4.417566e+08         None             36105559.62   \n3       1.080383e+09    6.594024e+08         None             55678065.01   \n4       1.484404e+09    9.100830e+08         None             85155385.11   \n5       4.390142e+08    2.178266e+08         None             16450977.50   \n\n   financial_expense  np_parent_company_owners  \n0       1.239539e+08              3.146415e+08  \n1       2.763927e+07              5.659700e+07  \n2       5.466082e+07              1.394988e+08  \n3       8.570730e+07              1.918730e+08  \n4       1.140781e+08              2.539532e+08  \n5       3.016676e+07              1.873213e+08  \n"
    }
   ],
   "source": [
    "from jqdatasdk import finance\n",
    "\n",
    "for stock in stock_electr:\n",
    "    q=query(finance.STK_INCOME_STATEMENT.company_name,\n",
    "            finance.STK_INCOME_STATEMENT.code,\n",
    "            finance.STK_INCOME_STATEMENT.pub_date,\n",
    "            finance.STK_INCOME_STATEMENT.start_date,\n",
    "            finance.STK_INCOME_STATEMENT.end_date,\n",
    "            finance.STK_INCOME_STATEMENT.operating_revenue,\n",
    "            finance.STK_INCOME_STATEMENT.operating_cost,\n",
    "            finance.STK_INCOME_STATEMENT.sale_expense,\n",
    "            finance.STK_INCOME_STATEMENT.administration_expense,\n",
    "            finance.STK_INCOME_STATEMENT.financial_expense,\n",
    "    finance.STK_INCOME_STATEMENT.np_parent_company_owners).filter(finance.STK_INCOME_STATEMENT.code==stock,finance.STK_INCOME_STATEMENT.pub_date>='2019-01-01',finance.STK_INCOME_STATEMENT.report_type==0).limit(20)\n",
    "    df=finance.run_query(q)\n",
    "    print(df)\n",
    "# 合并利润表\n",
    "# company_name\t公司名称\tvarchar(100)\n",
    "# operating_revenue\t营业收入\tdecimal(20,4)\n",
    "# operating_cost\t营业成本\tdecimal(20,4)\n",
    "# sale_expense\t销售费用\tdecimal(20,4)\t\n",
    "# administration_expense\t管理费用\tdecimal(20,4)\t\n",
    "# financial_expense\t财务费用\tdecimal(20,4)\t"
   ]
  },
  {
   "cell_type": "markdown",
   "metadata": {},
   "source": [
    "燃气生产和供应业"
   ]
  },
  {
   "cell_type": "code",
   "execution_count": 14,
   "metadata": {},
   "outputs": [
    {
     "output_type": "stream",
     "name": "stdout",
     "text": "company_name         code    pub_date  start_date    end_date  \\\n0   山东胜利股份有限公司  000407.XSHE  2019-04-18  2018-01-01  2018-12-31   \n1   山东胜利股份有限公司  000407.XSHE  2019-04-27  2019-01-01  2019-03-31   \n2   山东胜利股份有限公司  000407.XSHE  2019-08-16  2019-01-01  2019-06-30   \n3   山东胜利股份有限公司  000407.XSHE  2019-10-29  2019-01-01  2019-09-30   \n4   山东胜利股份有限公司  000407.XSHE  2020-03-28  2019-01-01  2019-12-31   \n5   山东胜利股份有限公司  000407.XSHE  2020-04-28  2020-01-01  2020-03-31   \n\n   operating_revenue  operating_cost  sale_expense  administration_expense  \\\n0       4.675800e+09    3.936743e+09  2.474138e+08            1.323777e+08   \n1       1.579372e+09    1.398126e+09  5.740762e+07            2.722116e+07   \n2       2.968819e+09    2.591584e+09  1.211487e+08            5.907774e+07   \n3       3.987124e+09    3.407640e+09  2.037473e+08            9.182245e+07   \n4       5.348283e+09    4.542512e+09  2.991220e+08            1.485288e+08   \n5       8.627104e+08    7.079097e+08  5.713556e+07            2.774734e+07   \n\n   financial_expense  np_parent_company_owners  \n0        99333789.37              1.025307e+08  \n1        18777511.52              3.433238e+07  \n2        39843263.45              8.521847e+07  \n3        63248771.97              1.157458e+08  \n4        78185696.96              1.334273e+08  \n5        28645783.44              1.919867e+07  \n"
    }
   ],
   "source": [
    "stock_gas=get_industry_stocks(\"D45\", date=None)\n",
    "\n",
    "from jqdatasdk import finance\n",
    "\n",
    "for stock in stock_gas[:1]:\n",
    "    q=query(finance.STK_INCOME_STATEMENT.company_name,\n",
    "            finance.STK_INCOME_STATEMENT.code,\n",
    "            finance.STK_INCOME_STATEMENT.pub_date,\n",
    "            finance.STK_INCOME_STATEMENT.start_date,\n",
    "            finance.STK_INCOME_STATEMENT.end_date,\n",
    "            finance.STK_INCOME_STATEMENT.operating_revenue,\n",
    "            finance.STK_INCOME_STATEMENT.operating_cost,\n",
    "            finance.STK_INCOME_STATEMENT.sale_expense,\n",
    "            finance.STK_INCOME_STATEMENT.administration_expense,\n",
    "            finance.STK_INCOME_STATEMENT.financial_expense,\n",
    "    finance.STK_INCOME_STATEMENT.np_parent_company_owners).filter(finance.STK_INCOME_STATEMENT.code==stock,finance.STK_INCOME_STATEMENT.pub_date>='2019-01-01',finance.STK_INCOME_STATEMENT.report_type==0).limit(20)\n",
    "    df=finance.run_query(q)\n",
    "    print(df)\n",
    "# 合并利润表\n",
    "# company_name\t公司名称\tvarchar(100)\n",
    "# operating_revenue\t营业收入\tdecimal(20,4)\n",
    "# operating_cost\t营业成本\tdecimal(20,4)\n",
    "# sale_expense\t销售费用\tdecimal(20,4)\t\n",
    "# administration_expense\t管理费用\tdecimal(20,4)\t\n",
    "# financial_expense\t财务费用\tdecimal(20,4)\t"
   ]
  },
  {
   "cell_type": "markdown",
   "metadata": {},
   "source": [
    "水的生产和供应业"
   ]
  },
  {
   "cell_type": "code",
   "execution_count": 11,
   "metadata": {},
   "outputs": [],
   "source": [
    "stock_water=get_industry_stocks(\"D46\", date=None)"
   ]
  },
  {
   "cell_type": "code",
   "execution_count": 12,
   "metadata": {},
   "outputs": [
    {
     "output_type": "stream",
     "name": "stdout",
     "text": "company_name         code    pub_date  start_date    end_date  \\\n0   中原环保股份有限公司  000544.XSHE  2019-04-13  2018-01-01  2018-12-31   \n1   中原环保股份有限公司  000544.XSHE  2019-04-30  2019-01-01  2019-03-31   \n2   中原环保股份有限公司  000544.XSHE  2019-08-24  2019-01-01  2019-06-30   \n3   中原环保股份有限公司  000544.XSHE  2019-10-26  2019-01-01  2019-09-30   \n4   中原环保股份有限公司  000544.XSHE  2020-03-28  2019-01-01  2019-12-31   \n5   中原环保股份有限公司  000544.XSHE  2020-04-30  2020-01-01  2020-03-31   \n\n   operating_revenue  operating_cost  sale_expense  administration_expense  \\\n0       1.027015e+09    5.812013e+08    1438776.75             84454955.85   \n1       3.125907e+08    1.900609e+08     404974.34             14706914.32   \n2       7.477082e+08    4.547963e+08    1138580.31             34363563.75   \n3       1.109755e+09    6.734952e+08    2293868.72             53385715.86   \n4       1.739718e+09    1.013978e+09    3708710.76             99973976.60   \n5       4.151122e+08    2.204478e+08     256590.55             19253164.11   \n\n   financial_expense  np_parent_company_owners  \n0        50202132.51              4.143225e+08  \n1        16981479.23              6.175889e+07  \n2        32951598.18              1.714403e+08  \n3        58589986.63              2.567210e+08  \n4        71617113.61              4.645763e+08  \n5        20693880.50              1.233693e+08  \n    company_name         code    pub_date  start_date    end_date  \\\n0  成都市兴蓉环境股份有限公司  000598.XSHE  2019-03-08  2018-01-01  2018-12-31   \n1  成都市兴蓉环境股份有限公司  000598.XSHE  2019-04-26  2019-01-01  2019-03-31   \n2  成都市兴蓉环境股份有限公司  000598.XSHE  2019-08-16  2019-01-01  2019-06-30   \n3  成都市兴蓉环境股份有限公司  000598.XSHE  2019-10-26  2019-01-01  2019-09-30   \n4  成都市兴蓉环境股份有限公司  000598.XSHE  2020-04-02  2019-01-01  2019-12-31   \n5  成都市兴蓉环境股份有限公司  000598.XSHE  2020-04-29  2020-01-01  2020-03-31   \n\n   operating_revenue  operating_cost  sale_expense  administration_expense  \\\n0       4.159650e+09    2.462746e+09  1.098275e+08            2.854010e+08   \n1       9.589790e+08    5.346233e+08  2.288239e+07            5.612360e+07   \n2       2.113642e+09    1.177110e+09  4.533263e+07            1.122466e+08   \n3       3.283889e+09    1.835471e+09  7.229448e+07            1.781760e+08   \n4       4.838025e+09    2.954636e+09  1.191428e+08            3.198495e+08   \n5       9.837192e+08    5.459036e+08  1.999036e+07            5.754865e+07   \n\n   financial_expense  np_parent_company_owners  \n0       8.556417e+07              9.880299e+08  \n1       2.107349e+07              2.609236e+08  \n2       4.893220e+07              5.950679e+08  \n3       7.296946e+07              9.333543e+08  \n4       1.007507e+08              1.081299e+09  \n5       3.929750e+07              2.612781e+08  \n  company_name         code    pub_date  start_date    end_date  \\\n0   渤海水业股份有限公司  000605.XSHE  2019-04-30  2018-01-01  2018-12-31   \n1   渤海水业股份有限公司  000605.XSHE  2019-04-30  2019-01-01  2019-03-31   \n2   渤海水业股份有限公司  000605.XSHE  2019-08-31  2019-01-01  2019-06-30   \n3   渤海水业股份有限公司  000605.XSHE  2019-10-31  2019-01-01  2019-09-30   \n4   渤海水业股份有限公司  000605.XSHE  2020-04-30  2020-01-01  2020-03-31   \n5   渤海水业股份有限公司  000605.XSHE  2020-04-30  2019-01-01  2019-12-31   \n\n   operating_revenue  operating_cost  sale_expense  administration_expense  \\\n0       1.566741e+09    1.088027e+09   23446186.61            1.463218e+08   \n1       3.889499e+08    2.768401e+08    4236172.60            2.738339e+07   \n2       7.490142e+08    5.247884e+08    8592432.69            5.273839e+07   \n3       1.155342e+09    8.070363e+08   14107028.44            8.678232e+07   \n4       4.453042e+08    3.121447e+08    3452740.97            3.564259e+07   \n5       1.898552e+09    1.329760e+09   20631474.45            1.842683e+08   \n\n   financial_expense  np_parent_company_owners  \n0       1.218947e+08               59880382.01  \n1       4.349342e+07                6638205.79  \n2       8.199546e+07               12250667.56  \n3       1.158003e+08               31939046.90  \n4       4.907724e+07                8413233.44  \n5       1.759754e+08               36952220.56  \n     company_name         code    pub_date  start_date    end_date  \\\n0  中山公用事业集团股份有限公司  000685.XSHE  2019-04-24  2018-01-01  2018-12-31   \n1  中山公用事业集团股份有限公司  000685.XSHE  2019-04-30  2019-01-01  2019-03-31   \n2  中山公用事业集团股份有限公司  000685.XSHE  2019-08-31  2019-01-01  2019-06-30   \n3  中山公用事业集团股份有限公司  000685.XSHE  2019-10-31  2019-01-01  2019-09-30   \n4  中山公用事业集团股份有限公司  000685.XSHE  2020-04-25  2019-01-01  2019-12-31   \n5  中山公用事业集团股份有限公司  000685.XSHE  2020-04-30  2020-01-01  2020-03-31   \n\n   operating_revenue  operating_cost  sale_expense  administration_expense  \\\n0       2.021725e+09    1.415894e+09   63611318.44            1.881607e+08   \n1       3.934943e+08    2.968944e+08   13983119.29            3.863247e+07   \n2       8.601482e+08    6.192424e+08   27339879.20            7.933417e+07   \n3       1.375285e+09    9.646832e+08   40544631.35            1.199885e+08   \n4       2.219578e+09    1.564337e+09   57944089.72            1.798817e+08   \n5       3.852495e+08    3.143856e+08   15353018.05            2.657951e+07   \n\n   financial_expense  np_parent_company_owners  \n0       1.056956e+08              6.864633e+08  \n1       3.702866e+07              3.158403e+08  \n2       7.415045e+07              4.986948e+08  \n3       1.118003e+08              7.381151e+08  \n4       1.377725e+08              1.046377e+09  \n5       3.257597e+07              2.222745e+08  \n  company_name         code    pub_date  start_date    end_date  \\\n0   北京首创股份有限公司  600008.XSHG  2019-03-30  2018-01-01  2018-12-31   \n1   北京首创股份有限公司  600008.XSHG  2019-04-30  2019-01-01  2019-03-31   \n2   北京首创股份有限公司  600008.XSHG  2019-08-30  2019-01-01  2019-06-30   \n3   北京首创股份有限公司  600008.XSHG  2019-10-30  2019-01-01  2019-09-30   \n4   北京首创股份有限公司  600008.XSHG  2020-04-02  2019-01-01  2019-12-31   \n5   北京首创股份有限公司  600008.XSHG  2020-04-30  2020-01-01  2020-03-31   \n\n   operating_revenue  operating_cost  sale_expense  administration_expense  \\\n0       1.245536e+10    8.619455e+09   17398452.91            1.446518e+09   \n1       2.448004e+09    1.600497e+09    4694662.41            3.775806e+08   \n2       5.748272e+09    3.868877e+09    8772983.37            7.457908e+08   \n3       9.153757e+09    6.247513e+09   14254618.77            1.139081e+09   \n4       1.490727e+10    1.049175e+10   26275088.71            1.562662e+09   \n5       2.926479e+09    2.001778e+09    5740666.50            3.812548e+08   \n\n   financial_expense  np_parent_company_owners  \n0       1.224987e+09              7.194064e+08  \n1       2.943436e+08              1.158147e+08  \n2       5.839601e+08              3.208492e+08  \n3       8.951240e+08              5.657038e+08  \n4       1.255830e+09              9.583891e+08  \n5       3.159662e+08              1.178501e+08  \n     company_name         code    pub_date  start_date    end_date  \\\n0  武汉三镇实业控股股份有限公司  600168.XSHG  2019-04-20  2018-01-01  2018-12-31   \n1  武汉三镇实业控股股份有限公司  600168.XSHG  2019-04-30  2019-01-01  2019-03-31   \n2  武汉三镇实业控股股份有限公司  600168.XSHG  2019-08-31  2019-01-01  2019-06-30   \n3  武汉三镇实业控股股份有限公司  600168.XSHG  2019-10-31  2019-01-01  2019-09-30   \n4  武汉三镇实业控股股份有限公司  600168.XSHG  2020-04-30  2019-01-01  2019-12-31   \n5  武汉三镇实业控股股份有限公司  600168.XSHG  2020-04-30  2020-01-01  2020-03-31   \n\n   operating_revenue  operating_cost  sale_expense  administration_expense  \\\n0       1.451353e+09    1.031496e+09    8049560.03             56756944.92   \n1       3.534097e+08    2.168329e+08    1702071.01             13606450.40   \n2       7.387787e+08    4.652244e+08    3455764.57             27556052.53   \n3       1.154327e+09    7.450654e+08    5285837.74             42729806.92   \n4       1.529491e+09    1.071850e+09    7099371.30             64682163.30   \n5       3.353351e+08    2.231015e+08    1496159.77              8469369.79   \n\n   financial_expense  np_parent_company_owners  \n0       1.864621e+08              2.799264e+08  \n1       2.878958e+07              8.505009e+07  \n2       9.288738e+07              1.987713e+08  \n3       1.792542e+08              2.527961e+08  \n4       2.200233e+08              2.497444e+08  \n5       6.486757e+07              5.113142e+07  \n    company_name         code    pub_date  start_date    end_date  \\\n0  黑龙江国中水务股份有限公司  600187.XSHG  2019-04-12  2018-01-01  2018-12-31   \n1  黑龙江国中水务股份有限公司  600187.XSHG  2019-04-26  2019-01-01  2019-03-31   \n2  黑龙江国中水务股份有限公司  600187.XSHG  2019-08-24  2019-01-01  2019-06-30   \n3  黑龙江国中水务股份有限公司  600187.XSHG  2019-10-26  2019-01-01  2019-09-30   \n4  黑龙江国中水务股份有限公司  600187.XSHG  2020-04-18  2019-01-01  2019-12-31   \n5  黑龙江国中水务股份有限公司  600187.XSHG  2020-04-28  2020-01-01  2020-03-31   \n\n   operating_revenue  operating_cost  sale_expense  administration_expense  \\\n0       4.679771e+08    3.202963e+08   14095405.59            1.146003e+08   \n1       8.463779e+07    5.948934e+07    3392594.76            2.840101e+07   \n2       1.794907e+08    1.181196e+08    7542129.54            5.529451e+07   \n3       2.836658e+08    1.893412e+08   11522706.22            7.997431e+07   \n4       5.378362e+08    3.634846e+08   16318272.84            1.037379e+08   \n5       6.327413e+07    5.134291e+07    3100762.61            2.322579e+07   \n\n   financial_expense  np_parent_company_owners  \n0        21040822.29               10398554.36  \n1         3560526.10               -1344925.38  \n2         6569745.24               13375865.88  \n3        10550637.44               26366048.95  \n4        14384101.86               19741340.47  \n5          483476.49               16755727.25  \n   company_name         code    pub_date  start_date    end_date  \\\n0  钱江水利开发股份有限公司  600283.XSHG  2019-04-04  2018-01-01  2018-12-31   \n1  钱江水利开发股份有限公司  600283.XSHG  2019-04-27  2019-01-01  2019-03-31   \n2  钱江水利开发股份有限公司  600283.XSHG  2019-08-30  2019-01-01  2019-06-30   \n3  钱江水利开发股份有限公司  600283.XSHG  2019-10-30  2019-01-01  2019-09-30   \n4  钱江水利开发股份有限公司  600283.XSHG  2020-04-30  2019-01-01  2019-12-31   \n5  钱江水利开发股份有限公司  600283.XSHG  2020-04-30  2020-01-01  2020-03-31   \n\n   operating_revenue  operating_cost  sale_expense  administration_expense  \\\n0       1.067746e+09    6.614016e+08  9.609320e+07            1.454651e+08   \n1       2.587682e+08    1.655188e+08  2.541697e+07            3.310833e+07   \n2       5.492759e+08    3.405165e+08  5.195038e+07            6.994931e+07   \n3       8.568214e+08    5.269607e+08  8.508133e+07            1.071101e+08   \n4       1.174868e+09    7.363099e+08  1.127187e+08            1.534908e+08   \n5       2.752533e+08    1.718307e+08  2.879584e+07            3.138607e+07   \n\n   financial_expense  np_parent_company_owners  \n0        70740306.89               57978487.43  \n1        13184423.88               14693647.73  \n2        25240291.85              -15537020.05  \n3        40549163.51               18416247.43  \n4        50888073.52               43165993.67  \n5        12520070.90               12263310.68  \n   company_name         code    pub_date  start_date    end_date  \\\n0  江西洪城水业股份有限公司  600461.XSHG  2019-04-19  2018-01-01  2018-12-31   \n1  江西洪城水业股份有限公司  600461.XSHG  2019-04-30  2019-01-01  2019-03-31   \n2  江西洪城水业股份有限公司  600461.XSHG  2019-08-30  2019-01-01  2019-06-30   \n3  江西洪城水业股份有限公司  600461.XSHG  2019-10-25  2019-01-01  2019-09-30   \n4  江西洪城水业股份有限公司  600461.XSHG  2020-04-25  2019-01-01  2019-12-31   \n5  江西洪城水业股份有限公司  600461.XSHG  2020-04-29  2020-01-01  2020-03-31   \n\n   operating_revenue  operating_cost  sale_expense  administration_expense  \\\n0       4.377751e+09    3.294146e+09  1.719471e+08            2.127595e+08   \n1       1.334134e+09    1.032688e+09  3.366422e+07            4.521366e+07   \n2       2.595317e+09    1.944326e+09  8.255618e+07            9.758583e+07   \n3       3.673263e+09    2.710357e+09  1.239054e+08            1.550760e+08   \n4       5.380990e+09    4.030669e+09  1.899595e+08            2.351214e+08   \n5       1.334917e+09    1.028520e+09  3.453640e+07            4.749112e+07   \n\n   financial_expense  np_parent_company_owners  \n0       1.337333e+08              3.360066e+08  \n1       3.534148e+07              1.311799e+08  \n2       7.146426e+07              2.433351e+08  \n3       1.098519e+08              3.506428e+08  \n4       1.398415e+08              4.887360e+08  \n5       3.096160e+07              1.585847e+08  \n     company_name         code    pub_date  start_date    end_date  \\\n0  天津创业环保集团股份有限公司  600874.XSHG  2019-03-28  2018-01-01  2018-12-31   \n1  天津创业环保集团股份有限公司  600874.XSHG  2019-04-24  2019-01-01  2019-03-31   \n2  天津创业环保集团股份有限公司  600874.XSHG  2019-08-27  2019-01-01  2019-06-30   \n3  天津创业环保集团股份有限公司  600874.XSHG  2019-10-26  2019-01-01  2019-09-30   \n4  天津创业环保集团股份有限公司  600874.XSHG  2020-03-27  2019-01-01  2019-12-31   \n5  天津创业环保集团股份有限公司  600874.XSHG  2020-04-28  2020-01-01  2020-03-31   \n\n   operating_revenue  operating_cost  sale_expense  administration_expense  \\\n0       2.447515e+09    1.558556e+09     5417000.0             129096000.0   \n1       5.926340e+08    3.959510e+08     1012000.0              33952000.0   \n2       1.224716e+09    8.143600e+08     1987000.0              68032000.0   \n3       1.940690e+09    1.305997e+09     3464000.0             104454000.0   \n4       2.851453e+09    1.939804e+09     7075000.0             168661000.0   \n5       7.162760e+08    4.789780e+08     3816000.0              32949000.0   \n\n   financial_expense  np_parent_company_owners  \n0        161986000.0               501168000.0  \n1         40870000.0                93386000.0  \n2         93123000.0               218503000.0  \n3        135969000.0               387668000.0  \n4        199396000.0               507107000.0  \n5         61898000.0               129807000.0  \n   company_name         code    pub_date  start_date    end_date  \\\n0  重庆水务集团股份有限公司  601158.XSHG  2019-03-23  2018-01-01  2018-12-31   \n1  重庆水务集团股份有限公司  601158.XSHG  2019-04-27  2019-01-01  2019-03-31   \n2  重庆水务集团股份有限公司  601158.XSHG  2019-08-10  2019-01-01  2019-06-30   \n3  重庆水务集团股份有限公司  601158.XSHG  2019-10-30  2019-01-01  2019-09-30   \n4  重庆水务集团股份有限公司  601158.XSHG  2020-04-02  2019-01-01  2019-12-31   \n5  重庆水务集团股份有限公司  601158.XSHG  2020-04-29  2020-01-01  2020-03-31   \n\n   operating_revenue  operating_cost  sale_expense  administration_expense  \\\n0       5.171041e+09    3.011198e+09  1.368073e+08            7.394667e+08   \n1       1.105311e+09    6.766136e+08  2.171742e+07            1.376419e+08   \n2       2.557939e+09    1.450547e+09  4.691434e+07            3.117961e+08   \n3       4.092907e+09    2.277082e+09  7.813330e+07            5.125623e+08   \n4       5.638549e+09    3.269286e+09  1.537251e+08            8.454690e+08   \n5       1.135622e+09    7.336831e+08  1.985541e+07            1.391952e+08   \n\n   financial_expense  np_parent_company_owners  \n0        30189480.43              1.421522e+09  \n1       -15290118.64              3.385842e+08  \n2         6166228.06              8.430094e+08  \n3        22104130.59              1.441982e+09  \n4        12250273.82              1.665105e+09  \n5        17233798.93              2.685436e+08  \n   company_name         code    pub_date  start_date    end_date  \\\n0  江苏江南水务股份有限公司  601199.XSHG  2019-04-25  2018-01-01  2018-12-31   \n1  江苏江南水务股份有限公司  601199.XSHG  2019-04-25  2019-01-01  2019-03-31   \n2  江苏江南水务股份有限公司  601199.XSHG  2019-08-21  2019-01-01  2019-06-30   \n3  江苏江南水务股份有限公司  601199.XSHG  2019-10-25  2019-01-01  2019-09-30   \n4  江苏江南水务股份有限公司  601199.XSHG  2020-04-24  2019-01-01  2019-12-31   \n5  江苏江南水务股份有限公司  601199.XSHG  2020-04-24  2020-01-01  2020-03-31   \n\n   operating_revenue  operating_cost  sale_expense  administration_expense  \\\n0       8.985461e+08    4.548956e+08   79312538.40            1.142988e+08   \n1       1.730314e+08    8.619159e+07   18121061.48            2.627158e+07   \n2       4.566813e+08    2.151198e+08   36876447.57            5.406575e+07   \n3       7.077010e+08    3.262544e+08   55820640.20            8.249917e+07   \n4       9.917506e+08    4.541658e+08   76333154.63            1.147253e+08   \n5       1.772069e+08    8.982978e+07   16195674.49            2.540342e+07   \n\n   financial_expense  np_parent_company_owners  \n0        -7907591.06              1.948191e+08  \n1         -774108.49              3.648703e+07  \n2        -2179396.19              1.139856e+08  \n3        -2148384.77              1.796706e+08  \n4        -2914720.28              2.348531e+08  \n5        -1991456.23              3.580681e+07  \n   company_name         code    pub_date  start_date    end_date  \\\n0  广西绿城水务股份有限公司  601368.XSHG  2019-04-18  2018-01-01  2018-12-31   \n1  广西绿城水务股份有限公司  601368.XSHG  2019-04-26  2019-01-01  2019-03-31   \n2  广西绿城水务股份有限公司  601368.XSHG  2019-08-23  2019-01-01  2019-06-30   \n3  广西绿城水务股份有限公司  601368.XSHG  2019-10-26  2019-01-01  2019-09-30   \n4  广西绿城水务股份有限公司  601368.XSHG  2020-04-22  2019-01-01  2019-12-31   \n5  广西绿城水务股份有限公司  601368.XSHG  2020-04-28  2020-01-01  2020-03-31   \n\n   operating_revenue  operating_cost  sale_expense  administration_expense  \\\n0       1.336529e+09    7.557712e+08   34257161.32             86765408.81   \n1       3.251552e+08    1.858280e+08    6097657.50             14840974.80   \n2       7.005682e+08    3.929179e+08   12145795.50             31845390.43   \n3       1.109796e+09    6.606099e+08   24794372.99             65773658.76   \n4       1.522973e+09    9.162008e+08   40775019.10             99348296.82   \n5       3.092873e+08    1.706174e+08    7973610.50             15082894.18   \n\n   financial_expense  np_parent_company_owners  \n0       1.528812e+08              2.792674e+08  \n1       2.639650e+07              8.935853e+07  \n2       7.843335e+07              1.655012e+08  \n3       1.401173e+08              2.029809e+08  \n4       1.711258e+08              2.625555e+08  \n5       6.097135e+07              4.805199e+07  \n     company_name         code    pub_date  start_date    end_date  \\\n0  福建海峡环保集团股份有限公司  603817.XSHG  2019-04-25  2018-01-01  2018-12-31   \n1  福建海峡环保集团股份有限公司  603817.XSHG  2019-04-25  2019-01-01  2019-03-31   \n2  福建海峡环保集团股份有限公司  603817.XSHG  2019-08-23  2019-01-01  2019-06-30   \n3  福建海峡环保集团股份有限公司  603817.XSHG  2019-10-31  2019-01-01  2019-09-30   \n4  福建海峡环保集团股份有限公司  603817.XSHG  2020-04-10  2019-01-01  2019-12-31   \n5  福建海峡环保集团股份有限公司  603817.XSHG  2020-04-30  2020-01-01  2020-03-31   \n\n   operating_revenue  operating_cost  sale_expense  administration_expense  \\\n0       4.824989e+08    2.723288e+08           NaN             56371254.07   \n1       1.393015e+08    7.361039e+07           NaN             14560543.71   \n2       3.030440e+08    1.637865e+08           NaN             29331099.94   \n3       4.648552e+08    2.494873e+08           NaN             45496250.04   \n4       6.405507e+08    3.690055e+08     261288.38             63306723.83   \n5       1.458944e+08    8.175156e+07     311442.53             13378693.78   \n\n   financial_expense  np_parent_company_owners  \n0        35993861.45              1.166359e+08  \n1        11267232.14              3.071300e+07  \n2        29210709.18              6.314544e+07  \n3        44311623.02              9.372733e+07  \n4        53925311.27              1.301403e+08  \n5        15296190.07              3.399950e+07  \n"
    }
   ],
   "source": [
    "from jqdatasdk import finance\n",
    "\n",
    "for stock in stock_water:\n",
    "    q=query(finance.STK_INCOME_STATEMENT.company_name,\n",
    "            finance.STK_INCOME_STATEMENT.code,\n",
    "            finance.STK_INCOME_STATEMENT.pub_date,\n",
    "            finance.STK_INCOME_STATEMENT.start_date,\n",
    "            finance.STK_INCOME_STATEMENT.end_date,\n",
    "            finance.STK_INCOME_STATEMENT.operating_revenue,\n",
    "            finance.STK_INCOME_STATEMENT.operating_cost,\n",
    "            finance.STK_INCOME_STATEMENT.sale_expense,\n",
    "            finance.STK_INCOME_STATEMENT.administration_expense,\n",
    "            finance.STK_INCOME_STATEMENT.financial_expense,\n",
    "    finance.STK_INCOME_STATEMENT.np_parent_company_owners).filter(finance.STK_INCOME_STATEMENT.code==stock,finance.STK_INCOME_STATEMENT.pub_date>='2019-01-01',finance.STK_INCOME_STATEMENT.report_type==0).limit(20)\n",
    "    df=finance.run_query(q)\n",
    "    print(df)\n",
    "# 合并利润表\n",
    "# company_name\t公司名称\tvarchar(100)\n",
    "# operating_revenue\t营业收入\tdecimal(20,4)\n",
    "# operating_cost\t营业成本\tdecimal(20,4)\n",
    "# sale_expense\t销售费用\tdecimal(20,4)\t\n",
    "# administration_expense\t管理费用\tdecimal(20,4)\t\n",
    "# financial_expense\t财务费用\tdecimal(20,4)\t"
   ]
  },
  {
   "cell_type": "markdown",
   "metadata": {},
   "source": [
    "写入文件"
   ]
  },
  {
   "cell_type": "code",
   "execution_count": 13,
   "metadata": {},
   "outputs": [],
   "source": [
    "for stock in stock_water:\n",
    "    q=query(finance.STK_INCOME_STATEMENT.company_name,\n",
    "            finance.STK_INCOME_STATEMENT.code,\n",
    "            finance.STK_INCOME_STATEMENT.pub_date,\n",
    "            finance.STK_INCOME_STATEMENT.start_date,\n",
    "            finance.STK_INCOME_STATEMENT.end_date,\n",
    "            finance.STK_INCOME_STATEMENT.operating_revenue,\n",
    "            finance.STK_INCOME_STATEMENT.operating_cost,\n",
    "            finance.STK_INCOME_STATEMENT.sale_expense,\n",
    "            finance.STK_INCOME_STATEMENT.administration_expense,\n",
    "            finance.STK_INCOME_STATEMENT.financial_expense,\n",
    "    finance.STK_INCOME_STATEMENT.np_parent_company_owners).filter(finance.STK_INCOME_STATEMENT.code==stock,finance.STK_INCOME_STATEMENT.pub_date>='2019-01-01'  ,finance.STK_INCOME_STATEMENT.report_type==0).limit(20)\n",
    "    df=finance.run_query(q)\n",
    "    outputpath='C:/TEMP/'+stock+'water.csv'\n",
    "    df.to_csv(outputpath,sep=',',index=False,header=False)"
   ]
  }
 ],
 "metadata": {
  "language_info": {
   "codemirror_mode": {
    "name": "ipython",
    "version": 3
   },
   "file_extension": ".py",
   "mimetype": "text/x-python",
   "name": "python",
   "nbconvert_exporter": "python",
   "pygments_lexer": "ipython3",
   "version": "3.7.4-final"
  },
  "orig_nbformat": 2,
  "kernelspec": {
   "name": "python37432bit6a4013f1a8ec4766a4af9787f2730623",
   "display_name": "Python 3.7.4 32-bit"
  }
 },
 "nbformat": 4,
 "nbformat_minor": 2
}