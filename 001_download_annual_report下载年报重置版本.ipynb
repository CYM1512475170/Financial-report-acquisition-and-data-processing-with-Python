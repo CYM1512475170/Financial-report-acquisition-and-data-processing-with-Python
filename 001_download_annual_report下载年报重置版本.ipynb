{
 "cells": [
  {
   "cell_type": "code",
   "execution_count": 5,
   "metadata": {},
   "outputs": [],
   "source": [
    "import urllib.request\n",
    "import re\n",
    "import os\n",
    "import time\n",
    "import random"
   ]
  },
  {
   "cell_type": "code",
   "execution_count": 7,
   "metadata": {},
   "outputs": [],
   "source": [
    "# file_folder= \"C:/TEMP/Excel/\";file_name=\"stock-list-20200512-electricity1.txt\"\n",
    "# # file_folder= \"C://TEMP/Excel/\";file_name=\"stock-list-20200512-electricity.txt\"\n",
    "# f=open(file_folder+file_name,'rb')\n",
    "f=['万兴科技SZ300624','恒通科技sz300374']"
   ]
  },
  {
   "cell_type": "code",
   "execution_count": 13,
   "metadata": {
    "tags": []
   },
   "outputs": [
    {
     "output_type": "stream",
     "name": "stdout",
     "text": "\n<class 'str'> 万兴科技SZ300624\n<class 'str'>恒通科技sz300374\n\n"
    }
   ],
   "source": [
    "# stock = []\n",
    "# for line in f.readlines():\n",
    "#     line=line.decode('utf-8')\n",
    "#     print(line,end = '')\n",
    "#     line = line.replace('\\n','')\n",
    "#     stock.append(line)\n",
    "# print(stock)\n",
    "# f.close()\n",
    "stock=f\n",
    "print(stock)"
   ]
  },
  {
   "cell_type": "code",
   "execution_count": 14,
   "metadata": {
    "tags": []
   },
   "outputs": [
    {
     "output_type": "stream",
     "name": "stdout",
     "text": "~~~~each is <\n<\n1股票代码 \n2 \n3 \n4 \n[]\n年报列表页面编码错误;http://vip.stock.finance.sina.com.cn/corp/go.php/vCB_Bulletin/stockid//page_type/ndbg.phtml\n"
    }
   ],
   "source": [
    "for each in stock[1:2]:\n",
    "    print('~~~~each is',each)\n",
    "    each1=each[2:8];each0=each[0:8];each3=each\n",
    "    print(each3)\n",
    "    print('1股票代码',each1)\n",
    "    url='http://vip.stock.finance.sina.com.cn/corp/go.php/vCB_Bulletin/stockid/'+each1+'/page_type/ndbg.phtml'\n",
    "    # url='http://vip.stock.finance.sina.com.cn/corp/go.php/vCB_Bulletin/stockid/'+each+'/page_type/ndbg.phtml'\n",
    "    req = urllib.request.Request(url)\n",
    "    print('2',each1)\n",
    "    req.add_header('User-Agent','Mozilla/5.0 (Windows NT 6.2; rv:16.0) Gecko/20100101 Firefox/16.0')\n",
    "    page = urllib.request.urlopen(req)\n",
    "    time.sleep(random.random() * 3)\n",
    "    print('3',each1)\n",
    "    try:\n",
    "        html = page.read().decode('gbk')\n",
    "        target = r'&id=[_0-9_]{7}'\n",
    "        print('4',each1)\n",
    "        # target = r'&id=[_0-9_]{6}'\n",
    "        target_list = re.findall(target,html)\n",
    "        print(target_list)\n",
    "        # os.mkdir('./'+str(each))\n",
    "        # os.mkdir('./'+'electricity-'+each)\n",
    "        sid = each1\n",
    "        print('5',each1,'2019和2015年target_list',target_list[0])\n",
    "        print(\"6sid is\",sid)\n",
    "        year=2019\n",
    "        try:\n",
    "            each2=target_list[0]\n",
    "        # for each2 in target_list[0]:\n",
    "        # for each2 in target_list[0,3]:\n",
    "            #print(a)\n",
    "            print('7',each1,each2)\n",
    "            target_url='http://vip.stock.finance.sina.com.cn/corp/view/vCB_AllBulletinDetail.php?stockid='+sid+each2\n",
    "            print('--8--',each1)\n",
    "            print('下载链接target_url,',target_url)\n",
    "            treq = urllib.request.Request(target_url)\n",
    "            time.sleep(random.random() * 3)\n",
    "            treq.add_header('User-Agent','Mozilla/5.0 (Windows NT 6.2; rv:16.0) Gecko/20100101 Firefox/16.0')\n",
    "            tpage = urllib.request.urlopen(treq)\n",
    "            time.sleep(random.random() * 3)\n",
    "            print(\"--9--file_url is\")\n",
    "            try:\n",
    "                print(\"--9-1-file_url is\")\n",
    "                thtml = tpage.read().decode('gbk')\n",
    "                #print(thtml)\n",
    "                file_url = re.search('http://file.finance.sina.com.cn/211.154.219.97:9494/.*?PDF',thtml)\n",
    "                print('--9--file_url is',file_url.group(0))\n",
    "                try:\n",
    "                    #print(file_url.group(0))\n",
    "                    report_year=file_url.group(0).split(\"/\")[-4]\n",
    "                    print('report_year',report_year)\n",
    "                    report_year=str(int(report_year)-1)\n",
    "                    print('report_year',report_year)\n",
    "                    each3 = each[0:-1]\n",
    "                    print(each3)\n",
    "                    report_file=each3+report_year\n",
    "                    print(report_file,report_file,report_file,report_file)\n",
    "                    local = file_folder+'annual_report_2019/'+'风电'+report_file+'.pdf'\n",
    "                    # local = './' +'annual_report_2019'+ '/' +each3+report_year+'.pdf'\n",
    "                    # print('local',local)\n",
    "                    # # local = './'+each+'/'+file_url.group(0).split(\"/\")[-4]+'.pdf'\n",
    "                    # # local = './'+each+'/'+file_url.group(0).split(\"/\")[-1]+'.pdf'\n",
    "                    # # local = './'+sid+'/'+file_url.group(0).split(\"/\")[-1]+'.pdf'\n",
    "                    # print(\"10 local is\",local)\n",
    "                    #调试用作文件占位\n",
    "                    #open(local, 'wb').write(b'success')\n",
    "                    # print('11',each1,'local',local)\n",
    "                    urllib.request.urlretrieve(file_url.group(0),local,None)\n",
    "                except:\n",
    "                    print('PDF失效;'+target_url)\n",
    "            except:\n",
    "                print(each1,'年报下载页面编码错误;'+target_url)\n",
    "        except:\n",
    "            print('each2',each2)\n",
    "    except:\n",
    "        print('年报列表页面编码错误;'+url)"
   ]
  },
  {
   "cell_type": "code",
   "execution_count": null,
   "metadata": {},
   "outputs": [],
   "source": []
  }
 ],
 "metadata": {
  "language_info": {
   "codemirror_mode": {
    "name": "ipython",
    "version": 3
   },
   "file_extension": ".py",
   "mimetype": "text/x-python",
   "name": "python",
   "nbconvert_exporter": "python",
   "pygments_lexer": "ipython3",
   "version": "3.7.4-final"
  },
  "orig_nbformat": 2,
  "kernelspec": {
   "name": "python37432bit6a4013f1a8ec4766a4af9787f2730623",
   "display_name": "Python 3.7.4 32-bit"
  }
 },
 "nbformat": 4,
 "nbformat_minor": 2
}