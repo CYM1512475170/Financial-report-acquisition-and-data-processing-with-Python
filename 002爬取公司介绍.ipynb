{
 "metadata": {
  "language_info": {
   "codemirror_mode": {
    "name": "ipython",
    "version": 3
   },
   "file_extension": ".py",
   "mimetype": "text/x-python",
   "name": "python",
   "nbconvert_exporter": "python",
   "pygments_lexer": "ipython3",
   "version": "3.8.4-final"
  },
  "orig_nbformat": 2,
  "kernelspec": {
   "name": "python38464bit9379dd402be645a4a272fa7043f0c61f",
   "display_name": "Python 3.8.4 64-bit"
  }
 },
 "nbformat": 4,
 "nbformat_minor": 2,
 "cells": [
  {
   "cell_type": "code",
   "execution_count": 5,
   "metadata": {},
   "outputs": [],
   "source": [
    "import xlrd #（excel read）来读取Excel文件\n",
    "import xlwt #（excel write）来生成Excel文件\n",
    "workbook = xlwt.Workbook()  # 新建一个工作簿\n",
    "sheet = workbook.add_sheet(\"sheet_name\")  # 在工作簿中新建一个表格\n",
    "def write_excel_xls(path,value,inum):\n",
    "    index = len(value)  # 获取需要写入数据的行数\n",
    "    # print(\"index is\",index)\n",
    "    for num in range(0, index):\n",
    "        sheet.write(inum,num,value[num])\n",
    "    # for i in range(0, index):\n",
    "    #     for j in range(0, len(value[i])):\n",
    "    #         sheet.write(i, j, value[i][j])  # 像表格中写入数据（对应的行和列）\n",
    "\n",
    "    print(\"xls格式表格写入数据成功！\")"
   ]
  },
  {
   "cell_type": "code",
   "execution_count": 6,
   "metadata": {},
   "outputs": [],
   "source": [
    "import xlutils #暂时没有办法安装xlutils\n",
    "def write_excel_xls_append(path, value):\n",
    "    index = len(value)  # 获取需要写入数据的行数\n",
    "    workbook = xlrd.open_workbook(path)  # 打开工作簿\n",
    "    sheets = workbook.sheet_names()  # 获取工作簿中的所有表格\n",
    "    worksheet = workbook.sheet_by_name(sheets[0])  # 获取工作簿中所有表格中的的第一个表格\n",
    "    rows_old = worksheet.nrows  # 获取表格中已存在的数据的行数\n",
    "    new_workbook = xlutils.copy(workbook)  # 将xlrd对象拷贝转化为xlwt对象\n",
    "    new_worksheet = new_workbook.get_sheet(0)  # 获取转化后工作簿中的第一个表格\n",
    "    for i in range(0, index):\n",
    "        for j in range(0, len(value[i])):\n",
    "            new_worksheet.write(i+rows_old, j, value[i][j])  # 追加写入数据，注意是从i+rows_old行开始写入\n",
    "    new_workbook.save(path)  # 保存工作簿\n",
    "    print(\"xls格式表格【追加】写入数据成功！\")"
   ]
  },
  {
   "cell_type": "code",
   "execution_count": 10,
   "metadata": {
    "tags": []
   },
   "outputs": [
    {
     "output_type": "stream",
     "name": "stdout",
     "text": "C:/Temp/stock_workbook.xls\n"
    }
   ],
   "source": [
    "# coding=UTF-8\n",
    "file_folder= \"C:/Temp/\"\n",
    "file_name=\"stock_workbook.xls\"\n",
    "file_source=\"stock.txt\"\n",
    "\n",
    "print(file_folder+file_name)\n",
    "\n"
   ]
  },
  {
   "cell_type": "code",
   "execution_count": 12,
   "metadata": {
    "tags": []
   },
   "outputs": [
    {
     "output_type": "stream",
     "name": "stdout",
     "text": "sz600600\nsh000123\nsh000449\nsh000666"
    }
   ],
   "source": [
    "#构造url\n",
    "url_source=open(file_folder+file_source)\n",
    "f=open(file_folder+file_source)\n",
    "stock = []\n",
    "for line in f.readlines():\n",
    "    print(line,end = '')\n",
    "    line = line.replace('\\n','')\n",
    "    stock.append(line)\n",
    "#print(stock)\n",
    "f.close()\n",
    "#print(stock)"
   ]
  },
  {
   "cell_type": "code",
   "execution_count": 15,
   "metadata": {
    "tags": []
   },
   "outputs": [
    {
     "output_type": "stream",
     "name": "stdout",
     "text": "title_1 ['公司名称', '青岛啤酒股份有限公司', '公司英文名称', 'Tsingtao Brewery Company Limited', '上市市场', '上海证券交易所', '上市日期', '', '1993-08-27', '发行价格', '主承销商', '', '上海申银证券公司', '', '成立日期', '1995-12-27', '注册资本', '135098万元', '机构类型', '其它', '组织形式', '董事会秘书', '张瑞祥', '公司电话', '0532-85713831', '董秘电话', '0532-85713831', '公司传真', '0532-85713240', '董秘传真', '0532-85713240', '公司电子邮箱', '', 'info@tsingtao.com.cn', '', '董秘电子邮箱', 'secretary@tsingtao.com.cn', '公司网址', 'http://www.tsingtao.com.cn', '邮政编码']\nC:/Temp/3stock_workbook.xls\nxls格式表格写入数据成功！\ntitle_1 ['公司名称', '公司英文名称', '上市市场', '深圳证券交易所', '上市日期', '--', '', '发行价格', '主承销商', '', '成立日期', '注册资本', '0万元', '机构类型', '组织形式', '董事会秘书', '公司电话', '董秘电话', '公司传真', '董秘传真', '公司电子邮箱', '', '', '董秘电子邮箱', '公司网址', 'http://', '邮政编码', '信息披露网址', '证券简称更名历史', '注册地址', '办公地址', '公司简介', '经营范围', '↑', '返回页顶', '↑', '记录登录状态一个月', '', '登录', '']\nC:/Temp/3stock_workbook.xls\nxls格式表格写入数据成功！\ntitle_1 ['公司名称', '公司英文名称', '上市市场', '深圳证券交易所', '上市日期', '--', '', '发行价格', '主承销商', '', '成立日期', '注册资本', '0万元', '机构类型', '组织形式', '董事会秘书', '公司电话', '董秘电话', '公司传真', '董秘传真', '公司电子邮箱', '', '', '董秘电子邮箱', '公司网址', 'http://', '邮政编码', '信息披露网址', '证券简称更名历史', '注册地址', '办公地址', '公司简介', '经营范围', '↑', '返回页顶', '↑', '记录登录状态一个月', '', '登录', '']\nC:/Temp/3stock_workbook.xls\nxls格式表格写入数据成功！\ntitle_1 ['公司名称', '经纬纺织机械股份有限公司', '公司英文名称', 'Jingwei Textile Machinery Company Limited', '上市市场', '深圳证券交易所', '上市日期', '', '1996-12-10', '发行价格', '主承销商', '', '成立日期', '1996-03-29', '注册资本', '70413万元', '机构类型', '其它', '组织形式', '国有企业', '董事会秘书', '叶雪华', '公司电话', '010-84534078', '董秘电话', '010-84534078-8188', '公司传真', '010-84534135', '董秘传真', '010-84534135', '公司电子邮箱', '', 'jwgf@jwgf.com', '', '董秘电子邮箱', 'jwzd@jwgf.com', '公司网址', 'http://www.jwgf.com', '邮政编码', '100125']\nC:/Temp/3stock_workbook.xls\nxls格式表格写入数据成功！\n"
    }
   ],
   "source": [
    "iinum = 1\n",
    "for each in stock:\n",
    "    # print(each[2:])\n",
    "    each1=each[2:8]\n",
    "    # print(each)\n",
    "    url = 'http://vip.stock.finance.sina.com.cn/corp/go.php/vCI_CorpInfo/stockid/'+each1+'.phtml'\n",
    "\n",
    "    # 开始爬虫\n",
    "    import requests\n",
    "    headers = {'User-Agent': 'Mozilla/4.0 (compatible; MSIE 5.5; Windows NT)'}\n",
    "    # print(url)\n",
    "    response = requests.get(url, headers=headers)\n",
    "    response.encoding = 'gbk'  # 解决乱码问题\n",
    "    html_text = response.text\n",
    "    # 开始爬虫\n",
    "\n",
    "    import lxml\n",
    "    from lxml import etree\n",
    "    selector = etree.HTML(html_text)\n",
    "    title = selector.xpath('//table/tr/td//text()')\n",
    "\n",
    "    # 去除其中的冒号\n",
    "    title_1 = []\n",
    "    for i in title:\n",
    "        i = i.strip()\n",
    "        i = i.strip('：')\n",
    "        title_1.append(i)\n",
    "    print(\"title_1\", title_1[0:40])\n",
    "    # 去除其中的冒号\n",
    "\n",
    "    # 存入excel\n",
    "    path1 = file_folder + '3' + file_name\n",
    "    print(path1)\n",
    "    write_excel_xls(path1, title_1,iinum)\n",
    "    workbook.save(path1)  # 保存工作簿\n",
    "    # 存入excel\n",
    "    iinum=iinum+1\n",
    "print('————————————————全部完成————————————————)"
   ]
  }
 ]
}