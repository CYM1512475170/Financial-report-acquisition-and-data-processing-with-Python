{
 "cells": [
  {
   "cell_type": "markdown",
   "metadata": {},
   "source": [
    "## 获取上市公司股东和股本信息"
   ]
  },
  {
   "cell_type": "code",
   "execution_count": 1,
   "metadata": {},
   "outputs": [
    {
     "output_type": "stream",
     "name": "stdout",
     "text": "提示：当前环境pandas版本为0.25，get_price与get_fundamentals_continuously接口panel参数将固定为False\n注意：0.25以上版本pandas不支持panel，如使用该数据结构和相关函数请注意修改\nauth success \n"
    }
   ],
   "source": [
    "import jqdatasdk\n",
    "from jqdatasdk import *\n",
    "jqdatasdk.auth(\"13141315365\", \"315365\")"
   ]
  },
  {
   "cell_type": "markdown",
   "metadata": {},
   "source": [
    "### 十大股东"
   ]
  },
  {
   "cell_type": "code",
   "execution_count": 2,
   "metadata": {},
   "outputs": [],
   "source": [
    "import numpy"
   ]
  },
  {
   "cell_type": "code",
   "execution_count": 3,
   "metadata": {},
   "outputs": [
    {
     "output_type": "stream",
     "name": "stdout",
     "text": "id company_name  company_id         code    end_date    pub_date  \\\n0  1004153   中持水务股份有限公司   300030530  603903.XSHG  2017-02-22  2017-02-22   \n1  1004154   中持水务股份有限公司   300030530  603903.XSHG  2017-02-22  2017-02-22   \n2  1004155   中持水务股份有限公司   300030530  603903.XSHG  2017-02-22  2017-02-22   \n3  1004156   中持水务股份有限公司   300030530  603903.XSHG  2017-02-22  2017-02-22   \n4  1004157   中持水务股份有限公司   300030530  603903.XSHG  2017-02-22  2017-02-22   \n5  1004158   中持水务股份有限公司   300030530  603903.XSHG  2017-02-22  2017-02-22   \n6  1004160   中持水务股份有限公司   300030530  603903.XSHG  2017-02-22  2017-02-22   \n7  1004161   中持水务股份有限公司   300030530  603903.XSHG  2017-02-22  2017-02-22   \n8  1004162   中持水务股份有限公司   300030530  603903.XSHG  2017-02-22  2017-02-22   \n9  1004163   中持水务股份有限公司   300030530  603903.XSHG  2017-02-22  2017-02-22   \n\n   change_reason_id change_reason  shareholder_rank  \\\n0            306025         招股说明书                 1   \n1            306025         招股说明书                 2   \n2            306025         招股说明书                 3   \n3            306025         招股说明书                 4   \n4            306025         招股说明书                 5   \n5            306025         招股说明书                 6   \n6            306025         招股说明书                 7   \n7            306025         招股说明书                 8   \n8            306025         招股说明书                 9   \n9            306025         招股说明书                10   \n\n              shareholder_name  ... shareholder_id  shareholder_class_id  \\\n0               中持（北京）环保发展有限公司  ...      100163287                307099   \n1                   启明创富投资有限公司  ...      100163270                307099   \n2         苏州纪源科星股权投资合伙企业（有限合伙）  ...      100110004                307099   \n3  SCC Venture 2010（HK）Limited  ...      100163290                307099   \n4           上海联新二期股权投资中心（有限合伙）  ...      100163273                307099   \n5                          许国栋  ...      100163283                307001   \n6         苏州启明创智股权投资合伙企业（有限合伙）  ...      100128674                307099   \n7                  北极光早期创业投资企业  ...      100163263                307013   \n8                   启明亚洲投资有限公司  ...      100163271                307099   \n9                    北极光创业投资企业  ...      100115932                307013   \n\n   shareholder_class share_number  share_ratio  sharesnature_id  sharesnature  \\\n0               其他机构   24138324.0        31.42           308001         境内法人股   \n1               其他机构    9000000.0        11.71           308002         境外法人股   \n2               其他机构    7113750.0         9.26           308001         境内法人股   \n3               其他机构    6000000.0         7.81           308002         境外法人股   \n4               其他机构    4713774.0         6.14           308001         境内法人股   \n5                自然人    4500000.0         5.86           308003         自然人持股   \n6               其他机构    3048750.0         3.97           308001         境内法人股   \n7               风险投资    2776096.0         3.61           308001         境内法人股   \n8               其他机构    2168825.0         2.82           308002         境外法人股   \n9               风险投资    2082072.0         2.71           308001         境内法人股   \n\n  share_pledge_freeze share_pledge share_freeze  \n0                None         None         None  \n1                None         None         None  \n2                None         None         None  \n3                None         None         None  \n4                None         None         None  \n5                None         None         None  \n6                None         None         None  \n7                None         None         None  \n8                None         None         None  \n9                None         None         None  \n\n[10 rows x 21 columns]\n"
    }
   ],
   "source": [
    "#指定查询对象为中持股份的十大股东情况，限定返回条数为10条\n",
    "code1=normalize_code(\"603903\")#中持股份\n",
    "q=query(finance.STK_SHAREHOLDER_TOP10).filter(finance.STK_SHAREHOLDER_TOP10.code==code1,finance.STK_SHAREHOLDER_TOP10.pub_date>'2015-01-01').limit(10)\n",
    "df=finance.run_query(q)\n",
    "print(df)"
   ]
  },
  {
   "cell_type": "markdown",
   "metadata": {},
   "source": [
    "### 十大流通股东"
   ]
  },
  {
   "cell_type": "code",
   "execution_count": 5,
   "metadata": {
    "tags": [
     "outputPrepend"
    ]
   },
   "outputs": [
    {
     "output_type": "stream",
     "name": "stdout",
     "text": "id  company_id company_name         code    end_date    pub_date  \\\n0  4494014   300030530   中持水务股份有限公司  603903.XSHG  2018-12-31  2019-04-19   \n1  4494015   300030530   中持水务股份有限公司  603903.XSHG  2018-12-31  2019-04-19   \n2  4494016   300030530   中持水务股份有限公司  603903.XSHG  2018-12-31  2019-04-19   \n3  4494017   300030530   中持水务股份有限公司  603903.XSHG  2018-12-31  2019-04-19   \n4  4494018   300030530   中持水务股份有限公司  603903.XSHG  2018-12-31  2019-04-19   \n5  4494019   300030530   中持水务股份有限公司  603903.XSHG  2018-12-31  2019-04-19   \n6  4494020   300030530   中持水务股份有限公司  603903.XSHG  2018-12-31  2019-04-19   \n7  4494021   300030530   中持水务股份有限公司  603903.XSHG  2018-12-31  2019-04-19   \n8  4494022   300030530   中持水务股份有限公司  603903.XSHG  2018-12-31  2019-04-19   \n9  4494023   300030530   中持水务股份有限公司  603903.XSHG  2018-12-31  2019-04-19   \n\n   change_reason_id change_reason  shareholder_rank  shareholder_id  \\\n0            306019          定期报告                 1       100163270   \n1            306019          定期报告                 2       100110004   \n2            306019          定期报告                 3       100163273   \n3            306019          定期报告                 4       100163290   \n4            306019          定期报告                 5       100128674   \n5            306019          定期报告                 6       100181268   \n6            306019          定期报告                 7       100163271   \n7            306019          定期报告                 8       100147702   \n8            306019          定期报告                 9       100001386   \n9            306019          定期报告                10       100151991   \n\n                shareholder_name shareholder_name_en  shareholder_class_id  \\\n0                     启明创富投资有限公司                None                307099   \n1           苏州纪源科星股权投资合伙企业(有限合伙)                None                307099   \n2             上海联新二期股权投资中心(有限合伙)                None                307099   \n3  SCC VENTURE 2010 (HK) LIMITED                None                307099   \n4           苏州启明创智股权投资合伙企业(有限合伙)                None                307099   \n5                             邵凯                None                307001   \n6                     启明亚洲投资有限公司                None                307099   \n7                            张翼飞                None                307001   \n8                            陆晋泉                None                307001   \n9                            陈德清                None                307001   \n\n  shareholder_class  share_number  share_ratio  sharesnature_id sharesnature  \n0              其他机构     7800000.0        7.548           308007         流通A股  \n1              其他机构     6080751.0        5.884           308007         流通A股  \n2              其他机构     3978874.0        3.850           308007         流通A股  \n3              其他机构     3933499.0        3.807           308007         流通A股  \n4              其他机构     2448750.0        2.370           308007         流通A股  \n5               自然人     1800000.0        1.742           308007         流通A股  \n6              其他机构     1568825.0        1.518           308007         流通A股  \n7               自然人     1350000.0        1.306           308007         流通A股  \n8               自然人     1300000.0        1.258           308007         流通A股  \n9               自然人     1200000.0        1.161           308007         流通A股  \n"
    }
   ],
   "source": [
    "q=query(finance.STK_SHAREHOLDER_FLOATING_TOP10).filter(finance.STK_SHAREHOLDER_FLOATING_TOP10.code==code1,finance.STK_SHAREHOLDER_FLOATING_TOP10.pub_date>'2019-01-01').limit(10)\n",
    "df=finance.run_query(q)\n",
    "print(df)"
   ]
  },
  {
   "cell_type": "markdown",
   "metadata": {},
   "source": [
    "了解更多请点击https://www.joinquant.com/help/api/help?name=JQData#%E5%8D%81%E5%A4%A7%E8%82%A1%E4%B8%9C"
   ]
  }
 ],
 "metadata": {
  "language_info": {
   "codemirror_mode": {
    "name": "ipython",
    "version": 3
   },
   "file_extension": ".py",
   "mimetype": "text/x-python",
   "name": "python",
   "nbconvert_exporter": "python",
   "pygments_lexer": "ipython3",
   "version": "3.7.4-final"
  },
  "orig_nbformat": 2,
  "kernelspec": {
   "name": "python37432bit6a4013f1a8ec4766a4af9787f2730623",
   "display_name": "Python 3.7.4 32-bit"
  }
 },
 "nbformat": 4,
 "nbformat_minor": 2
}