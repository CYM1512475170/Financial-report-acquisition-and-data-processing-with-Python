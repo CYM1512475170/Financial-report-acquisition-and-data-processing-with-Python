{
 "nbformat": 4,
 "nbformat_minor": 2,
 "metadata": {
  "language_info": {
   "name": "python",
   "codemirror_mode": {
    "name": "ipython",
    "version": 3
   },
   "version": "3.7.4-final"
  },
  "orig_nbformat": 2,
  "file_extension": ".py",
  "mimetype": "text/x-python",
  "name": "python",
  "npconvert_exporter": "python",
  "pygments_lexer": "ipython3",
  "version": 3,
  "kernelspec": {
   "name": "python37432bit6a4013f1a8ec4766a4af9787f2730623",
   "display_name": "Python 3.7.4 32-bit"
  }
 },
 "cells": [
  {
   "cell_type": "markdown",
   "metadata": {},
   "source": [
    "## 以下为郑州拍地数据\n",
    "数据来自：郑州市国土资源局挂牌出让结果公示\n"
   ]
  },
  {
   "cell_type": "code",
   "execution_count": 1,
   "metadata": {},
   "outputs": [],
   "source": [
    "url1='http://zzland.zhengzhou.gov.cn/tdcr/index_'\n",
    "i=1\n",
    "i=str(i)\n",
    "url3='.jhtml'\n",
    "url=url1+i+url3\n",
    "\n",
    "import requests\n",
    "response=requests.get(url)\n",
    "import lxml.etree\n",
    "selector=lxml.etree.HTML(response.content)\n",
    "items=selector.xpath('//li/a/@ref')\n",
    "for item in items:\n",
    "    print(item)"
   ]
  },
  {
   "cell_type": "code",
   "execution_count": null,
   "metadata": {},
   "outputs": [],
   "source": [
    "import time\n",
    "time.sleep(11)"
   ]
  },
  {
   "cell_type": "code",
   "execution_count": 11,
   "metadata": {},
   "outputs": [
    {
     "output_type": "stream",
     "name": "stdout",
     "text": "<!DOCTYPE HTML>\n<html>\n\t<head>\n\t\t<meta name=\"SiteName\" content=\"郑州市自然资源和规划局\"/>\n<meta name=\"SiteDomain\" content=\"zzland.zhengzhou.gov.cn\"/>\n<meta name=\"SiteIDCode\" content=\"4101000012\">\n<meta name=\"ColumnName\" content=\"土地招标拍卖挂牌出让结果\"/>\n<meta name=\"ColumnDescription\" content=\"土地招标拍卖挂牌出让结果\"/>\n<meta name=\"ColumnKeywords\" content=\"土地招标拍卖挂牌出让结果\">\n<meta name=\"ColumnType\" content=\"政务公开\">\n\t\t<meta name=\"viewport\" content=\"width=device-width, initial-scale=1.0\">\n\t\t<meta http-equiv=\"Content-Type\" content=\"text/html; charset=utf-8\" />\n\t\t<meta http-equiv=\"keywords\" content=\"\"/>\n\t\t<meta http-equiv=\"description\" content=\"\"/>\n\t\t<meta http-equiv=\"X-UA-Compatible\" content=\"IE=edge,chrome=1\">\n\t\t<meta name=\"renderer\" content=\"webkit\">\n\t\t<title>土地招标拍卖挂牌出让结果 - 郑州市自然资源和规划局</title>\n\t\t<link rel=\"stylesheet\" type=\"text/css\" href=\"/r/cms/zzland/cn/style/css.css\" />\n\t\t<link rel=\"stylesheet\" type=\"text/css\" href=\"/r/cms/zzland/cn/style/mail.css\" />\n\t\t<script type=\"text/javascript\" src=\"/r/cms/jquery.js\"></script>\n\t\t<script src=\"/r/cms/analytics.js\" type=\"text/javascript\"></script>\n\t</head>\n<body>\n\t<script src=\"/r/cms/zzland/cn/js/less.version.js\" type=\"text/javascript\"></script>\n\t<div class=\"body wrap-bg\">\n<div class=\"max-wrap top-bar\">\n\t<div class=\"main-wrap clearfix\">\n\t\t<div class=\"four-links\">\n\t\t\t<a href=\"http://www.mnr.gov.cn/\" target=\"_blank\">中华人民共和国自然资源部</a>\n\t\t\t<span class=\"link-sep\"></span>\n\t\t\t<a href=\"http://dnr.henan.gov.cn/\" target=\"_blank\">河南省自然资源厅</a>\n\t\t\t<span class=\"link-sep\"></span>\n\t\t\t<a href=\"http://www.zhengzhou.gov.cn/\" target=\"_blank\">郑州市人民政府</a>\n\t\t</div>\n\t\t<div class=\"version-links\">\n\t\t\t<a id=\"chinese\" data-default=\"简体\" data-changed=\"繁體\" href=\"javascript:;\">繁體</a>\n\t\t\t<span class=\"link-sep\"></span>\n\t\t\t<a id=\"accessible\" href=\"javascript:;\">无障碍阅读</a>\n\t\t</div>\n\t\t<script src=\"/r/cms/zzland/cn/js/chinese.js\" type=\"text/javascript\"></script>\n\t\t<script src=\"/r/cms/zzland/cn/js/accessible.js\" type=\"text/javascript\"></script>\n\t\t<script type=\"text/javascript\">\n\t\t\tinitChinese(document.querySelector(\"#chinese\"), [\"title\"]);\n\t\t\tinitAccessible(document.querySelector(\".body\"), document.querySelector(\"#accessible\"));\n\t\t</script>\n\t</div>\n</div>\n<div class=\"max-wrap top-banner\">\n\t<div class=\"logo main-wrap\">\n\t\t<img src=\"/r/cms/zzland/cn/images/logo.png\" />\n\t</div>\n\t<div class=\"main-nav\">\n\t     <div class=\"main-wrap clearfix\">\n\t\t<div id=\"menu\">\n\t\t\t<ul class=\"clearfix\">\n\t\t\t\t<li class=\"\">\n\t\t\t\t\t<a href=\"/\">首页</a>\n\t\t\t\t</li>\n\t\t\t\t<li class=\"focus has-sub\">\n\t\t\t\t\t<a href=\"/gknb/index.jhtml\">政务公开</a>\n\t\t\t\t\t<ul class=\"clearfix\">\n\t\t\t\t\t\t<li>\n\t\t\t\t\t\t\t<a href=\"http://zzland.zhengzhou.gov.cn/gkzn.jhtml\">政府信息公开指南</a>\n\t\t\t\t\t\t</li>\n\t\t\t\t\t\t<li>\n\t\t\t\t\t\t\t<a href=\"http://zzland.zhengzhou.gov.cn/xxgkzd/index.jhtml\">政府信息公开制度</a>\n\t\t\t\t\t\t</li>\n\t\t\t\t\t\t<li>\n\t\t\t\t\t\t\t<a href=\"http://zzland.zhengzhou.gov.cn/gknb/index.jhtml\">政府信息公开年报</a>\n\t\t\t\t\t\t</li>\n\t\t\t\t\t\t<li>\n\t\t\t\t\t\t\t<a href=\"http://zzland.zhengzhou.gov.cn/ysqgk.jhtml\">依申请公开</a>\n\t\t\t\t\t\t</li>\n\t\t\t\t\t\t<li>\n\t\t\t\t\t\t\t<a href=\"http://zzland.zhengzhou.gov.cn/rsxx/index.jhtml\">人事信息</a>\n\t\t\t\t\t\t</li>\n\t\t\t\t\t\t<li>\n\t\t\t\t\t\t\t<a href=\"http://zzland.zhengzhou.gov.cn/czyjs/index.jhtml\">财政预算、决算报告</a>\n\t\t\t\t\t\t</li>\n\t\t\t\t\t\t<li>\n\t\t\t\t\t\t\t<a href=\"http://zzland.zhengzhou.gov.cn/sgjf/index.jhtml\">三公经费信息</a>\n\t\t\t\t\t\t</li>\n\t\t\t\t\t\t<li>\n\t\t\t\t\t\t\t<a href=\"/tdlygh/index.jhtml\">规划计划</a>\n\t\t\t\t\t\t</li>\n\t\t\t\t\t\t<li>\n\t\t\t\t\t\t\t<a href=\"/xzspi/index.jhtml\">行政审批</a>\n\t\t\t\t\t\t</li>\n\t\t\t\t\t\t<li>\n\t\t\t\t\t\t\t<a href=\"/zdgz/index.jhtml\">征地信息</a>\n\t\t\t\t\t\t</li>\n\t\t\t\t\t\t<li>\n\t\t\t\t\t\t\t<a href=\"/hbgd/index.jhtml\">土地供应和出让</a>\n\t\t\t\t\t\t</li>\n\t\t\t\t\t\t<li>\n\t\t\t\t\t\t\t<a href=\"http://zzland.zhengzhou.gov.cn/wfxw/index.jhtml\">自然资源违法行为行政处罚</a>\n\t\t\t\t\t\t</li>\n\t\t\t\t\t\t<li>\n\t\t\t\t\t\t\t<a href=\"http://zzland.zhengzhou.gov.cn/jzdj/index.jhtml\">基准地价</a>\n\t\t\t\t\t\t</li>\n\t\t\t\t\t\t<li>\n\t\t\t\t\t\t\t<a href=\"http://zzland.zhengzhou.gov.cn/bddj/index.jhtml\">标定地价</a>\n\t\t\t\t\t\t</li>\n\t\t\t\t\t\t<li>\n\t\t\t\t\t\t\t<a href=\"http://zzland.zhengzhou.gov.cn/yjyb/index.jhtml\">地质灾害预警预报</a>\n\t\t\t\t\t\t</li>\n\t\t\t\t\t\t<li>\n\t\t\t\t\t\t\t<a href=\"/kyqzbpm/index.jhtml\">矿业权出让转让</a>\n\t\t\t\t\t\t</li>\n\t\t\t\t\t\t<li>\n\t\t\t\t\t\t\t<a href=\"http://zzland.zhengzhou.gov.cn/kczycl/index.jhtml\">矿产资源储量</a>\n\t\t\t\t\t\t</li>\n\t\t\t\t\t\t<li>\n\t\t\t\t\t\t\t<a href=\"http://zzland.zhengzhou.gov.cn/tjxx/index.jhtml\">统计信息</a>\n\t\t\t\t\t\t</li>\n\t\t\t\t\t\t<li>\n\t\t\t\t\t\t\t<a href=\"http://zzland.zhengzhou.gov.cn/kxpj/index.jhtml\">科学普及</a>\n\t\t\t\t\t\t</li>\n\t\t\t\t\t\t<li>\n\t\t\t\t\t\t\t<a href=\"http://zzland.zhengzhou.gov.cn/sgszl/index.jhtml\">“双公示”专栏</a>\n\t\t\t\t\t\t</li>\n\t\t\t\t\t\t<li>\n\t\t\t\t\t\t\t<a href=\"http://zzland.zhengzhou.gov.cn/bdcdjgg/index.jhtml\">不动产登记公告</a>\n\t\t\t\t\t\t</li>\n\t\t\t\t\t\t<li>\n\t\t\t\t\t\t\t<a href=\"/ghbz/index.jhtml\">规划类公告公示</a>\n\t\t\t\t\t\t</li>\n\t\t\t\t\t</ul>\n\t\t\t\t</li>\n\t\t\t\t<li class=\"\">\n\t\t\t\t\t<a href=\"/zyzz.jhtml\">单位概况</a>\n\t\t\t\t\t<ul class=\"clearfix\">\n\t\t\t\t\t\t<li>\n\t\t\t\t\t\t\t<a href=\"http://zzland.zhengzhou.gov.cn/dwjj.jhtml\">单位简介</a>\n\t\t\t\t\t\t</li>\n\t\t\t\t\t\t<li>\n\t\t\t\t\t\t\t<a href=\"http://zzland.zhengzhou.gov.cn/zyzz.jhtml\">主要职责</a>\n\t\t\t\t\t\t</li>\n\t\t\t\t\t\t<li>\n\t\t\t\t\t\t\t<a href=\"http://zzland.zhengzhou.gov.cn/qzml/index.jhtml\">职权目录</a>\n\t\t\t\t\t\t</li>\n\t\t\t\t\t\t<li>\n\t\t\t\t\t\t\t<a href=\"http://zzland.zhengzhou.gov.cn/ldjs/index.jhtml\">领导介绍</a>\n\t\t\t\t\t\t</li>\n\t\t\t\t\t\t<li>\n\t\t\t\t\t\t\t<a href=\"http://zzland.zhengzhou.gov.cn/jgsz/index.jhtml\">机构设置</a>\n\t\t\t\t\t\t</li>\n\t\t\t\t\t\t<li>\n\t\t\t\t\t\t\t<a href=\"http://zzland.zhengzhou.gov.cn/zsdwei/index.jhtml\">直属单位</a>\n\t\t\t\t\t\t</li>\n\t\t\t\t\t\t<li>\n\t\t\t\t\t\t\t<a href=\"http://zzland.zhengzhou.gov.cn/xqfq.jhtml\">县区分局</a>\n\t\t\t\t\t\t</li>\n\t\t\t\t\t</ul>\n\t\t\t\t</li>\n\t\t\t\t<li class=\"\">\n\t\t\t\t\t<a href=\"/gjfg/index.jhtml\">政策法规</a>\n\t\t\t\t\t<ul class=\"clearfix\">\n\t\t\t\t\t\t<li>\n\t\t\t\t\t\t\t<a href=\"http://zzland.zhengzhou.gov.cn/gjfg/index.jhtml\">国家级法律法规</a>\n\t\t\t\t\t\t</li>\n\t\t\t\t\t\t<li>\n\t\t\t\t\t\t\t<a href=\"http://zzland.zhengzhou.gov.cn/bmdf/index.jhtml\">部门和地方性相关政策、规章和办法</a>\n\t\t\t\t\t\t</li>\n\t\t\t\t\t\t<li>\n\t\t\t\t\t\t\t<a href=\"http://zzland.zhengzhou.gov.cn/zyzc/index.jhtml\">重要政策法规解读</a>\n\t\t\t\t\t\t</li>\n\t\t\t\t\t</ul>\n\t\t\t\t</li>\n\t\t\t\t<li class=\"\">\n\t\t\t\t\t<a href=\"/maillist/index.jhtml\">网上互动</a>\n\t\t\t\t\t<ul class=\"clearfix\">\n\t\t\t\t\t\t<li>\n\t\t\t\t\t\t\t<a href=\"/maillist/index.jhtml\" target=\"_blank\">局长信箱</a>\n\t\t\t\t\t\t</li>\n\t\t\t\t\t\t<li>\n\t\t\t\t\t\t\t<a href=\"/zxlist/index.jhtml\" target=\"_blank\">在线咨询</a>\n\t\t\t\t\t\t</li>\n\t\t\t\t\t\t<li>\n\t\t\t\t\t\t\t<a href=\"http://zzland.zhengzhou.gov.cn/xjsltj/index.jhtml\" target=\"_blank\">信件受理统计</a>\n\t\t\t\t\t\t</li>\n\t\t\t\t\t\t<li>\n\t\t\t\t\t\t\t<a href=\"http://zzland.zhengzhou.gov.cn/survey.jhtml\" target=\"_blank\">网上调查</a>\n\t\t\t\t\t\t</li>\n\t\t\t\t\t\t<li>\n\t\t\t\t\t\t\t<a href=\"http://zzland.zhengzhou.gov.cn/dcjg/index.jhtml\" target=\"_blank\">调查结果</a>\n\t\t\t\t\t\t</li>\n\t\t\t\t\t\t<li>\n\t\t\t\t\t\t\t<a href=\"http://www.zhengzhou.gov.cn/interview2/index.jhtml?d=16\" target=\"_blank\">在线访谈</a>\n\t\t\t\t\t\t</li>\n\t\t\t\t\t\t<li>\n\t\t\t\t\t\t\t<a href=\"http://zzland.zhengzhou.gov.cn/rdpl/index.jhtml\" target=\"_blank\">热点评论</a>\n\t\t\t\t\t\t</li>\n\t\t\t\t\t</ul>\n\t\t\t\t</li>\n\t\t\t\t<li class=\"\">\n\t\t\t\t\t<a href=\"/sjdqr/index.jhtml\">专项工作</a>\n\t\t\t\t\t<ul class=\"clearfix\">\n\t\t\t\t\t\t<li>\n\t\t\t\t\t\t\t<a href=\"http://zzland.zhengzhou.gov.cn/sjdqr/index.jhtml\">世界地球日</a>\n\t\t\t\t\t\t</li>\n\t\t\t\t\t\t<li>\n\t\t\t\t\t\t\t<a href=\"http://zzland.zhengzhou.gov.cn/tdrxc/index.jhtml\">土地日宣传</a>\n\t\t\t\t\t\t</li>\n\t\t\t\t\t\t<li>\n\t\t\t\t\t\t\t<a href=\"http://zzland.zhengzhou.gov.cn/jswmjs/index.jhtml\">精神文明建设工作</a>\n\t\t\t\t\t\t</li>\n\t\t\t\t\t\t<li>\n\t\t\t\t\t\t\t<a href=\"http://zzland.zhengzhou.gov.cn/bwcx/index.jhtml\">“不忘初心、牢记使命”主题教育</a>\n\t\t\t\t\t\t</li>\n\t\t\t\t\t</ul>\n\t\t\t\t</li>\n\t\t\t</ul>\n</div>\n\t\t\t<form action=\"/search.jspx\" method=\"get\" class=\"find-bar clearfix\" onsubmit=\"return search_submit(this)\">\n\t\t\t\t<input type=\"text\" name=\"q\" placeholder=\"请输入关键字\" value=>\n\t\t\t\t<input type=\"submit\" value=\"\">\n\t\t\t\t<em style=\"display: none;\">查询间隔10秒!</em>\n\t\t\t</form>\n\n\t\t\t<script type=\"text/javascript\">\n\t\t\tvar search_submit = function(form){\n\t\t\t\tvar input = form.querySelector(\"input[name=q]\");\n\t\t\t\tvar value = input.value.replace(/(^\\s*)|(\\s*$)/g, \"\");\n\t\t\t\tif(value) {\n\t\t\t\t\t//每10秒可以查询一次\n\t\t\t\t\tif(jQuery.cookie(\"s\")){\n\t\t\t\t\t\tvar em = form.querySelector(\"em\");\n\t\t\t\t\t\tem.style.display = \"block\";\n\t\t\t\t\t\tsetTimeout(function(){\n\t\t\t\t\t\t\tem.style.display = \"none\";\n\t\t\t\t\t\t}, 2000);\n\t\t\t\t\t\treturn false;\n\t\t\t\t\t} else {\n\t\t\t\t\t\tinput.value = value;\n\t\t\t\t\t\tvar date = new Date();\n\t\t\t\t\t\tdate.setTime(date.getTime() + 10000);\n\t\t\t\t\t\tjQuery.cookie(\"s\", value, {expires:date});\n\t\t\t\t\t\treturn true;\n\t\t\t\t\t}\n\t\t\t\t} else {\n\t\t\t\t\treturn false;\n\t\t\t\t}\n\t\t\t}\n\t\t\t</script>\n\t\t</div>\n\t</div>\n\t<script type=\"text/javascript\">\n\t\t(function() {\n\t\t\tif(document.querySelector && document.addEventListener) {\n\t\t\t\tvar nav = document.querySelector(\"#menu>ul\");\n\t\t\t\tvar trigger = nav.parentNode;\n\t\t\t\tvar fn = function(event) {\n\t\t\t\t\tif(nav.style.display == \"\") {\n\t\t\t\t\t\tnav.style.display = \"block\";\n\t\t\t\t\t\tdocument.addEventListener(\"click\", fn);\n\t\t\t\t\t} else {\n\t\t\t\t\t\tnav.style.display = \"\";\n\t\t\t\t\t\tdocument.removeEventListener(\"click\", fn);\n\t\t\t\t\t}\n\t\t\t\t\tevent.stopPropagation();\n\t\t\t\t}\n\t\t\t\ttrigger.addEventListener(\"click\", fn);\n\t\t\t}\n\t\t})();\n\t</script>\n</div><div class=\"max-wrap main-body\">\n\t<div class=\"main-wrap mt-30\">\n\t\t<div class=\"d-table sub\">\n\t\t\t<div class=\"sub-nav-left\">\n\t\t\t\t<div class=\"nodes clearfix\">\n\t<a href=\"http://zzland.zhengzhou.gov.cn/gkzn.jhtml\" >政府信息公开指南</a>\n\t<a href=\"http://zzland.zhengzhou.gov.cn/xxgkzd/index.jhtml\" >政府信息公开制度</a>\n\t<a href=\"http://zzland.zhengzhou.gov.cn/gknb/index.jhtml\" >政府信息公开年报</a>\n\t<a href=\"http://zzland.zhengzhou.gov.cn/ysqgk.jhtml\" >依申请公开</a>\n\t<a href=\"http://zzland.zhengzhou.gov.cn/rsxx/index.jhtml\" >人事信息</a>\n\t<a href=\"http://zzland.zhengzhou.gov.cn/czyjs/index.jhtml\" >财政预算、决算报告</a>\n\t<a href=\"http://zzland.zhengzhou.gov.cn/sgjf/index.jhtml\" >三公经费信息</a>\n\t<a href=\"/tdlygh/index.jhtml\" >规划计划</a>\n\t<a href=\"/xzspi/index.jhtml\" >行政审批</a>\n\t<a href=\"/zdgz/index.jhtml\" >征地信息</a>\n\t<a href=\"/hbgd/index.jhtml\" class=\"focus\">土地供应和出让</a>\n\t<a href=\"http://zzland.zhengzhou.gov.cn/wfxw/index.jhtml\" >自然资源违法行为行政处罚</a>\n\t<a href=\"http://zzland.zhengzhou.gov.cn/jzdj/index.jhtml\" >基准地价</a>\n\t<a href=\"http://zzland.zhengzhou.gov.cn/bddj/index.jhtml\" >标定地价</a>\n\t<a href=\"http://zzland.zhengzhou.gov.cn/yjyb/index.jhtml\" >地质灾害预警预报</a>\n\t<a href=\"/kyqzbpm/index.jhtml\" >矿业权出让转让</a>\n\t<a href=\"http://zzland.zhengzhou.gov.cn/kczycl/index.jhtml\" >矿产资源储量</a>\n\t<a href=\"http://zzland.zhengzhou.gov.cn/tjxx/index.jhtml\" >统计信息</a>\n\t<a href=\"http://zzland.zhengzhou.gov.cn/kxpj/index.jhtml\" >科学普及</a>\n\t<a href=\"http://zzland.zhengzhou.gov.cn/sgszl/index.jhtml\" >“双公示”专栏</a>\n\t<a href=\"http://zzland.zhengzhou.gov.cn/bdcdjgg/index.jhtml\" >不动产登记公告</a>\n\t<a href=\"/ghbz/index.jhtml\" >规划类公告公示</a>\n\t\t\t\t</div>\n\t\t\t</div>\n\t\t\t<div class=\"box-tab sub-box-c\">\n<div class=\"sub-title clearfix\">\n\t\t\t<span class=\"box-title-name second-title\">土地招标拍卖挂牌出让结果</span>\n\t<span class=\"arrow-down\"></span>\n</div>\n<div class=\"third-title clearfix\">\n\t\t\t<a href=\"http://zzland.zhengzhou.gov.cn/tdcr/index.jhtml\" class=\"focus\">土地招标拍卖挂牌出让结果</a>\n\t\t\t<a href=\"http://zzland.zhengzhou.gov.cn/xycrgg/index.jhtml\">土地协议出让公告</a>\n\t\t\t<a href=\"http://zzland.zhengzhou.gov.cn/xycrjg/index.jhtml\">土地协议出让结果</a>\n\t\t\t<a href=\"http://zzland.zhengzhou.gov.cn/hbgd/index.jhtml\">划拨供地结果</a>\n\t\t\t<a href=\"http://zzland.zhengzhou.gov.cn/xztd/index.jhtml\">闲置土地情况</a>\n</div>\n<div class=\"sub-nav\">\n\t<ul class=\"clearfix\">\n\t\t\t<a href=\"http://zzland.zhengzhou.gov.cn/gkzn.jhtml\">政府信息公开指南</a>\n\t\t\t<a href=\"http://zzland.zhengzhou.gov.cn/xxgkzd/index.jhtml\">政府信息公开制度</a>\n\t\t\t<a href=\"http://zzland.zhengzhou.gov.cn/gknb/index.jhtml\">政府信息公开年报</a>\n\t\t\t<a href=\"http://zzland.zhengzhou.gov.cn/ysqgk.jhtml\">依申请公开</a>\n\t\t\t<a href=\"http://zzland.zhengzhou.gov.cn/rsxx/index.jhtml\">人事信息</a>\n\t\t\t<a href=\"http://zzland.zhengzhou.gov.cn/czyjs/index.jhtml\">财政预算、决算报告</a>\n\t\t\t<a href=\"http://zzland.zhengzhou.gov.cn/sgjf/index.jhtml\">三公经费信息</a>\n\t\t\t<a href=\"/tdlygh/index.jhtml\">规划计划</a>\n\t\t\t<a href=\"/xzspi/index.jhtml\">行政审批</a>\n\t\t\t<a href=\"/zdgz/index.jhtml\">征地信息</a>\n\t\t\t<a href=\"/hbgd/index.jhtml\">土地供应和出让</a>\n\t\t\t<a href=\"http://zzland.zhengzhou.gov.cn/wfxw/index.jhtml\">自然资源违法行为行政处罚</a>\n\t\t\t<a href=\"http://zzland.zhengzhou.gov.cn/jzdj/index.jhtml\">基准地价</a>\n\t\t\t<a href=\"http://zzland.zhengzhou.gov.cn/bddj/index.jhtml\">标定地价</a>\n\t\t\t<a href=\"http://zzland.zhengzhou.gov.cn/yjyb/index.jhtml\">地质灾害预警预报</a>\n\t\t\t<a href=\"/kyqzbpm/index.jhtml\">矿业权出让转让</a>\n\t\t\t<a href=\"http://zzland.zhengzhou.gov.cn/kczycl/index.jhtml\">矿产资源储量</a>\n\t\t\t<a href=\"http://zzland.zhengzhou.gov.cn/tjxx/index.jhtml\">统计信息</a>\n\t\t\t<a href=\"http://zzland.zhengzhou.gov.cn/kxpj/index.jhtml\">科学普及</a>\n\t\t\t<a href=\"http://zzland.zhengzhou.gov.cn/sgszl/index.jhtml\">“双公示”专栏</a>\n\t\t\t<a href=\"http://zzland.zhengzhou.gov.cn/bdcdjgg/index.jhtml\">不动产登记公告</a>\n\t\t\t<a href=\"/ghbz/index.jhtml\">规划类公告公示</a>\n\t</ul>\n</div>\n<script type=\"text/javascript\">\n\t(function(){\n\t\t$('.sub-title span:last').click(function(event){\n\t\t\tevent.stopPropagation();\n\t\t\tif($(this).hasClass(\"arrow-up\")){\n\t\t\t\t$(this).removeClass(\"arrow-up\");\n\t\t\t\t$('.sub-nav').removeClass(\"sub-nav-block\");\n\t\t\t}else{\n\t\t\t\t$(this).addClass(\"arrow-up\");\n\t\t\t\t$('.sub-nav').addClass(\"sub-nav-block\");\n\t\t\t}\n\t\t});\n\t\t$(document).click(function(){\n\t\t\t$('.sub-title span:last').removeClass(\"arrow-up\");\n\t\t\t$('.sub-nav').removeClass(\"sub-nav-block\");\n\t\t}); \n\t})()\n</script>\t\t\t\t<div class=\"box-content\">\n\t\t\t\t\t<ul class=\"news-list date-right dot-t pd-20\">\n\t\t\t\t\t\t<li>\n\t\t\t\t\t\t\t<a href=\"http://zzland.zhengzhou.gov.cn/tdcr/2370761.jhtml\" target=\"_blank\">\n\t\t\t\t\t\t\t\t<em>2020-02-21</em>\n\t\t\t\t\t\t\t\t<h1>郑州市自然资源和规划局挂牌出让结果公示（2020年1月16日至2020年2月17日）</h1>\n\t\t\t\t\t\t\t</a>\n\t\t\t\t\t\t</li>\n\t\t\t\t\t\t<li>\n\t\t\t\t\t\t\t<a href=\"http://zzland.zhengzhou.gov.cn/tdcr/2370756.jhtml\" target=\"_blank\">\n\t\t\t\t\t\t\t\t<em>2020-02-04</em>\n\t\t\t\t\t\t\t\t<h1>郑州市自然资源和规划局挂牌出让结果公示（2019年12月31日至2020年1月19日）</h1>\n\t\t\t\t\t\t\t</a>\n\t\t\t\t\t\t</li>\n\t\t\t\t\t\t<li>\n\t\t\t\t\t\t\t<a href=\"http://zzland.zhengzhou.gov.cn/tdcr/2268451.jhtml\" target=\"_blank\">\n\t\t\t\t\t\t\t\t<em>2019-12-24</em>\n\t\t\t\t\t\t\t\t<h1>郑州市自然资源和规划局挂牌出让结果公示（2019年11月28日至2019年12月20日）</h1>\n\t\t\t\t\t\t\t</a>\n\t\t\t\t\t\t</li>\n\t\t\t\t\t\t<li>\n\t\t\t\t\t\t\t<a href=\"http://zzland.zhengzhou.gov.cn/tdcr/2268430.jhtml\" target=\"_blank\">\n\t\t\t\t\t\t\t\t<em>2019-10-24</em>\n\t\t\t\t\t\t\t\t<h1>郑州市自然资源和规划局挂牌出让结果公示（2019年10月8日至2019年10月21日）</h1>\n\t\t\t\t\t\t\t</a>\n\t\t\t\t\t\t</li>\n\t\t\t\t\t\t<li>\n\t\t\t\t\t\t\t<a href=\"http://zzland.zhengzhou.gov.cn/tdcr/2268393.jhtml\" target=\"_blank\">\n\t\t\t\t\t\t\t\t<em>2019-10-14</em>\n\t\t\t\t\t\t\t\t<h1>郑州市自然资源和规划局挂牌出让结果公示（2019年9月19日至2019年10月10日）</h1>\n\t\t\t\t\t\t\t</a>\n\t\t\t\t\t\t</li>\n\t\t\t\t\t\t<li>\n\t\t\t\t\t\t\t<a href=\"http://zzland.zhengzhou.gov.cn/tdcr/2031562.jhtml\" target=\"_blank\">\n\t\t\t\t\t\t\t\t<em>2019-09-18</em>\n\t\t\t\t\t\t\t\t<h1>郑州市自然资源和规划局挂牌出让结果公示（2019年8月26日至2019年9月9日）</h1>\n\t\t\t\t\t\t\t</a>\n\t\t\t\t\t\t</li>\n\t\t\t\t\t\t<li>\n\t\t\t\t\t\t\t<a href=\"http://zzland.zhengzhou.gov.cn/tdcr/2031555.jhtml\" target=\"_blank\">\n\t\t\t\t\t\t\t\t<em>2019-09-05</em>\n\t\t\t\t\t\t\t\t<h1>郑州市自然资源和规划局挂牌出让结果公示（2019年8月12日至2019年8月29日）</h1>\n\t\t\t\t\t\t\t</a>\n\t\t\t\t\t\t</li>\n\t\t\t\t\t\t<li>\n\t\t\t\t\t\t\t<a href=\"http://zzland.zhengzhou.gov.cn/tdcr/1865440.jhtml\" target=\"_blank\">\n\t\t\t\t\t\t\t\t<em>2019-07-17</em>\n\t\t\t\t\t\t\t\t<h1>郑州市自然资源和规划局挂牌出让结果公示〔2019年6月26日至2019年7月10日〕</h1>\n\t\t\t\t\t\t\t</a>\n\t\t\t\t\t\t</li>\n\t\t\t\t\t\t<li>\n\t\t\t\t\t\t\t<a href=\"http://zzland.zhengzhou.gov.cn/tdcr/1865425.jhtml\" target=\"_blank\">\n\t\t\t\t\t\t\t\t<em>2019-07-10</em>\n\t\t\t\t\t\t\t\t<h1>郑州市自然资源和规划局挂牌出让结果公示〔2019年6月17日至2019年7月4日〕</h1>\n\t\t\t\t\t\t\t</a>\n\t\t\t\t\t\t</li>\n\t\t\t\t\t\t<li>\n\t\t\t\t\t\t\t<a href=\"http://zzland.zhengzhou.gov.cn/tdcr/1816503.jhtml\" target=\"_blank\">\n\t\t\t\t\t\t\t\t<em>2019-06-05</em>\n\t\t\t\t\t\t\t\t<h1>郑州市自然资源和规划局挂牌出让结果公示〔2019年5月14日至2019年5月30日〕</h1>\n\t\t\t\t\t\t\t</a>\n\t\t\t\t\t\t</li>\n\t\t\t\t\t</ul>\t\t\t\t\t\t\n\t\t\t\t</div>\n<div class=\"page-tile\">\n\t<span></span>\n\t<span class=\"focus\">1</span>\n\t\t<a href=\"index_2.jhtml\">2</a>\n\t\t<a href=\"index_3.jhtml\">3</a>\n\t\t<a href=\"index_4.jhtml\">4</a>\n\t\t<a href=\"index_5.jhtml\">5</a>\n\t\t<a href=\"index_6.jhtml\">6</a>\n\t\t<a href=\"index_7.jhtml\">7</a>\n\t\t<a href=\"index_8.jhtml\">8</a>\n\t<span class=\"more\"></span>\n\t<a href=\"index_50.jhtml\">50</a>\n\t<a href=\"index_2.jhtml\" class=\"next\"></a>\n</div>\n\t\t\t</div>\n\t\t</div>\n\t</div>\n</div>\n\t\t\t<div class=\"max-wrap copyright\">\n\t\t\t\t<div class=\"main-wrap mt-30\">\n\t\t\t\t\t<table cellpadding=\"28\" cellspacing=\"0\" border=\"0\" width=\"100%\">\n\t\t\t\t\t\t<tr>\n\t\t\t\t\t\t\t<td align=\"right\">\n\t\t\t\t\t\t\t\t<script type=\"text/javascript\">\n\t\t\t\t\t\t\t\t\tdocument.write(unescape(\"%3Cspan id='_ideConac' %3E%3C/span%3E%3Cscript src='http://dcs.conac.cn/js/17/251/0000/40906567/CA172510000409065670002.js' type='text/javascript'%3E%3C/script%3E\"));\n\t\t\t\t\t\t\t\t</script>\n\t\t\t\t\t\t\t</td>\n\t\t\t\t\t\t\t<td width=\"620\">\n\t\t\t\t\t\t\t\t\t\t\t\t\t\t\t\t<a href=\"http://zzland.zhengzhou.gov.cn/map.jhtml\" target=\"_blank\">网站地图</a>\n\t\t\t\t\t\t\t\t &nbsp;&nbsp;&nbsp;主办单位：郑州市自然资源和规划局<br />地址：郑州市淮河西路11号&nbsp;&nbsp;&nbsp;联系电话：0371-68981574\n\t\t\t\t\t\t\t\t<br /> <a href=\"http://beian.miit.gov.cn\" target=\"_blank\">豫ICP备05012610号</a>&nbsp;&nbsp;&nbsp;网站标识码：4101000012 \n<a href=\"http://www.beian.gov.cn/portal/registerSystemInfo?recordcode=41010202002617\"target=\"_blank\">\n\t<img src=\"/r/cms/zzland/cn/images/gaba.png\" style=\"vertical-align:middle;margin-bottom:4px;padding:0 3px 0 7px;\">\n\t豫公网安备 41010202002617号\n</a>\n\t\t\t\t\t\t\t</td>\n\t\t\t\t\t\t\t<td align=\"left\">\n\t\t\t\t\t\t\t\t<script id=\"_jiucuo_\" sitecode='4101000012' src='http://pucha.kaipuyun.cn/exposure/jiucuo.js'></script>\n\t\t\t\t\t\t\t</td>\n\t\t\t\t\t\t</tr>\n\t\t\t\t\t</table>\n\t\t\t\t\t<div class=\"small-copyright\">主办单位：郑州市自然资源和规划局</div>\n\t\t\t\t</div>\n\t\t\t</div>\n\t\t</div>\n\t</body>\n</html>\n"
    }
   ],
   "source": [
    "url1='http://zzland.zhengzhou.gov.cn/tdcr/index_'\n",
    "i=1\n",
    "i=str(i)\n",
    "url3='.jhtml'\n",
    "url=url1+i+url3\n",
    "\n",
    "headers = {'User-Agent':'Mozilla/5.0 (Windows NT 6.1; Win64; x64) AppleWebKit/537.36 (KHTML, like Gecko) Chrome/62.0.3202.89 Safari/537.36'}\n",
    "\n",
    "import requests\n",
    "response=requests.get(url,headers=headers)\n",
    "response.encoding='utf-8'\n",
    "print(response.text)\n",
    "import time\n",
    "time.sleep(11)"
   ]
  },
  {
   "cell_type": "code",
   "execution_count": 12,
   "metadata": {},
   "outputs": [],
   "source": [
    "import lxml.etree\n",
    "selector=lxml.etree.HTML(response.content)\n",
    "items=selector.xpath('//li/a/@ref')\n",
    "for item in items:\n",
    "    print(item)"
   ]
  },
  {
   "cell_type": "code",
   "execution_count": 13,
   "metadata": {},
   "outputs": [
    {
     "output_type": "stream",
     "name": "stdout",
     "text": "首页\n政务公开\n政府信息公开指南\n政府信息公开制度\n政府信息公开年报\n依申请公开\n人事信息\n财政预算、决算报告\n三公经费信息\n规划计划\n行政审批\n征地信息\n土地供应和出让\n自然资源违法行为行政处罚\n基准地价\n标定地价\n地质灾害预警预报\n矿业权出让转让\n矿产资源储量\n统计信息\n科学普及\n“双公示”专栏\n不动产登记公告\n规划类公告公示\n单位概况\n单位简介\n主要职责\n职权目录\n领导介绍\n机构设置\n直属单位\n县区分局\n政策法规\n国家级法律法规\n部门和地方性相关政策、规章和办法\n重要政策法规解读\n网上互动\n局长信箱\n在线咨询\n信件受理统计\n网上调查\n调查结果\n在线访谈\n热点评论\n专项工作\n世界地球日\n土地日宣传\n精神文明建设工作\n“不忘初心、牢记使命”主题教育\n\n\t\t\t\t\t\t\t\t\n2020-02-21\n\n\t\t\t\t\t\t\t\t\n郑州市自然资源和规划局挂牌出让结果公示（2020年1月16日至2020年2月17日）\n\n\t\t\t\t\t\t\t\n\n\t\t\t\t\t\t\t\t\n2020-02-04\n\n\t\t\t\t\t\t\t\t\n郑州市自然资源和规划局挂牌出让结果公示（2019年12月31日至2020年1月19日）\n\n\t\t\t\t\t\t\t\n\n\t\t\t\t\t\t\t\t\n2019-12-24\n\n\t\t\t\t\t\t\t\t\n郑州市自然资源和规划局挂牌出让结果公示（2019年11月28日至2019年12月20日）\n\n\t\t\t\t\t\t\t\n\n\t\t\t\t\t\t\t\t\n2019-10-24\n\n\t\t\t\t\t\t\t\t\n郑州市自然资源和规划局挂牌出让结果公示（2019年10月8日至2019年10月21日）\n\n\t\t\t\t\t\t\t\n\n\t\t\t\t\t\t\t\t\n2019-10-14\n\n\t\t\t\t\t\t\t\t\n郑州市自然资源和规划局挂牌出让结果公示（2019年9月19日至2019年10月10日）\n\n\t\t\t\t\t\t\t\n\n\t\t\t\t\t\t\t\t\n2019-09-18\n\n\t\t\t\t\t\t\t\t\n郑州市自然资源和规划局挂牌出让结果公示（2019年8月26日至2019年9月9日）\n\n\t\t\t\t\t\t\t\n\n\t\t\t\t\t\t\t\t\n2019-09-05\n\n\t\t\t\t\t\t\t\t\n郑州市自然资源和规划局挂牌出让结果公示（2019年8月12日至2019年8月29日）\n\n\t\t\t\t\t\t\t\n\n\t\t\t\t\t\t\t\t\n2019-07-17\n\n\t\t\t\t\t\t\t\t\n郑州市自然资源和规划局挂牌出让结果公示〔2019年6月26日至2019年7月10日〕\n\n\t\t\t\t\t\t\t\n\n\t\t\t\t\t\t\t\t\n2019-07-10\n\n\t\t\t\t\t\t\t\t\n郑州市自然资源和规划局挂牌出让结果公示〔2019年6月17日至2019年7月4日〕\n\n\t\t\t\t\t\t\t\n\n\t\t\t\t\t\t\t\t\n2019-06-05\n\n\t\t\t\t\t\t\t\t\n郑州市自然资源和规划局挂牌出让结果公示〔2019年5月14日至2019年5月30日〕\n\n\t\t\t\t\t\t\t\n"
    }
   ],
   "source": [
    "import lxml.etree\n",
    "selector=lxml.etree.HTML(response.content)\n",
    "items=selector.xpath('//li/a//text()')\n",
    "for item in items:\n",
    "    print(item)"
   ]
  },
  {
   "cell_type": "code",
   "execution_count": null,
   "metadata": {},
   "outputs": [],
   "source": []
  }
 ]
}