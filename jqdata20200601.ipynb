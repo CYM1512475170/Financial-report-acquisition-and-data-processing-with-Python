{
 "cells": [
  {
   "cell_type": "code",
   "execution_count": 2,
   "metadata": {},
   "outputs": [
    {
     "output_type": "stream",
     "name": "stdout",
     "text": "提示：当前环境pandas版本为0.25，get_price与get_fundamentals_continuously接口panel参数将固定为False\n注意：0.25以上版本pandas不支持panel，如使用该数据结构和相关函数请注意修改\nauth success \n"
    }
   ],
   "source": [
    "import jqdatasdk\n",
    "jqdatasdk.auth(\"13141315365\", \"315365\")"
   ]
  },
  {
   "cell_type": "markdown",
   "metadata": {},
   "source": [
    "安装jqdatasdk库出现问题可以参考https://www.joinquant.com/view/community/detail/cdf86c624992fc86ed51d920ef8c637bJQData安装的问题"
   ]
  },
  {
   "cell_type": "markdown",
   "metadata": {},
   "source": [
    "## 获取数据"
   ]
  },
  {
   "cell_type": "markdown",
   "metadata": {},
   "source": [
    "平安银行最新股价"
   ]
  },
  {
   "cell_type": "code",
   "execution_count": 2,
   "metadata": {},
   "outputs": [
    {
     "output_type": "execute_result",
     "data": {
      "text/plain": "             open  close   high   low       volume         money\n2015-01-05  10.24  10.26  10.43  9.99  446489383.0  4.565388e+09\n2015-01-06  10.15  10.11  10.50  9.96  338159640.0  3.453446e+09\n2015-01-07   9.97   9.92  10.14  9.80  265374121.0  2.634796e+09\n2015-01-08   9.93   9.58   9.97  9.55  219732012.0  2.128003e+09\n2015-01-09   9.55   9.66  10.17  9.42  391555169.0  3.835378e+09\n...           ...    ...    ...   ...          ...           ...\n2015-12-25   9.60   9.62   9.67  9.56   51558377.0  4.956380e+08\n2015-12-28   9.64   9.29   9.66  9.29  106046218.0  1.003010e+09\n2015-12-29   9.30   9.38   9.38  9.28   79920944.0  7.447184e+08\n2015-12-30   9.38   9.38   9.39  9.27   68685228.0  6.412772e+08\n2015-12-31   9.38   9.30   9.41  9.29   63345821.0  5.916436e+08\n\n[244 rows x 6 columns]",
      "text/html": "<div>\n<style scoped>\n    .dataframe tbody tr th:only-of-type {\n        vertical-align: middle;\n    }\n\n    .dataframe tbody tr th {\n        vertical-align: top;\n    }\n\n    .dataframe thead th {\n        text-align: right;\n    }\n</style>\n<table border=\"1\" class=\"dataframe\">\n  <thead>\n    <tr style=\"text-align: right;\">\n      <th></th>\n      <th>open</th>\n      <th>close</th>\n      <th>high</th>\n      <th>low</th>\n      <th>volume</th>\n      <th>money</th>\n    </tr>\n  </thead>\n  <tbody>\n    <tr>\n      <th>2015-01-05</th>\n      <td>10.24</td>\n      <td>10.26</td>\n      <td>10.43</td>\n      <td>9.99</td>\n      <td>446489383.0</td>\n      <td>4.565388e+09</td>\n    </tr>\n    <tr>\n      <th>2015-01-06</th>\n      <td>10.15</td>\n      <td>10.11</td>\n      <td>10.50</td>\n      <td>9.96</td>\n      <td>338159640.0</td>\n      <td>3.453446e+09</td>\n    </tr>\n    <tr>\n      <th>2015-01-07</th>\n      <td>9.97</td>\n      <td>9.92</td>\n      <td>10.14</td>\n      <td>9.80</td>\n      <td>265374121.0</td>\n      <td>2.634796e+09</td>\n    </tr>\n    <tr>\n      <th>2015-01-08</th>\n      <td>9.93</td>\n      <td>9.58</td>\n      <td>9.97</td>\n      <td>9.55</td>\n      <td>219732012.0</td>\n      <td>2.128003e+09</td>\n    </tr>\n    <tr>\n      <th>2015-01-09</th>\n      <td>9.55</td>\n      <td>9.66</td>\n      <td>10.17</td>\n      <td>9.42</td>\n      <td>391555169.0</td>\n      <td>3.835378e+09</td>\n    </tr>\n    <tr>\n      <th>...</th>\n      <td>...</td>\n      <td>...</td>\n      <td>...</td>\n      <td>...</td>\n      <td>...</td>\n      <td>...</td>\n    </tr>\n    <tr>\n      <th>2015-12-25</th>\n      <td>9.60</td>\n      <td>9.62</td>\n      <td>9.67</td>\n      <td>9.56</td>\n      <td>51558377.0</td>\n      <td>4.956380e+08</td>\n    </tr>\n    <tr>\n      <th>2015-12-28</th>\n      <td>9.64</td>\n      <td>9.29</td>\n      <td>9.66</td>\n      <td>9.29</td>\n      <td>106046218.0</td>\n      <td>1.003010e+09</td>\n    </tr>\n    <tr>\n      <th>2015-12-29</th>\n      <td>9.30</td>\n      <td>9.38</td>\n      <td>9.38</td>\n      <td>9.28</td>\n      <td>79920944.0</td>\n      <td>7.447184e+08</td>\n    </tr>\n    <tr>\n      <th>2015-12-30</th>\n      <td>9.38</td>\n      <td>9.38</td>\n      <td>9.39</td>\n      <td>9.27</td>\n      <td>68685228.0</td>\n      <td>6.412772e+08</td>\n    </tr>\n    <tr>\n      <th>2015-12-31</th>\n      <td>9.38</td>\n      <td>9.30</td>\n      <td>9.41</td>\n      <td>9.29</td>\n      <td>63345821.0</td>\n      <td>5.916436e+08</td>\n    </tr>\n  </tbody>\n</table>\n<p>244 rows × 6 columns</p>\n</div>"
     },
     "metadata": {},
     "execution_count": 2
    }
   ],
   "source": [
    "jqdatasdk.get_price(\"000001.XSHE\")"
   ]
  },
  {
   "cell_type": "markdown",
   "metadata": {},
   "source": [
    "获取所有沪深300的股票"
   ]
  },
  {
   "cell_type": "code",
   "execution_count": 3,
   "metadata": {},
   "outputs": [
    {
     "output_type": "execute_result",
     "data": {
      "text/plain": "['000001.XSHE',\n '000002.XSHE',\n '000063.XSHE',\n '000069.XSHE',\n '000100.XSHE',\n '000157.XSHE',\n '000166.XSHE',\n '000333.XSHE',\n '000338.XSHE',\n '000413.XSHE',\n '000415.XSHE',\n '000423.XSHE',\n '000425.XSHE',\n '000538.XSHE',\n '000568.XSHE',\n '000596.XSHE',\n '000625.XSHE',\n '000627.XSHE',\n '000629.XSHE',\n '000630.XSHE',\n '000651.XSHE',\n '000656.XSHE',\n '000661.XSHE',\n '000671.XSHE',\n '000703.XSHE',\n '000709.XSHE',\n '000723.XSHE',\n '000725.XSHE',\n '000728.XSHE',\n '000768.XSHE',\n '000776.XSHE',\n '000783.XSHE',\n '000786.XSHE',\n '000858.XSHE',\n '000876.XSHE',\n '000895.XSHE',\n '000898.XSHE',\n '000938.XSHE',\n '000961.XSHE',\n '000963.XSHE',\n '001979.XSHE',\n '002001.XSHE',\n '002007.XSHE',\n '002008.XSHE',\n '002010.XSHE',\n '002024.XSHE',\n '002027.XSHE',\n '002032.XSHE',\n '002044.XSHE',\n '002050.XSHE',\n '002081.XSHE',\n '002120.XSHE',\n '002142.XSHE',\n '002146.XSHE',\n '002153.XSHE',\n '002179.XSHE',\n '002202.XSHE',\n '002230.XSHE',\n '002236.XSHE',\n '002241.XSHE',\n '002252.XSHE',\n '002271.XSHE',\n '002294.XSHE',\n '002304.XSHE',\n '002311.XSHE',\n '002352.XSHE',\n '002410.XSHE',\n '002411.XSHE',\n '002415.XSHE',\n '002422.XSHE',\n '002456.XSHE',\n '002460.XSHE',\n '002466.XSHE',\n '002468.XSHE',\n '002475.XSHE',\n '002493.XSHE',\n '002508.XSHE',\n '002555.XSHE',\n '002558.XSHE',\n '002594.XSHE',\n '002601.XSHE',\n '002602.XSHE',\n '002607.XSHE',\n '002624.XSHE',\n '002673.XSHE',\n '002714.XSHE',\n '002736.XSHE',\n '002739.XSHE',\n '002773.XSHE',\n '002841.XSHE',\n '002916.XSHE',\n '002938.XSHE',\n '002939.XSHE',\n '002945.XSHE',\n '002958.XSHE',\n '300003.XSHE',\n '300015.XSHE',\n '300017.XSHE',\n '300024.XSHE',\n '300033.XSHE',\n '300059.XSHE',\n '300070.XSHE',\n '300122.XSHE',\n '300124.XSHE',\n '300136.XSHE',\n '300142.XSHE',\n '300144.XSHE',\n '300347.XSHE',\n '300408.XSHE',\n '300413.XSHE',\n '300433.XSHE',\n '300498.XSHE',\n '600000.XSHG',\n '600004.XSHG',\n '600009.XSHG',\n '600010.XSHG',\n '600011.XSHG',\n '600015.XSHG',\n '600016.XSHG',\n '600018.XSHG',\n '600019.XSHG',\n '600023.XSHG',\n '600025.XSHG',\n '600027.XSHG',\n '600028.XSHG',\n '600029.XSHG',\n '600030.XSHG',\n '600031.XSHG',\n '600036.XSHG',\n '600038.XSHG',\n '600048.XSHG',\n '600050.XSHG',\n '600061.XSHG',\n '600066.XSHG',\n '600068.XSHG',\n '600085.XSHG',\n '600089.XSHG',\n '600100.XSHG',\n '600104.XSHG',\n '600109.XSHG',\n '600111.XSHG',\n '600115.XSHG',\n '600118.XSHG',\n '600153.XSHG',\n '600170.XSHG',\n '600176.XSHG',\n '600177.XSHG',\n '600183.XSHG',\n '600188.XSHG',\n '600196.XSHG',\n '600208.XSHG',\n '600219.XSHG',\n '600221.XSHG',\n '600233.XSHG',\n '600271.XSHG',\n '600276.XSHG',\n '600297.XSHG',\n '600299.XSHG',\n '600309.XSHG',\n '600332.XSHG',\n '600340.XSHG',\n '600346.XSHG',\n '600352.XSHG',\n '600362.XSHG',\n '600369.XSHG',\n '600372.XSHG',\n '600383.XSHG',\n '600390.XSHG',\n '600398.XSHG',\n '600406.XSHG',\n '600436.XSHG',\n '600438.XSHG',\n '600482.XSHG',\n '600487.XSHG',\n '600489.XSHG',\n '600498.XSHG',\n '600516.XSHG',\n '600519.XSHG',\n '600522.XSHG',\n '600535.XSHG',\n '600547.XSHG',\n '600566.XSHG',\n '600570.XSHG',\n '600583.XSHG',\n '600585.XSHG',\n '600588.XSHG',\n '600606.XSHG',\n '600637.XSHG',\n '600655.XSHG',\n '600660.XSHG',\n '600663.XSHG',\n '600674.XSHG',\n '600690.XSHG',\n '600703.XSHG',\n '600705.XSHG',\n '600733.XSHG',\n '600741.XSHG',\n '600760.XSHG',\n '600795.XSHG',\n '600809.XSHG',\n '600816.XSHG',\n '600837.XSHG',\n '600848.XSHG',\n '600867.XSHG',\n '600886.XSHG',\n '600887.XSHG',\n '600893.XSHG',\n '600900.XSHG',\n '600919.XSHG',\n '600926.XSHG',\n '600928.XSHG',\n '600958.XSHG',\n '600968.XSHG',\n '600977.XSHG',\n '600989.XSHG',\n '600998.XSHG',\n '600999.XSHG',\n '601006.XSHG',\n '601009.XSHG',\n '601012.XSHG',\n '601018.XSHG',\n '601021.XSHG',\n '601066.XSHG',\n '601088.XSHG',\n '601108.XSHG',\n '601111.XSHG',\n '601117.XSHG',\n '601138.XSHG',\n '601155.XSHG',\n '601162.XSHG',\n '601166.XSHG',\n '601169.XSHG',\n '601186.XSHG',\n '601198.XSHG',\n '601211.XSHG',\n '601212.XSHG',\n '601216.XSHG',\n '601225.XSHG',\n '601229.XSHG',\n '601236.XSHG',\n '601238.XSHG',\n '601288.XSHG',\n '601298.XSHG',\n '601318.XSHG',\n '601319.XSHG',\n '601328.XSHG',\n '601336.XSHG',\n '601360.XSHG',\n '601377.XSHG',\n '601390.XSHG',\n '601398.XSHG',\n '601555.XSHG',\n '601577.XSHG',\n '601600.XSHG',\n '601601.XSHG',\n '601607.XSHG',\n '601618.XSHG',\n '601628.XSHG',\n '601633.XSHG',\n '601668.XSHG',\n '601669.XSHG',\n '601688.XSHG',\n '601698.XSHG',\n '601727.XSHG',\n '601766.XSHG',\n '601788.XSHG',\n '601800.XSHG',\n '601808.XSHG',\n '601818.XSHG',\n '601828.XSHG',\n '601838.XSHG',\n '601857.XSHG',\n '601877.XSHG',\n '601878.XSHG',\n '601881.XSHG',\n '601888.XSHG',\n '601898.XSHG',\n '601899.XSHG',\n '601901.XSHG',\n '601919.XSHG',\n '601933.XSHG',\n '601939.XSHG',\n '601985.XSHG',\n '601988.XSHG',\n '601989.XSHG',\n '601992.XSHG',\n '601997.XSHG',\n '601998.XSHG',\n '603019.XSHG',\n '603156.XSHG',\n '603160.XSHG',\n '603259.XSHG',\n '603260.XSHG',\n '603288.XSHG',\n '603501.XSHG',\n '603799.XSHG',\n '603833.XSHG',\n '603899.XSHG',\n '603986.XSHG',\n '603993.XSHG']"
     },
     "metadata": {},
     "execution_count": 3
    }
   ],
   "source": [
    "jqdatasdk.get_index_stocks('000300.XSHG')"
   ]
  },
  {
   "cell_type": "markdown",
   "metadata": {},
   "source": [
    "查询'000001.XSHE'的所有市值数据, 时间是2015-10-15"
   ]
  },
  {
   "cell_type": "code",
   "execution_count": 5,
   "metadata": {},
   "outputs": [
    {
     "output_type": "execute_result",
     "data": {
      "text/plain": "0    1598.2791\nName: market_cap, dtype: float64"
     },
     "metadata": {},
     "execution_count": 5
    }
   ],
   "source": [
    "q=jqdatasdk.query(\n",
    "    jqdatasdk.valuation\n",
    ").filter(\n",
    "    jqdatasdk.valuation.code == '000001.XSHE'\n",
    ")\n",
    "\n",
    "df = jqdatasdk.get_fundamentals(q, '2015-10-15')\n",
    "\n",
    "df['market_cap']"
   ]
  },
  {
   "cell_type": "markdown",
   "metadata": {},
   "source": [
    "查询平安银行2014年的年报"
   ]
  },
  {
   "cell_type": "code",
   "execution_count": 6,
   "metadata": {},
   "outputs": [],
   "source": [
    "q = jqdatasdk.query(\n",
    "        jqdatasdk.income.statDate,\n",
    "        jqdatasdk.income.code,\n",
    "        jqdatasdk.income.basic_eps,\n",
    "        jqdatasdk.cash_flow.goods_sale_and_service_render_cash\n",
    "    ).filter(\n",
    "        jqdatasdk.income.code == '000001.XSHE',\n",
    "    )\n",
    "\n",
    "ret = jqdatasdk.get_fundamentals(q, statDate='2014')"
   ]
  },
  {
   "cell_type": "code",
   "execution_count": 7,
   "metadata": {},
   "outputs": [
    {
     "output_type": "execute_result",
     "data": {
      "text/plain": "     statDate         code  basic_eps  goods_sale_and_service_render_cash\n0  2014-12-31  000001.XSHE       1.73                                 NaN",
      "text/html": "<div>\n<style scoped>\n    .dataframe tbody tr th:only-of-type {\n        vertical-align: middle;\n    }\n\n    .dataframe tbody tr th {\n        vertical-align: top;\n    }\n\n    .dataframe thead th {\n        text-align: right;\n    }\n</style>\n<table border=\"1\" class=\"dataframe\">\n  <thead>\n    <tr style=\"text-align: right;\">\n      <th></th>\n      <th>statDate</th>\n      <th>code</th>\n      <th>basic_eps</th>\n      <th>goods_sale_and_service_render_cash</th>\n    </tr>\n  </thead>\n  <tbody>\n    <tr>\n      <th>0</th>\n      <td>2014-12-31</td>\n      <td>000001.XSHE</td>\n      <td>1.73</td>\n      <td>NaN</td>\n    </tr>\n  </tbody>\n</table>\n</div>"
     },
     "metadata": {},
     "execution_count": 7
    }
   ],
   "source": [
    "ret"
   ]
  },
  {
   "cell_type": "markdown",
   "metadata": {},
   "source": [
    "## 资产负债表"
   ]
  },
  {
   "cell_type": "code",
   "execution_count": 10,
   "metadata": {},
   "outputs": [],
   "source": [
    "from jqdatasdk import finance\n",
    "\n",
    "# codeqianyuandianli=\"002039.xshe\"\n",
    "# codeqianyuandianli=jqdatasdk.normalize_code('002039')\n",
    "codeshuidian=['sh600900','sh600025','sh600886','sh600236','002039','sh600674','sz000722','sz000883','000791.SZ','000993','000601','600868']\n",
    "for code in codeshuidian:\n",
    "    codeqianyuandianli=jqdatasdk.normalize_code(code)\n",
    "    qianyuandianli=finance.run_query(jqdatasdk.query(finance.STK_BALANCE_SHEET.fixed_assets,                                                 finance.STK_BALANCE_SHEET.total_assets,                                                 finance.STK_BALANCE_SHEET.code,                                              finance.STK_BALANCE_SHEET.cash_equivalents,                                                 finance.STK_BALANCE_SHEET.pub_date,                                                 finance.STK_BALANCE_SHEET.start_date,                                                 finance.STK_BALANCE_SHEET.end_date,                                                 finance.STK_BALANCE_SHEET.company_name                                                 ).filter(finance.STK_BALANCE_SHEET.code==codeqianyuandianli,                                                          finance.STK_BALANCE_SHEET.pub_date>='2010-01-01',finance.STK_BALANCE_SHEET.report_type==0).limit(50))\n",
    "    qianyuandianli  "
   ]
  },
  {
   "cell_type": "markdown",
   "metadata": {},
   "source": [
    "shortterm_loan\t短期借款\tdecimal(20,4)\n",
    "\n",
    "non_current_liability_in_one_year\t一年内到期的非流动负债\tdecimal(20,4)\n",
    "\n",
    "longterm_loan\t长期借款\tdecimal(20,4)\n",
    "\n",
    "bonds_payable\t应付债券\tdecimal(20,4)"
   ]
  },
  {
   "cell_type": "code",
   "execution_count": 12,
   "metadata": {},
   "outputs": [],
   "source": [
    "import pandas\n",
    "from jqdatasdk import finance\n",
    "codeshuidian=['sh600900','sh600025','sh600886','sh600236','002039','sh600674','sz000722','sz000883','000791.SZ','000993','000601','600868']\n",
    "for code in codeshuidian:\n",
    "    codeqianyuandianli=jqdatasdk.normalize_code(code)\n",
    "    # print(\"\\n*********\",code,\"***********************\")\n",
    "    qianyuandianli1=finance.run_query(jqdatasdk.query(finance.STK_BALANCE_SHEET.shortterm_loan,\n",
    "                                                 finance.STK_BALANCE_SHEET.longterm_loan,\n",
    "                                                 finance.STK_BALANCE_SHEET.non_current_liability_in_one_year,\n",
    "                                                 finance.STK_BALANCE_SHEET.bonds_payable,\n",
    "                                                 finance.STK_BALANCE_SHEET.total_assets,\n",
    "                                                 finance.STK_BALANCE_SHEET.code,finance.STK_BALANCE_SHEET.pub_date,\n",
    "                                                 finance.STK_BALANCE_SHEET.start_date,\n",
    "                                                 finance.STK_BALANCE_SHEET.end_date,\n",
    "                                                 finance.STK_BALANCE_SHEET.company_name\n",
    "                                                 ).filter(finance.STK_BALANCE_SHEET.code==codeqianyuandianli,\n",
    "                                                          finance.STK_BALANCE_SHEET.pub_date>='2010-01-01',\n",
    "                                                          finance.STK_BALANCE_SHEET.report_type==0\n",
    "                                                          ).limit(50))\n",
    "    qianyuandianli1=qianyuandianli1.fillna(0)\n",
    "    qianyuandianli1\n",
    "    # qianyuandianli1.append(qianyuandianli1)\n",
    "    # print((qianyuandianli1['shortterm_loan']+qianyuandianli1['longterm_loan']+qianyuandianli1['non_current_liability_in_one_year']+qianyuandianli1['bonds_payable'])/qianyuandianli1['total_assets'],qianyuandianli1['company_name'])"
   ]
  },
  {
   "cell_type": "markdown",
   "metadata": {},
   "source": [
    "查询当日剩余可调用条数"
   ]
  },
  {
   "cell_type": "code",
   "execution_count": 13,
   "metadata": {},
   "outputs": [
    {
     "output_type": "execute_result",
     "data": {
      "text/plain": "{'total': 2000000, 'spare': 1997009}"
     },
     "metadata": {},
     "execution_count": 13
    }
   ],
   "source": [
    "from jqdatasdk import *\n",
    "get_query_count()"
   ]
  },
  {
   "cell_type": "markdown",
   "metadata": {},
   "source": [
    "获取行业概念成分股"
   ]
  },
  {
   "cell_type": "code",
   "execution_count": 14,
   "metadata": {},
   "outputs": [],
   "source": [
    "r1=get_concept('000001.XSHE','2019-11-20')"
   ]
  },
  {
   "cell_type": "code",
   "execution_count": 15,
   "metadata": {},
   "outputs": [
    {
     "output_type": "execute_result",
     "data": {
      "text/plain": "{'000001.XSHE': {'jq_concept': [{'concept_name': '陆股通重仓',\n    'concept_code': 'GN1101'},\n   {'concept_name': '成交主力', 'concept_code': 'GN1133'},\n   {'concept_name': '基金重仓', 'concept_code': 'GN1141'},\n   {'concept_name': '社保重仓', 'concept_code': 'GN1159'},\n   {'concept_name': '富时罗素概念', 'concept_code': 'GN1165'},\n   {'concept_name': '标普道琼斯概念', 'concept_code': 'GN1174'},\n   {'concept_name': '陆股通周买入前二十', 'concept_code': 'GN1217'},\n   {'concept_name': '陆股通月卖出前二十', 'concept_code': 'GN1220'},\n   {'concept_name': 'MSCI中国概念', 'concept_code': 'GN1230'},\n   {'concept_name': '万得A50', 'concept_code': 'GN1233'},\n   {'concept_name': '基金重仓(季调)', 'concept_code': 'GN1271'},\n   {'concept_name': '国家队', 'concept_code': 'GN196'},\n   {'concept_name': '证金概念', 'concept_code': 'GN198'},\n   {'concept_name': '白马股', 'concept_code': 'GN232'},\n   {'concept_name': 'MSCI大盘', 'concept_code': 'GN240'},\n   {'concept_name': '一线龙头', 'concept_code': 'GN242'},\n   {'concept_name': '农村金融', 'concept_code': 'GN688'},\n   {'concept_name': 'P2P', 'concept_code': 'GN700'},\n   {'concept_name': '银行', 'concept_code': 'GN815'},\n   {'concept_name': '信托', 'concept_code': 'GN915'},\n   {'concept_name': '金改', 'concept_code': 'GN942'},\n   {'concept_name': '珠三角', 'concept_code': 'GN966'}]}}"
     },
     "metadata": {},
     "execution_count": 15
    }
   ],
   "source": [
    "r1"
   ]
  },
  {
   "cell_type": "markdown",
   "metadata": {},
   "source": [
    "get_industries - 获取行业列表"
   ]
  },
  {
   "cell_type": "code",
   "execution_count": 16,
   "metadata": {},
   "outputs": [
    {
     "output_type": "execute_result",
     "data": {
      "text/plain": "           name start_date\nL72       商务服务业 1996-08-29\nL71         租赁业 1997-01-30\nG53       铁路运输业 1998-05-11\nG57       管道运输业 1996-11-04\nG56       航空运输业 1997-11-05\n..          ...        ...\nG60         邮政业 2017-02-16\nN76       水利管理业 2012-01-01\nN77  生态保护和环境治理业 2012-10-26\nN78     公共设施管理业 1992-08-07\nE50  建筑装饰和其他建筑业 1997-05-22\n\n[90 rows x 2 columns]",
      "text/html": "<div>\n<style scoped>\n    .dataframe tbody tr th:only-of-type {\n        vertical-align: middle;\n    }\n\n    .dataframe tbody tr th {\n        vertical-align: top;\n    }\n\n    .dataframe thead th {\n        text-align: right;\n    }\n</style>\n<table border=\"1\" class=\"dataframe\">\n  <thead>\n    <tr style=\"text-align: right;\">\n      <th></th>\n      <th>name</th>\n      <th>start_date</th>\n    </tr>\n  </thead>\n  <tbody>\n    <tr>\n      <th>L72</th>\n      <td>商务服务业</td>\n      <td>1996-08-29</td>\n    </tr>\n    <tr>\n      <th>L71</th>\n      <td>租赁业</td>\n      <td>1997-01-30</td>\n    </tr>\n    <tr>\n      <th>G53</th>\n      <td>铁路运输业</td>\n      <td>1998-05-11</td>\n    </tr>\n    <tr>\n      <th>G57</th>\n      <td>管道运输业</td>\n      <td>1996-11-04</td>\n    </tr>\n    <tr>\n      <th>G56</th>\n      <td>航空运输业</td>\n      <td>1997-11-05</td>\n    </tr>\n    <tr>\n      <th>...</th>\n      <td>...</td>\n      <td>...</td>\n    </tr>\n    <tr>\n      <th>G60</th>\n      <td>邮政业</td>\n      <td>2017-02-16</td>\n    </tr>\n    <tr>\n      <th>N76</th>\n      <td>水利管理业</td>\n      <td>2012-01-01</td>\n    </tr>\n    <tr>\n      <th>N77</th>\n      <td>生态保护和环境治理业</td>\n      <td>2012-10-26</td>\n    </tr>\n    <tr>\n      <th>N78</th>\n      <td>公共设施管理业</td>\n      <td>1992-08-07</td>\n    </tr>\n    <tr>\n      <th>E50</th>\n      <td>建筑装饰和其他建筑业</td>\n      <td>1997-05-22</td>\n    </tr>\n  </tbody>\n</table>\n<p>90 rows × 2 columns</p>\n</div>"
     },
     "metadata": {},
     "execution_count": 16
    }
   ],
   "source": [
    "get_industries(name='zjw', date=None)"
   ]
  },
  {
   "cell_type": "markdown",
   "metadata": {},
   "source": [
    "get_industry_stocks - 获取行业成份股"
   ]
  },
  {
   "cell_type": "code",
   "execution_count": 17,
   "metadata": {},
   "outputs": [],
   "source": [
    "# 获取计算机/互联网行业的成分股\n",
    "stocks = get_industry_stocks('I64')"
   ]
  },
  {
   "cell_type": "code",
   "execution_count": 18,
   "metadata": {},
   "outputs": [
    {
     "output_type": "execute_result",
     "data": {
      "text/plain": "['000503.XSHE',\n '000606.XSHE',\n '000676.XSHE',\n '000835.XSHE',\n '002072.XSHE',\n '002095.XSHE',\n '002113.XSHE',\n '002131.XSHE',\n '002174.XSHE',\n '002175.XSHE',\n '002235.XSHE',\n '002247.XSHE',\n '002315.XSHE',\n '002354.XSHE',\n '002425.XSHE',\n '002439.XSHE',\n '002447.XSHE',\n '002464.XSHE',\n '002467.XSHE',\n '002517.XSHE',\n '002530.XSHE',\n '002555.XSHE',\n '002558.XSHE',\n '002619.XSHE',\n '002624.XSHE',\n '002803.XSHE',\n '300031.XSHE',\n '300038.XSHE',\n '300043.XSHE',\n '300052.XSHE',\n '300104.XSHE',\n '300113.XSHE',\n '300226.XSHE',\n '300242.XSHE',\n '300295.XSHE',\n '300315.XSHE',\n '300343.XSHE',\n '300392.XSHE',\n '300418.XSHE',\n '300431.XSHE',\n '300459.XSHE',\n '300467.XSHE',\n '300494.XSHE',\n '300571.XSHE',\n '300766.XSHE',\n '300773.XSHE',\n '300785.XSHE',\n '300792.XSHE',\n '600070.XSHG',\n '600242.XSHG',\n '600358.XSHG',\n '600633.XSHG',\n '600634.XSHG',\n '600640.XSHG',\n '600652.XSHG',\n '600804.XSHG',\n '600899.XSHG',\n '600986.XSHG',\n '601360.XSHG',\n '603000.XSHG',\n '603258.XSHG',\n '603444.XSHG',\n '603533.XSHG',\n '603613.XSHG',\n '603825.XSHG',\n '603881.XSHG',\n '603888.XSHG',\n '688158.XSHG']"
     },
     "metadata": {},
     "execution_count": 18
    }
   ],
   "source": [
    "stocks"
   ]
  },
  {
   "cell_type": "markdown",
   "metadata": {},
   "source": [
    "get_concepts - 获取概念列表"
   ]
  },
  {
   "cell_type": "code",
   "execution_count": 19,
   "metadata": {},
   "outputs": [],
   "source": [
    "# 获取风力发电概念板块的成分股\n",
    "stocks = get_concept_stocks('GN036')"
   ]
  },
  {
   "cell_type": "code",
   "execution_count": 20,
   "metadata": {},
   "outputs": [
    {
     "output_type": "execute_result",
     "data": {
      "text/plain": "['000791.XSHE',\n '000836.XSHE',\n '000862.XSHE',\n '000958.XSHE',\n '002080.XSHE',\n '002202.XSHE',\n '002204.XSHE',\n '002487.XSHE',\n '002531.XSHE',\n '300040.XSHE',\n '300129.XSHE',\n '300169.XSHE',\n '300185.XSHE',\n '300443.XSHE',\n '300569.XSHE',\n '300690.XSHE',\n '300772.XSHE',\n '600163.XSHG',\n '600192.XSHG',\n '600290.XSHG',\n '600416.XSHG',\n '600458.XSHG',\n '600483.XSHG',\n '600875.XSHG',\n '601016.XSHG',\n '601218.XSHG',\n '601615.XSHG',\n '601619.XSHG',\n '603063.XSHG',\n '603693.XSHG']"
     },
     "metadata": {},
     "execution_count": 20
    }
   ],
   "source": [
    "stocks"
   ]
  },
  {
   "cell_type": "markdown",
   "metadata": {},
   "source": [
    "get_industry - 查询股票所属行业"
   ]
  },
  {
   "cell_type": "code",
   "execution_count": 21,
   "metadata": {},
   "outputs": [
    {
     "output_type": "execute_result",
     "data": {
      "text/plain": "{'600519.XSHG': {'sw_l1': {'industry_code': '801120',\n   'industry_name': '食品饮料I'},\n  'sw_l2': {'industry_code': '801123', 'industry_name': '饮料制造II'},\n  'sw_l3': {'industry_code': '851231', 'industry_name': '白酒III'},\n  'zjw': {'industry_code': 'C15', 'industry_name': '酒、饮料和精制茶制造业'},\n  'jq_l2': {'industry_code': 'HY478', 'industry_name': '白酒与葡萄酒指数'},\n  'jq_l1': {'industry_code': 'HY005', 'industry_name': '日常消费指数'}}}"
     },
     "metadata": {},
     "execution_count": 21
    }
   ],
   "source": [
    "#获取贵州茅台(\"600519.XSHG\")的所属行业数据\n",
    "d = get_industry(\"600519.XSHG\",date=\"2018-06-01\")\n",
    "d"
   ]
  },
  {
   "cell_type": "code",
   "execution_count": 22,
   "metadata": {},
   "outputs": [
    {
     "output_type": "execute_result",
     "data": {
      "text/plain": "{'000001.XSHE': {'sw_l1': {'industry_code': '801780', 'industry_name': '银行I'},\n  'sw_l2': {'industry_code': '801192', 'industry_name': '银行II'},\n  'sw_l3': {'industry_code': '851911', 'industry_name': '银行III'},\n  'zjw': {'industry_code': 'J66', 'industry_name': '货币金融服务'},\n  'jq_l2': {'industry_code': 'HY493', 'industry_name': '多元化银行指数'},\n  'jq_l1': {'industry_code': 'HY007', 'industry_name': '金融指数'}},\n '000002.XSHE': {'sw_l1': {'industry_code': '801180', 'industry_name': '房地产I'},\n  'sw_l2': {'industry_code': '801181', 'industry_name': '房地产开发II'},\n  'sw_l3': {'industry_code': '851811', 'industry_name': '房地产开发III'},\n  'zjw': {'industry_code': 'K70', 'industry_name': '房地产业'},\n  'jq_l2': {'industry_code': 'HY509', 'industry_name': '房地产开发指数'},\n  'jq_l1': {'industry_code': 'HY011', 'industry_name': '房地产指数'}}}"
     },
     "metadata": {},
     "execution_count": 22
    }
   ],
   "source": [
    "#同时获取多只股票的所属行业信息\n",
    "stock_list = ['000001.XSHE','000002.XSHE']\n",
    "d = get_industry(security=stock_list, date=\"2018-06-01\")\n",
    "d"
   ]
  },
  {
   "cell_type": "markdown",
   "metadata": {},
   "source": [
    "get_concept-获取股票所属概念板块"
   ]
  },
  {
   "cell_type": "code",
   "execution_count": 23,
   "metadata": {},
   "outputs": [
    {
     "output_type": "stream",
     "name": "stdout",
     "text": "{'000001.XSHE': {'jq_concept': [{'concept_name': '陆股通重仓', 'concept_code': 'GN1101'}, {'concept_name': '成交主力', 'concept_code': 'GN1133'}, {'concept_name': '基金重仓', 'concept_code': 'GN1141'}, {'concept_name': '富时罗素概念', 'concept_code': 'GN1165'}, {'concept_name': '标普道琼斯概念', 'concept_code': 'GN1174'}, {'concept_name': '私募重仓', 'concept_code': 'GN1178'}, {'concept_name': '陆股通日买入前二十', 'concept_code': 'GN1205'}, {'concept_name': '陆股通持续净买入', 'concept_code': 'GN1214'}, {'concept_name': '陆股通月买入前二十', 'concept_code': 'GN1215'}, {'concept_name': 'MSCI中国概念', 'concept_code': 'GN1230'}, {'concept_name': '万得A50', 'concept_code': 'GN1233'}, {'concept_name': '国家队', 'concept_code': 'GN196'}, {'concept_name': '证金概念', 'concept_code': 'GN198'}, {'concept_name': '白马股', 'concept_code': 'GN232'}, {'concept_name': 'MSCI大盘', 'concept_code': 'GN240'}, {'concept_name': '一线龙头', 'concept_code': 'GN242'}, {'concept_name': '可转债预案', 'concept_code': 'GN257'}, {'concept_name': '农村金融', 'concept_code': 'GN688'}, {'concept_name': 'P2P', 'concept_code': 'GN700'}, {'concept_name': '银行', 'concept_code': 'GN815'}, {'concept_name': '信托', 'concept_code': 'GN915'}, {'concept_name': '金改', 'concept_code': 'GN942'}, {'concept_name': '珠三角', 'concept_code': 'GN966'}]}}\n"
    }
   ],
   "source": [
    "dict1 = get_concept('000001.XSHE', date='2019-07-15')\n",
    "print(dict1)"
   ]
  },
  {
   "cell_type": "markdown",
   "metadata": {},
   "source": [
    "## 获取行业指数数据"
   ]
  },
  {
   "cell_type": "markdown",
   "metadata": {},
   "source": [
    "获取申万一级行业日行情数据"
   ]
  },
  {
   "cell_type": "code",
   "execution_count": 24,
   "metadata": {},
   "outputs": [
    {
     "output_type": "execute_result",
     "data": {
      "text/plain": "        id        date    code  name     open     high      low    close  \\\n0  1880184  2020-06-02  801010  农林牧渔  3709.63  3769.21  3709.59  3725.40   \n1  1880128  2020-06-01  801010  农林牧渔  3653.60  3694.39  3633.93  3692.61   \n2  1880072  2020-05-29  801010  农林牧渔  3579.71  3648.69  3572.27  3646.69   \n3  1880016  2020-05-28  801010  农林牧渔  3650.28  3656.30  3565.79  3595.09   \n4  1879960  2020-05-27  801010  农林牧渔  3678.52  3690.24  3642.51  3647.73   \n5  1879904  2020-05-26  801010  农林牧渔  3681.08  3681.27  3645.27  3681.27   \n6  1879848  2020-05-25  801010  农林牧渔  3641.25  3687.92  3629.61  3670.19   \n7  1879792  2020-05-22  801010  农林牧渔  3657.45  3708.75  3607.49  3628.39   \n8  1879736  2020-05-21  801010  农林牧渔  3743.92  3752.40  3650.96  3662.18   \n9  1879680  2020-05-20  801010  农林牧渔  3777.00  3777.04  3723.50  3730.77   \n\n         volume         money  change_pct  \n0  2.299559e+09  2.668395e+10        0.89  \n1  1.741388e+09  2.017782e+10        1.26  \n2  1.456521e+09  1.746962e+10        1.44  \n3  1.589057e+09  1.820249e+10       -1.44  \n4  1.680166e+09  1.941496e+10       -0.91  \n5  1.343008e+09  1.643733e+10        0.30  \n6  1.353317e+09  1.838721e+10        1.15  \n7  1.612986e+09  1.969208e+10       -0.92  \n8  1.860094e+09  2.306326e+10       -1.84  \n9  2.048092e+09  2.547892e+10       -1.55  ",
      "text/html": "<div>\n<style scoped>\n    .dataframe tbody tr th:only-of-type {\n        vertical-align: middle;\n    }\n\n    .dataframe tbody tr th {\n        vertical-align: top;\n    }\n\n    .dataframe thead th {\n        text-align: right;\n    }\n</style>\n<table border=\"1\" class=\"dataframe\">\n  <thead>\n    <tr style=\"text-align: right;\">\n      <th></th>\n      <th>id</th>\n      <th>date</th>\n      <th>code</th>\n      <th>name</th>\n      <th>open</th>\n      <th>high</th>\n      <th>low</th>\n      <th>close</th>\n      <th>volume</th>\n      <th>money</th>\n      <th>change_pct</th>\n    </tr>\n  </thead>\n  <tbody>\n    <tr>\n      <th>0</th>\n      <td>1880184</td>\n      <td>2020-06-02</td>\n      <td>801010</td>\n      <td>农林牧渔</td>\n      <td>3709.63</td>\n      <td>3769.21</td>\n      <td>3709.59</td>\n      <td>3725.40</td>\n      <td>2.299559e+09</td>\n      <td>2.668395e+10</td>\n      <td>0.89</td>\n    </tr>\n    <tr>\n      <th>1</th>\n      <td>1880128</td>\n      <td>2020-06-01</td>\n      <td>801010</td>\n      <td>农林牧渔</td>\n      <td>3653.60</td>\n      <td>3694.39</td>\n      <td>3633.93</td>\n      <td>3692.61</td>\n      <td>1.741388e+09</td>\n      <td>2.017782e+10</td>\n      <td>1.26</td>\n    </tr>\n    <tr>\n      <th>2</th>\n      <td>1880072</td>\n      <td>2020-05-29</td>\n      <td>801010</td>\n      <td>农林牧渔</td>\n      <td>3579.71</td>\n      <td>3648.69</td>\n      <td>3572.27</td>\n      <td>3646.69</td>\n      <td>1.456521e+09</td>\n      <td>1.746962e+10</td>\n      <td>1.44</td>\n    </tr>\n    <tr>\n      <th>3</th>\n      <td>1880016</td>\n      <td>2020-05-28</td>\n      <td>801010</td>\n      <td>农林牧渔</td>\n      <td>3650.28</td>\n      <td>3656.30</td>\n      <td>3565.79</td>\n      <td>3595.09</td>\n      <td>1.589057e+09</td>\n      <td>1.820249e+10</td>\n      <td>-1.44</td>\n    </tr>\n    <tr>\n      <th>4</th>\n      <td>1879960</td>\n      <td>2020-05-27</td>\n      <td>801010</td>\n      <td>农林牧渔</td>\n      <td>3678.52</td>\n      <td>3690.24</td>\n      <td>3642.51</td>\n      <td>3647.73</td>\n      <td>1.680166e+09</td>\n      <td>1.941496e+10</td>\n      <td>-0.91</td>\n    </tr>\n    <tr>\n      <th>5</th>\n      <td>1879904</td>\n      <td>2020-05-26</td>\n      <td>801010</td>\n      <td>农林牧渔</td>\n      <td>3681.08</td>\n      <td>3681.27</td>\n      <td>3645.27</td>\n      <td>3681.27</td>\n      <td>1.343008e+09</td>\n      <td>1.643733e+10</td>\n      <td>0.30</td>\n    </tr>\n    <tr>\n      <th>6</th>\n      <td>1879848</td>\n      <td>2020-05-25</td>\n      <td>801010</td>\n      <td>农林牧渔</td>\n      <td>3641.25</td>\n      <td>3687.92</td>\n      <td>3629.61</td>\n      <td>3670.19</td>\n      <td>1.353317e+09</td>\n      <td>1.838721e+10</td>\n      <td>1.15</td>\n    </tr>\n    <tr>\n      <th>7</th>\n      <td>1879792</td>\n      <td>2020-05-22</td>\n      <td>801010</td>\n      <td>农林牧渔</td>\n      <td>3657.45</td>\n      <td>3708.75</td>\n      <td>3607.49</td>\n      <td>3628.39</td>\n      <td>1.612986e+09</td>\n      <td>1.969208e+10</td>\n      <td>-0.92</td>\n    </tr>\n    <tr>\n      <th>8</th>\n      <td>1879736</td>\n      <td>2020-05-21</td>\n      <td>801010</td>\n      <td>农林牧渔</td>\n      <td>3743.92</td>\n      <td>3752.40</td>\n      <td>3650.96</td>\n      <td>3662.18</td>\n      <td>1.860094e+09</td>\n      <td>2.306326e+10</td>\n      <td>-1.84</td>\n    </tr>\n    <tr>\n      <th>9</th>\n      <td>1879680</td>\n      <td>2020-05-20</td>\n      <td>801010</td>\n      <td>农林牧渔</td>\n      <td>3777.00</td>\n      <td>3777.04</td>\n      <td>3723.50</td>\n      <td>3730.77</td>\n      <td>2.048092e+09</td>\n      <td>2.547892e+10</td>\n      <td>-1.55</td>\n    </tr>\n  </tbody>\n</table>\n</div>"
     },
     "metadata": {},
     "execution_count": 24
    }
   ],
   "source": [
    "# 查询最近10个交易日申万一级行业指数-农林牧渔行业（801010）的日行情数据。\n",
    "df=finance.run_query(query(finance.SW1_DAILY_PRICE).filter(finance.SW1_DAILY_PRICE.code=='801010').order_by(finance.SW1_DAILY_PRICE.date.desc()).limit(10))\n",
    "df"
   ]
  },
  {
   "cell_type": "markdown",
   "metadata": {},
   "source": [
    "获取申万一级行业估值数据"
   ]
  },
  {
   "cell_type": "code",
   "execution_count": 25,
   "metadata": {},
   "outputs": [
    {
     "output_type": "execute_result",
     "data": {
      "text/plain": "        id        date    code  name  turnover_ratio     pe    pb  \\\n0  1634575  2020-06-02  801010  农林牧渔          3.3375  19.05  3.65   \n1  1634519  2020-06-01  801010  农林牧渔          2.5274  18.88  3.62   \n2  1634463  2020-05-29  801010  农林牧渔          2.1140  18.65  3.58   \n3  1634407  2020-05-28  801010  农林牧渔          2.3063  18.37  3.52   \n4  1634351  2020-05-27  801010  农林牧渔          2.4398  18.64  3.57   \n5  1634295  2020-05-26  801010  农林牧渔          1.9502  18.81  3.61   \n6  1634239  2020-05-25  801010  农林牧渔          1.9652  18.76  3.60   \n7  1634183  2020-05-22  801010  农林牧渔          2.3457  18.53  3.56   \n8  1634127  2020-05-21  801010  农林牧渔          2.7051  18.71  3.59   \n9  1634071  2020-05-20  801010  农林牧渔          2.9785  19.07  3.66   \n\n   average_price  money_ratio  circulating_market_cap  \\\n0          15.42         3.58            1.046772e+12   \n1          15.37         2.75            1.038669e+12   \n2          15.11         3.19            1.027123e+12   \n3          15.03         3.27            1.011905e+12   \n4          15.34         3.53            1.026017e+12   \n5          15.40         3.24            1.036005e+12   \n6          15.08         3.91            1.032998e+12   \n7          14.94         3.44            1.019047e+12   \n8          15.27         3.84            1.028855e+12   \n9          15.45         3.87            1.047670e+12   \n\n   average_circulating_market_cap  dividend_ratio  \n0                    1.217176e+10            0.95  \n1                    1.207755e+10            0.96  \n2                    1.194329e+10            1.29  \n3                    1.176633e+10            1.28  \n4                    1.193043e+10            1.28  \n5                    1.204656e+10            1.22  \n6                    1.201160e+10            1.17  \n7                    1.184939e+10            1.19  \n8                    1.196343e+10            1.22  \n9                    1.218221e+10            1.18  ",
      "text/html": "<div>\n<style scoped>\n    .dataframe tbody tr th:only-of-type {\n        vertical-align: middle;\n    }\n\n    .dataframe tbody tr th {\n        vertical-align: top;\n    }\n\n    .dataframe thead th {\n        text-align: right;\n    }\n</style>\n<table border=\"1\" class=\"dataframe\">\n  <thead>\n    <tr style=\"text-align: right;\">\n      <th></th>\n      <th>id</th>\n      <th>date</th>\n      <th>code</th>\n      <th>name</th>\n      <th>turnover_ratio</th>\n      <th>pe</th>\n      <th>pb</th>\n      <th>average_price</th>\n      <th>money_ratio</th>\n      <th>circulating_market_cap</th>\n      <th>average_circulating_market_cap</th>\n      <th>dividend_ratio</th>\n    </tr>\n  </thead>\n  <tbody>\n    <tr>\n      <th>0</th>\n      <td>1634575</td>\n      <td>2020-06-02</td>\n      <td>801010</td>\n      <td>农林牧渔</td>\n      <td>3.3375</td>\n      <td>19.05</td>\n      <td>3.65</td>\n      <td>15.42</td>\n      <td>3.58</td>\n      <td>1.046772e+12</td>\n      <td>1.217176e+10</td>\n      <td>0.95</td>\n    </tr>\n    <tr>\n      <th>1</th>\n      <td>1634519</td>\n      <td>2020-06-01</td>\n      <td>801010</td>\n      <td>农林牧渔</td>\n      <td>2.5274</td>\n      <td>18.88</td>\n      <td>3.62</td>\n      <td>15.37</td>\n      <td>2.75</td>\n      <td>1.038669e+12</td>\n      <td>1.207755e+10</td>\n      <td>0.96</td>\n    </tr>\n    <tr>\n      <th>2</th>\n      <td>1634463</td>\n      <td>2020-05-29</td>\n      <td>801010</td>\n      <td>农林牧渔</td>\n      <td>2.1140</td>\n      <td>18.65</td>\n      <td>3.58</td>\n      <td>15.11</td>\n      <td>3.19</td>\n      <td>1.027123e+12</td>\n      <td>1.194329e+10</td>\n      <td>1.29</td>\n    </tr>\n    <tr>\n      <th>3</th>\n      <td>1634407</td>\n      <td>2020-05-28</td>\n      <td>801010</td>\n      <td>农林牧渔</td>\n      <td>2.3063</td>\n      <td>18.37</td>\n      <td>3.52</td>\n      <td>15.03</td>\n      <td>3.27</td>\n      <td>1.011905e+12</td>\n      <td>1.176633e+10</td>\n      <td>1.28</td>\n    </tr>\n    <tr>\n      <th>4</th>\n      <td>1634351</td>\n      <td>2020-05-27</td>\n      <td>801010</td>\n      <td>农林牧渔</td>\n      <td>2.4398</td>\n      <td>18.64</td>\n      <td>3.57</td>\n      <td>15.34</td>\n      <td>3.53</td>\n      <td>1.026017e+12</td>\n      <td>1.193043e+10</td>\n      <td>1.28</td>\n    </tr>\n    <tr>\n      <th>5</th>\n      <td>1634295</td>\n      <td>2020-05-26</td>\n      <td>801010</td>\n      <td>农林牧渔</td>\n      <td>1.9502</td>\n      <td>18.81</td>\n      <td>3.61</td>\n      <td>15.40</td>\n      <td>3.24</td>\n      <td>1.036005e+12</td>\n      <td>1.204656e+10</td>\n      <td>1.22</td>\n    </tr>\n    <tr>\n      <th>6</th>\n      <td>1634239</td>\n      <td>2020-05-25</td>\n      <td>801010</td>\n      <td>农林牧渔</td>\n      <td>1.9652</td>\n      <td>18.76</td>\n      <td>3.60</td>\n      <td>15.08</td>\n      <td>3.91</td>\n      <td>1.032998e+12</td>\n      <td>1.201160e+10</td>\n      <td>1.17</td>\n    </tr>\n    <tr>\n      <th>7</th>\n      <td>1634183</td>\n      <td>2020-05-22</td>\n      <td>801010</td>\n      <td>农林牧渔</td>\n      <td>2.3457</td>\n      <td>18.53</td>\n      <td>3.56</td>\n      <td>14.94</td>\n      <td>3.44</td>\n      <td>1.019047e+12</td>\n      <td>1.184939e+10</td>\n      <td>1.19</td>\n    </tr>\n    <tr>\n      <th>8</th>\n      <td>1634127</td>\n      <td>2020-05-21</td>\n      <td>801010</td>\n      <td>农林牧渔</td>\n      <td>2.7051</td>\n      <td>18.71</td>\n      <td>3.59</td>\n      <td>15.27</td>\n      <td>3.84</td>\n      <td>1.028855e+12</td>\n      <td>1.196343e+10</td>\n      <td>1.22</td>\n    </tr>\n    <tr>\n      <th>9</th>\n      <td>1634071</td>\n      <td>2020-05-20</td>\n      <td>801010</td>\n      <td>农林牧渔</td>\n      <td>2.9785</td>\n      <td>19.07</td>\n      <td>3.66</td>\n      <td>15.45</td>\n      <td>3.87</td>\n      <td>1.047670e+12</td>\n      <td>1.218221e+10</td>\n      <td>1.18</td>\n    </tr>\n  </tbody>\n</table>\n</div>"
     },
     "metadata": {},
     "execution_count": 25
    }
   ],
   "source": [
    "# 查询最近10个交易日申万一级行业指数-农林牧渔行业（801010）的估值数据\n",
    "df=finance.run_query(query(finance.SW1_DAILY_VALUATION).filter(finance.SW1_DAILY_VALUATION.code=='801010').order_by(finance.SW1_DAILY_VALUATION.date.desc()).limit(10))\n",
    "df"
   ]
  },
  {
   "cell_type": "markdown",
   "metadata": {},
   "source": [
    "## 获取交易行情数据"
   ]
  },
  {
   "cell_type": "markdown",
   "metadata": {},
   "source": [
    "get_trade_days - 获取指定范围交易日"
   ]
  },
  {
   "cell_type": "code",
   "execution_count": 26,
   "metadata": {},
   "outputs": [
    {
     "output_type": "execute_result",
     "data": {
      "text/plain": "               open    close     high      low        volume         money\n2015-01-05  3566.09  3641.54  3669.04  3551.51  4.511981e+10  5.198498e+11\n2015-01-06  3608.43  3641.06  3683.23  3587.23  4.209622e+10  4.985296e+11",
      "text/html": "<div>\n<style scoped>\n    .dataframe tbody tr th:only-of-type {\n        vertical-align: middle;\n    }\n\n    .dataframe tbody tr th {\n        vertical-align: top;\n    }\n\n    .dataframe thead th {\n        text-align: right;\n    }\n</style>\n<table border=\"1\" class=\"dataframe\">\n  <thead>\n    <tr style=\"text-align: right;\">\n      <th></th>\n      <th>open</th>\n      <th>close</th>\n      <th>high</th>\n      <th>low</th>\n      <th>volume</th>\n      <th>money</th>\n    </tr>\n  </thead>\n  <tbody>\n    <tr>\n      <th>2015-01-05</th>\n      <td>3566.09</td>\n      <td>3641.54</td>\n      <td>3669.04</td>\n      <td>3551.51</td>\n      <td>4.511981e+10</td>\n      <td>5.198498e+11</td>\n    </tr>\n    <tr>\n      <th>2015-01-06</th>\n      <td>3608.43</td>\n      <td>3641.06</td>\n      <td>3683.23</td>\n      <td>3587.23</td>\n      <td>4.209622e+10</td>\n      <td>4.985296e+11</td>\n    </tr>\n  </tbody>\n</table>\n</div>"
     },
     "metadata": {},
     "execution_count": 26
    }
   ],
   "source": [
    "get_price('000300.XSHG')[:2]"
   ]
  },
  {
   "cell_type": "code",
   "execution_count": 27,
   "metadata": {},
   "outputs": [
    {
     "output_type": "execute_result",
     "data": {
      "text/plain": "0    3566.09\n1    3608.43\nName: open, dtype: float64"
     },
     "metadata": {},
     "execution_count": 27
    }
   ],
   "source": [
    "get_price(['000300.XSHG', '000001.XSHE'])['open'][:2]"
   ]
  },
  {
   "cell_type": "markdown",
   "metadata": {},
   "source": [
    "get_bars - 获取指定时间周期的行情数据"
   ]
  },
  {
   "cell_type": "code",
   "execution_count": 28,
   "metadata": {},
   "outputs": [
    {
     "output_type": "execute_result",
     "data": {
      "text/plain": "         date    open    high     low   close\n0  2018-11-21  554.00  568.90  553.68  564.70\n1  2018-11-22  565.15  567.33  558.00  564.50\n2  2018-11-23  564.00  567.30  556.90  556.90\n3  2018-11-26  558.00  560.20  552.00  552.11\n4  2018-11-27  552.00  554.99  546.50  548.10\n5  2018-11-28  550.85  559.19  545.50  557.00\n6  2018-11-29  566.03  569.80  549.01  551.60\n7  2018-11-30  557.00  568.89  553.00  565.00\n8  2018-12-03  589.00  605.00  584.77  601.20\n9  2018-12-04  602.99  604.26  595.00  602.23",
      "text/html": "<div>\n<style scoped>\n    .dataframe tbody tr th:only-of-type {\n        vertical-align: middle;\n    }\n\n    .dataframe tbody tr th {\n        vertical-align: top;\n    }\n\n    .dataframe thead th {\n        text-align: right;\n    }\n</style>\n<table border=\"1\" class=\"dataframe\">\n  <thead>\n    <tr style=\"text-align: right;\">\n      <th></th>\n      <th>date</th>\n      <th>open</th>\n      <th>high</th>\n      <th>low</th>\n      <th>close</th>\n    </tr>\n  </thead>\n  <tbody>\n    <tr>\n      <th>0</th>\n      <td>2018-11-21</td>\n      <td>554.00</td>\n      <td>568.90</td>\n      <td>553.68</td>\n      <td>564.70</td>\n    </tr>\n    <tr>\n      <th>1</th>\n      <td>2018-11-22</td>\n      <td>565.15</td>\n      <td>567.33</td>\n      <td>558.00</td>\n      <td>564.50</td>\n    </tr>\n    <tr>\n      <th>2</th>\n      <td>2018-11-23</td>\n      <td>564.00</td>\n      <td>567.30</td>\n      <td>556.90</td>\n      <td>556.90</td>\n    </tr>\n    <tr>\n      <th>3</th>\n      <td>2018-11-26</td>\n      <td>558.00</td>\n      <td>560.20</td>\n      <td>552.00</td>\n      <td>552.11</td>\n    </tr>\n    <tr>\n      <th>4</th>\n      <td>2018-11-27</td>\n      <td>552.00</td>\n      <td>554.99</td>\n      <td>546.50</td>\n      <td>548.10</td>\n    </tr>\n    <tr>\n      <th>5</th>\n      <td>2018-11-28</td>\n      <td>550.85</td>\n      <td>559.19</td>\n      <td>545.50</td>\n      <td>557.00</td>\n    </tr>\n    <tr>\n      <th>6</th>\n      <td>2018-11-29</td>\n      <td>566.03</td>\n      <td>569.80</td>\n      <td>549.01</td>\n      <td>551.60</td>\n    </tr>\n    <tr>\n      <th>7</th>\n      <td>2018-11-30</td>\n      <td>557.00</td>\n      <td>568.89</td>\n      <td>553.00</td>\n      <td>565.00</td>\n    </tr>\n    <tr>\n      <th>8</th>\n      <td>2018-12-03</td>\n      <td>589.00</td>\n      <td>605.00</td>\n      <td>584.77</td>\n      <td>601.20</td>\n    </tr>\n    <tr>\n      <th>9</th>\n      <td>2018-12-04</td>\n      <td>602.99</td>\n      <td>604.26</td>\n      <td>595.00</td>\n      <td>602.23</td>\n    </tr>\n  </tbody>\n</table>\n</div>"
     },
     "metadata": {},
     "execution_count": 28
    }
   ],
   "source": [
    "#获取贵州茅台按天为周期以\"2018-12-05\"为基础往前10个交易日的数据\n",
    "df = get_bars('600519.XSHG', 10, unit='1d',fields=['date','open','high','low','close'],include_now=False,end_dt='2018-12-05')\n",
    "df"
   ]
  },
  {
   "cell_type": "markdown",
   "metadata": {},
   "source": [
    "get_call_auction-获取集合竞价数据"
   ]
  },
  {
   "cell_type": "code",
   "execution_count": 29,
   "metadata": {},
   "outputs": [
    {
     "output_type": "execute_result",
     "data": {
      "text/plain": "           code                time  current     volume       money   a1_p  \\\n0   000001.XSHE 2019-09-02 09:25:03    14.15   568900.0   8049900.0  14.15   \n1   000001.XSHE 2019-09-03 09:25:03    14.48   647700.0   9378700.0  14.48   \n2   000001.XSHE 2019-09-04 09:25:03    14.32   322637.0   4620200.0  14.33   \n3   000001.XSHE 2019-09-05 09:25:03    14.56  1673700.0  24369100.0  14.56   \n4   000001.XSHE 2019-09-06 09:25:03    14.71  1096425.0  16128400.0  14.72   \n5   000001.XSHE 2019-09-09 09:25:03    14.98  4488981.0  67244900.0  14.99   \n6   000001.XSHE 2019-09-10 09:25:03    14.60   946970.0  13825800.0  14.61   \n7   000001.XSHE 2019-09-11 09:25:03    14.60   671556.0   9804700.0  14.61   \n8   000001.XSHE 2019-09-12 09:25:03    14.66   688600.0  10094900.0  14.66   \n9   000001.XSHE 2019-09-16 09:25:03    14.70  1011300.0  14866100.0  14.70   \n10  000001.XSHE 2019-09-17 09:25:03    14.36   616481.0   8852700.0  14.39   \n11  000001.XSHE 2019-09-18 09:25:03    14.24  1207199.0  17190500.0  14.25   \n12  000001.XSHE 2019-09-19 09:25:03    14.48  1002943.0  14522600.0  14.49   \n13  000001.XSHE 2019-09-20 09:25:03    14.95  3917700.0  58569600.0  14.95   \n\n        a1_v   a2_p      a2_v   a3_p  ...   b1_p      b1_v   b2_p      b2_v  \\\n0    58802.0  14.16    4500.0  14.17  ...  14.14    8700.0  14.13  116000.0   \n1    67091.0  14.49  201092.0  14.50  ...  14.47    3100.0  14.46    3900.0   \n2    67179.0  14.34   17000.0  14.35  ...  14.32   27063.0  14.31   12600.0   \n3   122434.0  14.57  364479.0  14.58  ...  14.55   18700.0  14.54    2100.0   \n4    29700.0  14.73    4400.0  14.74  ...  14.71  274575.0  14.70  421200.0   \n5   661734.0  15.00  684880.0  15.01  ...  14.98  903019.0  14.97   10000.0   \n6      300.0  14.62   20800.0  14.63  ...  14.60  122030.0  14.59   10600.0   \n7    12600.0  14.62   98300.0  14.63  ...  14.60    1044.0  14.59   40400.0   \n8    16750.0  14.67   23300.0  14.68  ...  14.65   58100.0  14.64    5500.0   \n9   183862.0  14.71  113898.0  14.72  ...  14.69   63400.0  14.68  456700.0   \n10   22000.0  14.40    8300.0  14.42  ...  14.36  231519.0  14.35  210500.0   \n11  102100.0  14.26  128849.0  14.27  ...  14.24  363801.0  14.23  101000.0   \n12   99953.0  14.50  101700.0  14.51  ...  14.48  203157.0  14.47    2700.0   \n13  511751.0  14.96   55200.0  14.97  ...  14.94  556400.0  14.93  229100.0   \n\n     b3_p      b3_v   b4_p      b4_v   b5_p      b5_v  \n0   14.12   30900.0  14.11  267900.0  14.10  119200.0  \n1   14.45   40000.0  14.44     700.0  14.43    1900.0  \n2   14.30  166400.0  14.29    2100.0  14.28   10100.0  \n3   14.53   24800.0  14.51   19300.0  14.50   81700.0  \n4   14.69   10600.0  14.68   28800.0  14.66   11400.0  \n5   14.96   31900.0  14.95   65200.0  14.94   26100.0  \n6   14.58   42900.0  14.57   20500.0  14.56   53100.0  \n7   14.58  378600.0  14.57   38300.0  14.56  139900.0  \n8   14.63   56300.0  14.62   81800.0  14.60   18100.0  \n9   14.67    2000.0  14.66   16300.0  14.65   19200.0  \n10  14.34   44900.0  14.33   38000.0  14.32   56900.0  \n11  14.22    3400.0  14.21   14800.0  14.20   69400.0  \n12  14.46   82200.0  14.45   88300.0  14.43    6000.0  \n13  14.92  151400.0  14.91  179600.0  14.90  115500.0  \n\n[14 rows x 25 columns]",
      "text/html": "<div>\n<style scoped>\n    .dataframe tbody tr th:only-of-type {\n        vertical-align: middle;\n    }\n\n    .dataframe tbody tr th {\n        vertical-align: top;\n    }\n\n    .dataframe thead th {\n        text-align: right;\n    }\n</style>\n<table border=\"1\" class=\"dataframe\">\n  <thead>\n    <tr style=\"text-align: right;\">\n      <th></th>\n      <th>code</th>\n      <th>time</th>\n      <th>current</th>\n      <th>volume</th>\n      <th>money</th>\n      <th>a1_p</th>\n      <th>a1_v</th>\n      <th>a2_p</th>\n      <th>a2_v</th>\n      <th>a3_p</th>\n      <th>...</th>\n      <th>b1_p</th>\n      <th>b1_v</th>\n      <th>b2_p</th>\n      <th>b2_v</th>\n      <th>b3_p</th>\n      <th>b3_v</th>\n      <th>b4_p</th>\n      <th>b4_v</th>\n      <th>b5_p</th>\n      <th>b5_v</th>\n    </tr>\n  </thead>\n  <tbody>\n    <tr>\n      <th>0</th>\n      <td>000001.XSHE</td>\n      <td>2019-09-02 09:25:03</td>\n      <td>14.15</td>\n      <td>568900.0</td>\n      <td>8049900.0</td>\n      <td>14.15</td>\n      <td>58802.0</td>\n      <td>14.16</td>\n      <td>4500.0</td>\n      <td>14.17</td>\n      <td>...</td>\n      <td>14.14</td>\n      <td>8700.0</td>\n      <td>14.13</td>\n      <td>116000.0</td>\n      <td>14.12</td>\n      <td>30900.0</td>\n      <td>14.11</td>\n      <td>267900.0</td>\n      <td>14.10</td>\n      <td>119200.0</td>\n    </tr>\n    <tr>\n      <th>1</th>\n      <td>000001.XSHE</td>\n      <td>2019-09-03 09:25:03</td>\n      <td>14.48</td>\n      <td>647700.0</td>\n      <td>9378700.0</td>\n      <td>14.48</td>\n      <td>67091.0</td>\n      <td>14.49</td>\n      <td>201092.0</td>\n      <td>14.50</td>\n      <td>...</td>\n      <td>14.47</td>\n      <td>3100.0</td>\n      <td>14.46</td>\n      <td>3900.0</td>\n      <td>14.45</td>\n      <td>40000.0</td>\n      <td>14.44</td>\n      <td>700.0</td>\n      <td>14.43</td>\n      <td>1900.0</td>\n    </tr>\n    <tr>\n      <th>2</th>\n      <td>000001.XSHE</td>\n      <td>2019-09-04 09:25:03</td>\n      <td>14.32</td>\n      <td>322637.0</td>\n      <td>4620200.0</td>\n      <td>14.33</td>\n      <td>67179.0</td>\n      <td>14.34</td>\n      <td>17000.0</td>\n      <td>14.35</td>\n      <td>...</td>\n      <td>14.32</td>\n      <td>27063.0</td>\n      <td>14.31</td>\n      <td>12600.0</td>\n      <td>14.30</td>\n      <td>166400.0</td>\n      <td>14.29</td>\n      <td>2100.0</td>\n      <td>14.28</td>\n      <td>10100.0</td>\n    </tr>\n    <tr>\n      <th>3</th>\n      <td>000001.XSHE</td>\n      <td>2019-09-05 09:25:03</td>\n      <td>14.56</td>\n      <td>1673700.0</td>\n      <td>24369100.0</td>\n      <td>14.56</td>\n      <td>122434.0</td>\n      <td>14.57</td>\n      <td>364479.0</td>\n      <td>14.58</td>\n      <td>...</td>\n      <td>14.55</td>\n      <td>18700.0</td>\n      <td>14.54</td>\n      <td>2100.0</td>\n      <td>14.53</td>\n      <td>24800.0</td>\n      <td>14.51</td>\n      <td>19300.0</td>\n      <td>14.50</td>\n      <td>81700.0</td>\n    </tr>\n    <tr>\n      <th>4</th>\n      <td>000001.XSHE</td>\n      <td>2019-09-06 09:25:03</td>\n      <td>14.71</td>\n      <td>1096425.0</td>\n      <td>16128400.0</td>\n      <td>14.72</td>\n      <td>29700.0</td>\n      <td>14.73</td>\n      <td>4400.0</td>\n      <td>14.74</td>\n      <td>...</td>\n      <td>14.71</td>\n      <td>274575.0</td>\n      <td>14.70</td>\n      <td>421200.0</td>\n      <td>14.69</td>\n      <td>10600.0</td>\n      <td>14.68</td>\n      <td>28800.0</td>\n      <td>14.66</td>\n      <td>11400.0</td>\n    </tr>\n    <tr>\n      <th>5</th>\n      <td>000001.XSHE</td>\n      <td>2019-09-09 09:25:03</td>\n      <td>14.98</td>\n      <td>4488981.0</td>\n      <td>67244900.0</td>\n      <td>14.99</td>\n      <td>661734.0</td>\n      <td>15.00</td>\n      <td>684880.0</td>\n      <td>15.01</td>\n      <td>...</td>\n      <td>14.98</td>\n      <td>903019.0</td>\n      <td>14.97</td>\n      <td>10000.0</td>\n      <td>14.96</td>\n      <td>31900.0</td>\n      <td>14.95</td>\n      <td>65200.0</td>\n      <td>14.94</td>\n      <td>26100.0</td>\n    </tr>\n    <tr>\n      <th>6</th>\n      <td>000001.XSHE</td>\n      <td>2019-09-10 09:25:03</td>\n      <td>14.60</td>\n      <td>946970.0</td>\n      <td>13825800.0</td>\n      <td>14.61</td>\n      <td>300.0</td>\n      <td>14.62</td>\n      <td>20800.0</td>\n      <td>14.63</td>\n      <td>...</td>\n      <td>14.60</td>\n      <td>122030.0</td>\n      <td>14.59</td>\n      <td>10600.0</td>\n      <td>14.58</td>\n      <td>42900.0</td>\n      <td>14.57</td>\n      <td>20500.0</td>\n      <td>14.56</td>\n      <td>53100.0</td>\n    </tr>\n    <tr>\n      <th>7</th>\n      <td>000001.XSHE</td>\n      <td>2019-09-11 09:25:03</td>\n      <td>14.60</td>\n      <td>671556.0</td>\n      <td>9804700.0</td>\n      <td>14.61</td>\n      <td>12600.0</td>\n      <td>14.62</td>\n      <td>98300.0</td>\n      <td>14.63</td>\n      <td>...</td>\n      <td>14.60</td>\n      <td>1044.0</td>\n      <td>14.59</td>\n      <td>40400.0</td>\n      <td>14.58</td>\n      <td>378600.0</td>\n      <td>14.57</td>\n      <td>38300.0</td>\n      <td>14.56</td>\n      <td>139900.0</td>\n    </tr>\n    <tr>\n      <th>8</th>\n      <td>000001.XSHE</td>\n      <td>2019-09-12 09:25:03</td>\n      <td>14.66</td>\n      <td>688600.0</td>\n      <td>10094900.0</td>\n      <td>14.66</td>\n      <td>16750.0</td>\n      <td>14.67</td>\n      <td>23300.0</td>\n      <td>14.68</td>\n      <td>...</td>\n      <td>14.65</td>\n      <td>58100.0</td>\n      <td>14.64</td>\n      <td>5500.0</td>\n      <td>14.63</td>\n      <td>56300.0</td>\n      <td>14.62</td>\n      <td>81800.0</td>\n      <td>14.60</td>\n      <td>18100.0</td>\n    </tr>\n    <tr>\n      <th>9</th>\n      <td>000001.XSHE</td>\n      <td>2019-09-16 09:25:03</td>\n      <td>14.70</td>\n      <td>1011300.0</td>\n      <td>14866100.0</td>\n      <td>14.70</td>\n      <td>183862.0</td>\n      <td>14.71</td>\n      <td>113898.0</td>\n      <td>14.72</td>\n      <td>...</td>\n      <td>14.69</td>\n      <td>63400.0</td>\n      <td>14.68</td>\n      <td>456700.0</td>\n      <td>14.67</td>\n      <td>2000.0</td>\n      <td>14.66</td>\n      <td>16300.0</td>\n      <td>14.65</td>\n      <td>19200.0</td>\n    </tr>\n    <tr>\n      <th>10</th>\n      <td>000001.XSHE</td>\n      <td>2019-09-17 09:25:03</td>\n      <td>14.36</td>\n      <td>616481.0</td>\n      <td>8852700.0</td>\n      <td>14.39</td>\n      <td>22000.0</td>\n      <td>14.40</td>\n      <td>8300.0</td>\n      <td>14.42</td>\n      <td>...</td>\n      <td>14.36</td>\n      <td>231519.0</td>\n      <td>14.35</td>\n      <td>210500.0</td>\n      <td>14.34</td>\n      <td>44900.0</td>\n      <td>14.33</td>\n      <td>38000.0</td>\n      <td>14.32</td>\n      <td>56900.0</td>\n    </tr>\n    <tr>\n      <th>11</th>\n      <td>000001.XSHE</td>\n      <td>2019-09-18 09:25:03</td>\n      <td>14.24</td>\n      <td>1207199.0</td>\n      <td>17190500.0</td>\n      <td>14.25</td>\n      <td>102100.0</td>\n      <td>14.26</td>\n      <td>128849.0</td>\n      <td>14.27</td>\n      <td>...</td>\n      <td>14.24</td>\n      <td>363801.0</td>\n      <td>14.23</td>\n      <td>101000.0</td>\n      <td>14.22</td>\n      <td>3400.0</td>\n      <td>14.21</td>\n      <td>14800.0</td>\n      <td>14.20</td>\n      <td>69400.0</td>\n    </tr>\n    <tr>\n      <th>12</th>\n      <td>000001.XSHE</td>\n      <td>2019-09-19 09:25:03</td>\n      <td>14.48</td>\n      <td>1002943.0</td>\n      <td>14522600.0</td>\n      <td>14.49</td>\n      <td>99953.0</td>\n      <td>14.50</td>\n      <td>101700.0</td>\n      <td>14.51</td>\n      <td>...</td>\n      <td>14.48</td>\n      <td>203157.0</td>\n      <td>14.47</td>\n      <td>2700.0</td>\n      <td>14.46</td>\n      <td>82200.0</td>\n      <td>14.45</td>\n      <td>88300.0</td>\n      <td>14.43</td>\n      <td>6000.0</td>\n    </tr>\n    <tr>\n      <th>13</th>\n      <td>000001.XSHE</td>\n      <td>2019-09-20 09:25:03</td>\n      <td>14.95</td>\n      <td>3917700.0</td>\n      <td>58569600.0</td>\n      <td>14.95</td>\n      <td>511751.0</td>\n      <td>14.96</td>\n      <td>55200.0</td>\n      <td>14.97</td>\n      <td>...</td>\n      <td>14.94</td>\n      <td>556400.0</td>\n      <td>14.93</td>\n      <td>229100.0</td>\n      <td>14.92</td>\n      <td>151400.0</td>\n      <td>14.91</td>\n      <td>179600.0</td>\n      <td>14.90</td>\n      <td>115500.0</td>\n    </tr>\n  </tbody>\n</table>\n<p>14 rows × 25 columns</p>\n</div>"
     },
     "metadata": {},
     "execution_count": 29
    }
   ],
   "source": [
    "#获取平安银行2019-09-01至2019-09-22期间的集合竞价数据\n",
    "df=get_call_auction('000001.XSHE','2019-09-01','2019-09-22')\n",
    "df"
   ]
  },
  {
   "cell_type": "markdown",
   "metadata": {},
   "source": [
    "get_mtss - 获取融资融券信息"
   ]
  },
  {
   "cell_type": "code",
   "execution_count": 30,
   "metadata": {},
   "outputs": [
    {
     "output_type": "execute_result",
     "data": {
      "text/plain": "    sec_sell_value\n0         184100.0\n1          20800.0\n2            900.0\n3              0.0\n4           2400.0\n5          43000.0\n6          11900.0\n7          33300.0\n8          22000.0\n9           5100.0\n10          6800.0\n11         17200.0\n12         20800.0\n13          7500.0\n14         11600.0\n15          7300.0\n16         29700.0\n17         17300.0\n18         17900.0\n19          7200.0\n20         13400.0\n21         10800.0\n22          1400.0\n23             0.0\n24             0.0\n25             0.0\n26             0.0\n27         14800.0\n28           100.0\n29           400.0\n30         13500.0\n31             0.0\n32             0.0\n33          3500.0\n34             0.0\n35         12700.0\n36          1000.0\n37             0.0\n38          2300.0\n39          3000.0\n40           500.0\n41             0.0\n42          1100.0\n43           500.0\n44           700.0\n45          3600.0\n46         13000.0\n47          2400.0\n48         15000.0\n49             0.0\n50         35800.0\n51             0.0\n52             0.0\n53             0.0\n54             0.0\n55             0.0\n56          1500.0\n57        126400.0\n58         31800.0\n59          5000.0",
      "text/html": "<div>\n<style scoped>\n    .dataframe tbody tr th:only-of-type {\n        vertical-align: middle;\n    }\n\n    .dataframe tbody tr th {\n        vertical-align: top;\n    }\n\n    .dataframe thead th {\n        text-align: right;\n    }\n</style>\n<table border=\"1\" class=\"dataframe\">\n  <thead>\n    <tr style=\"text-align: right;\">\n      <th></th>\n      <th>sec_sell_value</th>\n    </tr>\n  </thead>\n  <tbody>\n    <tr>\n      <th>0</th>\n      <td>184100.0</td>\n    </tr>\n    <tr>\n      <th>1</th>\n      <td>20800.0</td>\n    </tr>\n    <tr>\n      <th>2</th>\n      <td>900.0</td>\n    </tr>\n    <tr>\n      <th>3</th>\n      <td>0.0</td>\n    </tr>\n    <tr>\n      <th>4</th>\n      <td>2400.0</td>\n    </tr>\n    <tr>\n      <th>5</th>\n      <td>43000.0</td>\n    </tr>\n    <tr>\n      <th>6</th>\n      <td>11900.0</td>\n    </tr>\n    <tr>\n      <th>7</th>\n      <td>33300.0</td>\n    </tr>\n    <tr>\n      <th>8</th>\n      <td>22000.0</td>\n    </tr>\n    <tr>\n      <th>9</th>\n      <td>5100.0</td>\n    </tr>\n    <tr>\n      <th>10</th>\n      <td>6800.0</td>\n    </tr>\n    <tr>\n      <th>11</th>\n      <td>17200.0</td>\n    </tr>\n    <tr>\n      <th>12</th>\n      <td>20800.0</td>\n    </tr>\n    <tr>\n      <th>13</th>\n      <td>7500.0</td>\n    </tr>\n    <tr>\n      <th>14</th>\n      <td>11600.0</td>\n    </tr>\n    <tr>\n      <th>15</th>\n      <td>7300.0</td>\n    </tr>\n    <tr>\n      <th>16</th>\n      <td>29700.0</td>\n    </tr>\n    <tr>\n      <th>17</th>\n      <td>17300.0</td>\n    </tr>\n    <tr>\n      <th>18</th>\n      <td>17900.0</td>\n    </tr>\n    <tr>\n      <th>19</th>\n      <td>7200.0</td>\n    </tr>\n    <tr>\n      <th>20</th>\n      <td>13400.0</td>\n    </tr>\n    <tr>\n      <th>21</th>\n      <td>10800.0</td>\n    </tr>\n    <tr>\n      <th>22</th>\n      <td>1400.0</td>\n    </tr>\n    <tr>\n      <th>23</th>\n      <td>0.0</td>\n    </tr>\n    <tr>\n      <th>24</th>\n      <td>0.0</td>\n    </tr>\n    <tr>\n      <th>25</th>\n      <td>0.0</td>\n    </tr>\n    <tr>\n      <th>26</th>\n      <td>0.0</td>\n    </tr>\n    <tr>\n      <th>27</th>\n      <td>14800.0</td>\n    </tr>\n    <tr>\n      <th>28</th>\n      <td>100.0</td>\n    </tr>\n    <tr>\n      <th>29</th>\n      <td>400.0</td>\n    </tr>\n    <tr>\n      <th>30</th>\n      <td>13500.0</td>\n    </tr>\n    <tr>\n      <th>31</th>\n      <td>0.0</td>\n    </tr>\n    <tr>\n      <th>32</th>\n      <td>0.0</td>\n    </tr>\n    <tr>\n      <th>33</th>\n      <td>3500.0</td>\n    </tr>\n    <tr>\n      <th>34</th>\n      <td>0.0</td>\n    </tr>\n    <tr>\n      <th>35</th>\n      <td>12700.0</td>\n    </tr>\n    <tr>\n      <th>36</th>\n      <td>1000.0</td>\n    </tr>\n    <tr>\n      <th>37</th>\n      <td>0.0</td>\n    </tr>\n    <tr>\n      <th>38</th>\n      <td>2300.0</td>\n    </tr>\n    <tr>\n      <th>39</th>\n      <td>3000.0</td>\n    </tr>\n    <tr>\n      <th>40</th>\n      <td>500.0</td>\n    </tr>\n    <tr>\n      <th>41</th>\n      <td>0.0</td>\n    </tr>\n    <tr>\n      <th>42</th>\n      <td>1100.0</td>\n    </tr>\n    <tr>\n      <th>43</th>\n      <td>500.0</td>\n    </tr>\n    <tr>\n      <th>44</th>\n      <td>700.0</td>\n    </tr>\n    <tr>\n      <th>45</th>\n      <td>3600.0</td>\n    </tr>\n    <tr>\n      <th>46</th>\n      <td>13000.0</td>\n    </tr>\n    <tr>\n      <th>47</th>\n      <td>2400.0</td>\n    </tr>\n    <tr>\n      <th>48</th>\n      <td>15000.0</td>\n    </tr>\n    <tr>\n      <th>49</th>\n      <td>0.0</td>\n    </tr>\n    <tr>\n      <th>50</th>\n      <td>35800.0</td>\n    </tr>\n    <tr>\n      <th>51</th>\n      <td>0.0</td>\n    </tr>\n    <tr>\n      <th>52</th>\n      <td>0.0</td>\n    </tr>\n    <tr>\n      <th>53</th>\n      <td>0.0</td>\n    </tr>\n    <tr>\n      <th>54</th>\n      <td>0.0</td>\n    </tr>\n    <tr>\n      <th>55</th>\n      <td>0.0</td>\n    </tr>\n    <tr>\n      <th>56</th>\n      <td>1500.0</td>\n    </tr>\n    <tr>\n      <th>57</th>\n      <td>126400.0</td>\n    </tr>\n    <tr>\n      <th>58</th>\n      <td>31800.0</td>\n    </tr>\n    <tr>\n      <th>59</th>\n      <td>5000.0</td>\n    </tr>\n  </tbody>\n</table>\n</div>"
     },
     "metadata": {},
     "execution_count": 30
    }
   ],
   "source": [
    "# 获取一只股票的融资融券信息\n",
    "get_mtss('000001.XSHE', '2016-01-01', '2016-04-01')\n",
    "get_mtss('000001.XSHE', '2016-01-01', '2016-04-01', fields=[\"date\", \"sec_code\", \"fin_value\", \"fin_buy_value\"])\n",
    "get_mtss('000001.XSHE', '2016-01-01', '2016-04-01', fields=\"sec_sell_value\")"
   ]
  },
  {
   "cell_type": "code",
   "execution_count": 31,
   "metadata": {},
   "outputs": [
    {
     "output_type": "execute_result",
     "data": {
      "text/plain": "          date     sec_code  sec_value  fin_buy_value  sec_sell_value\n0   2015-03-25  000001.XSHE  1401703.0    443602813.0       4212074.0\n1   2015-03-26  000001.XSHE  1915450.0    414025447.0       8223542.0\n2   2015-03-27  000001.XSHE  1510960.0    290626262.0       7542256.0\n3   2015-03-30  000001.XSHE  1496603.0    760545895.0      11072162.0\n4   2015-03-31  000001.XSHE  1556264.0    637117836.0       7769048.0\n..         ...          ...        ...            ...             ...\n619 2016-01-19  000099.XSHE     3400.0     37416010.0             0.0\n620 2016-01-20  000099.XSHE     3400.0     33447462.0             0.0\n621 2016-01-21  000099.XSHE     3400.0     29249805.0             0.0\n622 2016-01-22  000099.XSHE     3400.0     17986662.0             0.0\n623 2016-01-25  000099.XSHE     3400.0     14776171.0             0.0\n\n[624 rows x 5 columns]",
      "text/html": "<div>\n<style scoped>\n    .dataframe tbody tr th:only-of-type {\n        vertical-align: middle;\n    }\n\n    .dataframe tbody tr th {\n        vertical-align: top;\n    }\n\n    .dataframe thead th {\n        text-align: right;\n    }\n</style>\n<table border=\"1\" class=\"dataframe\">\n  <thead>\n    <tr style=\"text-align: right;\">\n      <th></th>\n      <th>date</th>\n      <th>sec_code</th>\n      <th>sec_value</th>\n      <th>fin_buy_value</th>\n      <th>sec_sell_value</th>\n    </tr>\n  </thead>\n  <tbody>\n    <tr>\n      <th>0</th>\n      <td>2015-03-25</td>\n      <td>000001.XSHE</td>\n      <td>1401703.0</td>\n      <td>443602813.0</td>\n      <td>4212074.0</td>\n    </tr>\n    <tr>\n      <th>1</th>\n      <td>2015-03-26</td>\n      <td>000001.XSHE</td>\n      <td>1915450.0</td>\n      <td>414025447.0</td>\n      <td>8223542.0</td>\n    </tr>\n    <tr>\n      <th>2</th>\n      <td>2015-03-27</td>\n      <td>000001.XSHE</td>\n      <td>1510960.0</td>\n      <td>290626262.0</td>\n      <td>7542256.0</td>\n    </tr>\n    <tr>\n      <th>3</th>\n      <td>2015-03-30</td>\n      <td>000001.XSHE</td>\n      <td>1496603.0</td>\n      <td>760545895.0</td>\n      <td>11072162.0</td>\n    </tr>\n    <tr>\n      <th>4</th>\n      <td>2015-03-31</td>\n      <td>000001.XSHE</td>\n      <td>1556264.0</td>\n      <td>637117836.0</td>\n      <td>7769048.0</td>\n    </tr>\n    <tr>\n      <th>...</th>\n      <td>...</td>\n      <td>...</td>\n      <td>...</td>\n      <td>...</td>\n      <td>...</td>\n    </tr>\n    <tr>\n      <th>619</th>\n      <td>2016-01-19</td>\n      <td>000099.XSHE</td>\n      <td>3400.0</td>\n      <td>37416010.0</td>\n      <td>0.0</td>\n    </tr>\n    <tr>\n      <th>620</th>\n      <td>2016-01-20</td>\n      <td>000099.XSHE</td>\n      <td>3400.0</td>\n      <td>33447462.0</td>\n      <td>0.0</td>\n    </tr>\n    <tr>\n      <th>621</th>\n      <td>2016-01-21</td>\n      <td>000099.XSHE</td>\n      <td>3400.0</td>\n      <td>29249805.0</td>\n      <td>0.0</td>\n    </tr>\n    <tr>\n      <th>622</th>\n      <td>2016-01-22</td>\n      <td>000099.XSHE</td>\n      <td>3400.0</td>\n      <td>17986662.0</td>\n      <td>0.0</td>\n    </tr>\n    <tr>\n      <th>623</th>\n      <td>2016-01-25</td>\n      <td>000099.XSHE</td>\n      <td>3400.0</td>\n      <td>14776171.0</td>\n      <td>0.0</td>\n    </tr>\n  </tbody>\n</table>\n<p>624 rows × 5 columns</p>\n</div>"
     },
     "metadata": {},
     "execution_count": 31
    }
   ],
   "source": [
    "# 获取多只股票的融资融券信息\n",
    "get_mtss(['000001.XSHE', '000002.XSHE', '000099.XSHE'], '2015-03-25', '2016-01-25')\n",
    "get_mtss(['000001.XSHE', '000002.XSHE', '000099.XSHE'], '2015-03-25', '2016-01-25', fields=[\"date\", \"sec_code\", \"sec_value\", \"fin_buy_value\", \"sec_sell_value\"])"
   ]
  },
  {
   "cell_type": "code",
   "execution_count": 32,
   "metadata": {},
   "outputs": [
    {
     "output_type": "execute_result",
     "data": {
      "text/plain": "         date     sec_code     fin_value  fin_buy_value  fin_refund_value  \\\n0  2020-05-07  000001.XSHE  3.031243e+09     78319309.0        65317150.0   \n1  2020-05-08  000001.XSHE  3.046890e+09    153080005.0       137432121.0   \n2  2020-05-11  000001.XSHE  3.010223e+09    101971354.0       138638791.0   \n3  2020-05-12  000001.XSHE  3.048948e+09    109511202.0        70786293.0   \n4  2020-05-13  000001.XSHE  3.081981e+09    104052797.0        71019546.0   \n5  2020-05-14  000001.XSHE  3.099970e+09    123950112.0       105961330.0   \n6  2020-05-15  000001.XSHE  3.142131e+09    107742147.0        65581316.0   \n7  2020-05-18  000001.XSHE  3.095641e+09     88537136.0       135027063.0   \n8  2020-05-19  000001.XSHE  3.128807e+09    111353554.0        78187163.0   \n9  2020-05-20  000001.XSHE  3.050314e+09     83515903.0       162008836.0   \n10 2020-05-21  000001.XSHE  3.081154e+09     97562569.0        66723001.0   \n11 2020-05-22  000001.XSHE  3.046563e+09    120374439.0       154965682.0   \n12 2020-05-25  000001.XSHE  3.036650e+09     43839680.0        53752725.0   \n13 2020-05-26  000001.XSHE  3.066300e+09     74949618.0        45298710.0   \n14 2020-05-27  000001.XSHE  3.079589e+09     60447906.0        47159499.0   \n15 2020-05-28  000001.XSHE  3.012273e+09     75499759.0       142816031.0   \n16 2020-05-29  000001.XSHE  2.986975e+09     35044978.0        60342699.0   \n17 2020-06-01  000001.XSHE  2.956855e+09     83956372.0       114075783.0   \n18 2020-06-02  000001.XSHE  2.937435e+09     64994305.0        84414418.0   \n\n    sec_value  sec_sell_value  sec_refund_value  fin_sec_value  \n0   1625150.0        268600.0          104800.0   3.053491e+09  \n1   1631350.0         93900.0           87700.0   3.069648e+09  \n2   1738050.0        146500.0           39800.0   3.034556e+09  \n3   1578650.0          9300.0          168700.0   3.070717e+09  \n4   1548850.0         87900.0          117700.0   3.103092e+09  \n5   1357050.0         46300.0          238100.0   3.118019e+09  \n6    793700.0        111900.0          675250.0   3.152631e+09  \n7   1112600.0        357600.0           38700.0   3.110327e+09  \n8   1077200.0         58000.0           93400.0   3.143199e+09  \n9   1364300.0        356900.0           69800.0   3.068746e+09  \n10  1179200.0        167500.0          352600.0   3.096955e+09  \n11   981700.0        305700.0          503200.0   3.059246e+09  \n12   833600.0        137800.0          285900.0   3.047453e+09  \n13   885900.0        170300.0          118000.0   3.077853e+09  \n14   946900.0        236900.0          175900.0   3.091899e+09  \n15  1042426.0        339200.0          243674.0   3.025897e+09  \n16   881900.0        124200.0          284726.0   2.998440e+09  \n17  1230400.0        446100.0           97600.0   2.973244e+09  \n18  1713000.0        750500.0          267900.0   2.960647e+09  ",
      "text/html": "<div>\n<style scoped>\n    .dataframe tbody tr th:only-of-type {\n        vertical-align: middle;\n    }\n\n    .dataframe tbody tr th {\n        vertical-align: top;\n    }\n\n    .dataframe thead th {\n        text-align: right;\n    }\n</style>\n<table border=\"1\" class=\"dataframe\">\n  <thead>\n    <tr style=\"text-align: right;\">\n      <th></th>\n      <th>date</th>\n      <th>sec_code</th>\n      <th>fin_value</th>\n      <th>fin_buy_value</th>\n      <th>fin_refund_value</th>\n      <th>sec_value</th>\n      <th>sec_sell_value</th>\n      <th>sec_refund_value</th>\n      <th>fin_sec_value</th>\n    </tr>\n  </thead>\n  <tbody>\n    <tr>\n      <th>0</th>\n      <td>2020-05-07</td>\n      <td>000001.XSHE</td>\n      <td>3.031243e+09</td>\n      <td>78319309.0</td>\n      <td>65317150.0</td>\n      <td>1625150.0</td>\n      <td>268600.0</td>\n      <td>104800.0</td>\n      <td>3.053491e+09</td>\n    </tr>\n    <tr>\n      <th>1</th>\n      <td>2020-05-08</td>\n      <td>000001.XSHE</td>\n      <td>3.046890e+09</td>\n      <td>153080005.0</td>\n      <td>137432121.0</td>\n      <td>1631350.0</td>\n      <td>93900.0</td>\n      <td>87700.0</td>\n      <td>3.069648e+09</td>\n    </tr>\n    <tr>\n      <th>2</th>\n      <td>2020-05-11</td>\n      <td>000001.XSHE</td>\n      <td>3.010223e+09</td>\n      <td>101971354.0</td>\n      <td>138638791.0</td>\n      <td>1738050.0</td>\n      <td>146500.0</td>\n      <td>39800.0</td>\n      <td>3.034556e+09</td>\n    </tr>\n    <tr>\n      <th>3</th>\n      <td>2020-05-12</td>\n      <td>000001.XSHE</td>\n      <td>3.048948e+09</td>\n      <td>109511202.0</td>\n      <td>70786293.0</td>\n      <td>1578650.0</td>\n      <td>9300.0</td>\n      <td>168700.0</td>\n      <td>3.070717e+09</td>\n    </tr>\n    <tr>\n      <th>4</th>\n      <td>2020-05-13</td>\n      <td>000001.XSHE</td>\n      <td>3.081981e+09</td>\n      <td>104052797.0</td>\n      <td>71019546.0</td>\n      <td>1548850.0</td>\n      <td>87900.0</td>\n      <td>117700.0</td>\n      <td>3.103092e+09</td>\n    </tr>\n    <tr>\n      <th>5</th>\n      <td>2020-05-14</td>\n      <td>000001.XSHE</td>\n      <td>3.099970e+09</td>\n      <td>123950112.0</td>\n      <td>105961330.0</td>\n      <td>1357050.0</td>\n      <td>46300.0</td>\n      <td>238100.0</td>\n      <td>3.118019e+09</td>\n    </tr>\n    <tr>\n      <th>6</th>\n      <td>2020-05-15</td>\n      <td>000001.XSHE</td>\n      <td>3.142131e+09</td>\n      <td>107742147.0</td>\n      <td>65581316.0</td>\n      <td>793700.0</td>\n      <td>111900.0</td>\n      <td>675250.0</td>\n      <td>3.152631e+09</td>\n    </tr>\n    <tr>\n      <th>7</th>\n      <td>2020-05-18</td>\n      <td>000001.XSHE</td>\n      <td>3.095641e+09</td>\n      <td>88537136.0</td>\n      <td>135027063.0</td>\n      <td>1112600.0</td>\n      <td>357600.0</td>\n      <td>38700.0</td>\n      <td>3.110327e+09</td>\n    </tr>\n    <tr>\n      <th>8</th>\n      <td>2020-05-19</td>\n      <td>000001.XSHE</td>\n      <td>3.128807e+09</td>\n      <td>111353554.0</td>\n      <td>78187163.0</td>\n      <td>1077200.0</td>\n      <td>58000.0</td>\n      <td>93400.0</td>\n      <td>3.143199e+09</td>\n    </tr>\n    <tr>\n      <th>9</th>\n      <td>2020-05-20</td>\n      <td>000001.XSHE</td>\n      <td>3.050314e+09</td>\n      <td>83515903.0</td>\n      <td>162008836.0</td>\n      <td>1364300.0</td>\n      <td>356900.0</td>\n      <td>69800.0</td>\n      <td>3.068746e+09</td>\n    </tr>\n    <tr>\n      <th>10</th>\n      <td>2020-05-21</td>\n      <td>000001.XSHE</td>\n      <td>3.081154e+09</td>\n      <td>97562569.0</td>\n      <td>66723001.0</td>\n      <td>1179200.0</td>\n      <td>167500.0</td>\n      <td>352600.0</td>\n      <td>3.096955e+09</td>\n    </tr>\n    <tr>\n      <th>11</th>\n      <td>2020-05-22</td>\n      <td>000001.XSHE</td>\n      <td>3.046563e+09</td>\n      <td>120374439.0</td>\n      <td>154965682.0</td>\n      <td>981700.0</td>\n      <td>305700.0</td>\n      <td>503200.0</td>\n      <td>3.059246e+09</td>\n    </tr>\n    <tr>\n      <th>12</th>\n      <td>2020-05-25</td>\n      <td>000001.XSHE</td>\n      <td>3.036650e+09</td>\n      <td>43839680.0</td>\n      <td>53752725.0</td>\n      <td>833600.0</td>\n      <td>137800.0</td>\n      <td>285900.0</td>\n      <td>3.047453e+09</td>\n    </tr>\n    <tr>\n      <th>13</th>\n      <td>2020-05-26</td>\n      <td>000001.XSHE</td>\n      <td>3.066300e+09</td>\n      <td>74949618.0</td>\n      <td>45298710.0</td>\n      <td>885900.0</td>\n      <td>170300.0</td>\n      <td>118000.0</td>\n      <td>3.077853e+09</td>\n    </tr>\n    <tr>\n      <th>14</th>\n      <td>2020-05-27</td>\n      <td>000001.XSHE</td>\n      <td>3.079589e+09</td>\n      <td>60447906.0</td>\n      <td>47159499.0</td>\n      <td>946900.0</td>\n      <td>236900.0</td>\n      <td>175900.0</td>\n      <td>3.091899e+09</td>\n    </tr>\n    <tr>\n      <th>15</th>\n      <td>2020-05-28</td>\n      <td>000001.XSHE</td>\n      <td>3.012273e+09</td>\n      <td>75499759.0</td>\n      <td>142816031.0</td>\n      <td>1042426.0</td>\n      <td>339200.0</td>\n      <td>243674.0</td>\n      <td>3.025897e+09</td>\n    </tr>\n    <tr>\n      <th>16</th>\n      <td>2020-05-29</td>\n      <td>000001.XSHE</td>\n      <td>2.986975e+09</td>\n      <td>35044978.0</td>\n      <td>60342699.0</td>\n      <td>881900.0</td>\n      <td>124200.0</td>\n      <td>284726.0</td>\n      <td>2.998440e+09</td>\n    </tr>\n    <tr>\n      <th>17</th>\n      <td>2020-06-01</td>\n      <td>000001.XSHE</td>\n      <td>2.956855e+09</td>\n      <td>83956372.0</td>\n      <td>114075783.0</td>\n      <td>1230400.0</td>\n      <td>446100.0</td>\n      <td>97600.0</td>\n      <td>2.973244e+09</td>\n    </tr>\n    <tr>\n      <th>18</th>\n      <td>2020-06-02</td>\n      <td>000001.XSHE</td>\n      <td>2.937435e+09</td>\n      <td>64994305.0</td>\n      <td>84414418.0</td>\n      <td>1713000.0</td>\n      <td>750500.0</td>\n      <td>267900.0</td>\n      <td>2.960647e+09</td>\n    </tr>\n  </tbody>\n</table>\n</div>"
     },
     "metadata": {},
     "execution_count": 32
    }
   ],
   "source": [
    "# 获取股票 000001.XSHE 在日期 2016-06-30 往前 20 个交易日的融资融券信息\n",
    "get_mtss('000001.XSHE', end_date=\"2016-06-30\", count=20)\n",
    "# 获取股票 000001.XSHE 往前 20 个交易日的融资融券信息\n",
    "get_mtss('000001.XSHE', count=20)"
   ]
  },
  {
   "cell_type": "markdown",
   "metadata": {},
   "source": [
    "get_money_flow - 获取资金流向信息"
   ]
  },
  {
   "cell_type": "code",
   "execution_count": 33,
   "metadata": {},
   "outputs": [
    {
     "output_type": "execute_result",
     "data": {
      "text/plain": "         date     sec_code  change_pct  net_amount_main  net_pct_l  \\\n0  2010-01-04  000001.XSHE       -2.71         -5106.20       -5.9   \n1  2010-01-05  000001.XSHE       -1.73        -14486.95        5.2   \n2  2010-01-06  000001.XSHE       -1.72        -14450.14       -0.6   \n3  2010-01-07  000001.XSHE       -1.09        -11419.16       -2.9   \n4  2010-01-08  000001.XSHE       -0.22         -7742.95       -2.3   \n5  2010-01-11  000001.XSHE        0.00        -10705.85       -2.2   \n6  2010-01-12  000001.XSHE       -0.66        -17554.92        0.6   \n7  2010-01-13  000001.XSHE       -6.64        -27468.81       -6.6   \n8  2010-01-14  000001.XSHE        0.05        -12200.49       -0.3   \n9  2010-01-15  000001.XSHE        2.19         -1834.20        0.7   \n10 2010-01-18  000001.XSHE        0.19          -899.93       -0.6   \n11 2010-01-19  000001.XSHE        3.54         10647.76        1.0   \n12 2010-01-20  000001.XSHE       -3.82         -1618.99       -2.1   \n13 2010-01-21  000001.XSHE        6.08          8993.79        0.1   \n14 2010-01-22  000001.XSHE        1.76          4005.84       -1.6   \n15 2010-01-25  000001.XSHE       -3.86         -1445.98       -1.5   \n16 2010-01-26  000001.XSHE       -0.63          -456.26       -3.6   \n17 2010-01-27  000001.XSHE       -0.63         -3658.58       -1.5   \n18 2010-01-28  000001.XSHE       -0.73           624.32       -1.0   \n19 2010-01-29  000001.XSHE       -0.23           898.34        1.8   \n\n    net_amount_m  \n0        1450.62  \n1        6726.09  \n2        4722.27  \n3        3297.08  \n4        2342.40  \n5        3231.96  \n6        5371.28  \n7        7563.87  \n8        3376.92  \n9         229.27  \n10       -824.93  \n11      -3885.00  \n12       -647.59  \n13      -2810.56  \n14       -801.16  \n15        321.33  \n16         76.05  \n17       1070.81  \n18       -510.81  \n19       -475.59  ",
      "text/html": "<div>\n<style scoped>\n    .dataframe tbody tr th:only-of-type {\n        vertical-align: middle;\n    }\n\n    .dataframe tbody tr th {\n        vertical-align: top;\n    }\n\n    .dataframe thead th {\n        text-align: right;\n    }\n</style>\n<table border=\"1\" class=\"dataframe\">\n  <thead>\n    <tr style=\"text-align: right;\">\n      <th></th>\n      <th>date</th>\n      <th>sec_code</th>\n      <th>change_pct</th>\n      <th>net_amount_main</th>\n      <th>net_pct_l</th>\n      <th>net_amount_m</th>\n    </tr>\n  </thead>\n  <tbody>\n    <tr>\n      <th>0</th>\n      <td>2010-01-04</td>\n      <td>000001.XSHE</td>\n      <td>-2.71</td>\n      <td>-5106.20</td>\n      <td>-5.9</td>\n      <td>1450.62</td>\n    </tr>\n    <tr>\n      <th>1</th>\n      <td>2010-01-05</td>\n      <td>000001.XSHE</td>\n      <td>-1.73</td>\n      <td>-14486.95</td>\n      <td>5.2</td>\n      <td>6726.09</td>\n    </tr>\n    <tr>\n      <th>2</th>\n      <td>2010-01-06</td>\n      <td>000001.XSHE</td>\n      <td>-1.72</td>\n      <td>-14450.14</td>\n      <td>-0.6</td>\n      <td>4722.27</td>\n    </tr>\n    <tr>\n      <th>3</th>\n      <td>2010-01-07</td>\n      <td>000001.XSHE</td>\n      <td>-1.09</td>\n      <td>-11419.16</td>\n      <td>-2.9</td>\n      <td>3297.08</td>\n    </tr>\n    <tr>\n      <th>4</th>\n      <td>2010-01-08</td>\n      <td>000001.XSHE</td>\n      <td>-0.22</td>\n      <td>-7742.95</td>\n      <td>-2.3</td>\n      <td>2342.40</td>\n    </tr>\n    <tr>\n      <th>5</th>\n      <td>2010-01-11</td>\n      <td>000001.XSHE</td>\n      <td>0.00</td>\n      <td>-10705.85</td>\n      <td>-2.2</td>\n      <td>3231.96</td>\n    </tr>\n    <tr>\n      <th>6</th>\n      <td>2010-01-12</td>\n      <td>000001.XSHE</td>\n      <td>-0.66</td>\n      <td>-17554.92</td>\n      <td>0.6</td>\n      <td>5371.28</td>\n    </tr>\n    <tr>\n      <th>7</th>\n      <td>2010-01-13</td>\n      <td>000001.XSHE</td>\n      <td>-6.64</td>\n      <td>-27468.81</td>\n      <td>-6.6</td>\n      <td>7563.87</td>\n    </tr>\n    <tr>\n      <th>8</th>\n      <td>2010-01-14</td>\n      <td>000001.XSHE</td>\n      <td>0.05</td>\n      <td>-12200.49</td>\n      <td>-0.3</td>\n      <td>3376.92</td>\n    </tr>\n    <tr>\n      <th>9</th>\n      <td>2010-01-15</td>\n      <td>000001.XSHE</td>\n      <td>2.19</td>\n      <td>-1834.20</td>\n      <td>0.7</td>\n      <td>229.27</td>\n    </tr>\n    <tr>\n      <th>10</th>\n      <td>2010-01-18</td>\n      <td>000001.XSHE</td>\n      <td>0.19</td>\n      <td>-899.93</td>\n      <td>-0.6</td>\n      <td>-824.93</td>\n    </tr>\n    <tr>\n      <th>11</th>\n      <td>2010-01-19</td>\n      <td>000001.XSHE</td>\n      <td>3.54</td>\n      <td>10647.76</td>\n      <td>1.0</td>\n      <td>-3885.00</td>\n    </tr>\n    <tr>\n      <th>12</th>\n      <td>2010-01-20</td>\n      <td>000001.XSHE</td>\n      <td>-3.82</td>\n      <td>-1618.99</td>\n      <td>-2.1</td>\n      <td>-647.59</td>\n    </tr>\n    <tr>\n      <th>13</th>\n      <td>2010-01-21</td>\n      <td>000001.XSHE</td>\n      <td>6.08</td>\n      <td>8993.79</td>\n      <td>0.1</td>\n      <td>-2810.56</td>\n    </tr>\n    <tr>\n      <th>14</th>\n      <td>2010-01-22</td>\n      <td>000001.XSHE</td>\n      <td>1.76</td>\n      <td>4005.84</td>\n      <td>-1.6</td>\n      <td>-801.16</td>\n    </tr>\n    <tr>\n      <th>15</th>\n      <td>2010-01-25</td>\n      <td>000001.XSHE</td>\n      <td>-3.86</td>\n      <td>-1445.98</td>\n      <td>-1.5</td>\n      <td>321.33</td>\n    </tr>\n    <tr>\n      <th>16</th>\n      <td>2010-01-26</td>\n      <td>000001.XSHE</td>\n      <td>-0.63</td>\n      <td>-456.26</td>\n      <td>-3.6</td>\n      <td>76.05</td>\n    </tr>\n    <tr>\n      <th>17</th>\n      <td>2010-01-27</td>\n      <td>000001.XSHE</td>\n      <td>-0.63</td>\n      <td>-3658.58</td>\n      <td>-1.5</td>\n      <td>1070.81</td>\n    </tr>\n    <tr>\n      <th>18</th>\n      <td>2010-01-28</td>\n      <td>000001.XSHE</td>\n      <td>-0.73</td>\n      <td>624.32</td>\n      <td>-1.0</td>\n      <td>-510.81</td>\n    </tr>\n    <tr>\n      <th>19</th>\n      <td>2010-01-29</td>\n      <td>000001.XSHE</td>\n      <td>-0.23</td>\n      <td>898.34</td>\n      <td>1.8</td>\n      <td>-475.59</td>\n    </tr>\n  </tbody>\n</table>\n</div>"
     },
     "metadata": {},
     "execution_count": 33
    }
   ],
   "source": [
    "# 获取一只股票在一个时间段内的资金流量数据\n",
    "get_money_flow('000001.XSHE', '2016-02-01', '2016-02-04')\n",
    "get_money_flow('000001.XSHE', '2015-10-01', '2015-12-30', fields=\"change_pct\")\n",
    "get_money_flow(['000001.XSHE'], '2010-01-01', '2010-01-30', [\"date\", \"sec_code\", \"change_pct\", \"net_amount_main\", \"net_pct_l\", \"net_amount_m\"])"
   ]
  },
  {
   "cell_type": "code",
   "execution_count": 34,
   "metadata": {},
   "outputs": [
    {
     "output_type": "execute_result",
     "data": {
      "text/plain": "         date     sec_code  change_pct  net_amount_main  net_pct_main  \\\n0  2010-01-04  000099.XSHE        0.77           576.20          13.7   \n1  2010-01-04  000040.XSHE       -1.95          -667.22         -29.1   \n2  2010-01-04  000001.XSHE       -2.71         -5106.20          -8.8   \n3  2010-01-05  000040.XSHE       -2.27          -473.25         -13.3   \n4  2010-01-05  000001.XSHE       -1.73        -14486.95         -11.2   \n5  2010-01-05  000099.XSHE        0.77           208.24           4.9   \n6  2010-01-06  000099.XSHE       -0.51            99.11           1.6   \n7  2010-01-06  000040.XSHE        6.69           843.05          13.4   \n8  2010-01-06  000001.XSHE       -1.72        -14450.14         -15.3   \n9  2010-01-07  000099.XSHE       -3.31          -340.93          -7.0   \n10 2010-01-07  000040.XSHE        1.23           241.02           2.3   \n11 2010-01-07  000001.XSHE       -1.09        -11419.16         -14.2   \n12 2010-01-08  000040.XSHE       -0.67           182.22           5.3   \n13 2010-01-08  000001.XSHE       -0.22         -7742.95         -11.9   \n14 2010-01-08  000099.XSHE        1.18            42.25           1.4   \n15 2010-01-11  000001.XSHE        0.00        -10705.85         -10.6   \n16 2010-01-11  000040.XSHE       -3.66          -469.66         -12.8   \n17 2010-01-11  000099.XSHE        0.13          -150.30          -4.2   \n18 2010-01-12  000040.XSHE        2.53           182.61           5.8   \n19 2010-01-12  000001.XSHE       -0.66        -17554.92         -13.4   \n20 2010-01-12  000099.XSHE        2.60           361.42           5.8   \n21 2010-01-13  000099.XSHE        0.63          -256.27          -3.3   \n22 2010-01-13  000001.XSHE       -6.64        -27468.81         -13.8   \n23 2010-01-13  000040.XSHE       -3.70         -1019.40         -27.9   \n24 2010-01-14  000001.XSHE        0.05        -12200.49         -11.2   \n25 2010-01-14  000040.XSHE        6.84          1647.19          18.2   \n26 2010-01-14  000099.XSHE        2.26           559.60           5.9   \n27 2010-01-15  000099.XSHE       -0.12            52.50           0.6   \n28 2010-01-15  000001.XSHE        2.19         -1834.20          -1.6   \n29 2010-01-15  000040.XSHE       -0.40         -1880.52         -15.8   \n30 2010-01-18  000099.XSHE        0.74           -21.67          -0.3   \n31 2010-01-18  000040.XSHE        0.94           577.12          11.9   \n32 2010-01-18  000001.XSHE        0.19          -899.93          -1.2   \n33 2010-01-19  000001.XSHE        3.54         10647.76           7.4   \n34 2010-01-19  000099.XSHE       -1.22          -958.52         -13.8   \n35 2010-01-19  000040.XSHE       -0.80           -84.79          -1.9   \n36 2010-01-20  000040.XSHE       -3.88          -475.41          -7.3   \n37 2010-01-20  000001.XSHE       -3.82         -1618.99          -1.5   \n38 2010-01-20  000099.XSHE       -0.12           431.43           4.9   \n39 2010-01-21  000040.XSHE        0.70            33.17           1.3   \n40 2010-01-21  000001.XSHE        6.08          8993.79           6.4   \n41 2010-01-21  000099.XSHE        2.97          1069.39           5.4   \n42 2010-01-22  000001.XSHE        1.76          4005.84           2.0   \n43 2010-01-22  000099.XSHE        0.84           -45.27          -0.2   \n44 2010-01-22  000040.XSHE        0.55           465.04          11.7   \n45 2010-01-25  000099.XSHE       -0.24          -807.45          -3.9   \n46 2010-01-25  000040.XSHE        0.27           116.70           3.4   \n47 2010-01-25  000001.XSHE       -3.86         -1445.98          -1.8   \n48 2010-01-26  000040.XSHE       -0.14         -2070.39         -17.8   \n49 2010-01-26  000001.XSHE       -0.63          -456.26          -0.6   \n50 2010-01-26  000099.XSHE       -4.07         -1005.68          -5.7   \n51 2010-01-27  000099.XSHE        2.00          -460.41          -2.7   \n52 2010-01-27  000040.XSHE       -8.50           223.04           3.4   \n53 2010-01-27  000001.XSHE       -0.63         -3658.58          -4.1   \n54 2010-01-28  000099.XSHE        4.16          -528.13          -1.9   \n55 2010-01-28  000040.XSHE       -0.45           121.05           4.4   \n56 2010-01-28  000001.XSHE       -0.73           624.32           1.1   \n57 2010-01-29  000099.XSHE       -3.29         -2031.35          -6.4   \n58 2010-01-29  000040.XSHE        0.00            33.58           1.4   \n59 2010-01-29  000001.XSHE       -0.23           898.34           1.7   \n\n    net_amount_xl  net_pct_xl  net_amount_l  net_pct_l  net_amount_m  \\\n0          121.97         2.9        454.23       10.8        -46.26   \n1            0.00         0.0       -667.22      -29.1         75.66   \n2        -1682.72        -2.9      -3423.47       -5.9       1450.62   \n3            0.00         0.0       -473.25      -13.3       -206.38   \n4       -21213.02       -16.4       6726.08        5.2       6726.09   \n5            0.00         0.0        208.24        4.9       -203.99   \n6          173.44         2.8        -74.33       -1.2        -49.55   \n7          125.83         2.0        717.22       11.4       -301.99   \n8       -13883.47       -14.7       -566.68       -0.6       4722.27   \n9           53.57         1.1       -394.50       -8.1       -112.02   \n10         272.46         2.6        -31.44       -0.3        377.25   \n11       -9087.08       -11.3      -2332.08       -2.9       3297.08   \n12         147.84         4.3         34.38        1.0       -123.77   \n13       -6246.41        -9.6      -1496.54       -2.3       2342.40   \n14           0.00         0.0         42.25        1.4       -175.03   \n15       -8483.88        -8.4      -2221.97       -2.2       3231.96   \n16           0.00         0.0       -469.66      -12.8       -132.09   \n17           0.00         0.0       -150.30       -4.2        -46.52   \n18           0.00         0.0        182.61        5.8         88.16   \n19      -18340.96       -14.0        786.04        0.6       5371.28   \n20          68.54         1.1        292.87        4.7        105.93   \n21           0.00         0.0       -256.27       -3.3          0.00   \n22      -14331.55        -7.2     -13137.26       -6.6       7563.87   \n23        -259.42        -7.1       -759.98      -20.8         54.81   \n24      -11873.69       -10.9       -326.80       -0.3       3376.92   \n25         117.66         1.3       1529.53       16.9       -190.06   \n26         -47.42        -0.5        607.02        6.4         94.85   \n27        -166.23        -1.9        218.73        2.5        -61.24   \n28       -2636.66        -2.3        802.47        0.7        229.27   \n29       -1725.79       -14.5       -154.73       -1.3        487.98   \n30          14.45         0.2        -36.12       -0.5         21.67   \n31           0.00         0.0        577.12       11.9       -213.39   \n32        -449.96        -0.6       -449.96       -0.6       -824.93   \n33        9208.88         6.4       1438.89        1.0      -3885.00   \n34           0.00         0.0       -958.52      -13.8        -20.84   \n35         102.64         2.3       -187.42       -4.2         -8.93   \n36        -683.81       -10.5        208.40        3.2        -91.17   \n37         647.60         0.6      -2266.59       -2.1       -647.59   \n38        -114.46        -1.3        545.89        6.2       -237.73   \n39        -145.43        -5.7        178.60        7.0        -91.85   \n40        8853.26         6.3        140.52        0.1      -2810.56   \n41        -178.23        -0.9       1247.62        6.3        554.50   \n42        7210.52         3.6      -3204.68       -1.6       -801.16   \n43         -67.90        -0.3         22.63        0.1        362.12   \n44           0.00         0.0        465.04       11.7       -230.53   \n45        -372.67        -1.8       -434.78       -2.1       -103.52   \n46           0.00         0.0        116.70        3.4        -13.73   \n47        -241.00        -0.3      -1204.98       -1.5        321.33   \n48        -535.04        -4.6      -1535.34      -13.2        616.46   \n49        2281.30         3.0      -2737.56       -3.6         76.05   \n50         158.79         0.9      -1164.47       -6.6         88.22   \n51        -477.46        -2.8         17.05        0.1        341.04   \n52           0.00         0.0        223.04        3.4       -301.76   \n53       -2320.08        -2.6      -1338.51       -1.5       1070.81   \n54        -555.93        -2.0         27.80        0.1        333.55   \n55           0.00         0.0        121.05        4.4       -115.55   \n56        1191.89         2.1       -567.57       -1.0       -510.81   \n57         -31.74        -0.1      -1999.61       -6.3        539.58   \n58           0.00         0.0         33.58        1.4          2.40   \n59         -52.84        -0.1        951.19        1.8       -475.59   \n\n    net_pct_m  net_amount_s  net_pct_s  \n0        -1.1       -529.93      -12.6  \n1         3.3        591.56       25.8  \n2         2.5       3655.57        6.3  \n3        -5.8        679.62       19.1  \n4         5.2       7760.86        6.0  \n5        -4.8         -4.25       -0.1  \n6        -0.8        -49.56       -0.8  \n7        -4.8       -541.06       -8.6  \n8         5.0       9727.87       10.3  \n9        -2.3        452.94        9.3  \n10        3.6       -618.27       -5.9  \n11        4.1       8122.08       10.1  \n12       -3.6        -58.45       -1.7  \n13        3.6       5400.54        8.3  \n14       -5.8        132.78        4.4  \n15        3.2       7473.89        7.4  \n16       -3.6        601.75       16.4  \n17       -1.3        196.82        5.5  \n18        2.8       -270.77       -8.6  \n19        4.1      12183.64        9.3  \n20        1.7       -467.35       -7.5  \n21        0.0        256.27        3.3  \n22        3.8      19904.93       10.0  \n23        1.5        964.60       26.4  \n24        3.1       8823.57        8.1  \n25       -2.1      -1457.13      -16.1  \n26        1.0       -654.45       -6.9  \n27       -0.7          8.75        0.1  \n28        0.2       1604.92        1.4  \n29        4.1       1392.53       11.7  \n30        0.3          0.00        0.0  \n31       -4.4       -363.73       -7.5  \n32       -1.1       1724.87        2.3  \n33       -2.7      -6762.77       -4.7  \n34       -0.3        979.35       14.1  \n35       -0.2         93.71        2.1  \n36       -1.4        566.58        8.7  \n37       -0.6       2266.59        2.1  \n38       -2.7       -193.70       -2.2  \n39       -3.6         58.68        2.3  \n40       -2.0      -6183.23       -4.4  \n41        2.8      -1623.88       -8.2  \n42       -0.4      -3204.68       -1.6  \n43        1.6       -316.86       -1.4  \n44       -5.8       -234.51       -5.9  \n45       -0.5        910.96        4.4  \n46       -0.4       -102.97       -3.0  \n47        0.4       1124.65        1.4  \n48        5.3       1453.92       12.5  \n49        0.1        380.22        0.5  \n50        0.5        917.46        5.2  \n51        2.0        119.36        0.7  \n52       -4.6         78.72        1.2  \n53        1.2       2587.78        2.9  \n54        1.2        194.57        0.7  \n55       -4.2         -5.50       -0.2  \n56       -0.9       -113.51       -0.2  \n57        1.7       1491.77        4.7  \n58        0.1        -35.98       -1.5  \n59       -0.9       -422.75       -0.8  ",
      "text/html": "<div>\n<style scoped>\n    .dataframe tbody tr th:only-of-type {\n        vertical-align: middle;\n    }\n\n    .dataframe tbody tr th {\n        vertical-align: top;\n    }\n\n    .dataframe thead th {\n        text-align: right;\n    }\n</style>\n<table border=\"1\" class=\"dataframe\">\n  <thead>\n    <tr style=\"text-align: right;\">\n      <th></th>\n      <th>date</th>\n      <th>sec_code</th>\n      <th>change_pct</th>\n      <th>net_amount_main</th>\n      <th>net_pct_main</th>\n      <th>net_amount_xl</th>\n      <th>net_pct_xl</th>\n      <th>net_amount_l</th>\n      <th>net_pct_l</th>\n      <th>net_amount_m</th>\n      <th>net_pct_m</th>\n      <th>net_amount_s</th>\n      <th>net_pct_s</th>\n    </tr>\n  </thead>\n  <tbody>\n    <tr>\n      <th>0</th>\n      <td>2010-01-04</td>\n      <td>000099.XSHE</td>\n      <td>0.77</td>\n      <td>576.20</td>\n      <td>13.7</td>\n      <td>121.97</td>\n      <td>2.9</td>\n      <td>454.23</td>\n      <td>10.8</td>\n      <td>-46.26</td>\n      <td>-1.1</td>\n      <td>-529.93</td>\n      <td>-12.6</td>\n    </tr>\n    <tr>\n      <th>1</th>\n      <td>2010-01-04</td>\n      <td>000040.XSHE</td>\n      <td>-1.95</td>\n      <td>-667.22</td>\n      <td>-29.1</td>\n      <td>0.00</td>\n      <td>0.0</td>\n      <td>-667.22</td>\n      <td>-29.1</td>\n      <td>75.66</td>\n      <td>3.3</td>\n      <td>591.56</td>\n      <td>25.8</td>\n    </tr>\n    <tr>\n      <th>2</th>\n      <td>2010-01-04</td>\n      <td>000001.XSHE</td>\n      <td>-2.71</td>\n      <td>-5106.20</td>\n      <td>-8.8</td>\n      <td>-1682.72</td>\n      <td>-2.9</td>\n      <td>-3423.47</td>\n      <td>-5.9</td>\n      <td>1450.62</td>\n      <td>2.5</td>\n      <td>3655.57</td>\n      <td>6.3</td>\n    </tr>\n    <tr>\n      <th>3</th>\n      <td>2010-01-05</td>\n      <td>000040.XSHE</td>\n      <td>-2.27</td>\n      <td>-473.25</td>\n      <td>-13.3</td>\n      <td>0.00</td>\n      <td>0.0</td>\n      <td>-473.25</td>\n      <td>-13.3</td>\n      <td>-206.38</td>\n      <td>-5.8</td>\n      <td>679.62</td>\n      <td>19.1</td>\n    </tr>\n    <tr>\n      <th>4</th>\n      <td>2010-01-05</td>\n      <td>000001.XSHE</td>\n      <td>-1.73</td>\n      <td>-14486.95</td>\n      <td>-11.2</td>\n      <td>-21213.02</td>\n      <td>-16.4</td>\n      <td>6726.08</td>\n      <td>5.2</td>\n      <td>6726.09</td>\n      <td>5.2</td>\n      <td>7760.86</td>\n      <td>6.0</td>\n    </tr>\n    <tr>\n      <th>5</th>\n      <td>2010-01-05</td>\n      <td>000099.XSHE</td>\n      <td>0.77</td>\n      <td>208.24</td>\n      <td>4.9</td>\n      <td>0.00</td>\n      <td>0.0</td>\n      <td>208.24</td>\n      <td>4.9</td>\n      <td>-203.99</td>\n      <td>-4.8</td>\n      <td>-4.25</td>\n      <td>-0.1</td>\n    </tr>\n    <tr>\n      <th>6</th>\n      <td>2010-01-06</td>\n      <td>000099.XSHE</td>\n      <td>-0.51</td>\n      <td>99.11</td>\n      <td>1.6</td>\n      <td>173.44</td>\n      <td>2.8</td>\n      <td>-74.33</td>\n      <td>-1.2</td>\n      <td>-49.55</td>\n      <td>-0.8</td>\n      <td>-49.56</td>\n      <td>-0.8</td>\n    </tr>\n    <tr>\n      <th>7</th>\n      <td>2010-01-06</td>\n      <td>000040.XSHE</td>\n      <td>6.69</td>\n      <td>843.05</td>\n      <td>13.4</td>\n      <td>125.83</td>\n      <td>2.0</td>\n      <td>717.22</td>\n      <td>11.4</td>\n      <td>-301.99</td>\n      <td>-4.8</td>\n      <td>-541.06</td>\n      <td>-8.6</td>\n    </tr>\n    <tr>\n      <th>8</th>\n      <td>2010-01-06</td>\n      <td>000001.XSHE</td>\n      <td>-1.72</td>\n      <td>-14450.14</td>\n      <td>-15.3</td>\n      <td>-13883.47</td>\n      <td>-14.7</td>\n      <td>-566.68</td>\n      <td>-0.6</td>\n      <td>4722.27</td>\n      <td>5.0</td>\n      <td>9727.87</td>\n      <td>10.3</td>\n    </tr>\n    <tr>\n      <th>9</th>\n      <td>2010-01-07</td>\n      <td>000099.XSHE</td>\n      <td>-3.31</td>\n      <td>-340.93</td>\n      <td>-7.0</td>\n      <td>53.57</td>\n      <td>1.1</td>\n      <td>-394.50</td>\n      <td>-8.1</td>\n      <td>-112.02</td>\n      <td>-2.3</td>\n      <td>452.94</td>\n      <td>9.3</td>\n    </tr>\n    <tr>\n      <th>10</th>\n      <td>2010-01-07</td>\n      <td>000040.XSHE</td>\n      <td>1.23</td>\n      <td>241.02</td>\n      <td>2.3</td>\n      <td>272.46</td>\n      <td>2.6</td>\n      <td>-31.44</td>\n      <td>-0.3</td>\n      <td>377.25</td>\n      <td>3.6</td>\n      <td>-618.27</td>\n      <td>-5.9</td>\n    </tr>\n    <tr>\n      <th>11</th>\n      <td>2010-01-07</td>\n      <td>000001.XSHE</td>\n      <td>-1.09</td>\n      <td>-11419.16</td>\n      <td>-14.2</td>\n      <td>-9087.08</td>\n      <td>-11.3</td>\n      <td>-2332.08</td>\n      <td>-2.9</td>\n      <td>3297.08</td>\n      <td>4.1</td>\n      <td>8122.08</td>\n      <td>10.1</td>\n    </tr>\n    <tr>\n      <th>12</th>\n      <td>2010-01-08</td>\n      <td>000040.XSHE</td>\n      <td>-0.67</td>\n      <td>182.22</td>\n      <td>5.3</td>\n      <td>147.84</td>\n      <td>4.3</td>\n      <td>34.38</td>\n      <td>1.0</td>\n      <td>-123.77</td>\n      <td>-3.6</td>\n      <td>-58.45</td>\n      <td>-1.7</td>\n    </tr>\n    <tr>\n      <th>13</th>\n      <td>2010-01-08</td>\n      <td>000001.XSHE</td>\n      <td>-0.22</td>\n      <td>-7742.95</td>\n      <td>-11.9</td>\n      <td>-6246.41</td>\n      <td>-9.6</td>\n      <td>-1496.54</td>\n      <td>-2.3</td>\n      <td>2342.40</td>\n      <td>3.6</td>\n      <td>5400.54</td>\n      <td>8.3</td>\n    </tr>\n    <tr>\n      <th>14</th>\n      <td>2010-01-08</td>\n      <td>000099.XSHE</td>\n      <td>1.18</td>\n      <td>42.25</td>\n      <td>1.4</td>\n      <td>0.00</td>\n      <td>0.0</td>\n      <td>42.25</td>\n      <td>1.4</td>\n      <td>-175.03</td>\n      <td>-5.8</td>\n      <td>132.78</td>\n      <td>4.4</td>\n    </tr>\n    <tr>\n      <th>15</th>\n      <td>2010-01-11</td>\n      <td>000001.XSHE</td>\n      <td>0.00</td>\n      <td>-10705.85</td>\n      <td>-10.6</td>\n      <td>-8483.88</td>\n      <td>-8.4</td>\n      <td>-2221.97</td>\n      <td>-2.2</td>\n      <td>3231.96</td>\n      <td>3.2</td>\n      <td>7473.89</td>\n      <td>7.4</td>\n    </tr>\n    <tr>\n      <th>16</th>\n      <td>2010-01-11</td>\n      <td>000040.XSHE</td>\n      <td>-3.66</td>\n      <td>-469.66</td>\n      <td>-12.8</td>\n      <td>0.00</td>\n      <td>0.0</td>\n      <td>-469.66</td>\n      <td>-12.8</td>\n      <td>-132.09</td>\n      <td>-3.6</td>\n      <td>601.75</td>\n      <td>16.4</td>\n    </tr>\n    <tr>\n      <th>17</th>\n      <td>2010-01-11</td>\n      <td>000099.XSHE</td>\n      <td>0.13</td>\n      <td>-150.30</td>\n      <td>-4.2</td>\n      <td>0.00</td>\n      <td>0.0</td>\n      <td>-150.30</td>\n      <td>-4.2</td>\n      <td>-46.52</td>\n      <td>-1.3</td>\n      <td>196.82</td>\n      <td>5.5</td>\n    </tr>\n    <tr>\n      <th>18</th>\n      <td>2010-01-12</td>\n      <td>000040.XSHE</td>\n      <td>2.53</td>\n      <td>182.61</td>\n      <td>5.8</td>\n      <td>0.00</td>\n      <td>0.0</td>\n      <td>182.61</td>\n      <td>5.8</td>\n      <td>88.16</td>\n      <td>2.8</td>\n      <td>-270.77</td>\n      <td>-8.6</td>\n    </tr>\n    <tr>\n      <th>19</th>\n      <td>2010-01-12</td>\n      <td>000001.XSHE</td>\n      <td>-0.66</td>\n      <td>-17554.92</td>\n      <td>-13.4</td>\n      <td>-18340.96</td>\n      <td>-14.0</td>\n      <td>786.04</td>\n      <td>0.6</td>\n      <td>5371.28</td>\n      <td>4.1</td>\n      <td>12183.64</td>\n      <td>9.3</td>\n    </tr>\n    <tr>\n      <th>20</th>\n      <td>2010-01-12</td>\n      <td>000099.XSHE</td>\n      <td>2.60</td>\n      <td>361.42</td>\n      <td>5.8</td>\n      <td>68.54</td>\n      <td>1.1</td>\n      <td>292.87</td>\n      <td>4.7</td>\n      <td>105.93</td>\n      <td>1.7</td>\n      <td>-467.35</td>\n      <td>-7.5</td>\n    </tr>\n    <tr>\n      <th>21</th>\n      <td>2010-01-13</td>\n      <td>000099.XSHE</td>\n      <td>0.63</td>\n      <td>-256.27</td>\n      <td>-3.3</td>\n      <td>0.00</td>\n      <td>0.0</td>\n      <td>-256.27</td>\n      <td>-3.3</td>\n      <td>0.00</td>\n      <td>0.0</td>\n      <td>256.27</td>\n      <td>3.3</td>\n    </tr>\n    <tr>\n      <th>22</th>\n      <td>2010-01-13</td>\n      <td>000001.XSHE</td>\n      <td>-6.64</td>\n      <td>-27468.81</td>\n      <td>-13.8</td>\n      <td>-14331.55</td>\n      <td>-7.2</td>\n      <td>-13137.26</td>\n      <td>-6.6</td>\n      <td>7563.87</td>\n      <td>3.8</td>\n      <td>19904.93</td>\n      <td>10.0</td>\n    </tr>\n    <tr>\n      <th>23</th>\n      <td>2010-01-13</td>\n      <td>000040.XSHE</td>\n      <td>-3.70</td>\n      <td>-1019.40</td>\n      <td>-27.9</td>\n      <td>-259.42</td>\n      <td>-7.1</td>\n      <td>-759.98</td>\n      <td>-20.8</td>\n      <td>54.81</td>\n      <td>1.5</td>\n      <td>964.60</td>\n      <td>26.4</td>\n    </tr>\n    <tr>\n      <th>24</th>\n      <td>2010-01-14</td>\n      <td>000001.XSHE</td>\n      <td>0.05</td>\n      <td>-12200.49</td>\n      <td>-11.2</td>\n      <td>-11873.69</td>\n      <td>-10.9</td>\n      <td>-326.80</td>\n      <td>-0.3</td>\n      <td>3376.92</td>\n      <td>3.1</td>\n      <td>8823.57</td>\n      <td>8.1</td>\n    </tr>\n    <tr>\n      <th>25</th>\n      <td>2010-01-14</td>\n      <td>000040.XSHE</td>\n      <td>6.84</td>\n      <td>1647.19</td>\n      <td>18.2</td>\n      <td>117.66</td>\n      <td>1.3</td>\n      <td>1529.53</td>\n      <td>16.9</td>\n      <td>-190.06</td>\n      <td>-2.1</td>\n      <td>-1457.13</td>\n      <td>-16.1</td>\n    </tr>\n    <tr>\n      <th>26</th>\n      <td>2010-01-14</td>\n      <td>000099.XSHE</td>\n      <td>2.26</td>\n      <td>559.60</td>\n      <td>5.9</td>\n      <td>-47.42</td>\n      <td>-0.5</td>\n      <td>607.02</td>\n      <td>6.4</td>\n      <td>94.85</td>\n      <td>1.0</td>\n      <td>-654.45</td>\n      <td>-6.9</td>\n    </tr>\n    <tr>\n      <th>27</th>\n      <td>2010-01-15</td>\n      <td>000099.XSHE</td>\n      <td>-0.12</td>\n      <td>52.50</td>\n      <td>0.6</td>\n      <td>-166.23</td>\n      <td>-1.9</td>\n      <td>218.73</td>\n      <td>2.5</td>\n      <td>-61.24</td>\n      <td>-0.7</td>\n      <td>8.75</td>\n      <td>0.1</td>\n    </tr>\n    <tr>\n      <th>28</th>\n      <td>2010-01-15</td>\n      <td>000001.XSHE</td>\n      <td>2.19</td>\n      <td>-1834.20</td>\n      <td>-1.6</td>\n      <td>-2636.66</td>\n      <td>-2.3</td>\n      <td>802.47</td>\n      <td>0.7</td>\n      <td>229.27</td>\n      <td>0.2</td>\n      <td>1604.92</td>\n      <td>1.4</td>\n    </tr>\n    <tr>\n      <th>29</th>\n      <td>2010-01-15</td>\n      <td>000040.XSHE</td>\n      <td>-0.40</td>\n      <td>-1880.52</td>\n      <td>-15.8</td>\n      <td>-1725.79</td>\n      <td>-14.5</td>\n      <td>-154.73</td>\n      <td>-1.3</td>\n      <td>487.98</td>\n      <td>4.1</td>\n      <td>1392.53</td>\n      <td>11.7</td>\n    </tr>\n    <tr>\n      <th>30</th>\n      <td>2010-01-18</td>\n      <td>000099.XSHE</td>\n      <td>0.74</td>\n      <td>-21.67</td>\n      <td>-0.3</td>\n      <td>14.45</td>\n      <td>0.2</td>\n      <td>-36.12</td>\n      <td>-0.5</td>\n      <td>21.67</td>\n      <td>0.3</td>\n      <td>0.00</td>\n      <td>0.0</td>\n    </tr>\n    <tr>\n      <th>31</th>\n      <td>2010-01-18</td>\n      <td>000040.XSHE</td>\n      <td>0.94</td>\n      <td>577.12</td>\n      <td>11.9</td>\n      <td>0.00</td>\n      <td>0.0</td>\n      <td>577.12</td>\n      <td>11.9</td>\n      <td>-213.39</td>\n      <td>-4.4</td>\n      <td>-363.73</td>\n      <td>-7.5</td>\n    </tr>\n    <tr>\n      <th>32</th>\n      <td>2010-01-18</td>\n      <td>000001.XSHE</td>\n      <td>0.19</td>\n      <td>-899.93</td>\n      <td>-1.2</td>\n      <td>-449.96</td>\n      <td>-0.6</td>\n      <td>-449.96</td>\n      <td>-0.6</td>\n      <td>-824.93</td>\n      <td>-1.1</td>\n      <td>1724.87</td>\n      <td>2.3</td>\n    </tr>\n    <tr>\n      <th>33</th>\n      <td>2010-01-19</td>\n      <td>000001.XSHE</td>\n      <td>3.54</td>\n      <td>10647.76</td>\n      <td>7.4</td>\n      <td>9208.88</td>\n      <td>6.4</td>\n      <td>1438.89</td>\n      <td>1.0</td>\n      <td>-3885.00</td>\n      <td>-2.7</td>\n      <td>-6762.77</td>\n      <td>-4.7</td>\n    </tr>\n    <tr>\n      <th>34</th>\n      <td>2010-01-19</td>\n      <td>000099.XSHE</td>\n      <td>-1.22</td>\n      <td>-958.52</td>\n      <td>-13.8</td>\n      <td>0.00</td>\n      <td>0.0</td>\n      <td>-958.52</td>\n      <td>-13.8</td>\n      <td>-20.84</td>\n      <td>-0.3</td>\n      <td>979.35</td>\n      <td>14.1</td>\n    </tr>\n    <tr>\n      <th>35</th>\n      <td>2010-01-19</td>\n      <td>000040.XSHE</td>\n      <td>-0.80</td>\n      <td>-84.79</td>\n      <td>-1.9</td>\n      <td>102.64</td>\n      <td>2.3</td>\n      <td>-187.42</td>\n      <td>-4.2</td>\n      <td>-8.93</td>\n      <td>-0.2</td>\n      <td>93.71</td>\n      <td>2.1</td>\n    </tr>\n    <tr>\n      <th>36</th>\n      <td>2010-01-20</td>\n      <td>000040.XSHE</td>\n      <td>-3.88</td>\n      <td>-475.41</td>\n      <td>-7.3</td>\n      <td>-683.81</td>\n      <td>-10.5</td>\n      <td>208.40</td>\n      <td>3.2</td>\n      <td>-91.17</td>\n      <td>-1.4</td>\n      <td>566.58</td>\n      <td>8.7</td>\n    </tr>\n    <tr>\n      <th>37</th>\n      <td>2010-01-20</td>\n      <td>000001.XSHE</td>\n      <td>-3.82</td>\n      <td>-1618.99</td>\n      <td>-1.5</td>\n      <td>647.60</td>\n      <td>0.6</td>\n      <td>-2266.59</td>\n      <td>-2.1</td>\n      <td>-647.59</td>\n      <td>-0.6</td>\n      <td>2266.59</td>\n      <td>2.1</td>\n    </tr>\n    <tr>\n      <th>38</th>\n      <td>2010-01-20</td>\n      <td>000099.XSHE</td>\n      <td>-0.12</td>\n      <td>431.43</td>\n      <td>4.9</td>\n      <td>-114.46</td>\n      <td>-1.3</td>\n      <td>545.89</td>\n      <td>6.2</td>\n      <td>-237.73</td>\n      <td>-2.7</td>\n      <td>-193.70</td>\n      <td>-2.2</td>\n    </tr>\n    <tr>\n      <th>39</th>\n      <td>2010-01-21</td>\n      <td>000040.XSHE</td>\n      <td>0.70</td>\n      <td>33.17</td>\n      <td>1.3</td>\n      <td>-145.43</td>\n      <td>-5.7</td>\n      <td>178.60</td>\n      <td>7.0</td>\n      <td>-91.85</td>\n      <td>-3.6</td>\n      <td>58.68</td>\n      <td>2.3</td>\n    </tr>\n    <tr>\n      <th>40</th>\n      <td>2010-01-21</td>\n      <td>000001.XSHE</td>\n      <td>6.08</td>\n      <td>8993.79</td>\n      <td>6.4</td>\n      <td>8853.26</td>\n      <td>6.3</td>\n      <td>140.52</td>\n      <td>0.1</td>\n      <td>-2810.56</td>\n      <td>-2.0</td>\n      <td>-6183.23</td>\n      <td>-4.4</td>\n    </tr>\n    <tr>\n      <th>41</th>\n      <td>2010-01-21</td>\n      <td>000099.XSHE</td>\n      <td>2.97</td>\n      <td>1069.39</td>\n      <td>5.4</td>\n      <td>-178.23</td>\n      <td>-0.9</td>\n      <td>1247.62</td>\n      <td>6.3</td>\n      <td>554.50</td>\n      <td>2.8</td>\n      <td>-1623.88</td>\n      <td>-8.2</td>\n    </tr>\n    <tr>\n      <th>42</th>\n      <td>2010-01-22</td>\n      <td>000001.XSHE</td>\n      <td>1.76</td>\n      <td>4005.84</td>\n      <td>2.0</td>\n      <td>7210.52</td>\n      <td>3.6</td>\n      <td>-3204.68</td>\n      <td>-1.6</td>\n      <td>-801.16</td>\n      <td>-0.4</td>\n      <td>-3204.68</td>\n      <td>-1.6</td>\n    </tr>\n    <tr>\n      <th>43</th>\n      <td>2010-01-22</td>\n      <td>000099.XSHE</td>\n      <td>0.84</td>\n      <td>-45.27</td>\n      <td>-0.2</td>\n      <td>-67.90</td>\n      <td>-0.3</td>\n      <td>22.63</td>\n      <td>0.1</td>\n      <td>362.12</td>\n      <td>1.6</td>\n      <td>-316.86</td>\n      <td>-1.4</td>\n    </tr>\n    <tr>\n      <th>44</th>\n      <td>2010-01-22</td>\n      <td>000040.XSHE</td>\n      <td>0.55</td>\n      <td>465.04</td>\n      <td>11.7</td>\n      <td>0.00</td>\n      <td>0.0</td>\n      <td>465.04</td>\n      <td>11.7</td>\n      <td>-230.53</td>\n      <td>-5.8</td>\n      <td>-234.51</td>\n      <td>-5.9</td>\n    </tr>\n    <tr>\n      <th>45</th>\n      <td>2010-01-25</td>\n      <td>000099.XSHE</td>\n      <td>-0.24</td>\n      <td>-807.45</td>\n      <td>-3.9</td>\n      <td>-372.67</td>\n      <td>-1.8</td>\n      <td>-434.78</td>\n      <td>-2.1</td>\n      <td>-103.52</td>\n      <td>-0.5</td>\n      <td>910.96</td>\n      <td>4.4</td>\n    </tr>\n    <tr>\n      <th>46</th>\n      <td>2010-01-25</td>\n      <td>000040.XSHE</td>\n      <td>0.27</td>\n      <td>116.70</td>\n      <td>3.4</td>\n      <td>0.00</td>\n      <td>0.0</td>\n      <td>116.70</td>\n      <td>3.4</td>\n      <td>-13.73</td>\n      <td>-0.4</td>\n      <td>-102.97</td>\n      <td>-3.0</td>\n    </tr>\n    <tr>\n      <th>47</th>\n      <td>2010-01-25</td>\n      <td>000001.XSHE</td>\n      <td>-3.86</td>\n      <td>-1445.98</td>\n      <td>-1.8</td>\n      <td>-241.00</td>\n      <td>-0.3</td>\n      <td>-1204.98</td>\n      <td>-1.5</td>\n      <td>321.33</td>\n      <td>0.4</td>\n      <td>1124.65</td>\n      <td>1.4</td>\n    </tr>\n    <tr>\n      <th>48</th>\n      <td>2010-01-26</td>\n      <td>000040.XSHE</td>\n      <td>-0.14</td>\n      <td>-2070.39</td>\n      <td>-17.8</td>\n      <td>-535.04</td>\n      <td>-4.6</td>\n      <td>-1535.34</td>\n      <td>-13.2</td>\n      <td>616.46</td>\n      <td>5.3</td>\n      <td>1453.92</td>\n      <td>12.5</td>\n    </tr>\n    <tr>\n      <th>49</th>\n      <td>2010-01-26</td>\n      <td>000001.XSHE</td>\n      <td>-0.63</td>\n      <td>-456.26</td>\n      <td>-0.6</td>\n      <td>2281.30</td>\n      <td>3.0</td>\n      <td>-2737.56</td>\n      <td>-3.6</td>\n      <td>76.05</td>\n      <td>0.1</td>\n      <td>380.22</td>\n      <td>0.5</td>\n    </tr>\n    <tr>\n      <th>50</th>\n      <td>2010-01-26</td>\n      <td>000099.XSHE</td>\n      <td>-4.07</td>\n      <td>-1005.68</td>\n      <td>-5.7</td>\n      <td>158.79</td>\n      <td>0.9</td>\n      <td>-1164.47</td>\n      <td>-6.6</td>\n      <td>88.22</td>\n      <td>0.5</td>\n      <td>917.46</td>\n      <td>5.2</td>\n    </tr>\n    <tr>\n      <th>51</th>\n      <td>2010-01-27</td>\n      <td>000099.XSHE</td>\n      <td>2.00</td>\n      <td>-460.41</td>\n      <td>-2.7</td>\n      <td>-477.46</td>\n      <td>-2.8</td>\n      <td>17.05</td>\n      <td>0.1</td>\n      <td>341.04</td>\n      <td>2.0</td>\n      <td>119.36</td>\n      <td>0.7</td>\n    </tr>\n    <tr>\n      <th>52</th>\n      <td>2010-01-27</td>\n      <td>000040.XSHE</td>\n      <td>-8.50</td>\n      <td>223.04</td>\n      <td>3.4</td>\n      <td>0.00</td>\n      <td>0.0</td>\n      <td>223.04</td>\n      <td>3.4</td>\n      <td>-301.76</td>\n      <td>-4.6</td>\n      <td>78.72</td>\n      <td>1.2</td>\n    </tr>\n    <tr>\n      <th>53</th>\n      <td>2010-01-27</td>\n      <td>000001.XSHE</td>\n      <td>-0.63</td>\n      <td>-3658.58</td>\n      <td>-4.1</td>\n      <td>-2320.08</td>\n      <td>-2.6</td>\n      <td>-1338.51</td>\n      <td>-1.5</td>\n      <td>1070.81</td>\n      <td>1.2</td>\n      <td>2587.78</td>\n      <td>2.9</td>\n    </tr>\n    <tr>\n      <th>54</th>\n      <td>2010-01-28</td>\n      <td>000099.XSHE</td>\n      <td>4.16</td>\n      <td>-528.13</td>\n      <td>-1.9</td>\n      <td>-555.93</td>\n      <td>-2.0</td>\n      <td>27.80</td>\n      <td>0.1</td>\n      <td>333.55</td>\n      <td>1.2</td>\n      <td>194.57</td>\n      <td>0.7</td>\n    </tr>\n    <tr>\n      <th>55</th>\n      <td>2010-01-28</td>\n      <td>000040.XSHE</td>\n      <td>-0.45</td>\n      <td>121.05</td>\n      <td>4.4</td>\n      <td>0.00</td>\n      <td>0.0</td>\n      <td>121.05</td>\n      <td>4.4</td>\n      <td>-115.55</td>\n      <td>-4.2</td>\n      <td>-5.50</td>\n      <td>-0.2</td>\n    </tr>\n    <tr>\n      <th>56</th>\n      <td>2010-01-28</td>\n      <td>000001.XSHE</td>\n      <td>-0.73</td>\n      <td>624.32</td>\n      <td>1.1</td>\n      <td>1191.89</td>\n      <td>2.1</td>\n      <td>-567.57</td>\n      <td>-1.0</td>\n      <td>-510.81</td>\n      <td>-0.9</td>\n      <td>-113.51</td>\n      <td>-0.2</td>\n    </tr>\n    <tr>\n      <th>57</th>\n      <td>2010-01-29</td>\n      <td>000099.XSHE</td>\n      <td>-3.29</td>\n      <td>-2031.35</td>\n      <td>-6.4</td>\n      <td>-31.74</td>\n      <td>-0.1</td>\n      <td>-1999.61</td>\n      <td>-6.3</td>\n      <td>539.58</td>\n      <td>1.7</td>\n      <td>1491.77</td>\n      <td>4.7</td>\n    </tr>\n    <tr>\n      <th>58</th>\n      <td>2010-01-29</td>\n      <td>000040.XSHE</td>\n      <td>0.00</td>\n      <td>33.58</td>\n      <td>1.4</td>\n      <td>0.00</td>\n      <td>0.0</td>\n      <td>33.58</td>\n      <td>1.4</td>\n      <td>2.40</td>\n      <td>0.1</td>\n      <td>-35.98</td>\n      <td>-1.5</td>\n    </tr>\n    <tr>\n      <th>59</th>\n      <td>2010-01-29</td>\n      <td>000001.XSHE</td>\n      <td>-0.23</td>\n      <td>898.34</td>\n      <td>1.7</td>\n      <td>-52.84</td>\n      <td>-0.1</td>\n      <td>951.19</td>\n      <td>1.8</td>\n      <td>-475.59</td>\n      <td>-0.9</td>\n      <td>-422.75</td>\n      <td>-0.8</td>\n    </tr>\n  </tbody>\n</table>\n</div>"
     },
     "metadata": {},
     "execution_count": 34
    }
   ],
   "source": [
    "# 获取多只股票在一个时间段内的资金流向数据\n",
    "get_money_flow(['000001.XSHE', '000040.XSHE', '000099.XSHE'], '2010-01-01', '2010-01-30')"
   ]
  },
  {
   "cell_type": "code",
   "execution_count": 35,
   "metadata": {},
   "outputs": [
    {
     "output_type": "execute_result",
     "data": {
      "text/plain": "        date     sec_code  change_pct  net_amount_main  net_pct_main  \\\n0 2016-04-01  000001.XSHE        0.19          -580.30         -1.48   \n1 2016-04-01  000040.XSHE       -0.69          -293.20         -3.40   \n2 2016-04-01  000099.XSHE       -3.61         -8913.61        -23.39   \n\n   net_amount_xl  net_pct_xl  net_amount_l  net_pct_l  net_amount_m  \\\n0         684.81        1.75      -1265.11      -3.23       -527.74   \n1        -244.34       -2.83        -48.86      -0.57       -371.15   \n2       -5711.44      -14.99      -3202.18      -8.40       2013.41   \n\n   net_pct_m  net_amount_s  net_pct_s  \n0      -1.35       1108.05       2.83  \n1      -4.30        664.35       7.70  \n2       5.28       6900.20      18.10  ",
      "text/html": "<div>\n<style scoped>\n    .dataframe tbody tr th:only-of-type {\n        vertical-align: middle;\n    }\n\n    .dataframe tbody tr th {\n        vertical-align: top;\n    }\n\n    .dataframe thead th {\n        text-align: right;\n    }\n</style>\n<table border=\"1\" class=\"dataframe\">\n  <thead>\n    <tr style=\"text-align: right;\">\n      <th></th>\n      <th>date</th>\n      <th>sec_code</th>\n      <th>change_pct</th>\n      <th>net_amount_main</th>\n      <th>net_pct_main</th>\n      <th>net_amount_xl</th>\n      <th>net_pct_xl</th>\n      <th>net_amount_l</th>\n      <th>net_pct_l</th>\n      <th>net_amount_m</th>\n      <th>net_pct_m</th>\n      <th>net_amount_s</th>\n      <th>net_pct_s</th>\n    </tr>\n  </thead>\n  <tbody>\n    <tr>\n      <th>0</th>\n      <td>2016-04-01</td>\n      <td>000001.XSHE</td>\n      <td>0.19</td>\n      <td>-580.30</td>\n      <td>-1.48</td>\n      <td>684.81</td>\n      <td>1.75</td>\n      <td>-1265.11</td>\n      <td>-3.23</td>\n      <td>-527.74</td>\n      <td>-1.35</td>\n      <td>1108.05</td>\n      <td>2.83</td>\n    </tr>\n    <tr>\n      <th>1</th>\n      <td>2016-04-01</td>\n      <td>000040.XSHE</td>\n      <td>-0.69</td>\n      <td>-293.20</td>\n      <td>-3.40</td>\n      <td>-244.34</td>\n      <td>-2.83</td>\n      <td>-48.86</td>\n      <td>-0.57</td>\n      <td>-371.15</td>\n      <td>-4.30</td>\n      <td>664.35</td>\n      <td>7.70</td>\n    </tr>\n    <tr>\n      <th>2</th>\n      <td>2016-04-01</td>\n      <td>000099.XSHE</td>\n      <td>-3.61</td>\n      <td>-8913.61</td>\n      <td>-23.39</td>\n      <td>-5711.44</td>\n      <td>-14.99</td>\n      <td>-3202.18</td>\n      <td>-8.40</td>\n      <td>2013.41</td>\n      <td>5.28</td>\n      <td>6900.20</td>\n      <td>18.10</td>\n    </tr>\n  </tbody>\n</table>\n</div>"
     },
     "metadata": {},
     "execution_count": 35
    }
   ],
   "source": [
    "# 获取多只股票在某一天的资金流向数据\n",
    "get_money_flow(['000001.XSHE', '000040.XSHE', '000099.XSHE'], '2016-04-01', '2016-04-01')"
   ]
  }
 ],
 "metadata": {
  "language_info": {
   "codemirror_mode": {
    "name": "ipython",
    "version": 3
   },
   "file_extension": ".py",
   "mimetype": "text/x-python",
   "name": "python",
   "nbconvert_exporter": "python",
   "pygments_lexer": "ipython3",
   "version": "3.7.4-final"
  },
  "orig_nbformat": 2,
  "kernelspec": {
   "name": "python37432bit6a4013f1a8ec4766a4af9787f2730623",
   "display_name": "Python 3.7.4 32-bit"
  }
 },
 "nbformat": 4,
 "nbformat_minor": 2
}