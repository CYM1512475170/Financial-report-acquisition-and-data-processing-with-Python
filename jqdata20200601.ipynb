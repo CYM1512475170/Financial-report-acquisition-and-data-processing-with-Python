{
 "cells": [
  {
   "cell_type": "code",
   "execution_count": 1,
   "metadata": {},
   "outputs": [
    {
     "output_type": "stream",
     "name": "stdout",
     "text": "提示：当前环境pandas版本为0.25，get_price与get_fundamentals_continuously接口panel参数将固定为False\n注意：0.25以上版本pandas不支持panel，如使用该数据结构和相关函数请注意修改\nauth success \n"
    }
   ],
   "source": [
    "import jqdatasdk\n",
    "jqdatasdk.auth(\"13141315365\", \"******\")"
   ]
  },
  {
   "cell_type": "markdown",
   "metadata": {},
   "source": [
    "安装jqdatasdk库出现问题可以参考https://www.joinquant.com/view/community/detail/cdf86c624992fc86ed51d920ef8c637bJQData安装的问题"
   ]
  },
  {
   "cell_type": "markdown",
   "metadata": {},
   "source": [
    "## 获取数据"
   ]
  },
  {
   "cell_type": "markdown",
   "metadata": {},
   "source": [
    "平安银行最新股价"
   ]
  },
  {
   "cell_type": "code",
   "execution_count": 2,
   "metadata": {},
   "outputs": [
    {
     "output_type": "execute_result",
     "data": {
      "text/plain": "             open  close   high   low       volume         money\n2015-01-05  10.24  10.26  10.43  9.99  446489383.0  4.565388e+09\n2015-01-06  10.15  10.11  10.50  9.96  338159640.0  3.453446e+09\n2015-01-07   9.97   9.92  10.14  9.80  265374121.0  2.634796e+09\n2015-01-08   9.93   9.58   9.97  9.55  219732012.0  2.128003e+09\n2015-01-09   9.55   9.66  10.17  9.42  391555169.0  3.835378e+09\n...           ...    ...    ...   ...          ...           ...\n2015-12-25   9.60   9.62   9.67  9.56   51558377.0  4.956380e+08\n2015-12-28   9.64   9.29   9.66  9.29  106046218.0  1.003010e+09\n2015-12-29   9.30   9.38   9.38  9.28   79920944.0  7.447184e+08\n2015-12-30   9.38   9.38   9.39  9.27   68685228.0  6.412772e+08\n2015-12-31   9.38   9.30   9.41  9.29   63345821.0  5.916436e+08\n\n[244 rows x 6 columns]",
      "text/html": "<div>\n<style scoped>\n    .dataframe tbody tr th:only-of-type {\n        vertical-align: middle;\n    }\n\n    .dataframe tbody tr th {\n        vertical-align: top;\n    }\n\n    .dataframe thead th {\n        text-align: right;\n    }\n</style>\n<table border=\"1\" class=\"dataframe\">\n  <thead>\n    <tr style=\"text-align: right;\">\n      <th></th>\n      <th>open</th>\n      <th>close</th>\n      <th>high</th>\n      <th>low</th>\n      <th>volume</th>\n      <th>money</th>\n    </tr>\n  </thead>\n  <tbody>\n    <tr>\n      <th>2015-01-05</th>\n      <td>10.24</td>\n      <td>10.26</td>\n      <td>10.43</td>\n      <td>9.99</td>\n      <td>446489383.0</td>\n      <td>4.565388e+09</td>\n    </tr>\n    <tr>\n      <th>2015-01-06</th>\n      <td>10.15</td>\n      <td>10.11</td>\n      <td>10.50</td>\n      <td>9.96</td>\n      <td>338159640.0</td>\n      <td>3.453446e+09</td>\n    </tr>\n    <tr>\n      <th>2015-01-07</th>\n      <td>9.97</td>\n      <td>9.92</td>\n      <td>10.14</td>\n      <td>9.80</td>\n      <td>265374121.0</td>\n      <td>2.634796e+09</td>\n    </tr>\n    <tr>\n      <th>2015-01-08</th>\n      <td>9.93</td>\n      <td>9.58</td>\n      <td>9.97</td>\n      <td>9.55</td>\n      <td>219732012.0</td>\n      <td>2.128003e+09</td>\n    </tr>\n    <tr>\n      <th>2015-01-09</th>\n      <td>9.55</td>\n      <td>9.66</td>\n      <td>10.17</td>\n      <td>9.42</td>\n      <td>391555169.0</td>\n      <td>3.835378e+09</td>\n    </tr>\n    <tr>\n      <th>...</th>\n      <td>...</td>\n      <td>...</td>\n      <td>...</td>\n      <td>...</td>\n      <td>...</td>\n      <td>...</td>\n    </tr>\n    <tr>\n      <th>2015-12-25</th>\n      <td>9.60</td>\n      <td>9.62</td>\n      <td>9.67</td>\n      <td>9.56</td>\n      <td>51558377.0</td>\n      <td>4.956380e+08</td>\n    </tr>\n    <tr>\n      <th>2015-12-28</th>\n      <td>9.64</td>\n      <td>9.29</td>\n      <td>9.66</td>\n      <td>9.29</td>\n      <td>106046218.0</td>\n      <td>1.003010e+09</td>\n    </tr>\n    <tr>\n      <th>2015-12-29</th>\n      <td>9.30</td>\n      <td>9.38</td>\n      <td>9.38</td>\n      <td>9.28</td>\n      <td>79920944.0</td>\n      <td>7.447184e+08</td>\n    </tr>\n    <tr>\n      <th>2015-12-30</th>\n      <td>9.38</td>\n      <td>9.38</td>\n      <td>9.39</td>\n      <td>9.27</td>\n      <td>68685228.0</td>\n      <td>6.412772e+08</td>\n    </tr>\n    <tr>\n      <th>2015-12-31</th>\n      <td>9.38</td>\n      <td>9.30</td>\n      <td>9.41</td>\n      <td>9.29</td>\n      <td>63345821.0</td>\n      <td>5.916436e+08</td>\n    </tr>\n  </tbody>\n</table>\n<p>244 rows × 6 columns</p>\n</div>"
     },
     "metadata": {},
     "execution_count": 2
    }
   ],
   "source": [
    "jqdatasdk.get_price(\"000001.XSHE\")"
   ]
  }
 ],
 "metadata": {
  "language_info": {
   "codemirror_mode": {
    "name": "ipython",
    "version": 3
   },
   "file_extension": ".py",
   "mimetype": "text/x-python",
   "name": "python",
   "nbconvert_exporter": "python",
   "pygments_lexer": "ipython3",
   "version": "3.7.4-final"
  },
  "orig_nbformat": 2,
  "kernelspec": {
   "name": "python37432bit6a4013f1a8ec4766a4af9787f2730623",
   "display_name": "Python 3.7.4 32-bit"
  }
 },
 "nbformat": 4,
 "nbformat_minor": 2
}