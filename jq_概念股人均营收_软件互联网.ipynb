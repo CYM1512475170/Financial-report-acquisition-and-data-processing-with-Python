{
 "cells": [
  {
   "cell_type": "code",
   "execution_count": 2,
   "metadata": {},
   "outputs": [
    {
     "output_type": "stream",
     "name": "stdout",
     "text": "提示：当前环境pandas版本为0.25，get_price与get_fundamentals_continuously接口panel参数将固定为False\n注意：0.25以上版本pandas不支持panel，如使用该数据结构和相关函数请注意修改\nauth success \n"
    }
   ],
   "source": [
    "import jqdatasdk\n",
    "from jqdatasdk import *\n",
    "jqdatasdk.auth(\"13141315365\", \"315365\")"
   ]
  },
  {
   "cell_type": "markdown",
   "metadata": {},
   "source": [
    "## 软件与互联网\n",
    "GN1000\t金融科技\t2018-02-05 \n",
    "\n",
    "GN1001\tERP软件\t2018-02-06  \n",
    "\n",
    "GN099\t移动互联网\t2013-12-31  \n",
    "\n",
    "GN080\t网络游戏\t2013-12-31  \n",
    "\n",
    "GN030\t物联网\t2013-12-31  \n",
    "\n",
    "GN1014\t工业互联网\t2018-03-02  \n",
    "\n",
    "GN156\t在线教育\t2014-01-29  \n",
    "\n",
    "GN163\t在线旅游\t2014-02-26  \n",
    "\n",
    "GN210\t智慧城市\t2020-04-03\n"
   ]
  },
  {
   "cell_type": "code",
   "execution_count": 6,
   "metadata": {
    "tags": [
     "outputPrepend",
     "outputPrepend",
     "outputPrepend",
     "outputPrepend",
     "outputPrepend",
     "outputPrepend",
     "outputPrepend",
     "outputPrepend",
     "outputPrepend",
     "outputPrepend",
     "outputPrepend",
     "outputPrepend",
     "outputPrepend",
     "outputPrepend",
     "outputPrepend",
     "outputPrepend",
     "outputPrepend",
     "outputPrepend",
     "outputPrepend",
     "outputPrepend",
     "outputPrepend",
     "outputPrepend",
     "outputPrepend",
     "outputPrepend",
     "outputPrepend",
     "outputPrepend",
     "outputPrepend",
     "outputPrepend",
     "outputPrepend",
     "outputPrepend",
     "outputPrepend",
     "outputPrepend",
     "outputPrepend",
     "outputPrepend",
     "outputPrepend",
     "outputPrepend",
     "outputPrepend",
     "outputPrepend",
     "outputPrepend",
     "outputPrepend",
     "outputPrepend",
     "outputPrepend",
     "outputPrepend",
     "outputPrepend",
     "outputPrepend",
     "outputPrepend",
     "outputPrepend",
     "outputPrepend",
     "outputPrepend",
     "outputPrepend",
     "outputPrepend",
     "outputPrepend",
     "outputPrepend",
     "outputPrepend",
     "outputPrepend",
     "outputPrepend",
     "outputPrepend",
     "outputPrepend",
     "outputPrepend",
     "outputPrepend",
     "outputPrepend",
     "outputPrepend",
     "outputPrepend",
     "outputPrepend",
     "outputPrepend",
     "outputPrepend",
     "outputPrepend",
     "outputPrepend",
     "outputPrepend",
     "outputPrepend",
     "outputPrepend",
     "outputPrepend",
     "outputPrepend"
    ]
   },
   "outputs": [
    {
     "output_type": "stream",
     "name": "stdout",
     "text": "******** GN030 ********\n   name         code  employee  total_operating_revenue  ratio\n0  中兴通讯  000063.XSHE     70066             9.073658e+10    NaN\n   name         code  employee  total_operating_revenue  ratio\n0  高鸿股份  000851.XSHE      1706             1.140955e+10    NaN\n  name         code  employee  total_operating_revenue  ratio\n0  新大陆  000997.XSHE      6224             6.181535e+09    NaN\n   name         code  employee  total_operating_revenue  ratio\n0  紫光国微  002049.XSHE      2192             3.430410e+09    NaN\n   name         code  employee  total_operating_revenue  ratio\n0  拓邦股份  002139.XSHE      5861             4.098855e+09    NaN\n   name         code  employee  total_operating_revenue  ratio\n0  北斗星通  002151.XSHE      5389             2.987003e+09    NaN\n  name         code  employee  total_operating_revenue  ratio\n0  远望谷  002161.XSHE       686             6.288496e+08    NaN\n   name         code  employee  total_operating_revenue  ratio\n0  日海智能  002313.XSHE      2689             4.639816e+09    NaN\n  name         code  employee  total_operating_revenue  ratio\n0  和而泰  002402.XSHE      4177             3.649383e+09    NaN\n   name         code  employee  total_operating_revenue  ratio\n0  盛路通信  002446.XSHE      2253             1.333581e+09    NaN\n   name         code  employee  total_operating_revenue  ratio\n0  海格通信  002465.XSHE      8317             4.607108e+09    NaN\n   name         code  employee  total_operating_revenue  ratio\n0  榕基软件  002474.XSHE      1058             7.273228e+08    NaN\n   name         code  employee  total_operating_revenue  ratio\n0  达华智能  002512.XSHE      2765             2.284329e+09    NaN\n   name         code  employee  total_operating_revenue  ratio\n0  杰赛科技  002544.XSHE      6467             6.226207e+09    NaN\n   name         code  employee  total_operating_revenue  ratio\n0  路畅科技  002813.XSHE       640             7.702260e+08    NaN\n   name         code  employee  total_operating_revenue  ratio\n0  美格智能  002881.XSHE       884             9.328350e+08    NaN\n   name         code  employee  total_operating_revenue  ratio\n0  汉威科技  300007.XSHE      2439             1.819480e+09    NaN\n   name         code  employee  total_operating_revenue  ratio\n0  银江股份  300020.XSHE       725             2.079504e+09    NaN\n   name         code  employee  total_operating_revenue  ratio\n0  赛为智能  300044.XSHE      1006             1.276630e+09    NaN\n   name         code  employee  total_operating_revenue  ratio\n0  世纪鼎利  300050.XSHE      1232             1.244350e+09    NaN\n   name         code  employee  total_operating_revenue  ratio\n0  三川智慧  300066.XSHE      1609             9.875012e+08    NaN\n   name         code  employee  total_operating_revenue  ratio\n0  国民技术  300077.XSHE       750             3.947332e+08    NaN\n   name         code  employee  total_operating_revenue  ratio\n0  思创医惠  300078.XSHE      2246             1.573994e+09    NaN\n  name         code  employee  total_operating_revenue  ratio\n0  高新兴  300098.XSHE      3728             2.693235e+09    NaN\n   name         code  employee  total_operating_revenue  ratio\n0  中航电测  300114.XSHE      3147             1.544752e+09    NaN\n   name         code  employee  total_operating_revenue  ratio\n0  锦富技术  300128.XSHE      1725             1.579415e+09    NaN\n   name         code  employee  total_operating_revenue  ratio\n0  英唐智控  300131.XSHE       856             1.195029e+10    NaN\nEmpty DataFrame\nColumns: [name, employee, code, total_operating_revenue, ratio]\nIndex: []\n   name         code  employee  total_operating_revenue  ratio\n0  新天科技  300259.XSHE      1453             1.180832e+09    NaN\n   name         code  employee  total_operating_revenue  ratio\n0  和晶科技  300279.XSHE      1807             1.458685e+09    NaN\n   name         code  employee  total_operating_revenue  ratio\n0  宜通世纪  300310.XSHE      7824             2.485725e+09    NaN\n   name         code  employee  total_operating_revenue  ratio\n0  华虹计通  300330.XSHE       170             2.606244e+08    NaN\n   name         code  employee  total_operating_revenue  ratio\n0  金卡智能  300349.XSHE      1924             1.972125e+09    NaN\n   name         code  employee  total_operating_revenue  ratio\n0  炬华科技  300360.XSHE      1077             8.923906e+08    NaN\n   name         code  employee  total_operating_revenue  ratio\n0  安控科技  300370.XSHE      1068             1.255875e+09    NaN\n   name         code  employee  total_operating_revenue  ratio\n0  汇中股份  300371.XSHE       456             3.602637e+08    NaN\n  name         code  employee  total_operating_revenue  ratio\n0  友讯达  300514.XSHE       676             7.804037e+08    NaN\n   name         code  employee  total_operating_revenue  ratio\n0  移为通信  300590.XSHE       362             6.294663e+08    NaN\n  name         code  employee  total_operating_revenue  ratio\n0  广和通  300638.XSHE       901             1.915071e+09    NaN\n   name         code  employee  total_operating_revenue  ratio\n0  科创信息  300730.XSHE      1123             3.829279e+08    NaN\n   name         code  employee  total_operating_revenue  ratio\n0  同方股份  600100.XSHG     13111             2.304044e+10    NaN\n   name         code  employee  total_operating_revenue  ratio\n0  上海贝岭  600171.XSHG       309             8.786292e+08    NaN\n   name         code  employee  total_operating_revenue  ratio\n0  大唐电信  600198.XSHG      1533             1.430648e+09    NaN\n   name         code  employee  total_operating_revenue  ratio\n0  航天信息  600271.XSHG     21387             3.390408e+10    NaN\n   name         code  employee  total_operating_revenue  ratio\n0  海尔智家  600690.XSHG     99757             2.007620e+11    NaN\n   name         code  employee  total_operating_revenue  ratio\n0  浙大网新  600797.XSHG      4839             3.760815e+09    NaN\n   name         code  employee  total_operating_revenue  ratio\n0  晶方科技  603005.XSHG       881             5.603674e+08    NaN\n   name         code  employee  total_operating_revenue  ratio\n0  博通集成  603068.XSHG       155             1.174624e+09    NaN\n   name         code  employee  total_operating_revenue  ratio\n0  移远通信  603236.XSHG      1617             4.129746e+09    NaN\n   name         code  employee  total_operating_revenue  ratio\n0  宁水集团  603700.XSHG      1226             1.371125e+09    NaN\n   name         code  employee  total_operating_revenue  ratio\n0  乐鑫科技  688018.XSHG       345             7.574286e+08    NaN\n   name         code  employee  total_operating_revenue  ratio\n0  佳华科技  688051.XSHG       866             5.147816e+08    NaN\n   name         code  employee  total_operating_revenue  ratio\n0  威胜信息  688100.XSHG       705             1.244052e+09    NaN\n1  威胜信息  688100.XSHG       713             1.244052e+09    1.0\n   name         code  employee  total_operating_revenue  ratio\n0  有方科技  688159.XSHG       455             7.821673e+08    NaN\n1  有方科技  688159.XSHG       549             7.821673e+08    1.0\n******** GN1014 ********\n   name         code  employee  total_operating_revenue  ratio\n0  中兴通讯  000063.XSHE     70066             9.073658e+10    NaN\n   name         code  employee  total_operating_revenue  ratio\n0  美的集团  000333.XSHE    134897             2.793805e+11    NaN\n   name         code  employee  total_operating_revenue  ratio\n0  徐工机械  000425.XSHE     14449             5.917600e+10    NaN\n   name         code  employee  total_operating_revenue  ratio\n0  浪潮信息  000977.XSHE      5469             5.165328e+10    NaN\n   name         code  employee  total_operating_revenue  ratio\n0  海得控制  002184.XSHE       958             2.058412e+09    NaN\n   name         code  employee  total_operating_revenue  ratio\n0  启明信息  002232.XSHE      1496             1.521389e+09    NaN\n  name         code  employee  total_operating_revenue  ratio\n0  卫士通  002268.XSHE      2061             2.103760e+09    NaN\n   name         code  employee  total_operating_revenue  ratio\n0  日海智能  002313.XSHE      2689             4.639816e+09    NaN\n   name         code  employee  total_operating_revenue  ratio\n0  太极股份  002368.XSHE      4597             7.062735e+09    NaN\n   name         code  employee  total_operating_revenue  ratio\n0  科远智慧  002380.XSHE      1037             7.501428e+08    NaN\n  name         code  employee  total_operating_revenue  ratio\n0  广联达  002410.XSHE      7115             3.540651e+09    NaN\n   name         code  employee  total_operating_revenue  ratio\n0  中新赛克  002912.XSHE      1259              904511476.3    NaN\n  name         code  employee  total_operating_revenue  ratio\n0  机器人  300024.XSHE      4559             2.745485e+09    NaN\n   name         code  employee  total_operating_revenue  ratio\n0  劲胜智能  300083.XSHE      2080             5.439269e+09    NaN\n  name         code  employee  total_operating_revenue  ratio\n0  高新兴  300098.XSHE      3728             2.693235e+09    NaN\n   name         code  employee  total_operating_revenue  ratio\n0  汇川技术  300124.XSHE     11216             7.390371e+09    NaN\n   name         code  employee  total_operating_revenue  ratio\n0  华中数控  300161.XSHE      2256             9.060395e+08    NaN\n   name         code  employee  total_operating_revenue  ratio\n0  东方国信  300166.XSHE      7342             2.150466e+09    NaN\n   name         code  employee  total_operating_revenue  ratio\n0  汉得信息  300170.XSHE     10355             2.723441e+09    NaN\n   name         code  employee  total_operating_revenue  ratio\n0  天喻信息  300205.XSHE      2496             2.212107e+09    NaN\n   name         code  employee  total_operating_revenue  ratio\n0  佳讯飞鸿  300213.XSHE       850             1.339491e+09    NaN\n   name         code  employee  total_operating_revenue  ratio\n0  三丰智能  300276.XSHE      1725             1.945433e+09    NaN\n   name         code  employee  total_operating_revenue  ratio\n0  东土科技  300353.XSHE      1433             8.159873e+08    NaN\n   name         code  employee  total_operating_revenue  ratio\n0  绿盟科技  300369.XSHE      2941             1.671091e+09    NaN\n   name         code  employee  total_operating_revenue  ratio\n0  鼎捷软件  300378.XSHE      3894             1.466718e+09    NaN\n   name         code  employee  total_operating_revenue  ratio\n0  光环新网  300383.XSHE      1124             7.097173e+09    NaN\n  name         code  employee  total_operating_revenue  ratio\n0  深信服  300454.XSHE      6106             4.589899e+09    NaN\n   name         code  employee  total_operating_revenue  ratio\n0  耐威科技  300456.XSHE       805             7.179663e+08    NaN\n   name         code  employee  total_operating_revenue  ratio\n0  今天国际  300532.XSHE       498             7.124090e+08    NaN\n  name         code  employee  total_operating_revenue  ratio\n0  拓斯达  300607.XSHE      1734             1.660363e+09    NaN\n   name         code  employee  total_operating_revenue  ratio\n0  赛意信息  300687.XSHE      3724             1.075647e+09    NaN\n   name         code  employee  total_operating_revenue  ratio\n0  三一重工  600031.XSHG     18450             7.566576e+10    NaN\n   name         code  employee  total_operating_revenue  ratio\n0  中国联通  600050.XSHG    243790             2.905146e+11    NaN\n   name         code  employee  total_operating_revenue  ratio\n0  用友网络  600588.XSHG     17271             8.509660e+09    NaN\n   name         code  employee  total_operating_revenue  ratio\n0  海尔智家  600690.XSHG     99757             2.007620e+11    NaN\n   name         code  employee  total_operating_revenue  ratio\n0  宝信软件  600845.XSHG      4261             6.849043e+09    NaN\n   name         code  employee  total_operating_revenue  ratio\n0  四创电子  600990.XSHG      3560             3.670967e+09    NaN\n   name         code  employee  total_operating_revenue  ratio\n0  工业富联  601138.XSHG    209671             4.086976e+11    NaN\n   name         code  employee  total_operating_revenue  ratio\n0  广汽集团  601238.XSHG     93854             5.970432e+10    NaN\n   name         code  employee  total_operating_revenue  ratio\n0  剑桥科技  603083.XSHG      1546             2.973749e+09    NaN\n   name         code  employee  total_operating_revenue  ratio\n0  移远通信  603236.XSHG      1617             4.129746e+09    NaN\n   name         code  employee  total_operating_revenue  ratio\n0  杰克股份  603337.XSHG      5650             3.608057e+09    NaN\n   name         code  employee  total_operating_revenue  ratio\n0  能科股份  603859.XSHG       785             7.657968e+08    NaN\n  name         code  employee  total_operating_revenue  ratio\n0  映翰通  688080.XSHG       280             2.966525e+08    NaN\n1  映翰通  688080.XSHG       296             2.966525e+08    1.0\n******** GN156 ********\n   name         code  employee  total_operating_revenue  ratio\n0  紫光学大  000526.XSHE     14098             2.991938e+09    NaN\n   name         code  employee  total_operating_revenue  ratio\n0  中原传媒  000719.XSHE     14597             9.498393e+09    NaN\n   name         code  employee  total_operating_revenue  ratio\n0  科大讯飞  002230.XSHE     10447             1.007869e+10    NaN\n   name         code  employee  total_operating_revenue  ratio\n0  拓维信息  002261.XSHE      3842             1.239736e+09    NaN\n   name         code  employee  total_operating_revenue  ratio\n0  威创股份  002308.XSHE      1511             1.101742e+09    NaN\n   name         code  employee  total_operating_revenue  ratio\n0  洪涛股份  002325.XSHE      1927             4.030648e+09    NaN\n   name         code  employee  total_operating_revenue  ratio\n0  高乐股份  002348.XSHE      1156             7.124312e+08    NaN\n  name         code  employee  total_operating_revenue  ratio\n0  二六三  002467.XSHE      1060             1.013566e+09    NaN\n   name         code  employee  total_operating_revenue  ratio\n0  盛通股份  002599.XSHE      2482             1.952690e+09    NaN\n  name         code  employee  total_operating_revenue  ratio\n0  美吉姆  002621.XSHE       687             6.298194e+08    NaN\nEmpty DataFrame\nColumns: [name, employee, code, total_operating_revenue, ratio]\nIndex: []\n   name         code  employee  total_operating_revenue  ratio\n0  珠江钢琴  002678.XSHE      2534             2.053456e+09    NaN\n   name         code  employee  total_operating_revenue  ratio\n0  百洋股份  002696.XSHE      3284             2.844134e+09    NaN\n   name         code  employee  total_operating_revenue  ratio\n0  电光科技  002730.XSHE      1455             1.002531e+09    NaN\n   name         code  employee  total_operating_revenue  ratio\n0  视源股份  002841.XSHE      4890             1.705270e+10    NaN\n   name         code  employee  total_operating_revenue  ratio\n0  鸿合科技  002955.XSHE      2902             4.830470e+09    NaN\n  name         code  employee  total_operating_revenue  ratio\n0  立思辰  300010.XSHE      2629             1.979338e+09    NaN\n   name         code  employee  total_operating_revenue  ratio\n0  华平股份  300074.XSHE       526             4.776812e+08    NaN\n    name         code  employee  total_operating_revenue  ratio\n0  GQY视讯  300076.XSHE       193              86573640.69    NaN\n   name         code  employee  total_operating_revenue  ratio\n0  文化长城  300089.XSHE       790              271336353.2    NaN\n   name         code  employee  total_operating_revenue  ratio\n0  天舟文化  300148.XSHE       828             1.239714e+09    NaN\n   name         code  employee  total_operating_revenue  ratio\n0  万达信息  300168.XSHE      6213             2.124501e+09    NaN\n   name         code  employee  total_operating_revenue  ratio\n0  捷成股份  300182.XSHE       919             3.605090e+09    NaN\n   name         code  employee  total_operating_revenue  ratio\n0  科斯伍德  300192.XSHE      2115             9.588185e+08    NaN\n   name         code  employee  total_operating_revenue  ratio\n0  天喻信息  300205.XSHE      2496             2.212107e+09    NaN\n   name         code  employee  total_operating_revenue  ratio\n0  方直科技  300235.XSHE       186             1.090144e+08    NaN\n  name         code  employee  total_operating_revenue  ratio\n0  新开普  300248.XSHE      2449             9.640234e+08    NaN\n   name         code  employee  total_operating_revenue  ratio\n0  佳创视讯  300264.XSHE       256             1.642722e+08    NaN\n   name         code  employee  total_operating_revenue  ratio\n0  和晶科技  300279.XSHE      1807             1.458685e+09    NaN\n   name         code  employee  total_operating_revenue  ratio\n0  三盛教育  300282.XSHE       512             6.818430e+08    NaN\n   name         code  employee  total_operating_revenue  ratio\n0  海伦钢琴  300329.XSHE      1334             5.535302e+08    NaN\n   name         code  employee  total_operating_revenue  ratio\n0  开元股份  300338.XSHE      6193             1.489345e+09    NaN\n   name         code  employee  total_operating_revenue  ratio\n0  全通教育  300359.XSHE      1585              717695781.1    NaN\n   name         code  employee  total_operating_revenue  ratio\n0  中文在线  300364.XSHE       614             7.053770e+08    NaN\n   name         code  employee  total_operating_revenue  ratio\n0  恒华科技  300365.XSHE      1059             1.123172e+09    NaN\n   name         code  employee  total_operating_revenue  ratio\n0  佳发教育  300559.XSHE       688              582972429.4    NaN\n   name         code  employee  total_operating_revenue  ratio\n0  世纪天鸿  300654.XSHE       597             3.857103e+08    NaN\n  name         code  employee  total_operating_revenue  ratio\n0  三爱富  600636.XSHG       996             1.248221e+09    NaN\n   name         code  employee  total_operating_revenue  ratio\n0  昂立教育  600661.XSHG      7171             2.391323e+09    NaN\n   name         code  employee  total_operating_revenue  ratio\n0  中国高科  600730.XSHG       360              99167567.44    NaN\n"
    }
   ],
   "source": [
    "\n",
    "for i in [1000,1001,99,90,30,1014,156,163,210]:\n",
    "    conceptno='GN'+str(i).rjust(3,'0') # 加载概念股清单\n",
    "    print('********',conceptno,'********')\n",
    "    # print(conceptno)\n",
    "    try:    \n",
    "        # print('123')\n",
    "        stocks=get_concept_stocks(conceptno, date=None) # 员工人数\n",
    "        # print(stocks)\n",
    "        for code1 in stocks: \n",
    "            # print('123')\n",
    "            # print(code)\n",
    "            yuangong=finance.run_query(query(finance.STK_EMPLOYEE_INFO.name,finance.STK_EMPLOYEE_INFO.code,finance.STK_EMPLOYEE_INFO.employee).filter(finance.STK_EMPLOYEE_INFO.code==code1,finance.STK_EMPLOYEE_INFO.pub_date>='2019-12-01').limit(10))\n",
    "            # yuan_gong=finance.run_query(query(finance.STK_EMPLOYEE_INFO).filter(finance.STK_EMPLOYEE_INFO.code==code,finance.STK_EMPLOYEE_INFO.pub_date>='2019-12-01').limit(1000)) \n",
    "            # print(conceptno,yuangong) \n",
    "            yuan_gong=finance.run_query(query(finance.STK_INCOME_STATEMENT.code,finance.STK_INCOME_STATEMENT.total_operating_revenue).filter(finance.STK_INCOME_STATEMENT.code==code1,finance.STK_INCOME_STATEMENT.end_date=='2019-12-31').limit(1000))\n",
    "            \n",
    "            # print(yuan_gong.fillna(1))            \n",
    "            import pandas# 将两个表连接起来\n",
    "            # print(pandas.merge(yuangong,yuan_gong))\n",
    "            df=pandas.merge(yuangong,yuan_gong)\n",
    "            df['ratio'] = df['total_operating_revenue'].div(df.groupby('name')['total_operating_revenue'].shift(1))\n",
    "            print(df.head())\n",
    "            \n",
    "    except:\n",
    "        print(\"~~~~~\",conceptno)\n",
    "        pass"
   ]
  },
  {
   "cell_type": "code",
   "execution_count": 7,
   "metadata": {},
   "outputs": [
    {
     "output_type": "stream",
     "name": "stdout",
     "text": "******** GN080 ********\n   name         code  employee  total_operating_revenue  ratio\n0  北纬科技  002148.XSHE       237             1.724357e+08    NaN\n   name         code  employee  total_operating_revenue  ratio\n0  游族网络  002174.XSHE      1846             3.220502e+09    NaN\n   name         code  employee  total_operating_revenue  ratio\n0  拓维信息  002261.XSHE      3842             1.239736e+09    NaN\n   name         code  employee  total_operating_revenue  ratio\n0  奥飞娱乐  002292.XSHE      4217             2.726920e+09    NaN\n   name         code  employee  total_operating_revenue  ratio\n0  慈文传媒  002343.XSHE       186             1.171427e+09    NaN\n   name         code  employee  total_operating_revenue  ratio\n0  凯撒文化  002425.XSHE       660             8.037028e+08    NaN\n   name         code  employee  total_operating_revenue  ratio\n0  众应互联  002464.XSHE       100             4.618520e+08    NaN\n   name         code  employee  total_operating_revenue  ratio\n0  恺英网络  002517.XSHE      1379             2.036876e+09    NaN\n   name         code  employee  total_operating_revenue  ratio\n0  三七互娱  002555.XSHE      2818             1.322714e+10    NaN\n   name         code  employee  total_operating_revenue  ratio\n0  巨人网络  002558.XSHE      2039             2.571433e+09    NaN\n   name         code  employee  total_operating_revenue  ratio\n0  世纪华通  002602.XSHE      6527             1.468972e+10    NaN\n   name         code  employee  total_operating_revenue  ratio\n0  姚记科技  002605.XSHE      1148             1.736596e+09    NaN\n   name         code  employee  total_operating_revenue  ratio\n0  艾格拉斯  002619.XSHE       383              553665412.1    NaN\n   name         code  employee  total_operating_revenue  ratio\n0  完美世界  002624.XSHE      4842             8.039021e+09    NaN\n   name         code  employee  total_operating_revenue  ratio\n0  美盛文化  002699.XSHE      3529             1.379755e+09    NaN\n   name         code  employee  total_operating_revenue  ratio\n0  宝通科技  300031.XSHE      1048             2.475616e+09    NaN\n   name         code  employee  total_operating_revenue  ratio\n0  星辉娱乐  300043.XSHE      2482             2.594420e+09    NaN\n   name         code  employee  total_operating_revenue  ratio\n0  三五互联  300051.XSHE       660             2.883086e+08    NaN\n  name         code  employee  total_operating_revenue  ratio\n0  中青宝  300052.XSHE       329              468826313.5    NaN\n   name         code  employee  total_operating_revenue  ratio\n0  顺网科技  300113.XSHE      1556             1.572333e+09    NaN\n   name         code  employee  total_operating_revenue  ratio\n0  天舟文化  300148.XSHE       828             1.239714e+09    NaN\n   name         code  employee  total_operating_revenue  ratio\n0  富春股份  300299.XSHE       897             4.676664e+08    NaN\n  name         code  employee  total_operating_revenue  ratio\n0  任子行  300311.XSHE      1623             9.962558e+08    NaN\n   name         code  employee  total_operating_revenue  ratio\n0  掌趣科技  300315.XSHE      1414             1.616949e+09    NaN\n   name         code  employee  total_operating_revenue  ratio\n0  昆仑万维  300418.XSHE       717             3.687884e+09    NaN\n   name         code  employee  total_operating_revenue  ratio\n0  金科文化  300459.XSHE      1131             1.830612e+09    NaN\n   name         code  employee  total_operating_revenue  ratio\n0  迅游科技  300467.XSHE       342              483662652.5    NaN\n   name         code  employee  total_operating_revenue  ratio\n0  盛天网络  300494.XSHE       572             6.607250e+08    NaN\n  name         code  employee  total_operating_revenue  ratio\n0  盛讯达  300518.XSHE       159             2.155633e+08    NaN\n   name         code  employee  total_operating_revenue  ratio\n0  冰川网络  300533.XSHE       701             4.119311e+08    NaN\n   name         code  employee  total_operating_revenue  ratio\n0  卧龙地产  600173.XSHG       166             1.920775e+09    NaN\nEmpty DataFrame\nColumns: [name, employee, code, total_operating_revenue, ratio]\nIndex: []\n   name         code  employee  total_operating_revenue  ratio\n0  中文传媒  600373.XSHG      6417             1.125818e+10    NaN\n   name         code  employee  total_operating_revenue  ratio\n0  浙数文化  600633.XSHG      2899             2.827311e+09    NaN\n   name         code  employee  total_operating_revenue  ratio\n0  号百控股  600640.XSHG      2871             4.178346e+09    NaN\n   name         code  employee  total_operating_revenue  ratio\n0  博瑞传播  600880.XSHG      1018             4.258138e+08    NaN\n   name         code  employee  total_operating_revenue  ratio\n0  电魂网络  603258.XSHG       930             6.967478e+08    NaN\n  name         code  employee  total_operating_revenue  ratio\n0  吉比特  603444.XSHG       663             2.170372e+09    NaN\n"
    }
   ],
   "source": [
    "\n",
    "for i in [80]:\n",
    "    conceptno='GN'+str(i).rjust(3,'0') # 加载概念股清单\n",
    "    print('********',conceptno,'********')\n",
    "    # print(conceptno)\n",
    "    try:    \n",
    "        # print('123')\n",
    "        stocks=get_concept_stocks(conceptno, date=None) # 员工人数\n",
    "        # print(stocks)\n",
    "        for code1 in stocks: \n",
    "            # print('123')\n",
    "            # print(code)\n",
    "            yuangong=finance.run_query(query(finance.STK_EMPLOYEE_INFO.name,finance.STK_EMPLOYEE_INFO.code,finance.STK_EMPLOYEE_INFO.employee).filter(finance.STK_EMPLOYEE_INFO.code==code1,finance.STK_EMPLOYEE_INFO.pub_date>='2019-12-01').limit(10))\n",
    "            # yuan_gong=finance.run_query(query(finance.STK_EMPLOYEE_INFO).filter(finance.STK_EMPLOYEE_INFO.code==code,finance.STK_EMPLOYEE_INFO.pub_date>='2019-12-01').limit(1000)) \n",
    "            # print(conceptno,yuangong) \n",
    "            yuan_gong=finance.run_query(query(finance.STK_INCOME_STATEMENT.code,finance.STK_INCOME_STATEMENT.total_operating_revenue).filter(finance.STK_INCOME_STATEMENT.code==code1,finance.STK_INCOME_STATEMENT.end_date=='2019-12-31').limit(1000))\n",
    "            \n",
    "            # print(yuan_gong.fillna(1))            \n",
    "            import pandas# 将两个表连接起来\n",
    "            # print(pandas.merge(yuangong,yuan_gong))\n",
    "            df=pandas.merge(yuangong,yuan_gong)\n",
    "            df['ratio'] = df['total_operating_revenue'].div(df.groupby('name')['total_operating_revenue'].shift(1))\n",
    "            print(df.head())\n",
    "            \n",
    "    except:\n",
    "        print(\"~~~~~\",conceptno)\n",
    "        pass"
   ]
  }
 ],
 "metadata": {
  "language_info": {
   "codemirror_mode": {
    "name": "ipython",
    "version": 3
   },
   "file_extension": ".py",
   "mimetype": "text/x-python",
   "name": "python",
   "nbconvert_exporter": "python",
   "pygments_lexer": "ipython3",
   "version": "3.7.4-final"
  },
  "orig_nbformat": 2,
  "kernelspec": {
   "name": "python37432bit6a4013f1a8ec4766a4af9787f2730623",
   "display_name": "Python 3.7.4 32-bit"
  }
 },
 "nbformat": 4,
 "nbformat_minor": 2
}